{
  "nbformat": 4,
  "nbformat_minor": 0,
  "metadata": {
    "colab": {
      "name": "intent_analysis_demo.ipynb",
      "provenance": []
    },
    "kernelspec": {
      "name": "python3",
      "display_name": "Python 3"
    },
    "language_info": {
      "name": "python"
    }
  },
  "cells": [
    {
      "cell_type": "markdown",
      "metadata": {
        "id": "jKfVDuVhLqT_"
      },
      "source": [
        "# Import Model"
      ]
    },
    {
      "cell_type": "code",
      "metadata": {
        "id": "f7lxNLLDKCGH"
      },
      "source": [
        "from keras.models import load_model\n",
        "model=load_model(\"intent_analysis_model.h5\")"
      ],
      "execution_count": 8,
      "outputs": []
    },
    {
      "cell_type": "markdown",
      "metadata": {
        "id": "-eaH4mgsLub-"
      },
      "source": [
        "# Import Modules\n",
        "\n"
      ]
    },
    {
      "cell_type": "code",
      "metadata": {
        "id": "8RSi0YQmIj4W"
      },
      "source": [
        "import pickle \n",
        "pickle_in=open(\"tokenizer.pickle\",\"rb\")\n",
        "tokenizer=pickle.load(pickle_in)"
      ],
      "execution_count": 1,
      "outputs": []
    },
    {
      "cell_type": "code",
      "metadata": {
        "id": "Rj4kX7b5JWVF"
      },
      "source": [
        "pickle_in=open(\"labels.pickle\",\"rb\")\n",
        "labels=pickle.load(pickle_in)"
      ],
      "execution_count": 2,
      "outputs": []
    },
    {
      "cell_type": "markdown",
      "metadata": {
        "id": "BAYXMgzDL1ig"
      },
      "source": [
        "# Exemple"
      ]
    },
    {
      "cell_type": "code",
      "metadata": {
        "id": "C5BAlbi1JYr5"
      },
      "source": [
        "from keras.preprocessing.sequence import pad_sequences\n",
        "exp = tokenizer.texts_to_sequences([\"I VE GOT A PROBLEM IN MY CREDIT CARD\"])\n",
        "padd = pad_sequences(exp, maxlen=250) "
      ],
      "execution_count": 5,
      "outputs": []
    },
    {
      "cell_type": "code",
      "metadata": {
        "colab": {
          "base_uri": "https://localhost:8080/",
          "height": 53
        },
        "id": "vrHOillkJc_q",
        "outputId": "669bc907-d33f-4d56-ed9a-e0a15be83a73"
      },
      "source": [
        "import numpy as np\n",
        "pred = model.predict(padd)\n",
        "predi = np.argmax(pred, axis=1)\n",
        "print(\"Client compaint about : \")\n",
        "labels[predi[0]]\n"
      ],
      "execution_count": 13,
      "outputs": [
        {
          "output_type": "stream",
          "text": [
            "Client compaint about : \n"
          ],
          "name": "stdout"
        },
        {
          "output_type": "execute_result",
          "data": {
            "application/vnd.google.colaboratory.intrinsic+json": {
              "type": "string"
            },
            "text/plain": [
              "'Credit reporting, credit repair services, or other personal consumer reports'"
            ]
          },
          "metadata": {
            "tags": []
          },
          "execution_count": 13
        }
      ]
    }
  ]
}