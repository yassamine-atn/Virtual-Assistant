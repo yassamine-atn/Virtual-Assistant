{
  "nbformat": 4,
  "nbformat_minor": 0,
  "metadata": {
    "colab": {
      "name": "Intent_analysis.ipynb",
      "provenance": [],
      "collapsed_sections": [
        "WueQWDb6RUKy"
      ],
      "toc_visible": true
    },
    "kernelspec": {
      "display_name": "Python 3",
      "name": "python3"
    },
    "language_info": {
      "name": "python"
    },
    "accelerator": "GPU"
  },
  "cells": [
    {
      "cell_type": "markdown",
      "metadata": {
        "id": "9gx-oi1aTN7E"
      },
      "source": [
        "# Data"
      ]
    },
    {
      "cell_type": "code",
      "metadata": {
        "colab": {
          "base_uri": "https://localhost:8080/"
        },
        "id": "1451lDKLKUsF",
        "outputId": "303422f5-0aaa-44f2-9c93-b5a366bcae6f"
      },
      "source": [
        "import numpy as np \n",
        "import pandas as pd\n",
        "import matplotlib.pyplot as plt\n",
        "import seaborn as sns\n",
        "from keras.preprocessing.text import Tokenizer\n",
        "from keras.preprocessing.sequence import pad_sequences\n",
        "from keras.models import Sequential\n",
        "from keras.layers import Dense, Embedding, LSTM, SpatialDropout1D\n",
        "from sklearn.model_selection import train_test_split\n",
        "from keras.utils.np_utils import to_categorical\n",
        "from keras.callbacks import EarlyStopping\n",
        "from keras.layers import Dropout\n",
        "import re\n",
        "from nltk.corpus import stopwords\n",
        "from nltk import word_tokenize\n",
        "import nltk\n",
        "nltk.download('stopwords')\n",
        "STOPWORDS = set(stopwords.words('english'))\n",
        "import warnings\n",
        "warnings.filterwarnings(\"ignore\")"
      ],
      "execution_count": null,
      "outputs": [
        {
          "output_type": "stream",
          "text": [
            "[nltk_data] Downloading package stopwords to /root/nltk_data...\n",
            "[nltk_data]   Unzipping corpora/stopwords.zip.\n"
          ],
          "name": "stdout"
        }
      ]
    },
    {
      "cell_type": "code",
      "metadata": {
        "id": "QfYotgtHTXwq"
      },
      "source": [
        "import pandas as pd \n",
        "data=pd.read_csv(\"https://www.consumerfinance.gov/data-research/consumer-complaints/search/api/v1/?date_received_max=2021-05-20&date_received_min=2018-05-20&field=all&format=csv&no_aggs=true&size=1043275\")"
      ],
      "execution_count": null,
      "outputs": []
    },
    {
      "cell_type": "code",
      "metadata": {
        "colab": {
          "base_uri": "https://localhost:8080/",
          "height": 565
        },
        "id": "rRMENb3lZpPv",
        "outputId": "9f3d5025-bf28-47c6-bc0f-af84c0ede6c1"
      },
      "source": [
        "data.head()"
      ],
      "execution_count": null,
      "outputs": [
        {
          "output_type": "execute_result",
          "data": {
            "text/html": [
              "<div>\n",
              "<style scoped>\n",
              "    .dataframe tbody tr th:only-of-type {\n",
              "        vertical-align: middle;\n",
              "    }\n",
              "\n",
              "    .dataframe tbody tr th {\n",
              "        vertical-align: top;\n",
              "    }\n",
              "\n",
              "    .dataframe thead th {\n",
              "        text-align: right;\n",
              "    }\n",
              "</style>\n",
              "<table border=\"1\" class=\"dataframe\">\n",
              "  <thead>\n",
              "    <tr style=\"text-align: right;\">\n",
              "      <th></th>\n",
              "      <th>Date received</th>\n",
              "      <th>Product</th>\n",
              "      <th>Sub-product</th>\n",
              "      <th>Issue</th>\n",
              "      <th>Sub-issue</th>\n",
              "      <th>Consumer complaint narrative</th>\n",
              "      <th>Company public response</th>\n",
              "      <th>Company</th>\n",
              "      <th>State</th>\n",
              "      <th>ZIP code</th>\n",
              "      <th>Tags</th>\n",
              "      <th>Consumer consent provided?</th>\n",
              "      <th>Submitted via</th>\n",
              "      <th>Date sent to company</th>\n",
              "      <th>Company response to consumer</th>\n",
              "      <th>Timely response?</th>\n",
              "      <th>Consumer disputed?</th>\n",
              "      <th>Complaint ID</th>\n",
              "    </tr>\n",
              "  </thead>\n",
              "  <tbody>\n",
              "    <tr>\n",
              "      <th>0</th>\n",
              "      <td>07/30/19</td>\n",
              "      <td>Credit reporting, credit repair services, or o...</td>\n",
              "      <td>Credit reporting</td>\n",
              "      <td>Improper use of your report</td>\n",
              "      <td>Reporting company used your report improperly</td>\n",
              "      <td>The following companies ran unauthorized credi...</td>\n",
              "      <td>None</td>\n",
              "      <td>EQUIFAX, INC.</td>\n",
              "      <td>FL</td>\n",
              "      <td>322XX</td>\n",
              "      <td>None</td>\n",
              "      <td>Consent provided</td>\n",
              "      <td>Web</td>\n",
              "      <td>07/30/19</td>\n",
              "      <td>Closed with explanation</td>\n",
              "      <td>Yes</td>\n",
              "      <td>NaN</td>\n",
              "      <td>3324019</td>\n",
              "    </tr>\n",
              "    <tr>\n",
              "      <th>1</th>\n",
              "      <td>04/07/19</td>\n",
              "      <td>Credit reporting, credit repair services, or o...</td>\n",
              "      <td>Credit reporting</td>\n",
              "      <td>Incorrect information on your report</td>\n",
              "      <td>Information belongs to someone else</td>\n",
              "      <td>NaN</td>\n",
              "      <td>Company has responded to the consumer and the ...</td>\n",
              "      <td>TRANSUNION INTERMEDIATE HOLDINGS, INC.</td>\n",
              "      <td>MA</td>\n",
              "      <td>None</td>\n",
              "      <td>None</td>\n",
              "      <td>Other</td>\n",
              "      <td>Web</td>\n",
              "      <td>04/07/19</td>\n",
              "      <td>Closed with explanation</td>\n",
              "      <td>Yes</td>\n",
              "      <td>NaN</td>\n",
              "      <td>3204485</td>\n",
              "    </tr>\n",
              "    <tr>\n",
              "      <th>2</th>\n",
              "      <td>06/14/19</td>\n",
              "      <td>Credit reporting, credit repair services, or o...</td>\n",
              "      <td>Credit reporting</td>\n",
              "      <td>Incorrect information on your report</td>\n",
              "      <td>Information belongs to someone else</td>\n",
              "      <td>NaN</td>\n",
              "      <td>Company has responded to the consumer and the ...</td>\n",
              "      <td>TRANSUNION INTERMEDIATE HOLDINGS, INC.</td>\n",
              "      <td>AL</td>\n",
              "      <td>354XX</td>\n",
              "      <td>None</td>\n",
              "      <td>Consent not provided</td>\n",
              "      <td>Web</td>\n",
              "      <td>06/14/19</td>\n",
              "      <td>Closed with explanation</td>\n",
              "      <td>Yes</td>\n",
              "      <td>NaN</td>\n",
              "      <td>3274936</td>\n",
              "    </tr>\n",
              "    <tr>\n",
              "      <th>3</th>\n",
              "      <td>03/31/19</td>\n",
              "      <td>Credit card or prepaid card</td>\n",
              "      <td>General-purpose credit card or charge card</td>\n",
              "      <td>Fees or interest</td>\n",
              "      <td>Problem with fees</td>\n",
              "      <td>On XX/XX/XXXX, I applied for a Citi XXXX Visa ...</td>\n",
              "      <td>Company has responded to the consumer and the ...</td>\n",
              "      <td>CITIBANK, N.A.</td>\n",
              "      <td>CO</td>\n",
              "      <td>80215</td>\n",
              "      <td>None</td>\n",
              "      <td>Consent provided</td>\n",
              "      <td>Web</td>\n",
              "      <td>03/31/19</td>\n",
              "      <td>Closed with explanation</td>\n",
              "      <td>Yes</td>\n",
              "      <td>NaN</td>\n",
              "      <td>3197078</td>\n",
              "    </tr>\n",
              "    <tr>\n",
              "      <th>4</th>\n",
              "      <td>11/23/20</td>\n",
              "      <td>Debt collection</td>\n",
              "      <td>Other debt</td>\n",
              "      <td>Attempts to collect debt not owed</td>\n",
              "      <td>Debt is not yours</td>\n",
              "      <td>NaN</td>\n",
              "      <td>Company believes it acted appropriately as aut...</td>\n",
              "      <td>Professional Debt Mediation, Inc.</td>\n",
              "      <td>None</td>\n",
              "      <td>None</td>\n",
              "      <td>None</td>\n",
              "      <td>NaN</td>\n",
              "      <td>Phone</td>\n",
              "      <td>11/23/20</td>\n",
              "      <td>Closed with explanation</td>\n",
              "      <td>Yes</td>\n",
              "      <td>NaN</td>\n",
              "      <td>3970396</td>\n",
              "    </tr>\n",
              "  </tbody>\n",
              "</table>\n",
              "</div>"
            ],
            "text/plain": [
              "  Date received  ... Complaint ID\n",
              "0      07/30/19  ...      3324019\n",
              "1      04/07/19  ...      3204485\n",
              "2      06/14/19  ...      3274936\n",
              "3      03/31/19  ...      3197078\n",
              "4      11/23/20  ...      3970396\n",
              "\n",
              "[5 rows x 18 columns]"
            ]
          },
          "metadata": {
            "tags": []
          },
          "execution_count": 3
        }
      ]
    },
    {
      "cell_type": "code",
      "metadata": {
        "colab": {
          "base_uri": "https://localhost:8080/"
        },
        "id": "us1NbqvGTg0P",
        "outputId": "ff83a44e-2eec-451c-ee15-ff9905148760"
      },
      "source": [
        "data.info()"
      ],
      "execution_count": null,
      "outputs": [
        {
          "output_type": "stream",
          "text": [
            "<class 'pandas.core.frame.DataFrame'>\n",
            "RangeIndex: 1051187 entries, 0 to 1051186\n",
            "Data columns (total 18 columns):\n",
            " #   Column                        Non-Null Count    Dtype  \n",
            "---  ------                        --------------    -----  \n",
            " 0   Date received                 1051187 non-null  object \n",
            " 1   Product                       1051187 non-null  object \n",
            " 2   Sub-product                   1051187 non-null  object \n",
            " 3   Issue                         1051187 non-null  object \n",
            " 4   Sub-issue                     1051187 non-null  object \n",
            " 5   Consumer complaint narrative  426327 non-null   object \n",
            " 6   Company public response       1051187 non-null  object \n",
            " 7   Company                       1051187 non-null  object \n",
            " 8   State                         1051187 non-null  object \n",
            " 9   ZIP code                      1051187 non-null  object \n",
            " 10  Tags                          1051187 non-null  object \n",
            " 11  Consumer consent provided?    913605 non-null   object \n",
            " 12  Submitted via                 1051187 non-null  object \n",
            " 13  Date sent to company          1051187 non-null  object \n",
            " 14  Company response to consumer  1051187 non-null  object \n",
            " 15  Timely response?              1051187 non-null  object \n",
            " 16  Consumer disputed?            0 non-null        float64\n",
            " 17  Complaint ID                  1051187 non-null  int64  \n",
            "dtypes: float64(1), int64(1), object(16)\n",
            "memory usage: 144.4+ MB\n"
          ],
          "name": "stdout"
        }
      ]
    },
    {
      "cell_type": "markdown",
      "metadata": {
        "id": "4FIfbbSEWZoh"
      },
      "source": [
        "# Preprocessing"
      ]
    },
    {
      "cell_type": "markdown",
      "metadata": {
        "id": "DTrrGszyNL9l"
      },
      "source": [
        "we only keep Product and Customer complaint narrative "
      ]
    },
    {
      "cell_type": "code",
      "metadata": {
        "id": "Cj3O6x2_TlTB"
      },
      "source": [
        "data = data[[\"Product\",\"Consumer complaint narrative\"]]"
      ],
      "execution_count": null,
      "outputs": []
    },
    {
      "cell_type": "code",
      "metadata": {
        "colab": {
          "base_uri": "https://localhost:8080/"
        },
        "id": "VrOes54nURPp",
        "outputId": "c8d70130-5cb0-452c-d668-b952e83913da"
      },
      "source": [
        "data.info()"
      ],
      "execution_count": null,
      "outputs": [
        {
          "output_type": "stream",
          "text": [
            "<class 'pandas.core.frame.DataFrame'>\n",
            "RangeIndex: 1051187 entries, 0 to 1051186\n",
            "Data columns (total 2 columns):\n",
            " #   Column                        Non-Null Count    Dtype \n",
            "---  ------                        --------------    ----- \n",
            " 0   Product                       1051187 non-null  object\n",
            " 1   Consumer complaint narrative  426327 non-null   object\n",
            "dtypes: object(2)\n",
            "memory usage: 16.0+ MB\n"
          ],
          "name": "stdout"
        }
      ]
    },
    {
      "cell_type": "code",
      "metadata": {
        "id": "viJnEKf6dI0l"
      },
      "source": [
        "data.dropna(how=\"any\",inplace=True,axis=0)"
      ],
      "execution_count": null,
      "outputs": []
    },
    {
      "cell_type": "code",
      "metadata": {
        "colab": {
          "base_uri": "https://localhost:8080/"
        },
        "id": "WkFcrympdQ8T",
        "outputId": "17a9db8f-cef3-47cb-f839-83f34d60477f"
      },
      "source": [
        "data.info()"
      ],
      "execution_count": null,
      "outputs": [
        {
          "output_type": "stream",
          "text": [
            "<class 'pandas.core.frame.DataFrame'>\n",
            "Int64Index: 426327 entries, 0 to 1051176\n",
            "Data columns (total 2 columns):\n",
            " #   Column                        Non-Null Count   Dtype \n",
            "---  ------                        --------------   ----- \n",
            " 0   Product                       426327 non-null  object\n",
            " 1   Consumer complaint narrative  426327 non-null  object\n",
            "dtypes: object(2)\n",
            "memory usage: 9.8+ MB\n"
          ],
          "name": "stdout"
        }
      ]
    },
    {
      "cell_type": "code",
      "metadata": {
        "colab": {
          "base_uri": "https://localhost:8080/"
        },
        "id": "_QMXFMONUm_S",
        "outputId": "86dcda7c-d459-4ae5-8e29-ddfac1ebf92e"
      },
      "source": [
        "data.Product.value_counts()"
      ],
      "execution_count": null,
      "outputs": [
        {
          "output_type": "execute_result",
          "data": {
            "text/plain": [
              "Credit reporting, credit repair services, or other personal consumer reports    213837\n",
              "Debt collection                                                                  74498\n",
              "Credit card or prepaid card                                                      41699\n",
              "Mortgage                                                                         33179\n",
              "Checking or savings account                                                      24720\n",
              "Money transfer, virtual currency, or money service                               11233\n",
              "Student loan                                                                     10400\n",
              "Vehicle loan or lease                                                             9923\n",
              "Payday loan, title loan, or personal loan                                         6838\n",
              "Name: Product, dtype: int64"
            ]
          },
          "metadata": {
            "tags": []
          },
          "execution_count": 9
        }
      ]
    },
    {
      "cell_type": "code",
      "metadata": {
        "id": "KUVFOofGkTC0"
      },
      "source": [
        "data.loc[data['Product'] == 'Student loan', 'Product'] = 'Payday loan, title loan, or personal loan'\n",
        "data.loc[data['Product'] == 'Vehicle loan or lease', 'Product'] = 'Payday loan, title loan, or personal loan'\n",
        "data.loc[data['Product'] == 'Mortgage', 'Product'] = 'Payday loan, title loan, or personal loan'\n",
        "\n",
        "\n"
      ],
      "execution_count": null,
      "outputs": []
    },
    {
      "cell_type": "code",
      "metadata": {
        "colab": {
          "base_uri": "https://localhost:8080/"
        },
        "id": "lMFP-9w3l4ys",
        "outputId": "2f45f9f3-d140-48a1-d6ff-d0fd740ec29d"
      },
      "source": [
        "data.Product.value_counts()"
      ],
      "execution_count": null,
      "outputs": [
        {
          "output_type": "execute_result",
          "data": {
            "text/plain": [
              "Credit reporting, credit repair services, or other personal consumer reports    213837\n",
              "Debt collection                                                                  74498\n",
              "Payday loan, title loan, or personal loan                                        60340\n",
              "Credit card or prepaid card                                                      41699\n",
              "Checking or savings account                                                      24720\n",
              "Money transfer, virtual currency, or money service                               11233\n",
              "Name: Product, dtype: int64"
            ]
          },
          "metadata": {
            "tags": []
          },
          "execution_count": 11
        }
      ]
    },
    {
      "cell_type": "code",
      "metadata": {
        "id": "2FMLUm-emMeJ"
      },
      "source": [
        "data[\"Product\"].replace({\"Payday loan, title loan, or personal loan\": \"Loan\"}, inplace=True)"
      ],
      "execution_count": null,
      "outputs": []
    },
    {
      "cell_type": "code",
      "metadata": {
        "colab": {
          "base_uri": "https://localhost:8080/"
        },
        "id": "y4WCUP9BnTH7",
        "outputId": "8fa6def7-c3fc-4d13-93e6-d3ce77edaa49"
      },
      "source": [
        "data.Product.value_counts()"
      ],
      "execution_count": null,
      "outputs": [
        {
          "output_type": "execute_result",
          "data": {
            "text/plain": [
              "Credit reporting, credit repair services, or other personal consumer reports    213837\n",
              "Debt collection                                                                  74498\n",
              "Loan                                                                             60340\n",
              "Credit card or prepaid card                                                      41699\n",
              "Checking or savings account                                                      24720\n",
              "Money transfer, virtual currency, or money service                               11233\n",
              "Name: Product, dtype: int64"
            ]
          },
          "metadata": {
            "tags": []
          },
          "execution_count": 13
        }
      ]
    },
    {
      "cell_type": "code",
      "metadata": {
        "id": "d1buCRdsn5bp"
      },
      "source": [
        "data.drop(data.index[(data[\"Product\"] == \"Credit card or prepaid card\")],axis=0,inplace=True)"
      ],
      "execution_count": null,
      "outputs": []
    },
    {
      "cell_type": "code",
      "metadata": {
        "colab": {
          "base_uri": "https://localhost:8080/"
        },
        "id": "se1ZpbyloBGj",
        "outputId": "475053ae-3308-4551-899a-ce3769df5efe"
      },
      "source": [
        "data.Product.value_counts()"
      ],
      "execution_count": null,
      "outputs": [
        {
          "output_type": "execute_result",
          "data": {
            "text/plain": [
              "Credit reporting, credit repair services, or other personal consumer reports    213837\n",
              "Debt collection                                                                  74498\n",
              "Loan                                                                             60340\n",
              "Checking or savings account                                                      24720\n",
              "Money transfer, virtual currency, or money service                               11233\n",
              "Name: Product, dtype: int64"
            ]
          },
          "metadata": {
            "tags": []
          },
          "execution_count": 15
        }
      ]
    },
    {
      "cell_type": "code",
      "metadata": {
        "id": "HDarM5d_WuBa"
      },
      "source": [
        "data = data.reset_index(drop=True)"
      ],
      "execution_count": null,
      "outputs": []
    },
    {
      "cell_type": "code",
      "metadata": {
        "colab": {
          "base_uri": "https://localhost:8080/",
          "height": 399
        },
        "id": "Jnc7rnXGWwLE",
        "outputId": "e200cb02-e5e6-43dd-b252-e05035541d4c"
      },
      "source": [
        "data"
      ],
      "execution_count": null,
      "outputs": [
        {
          "output_type": "execute_result",
          "data": {
            "text/html": [
              "<div>\n",
              "<style scoped>\n",
              "    .dataframe tbody tr th:only-of-type {\n",
              "        vertical-align: middle;\n",
              "    }\n",
              "\n",
              "    .dataframe tbody tr th {\n",
              "        vertical-align: top;\n",
              "    }\n",
              "\n",
              "    .dataframe thead th {\n",
              "        text-align: right;\n",
              "    }\n",
              "</style>\n",
              "<table border=\"1\" class=\"dataframe\">\n",
              "  <thead>\n",
              "    <tr style=\"text-align: right;\">\n",
              "      <th></th>\n",
              "      <th>Product</th>\n",
              "      <th>Consumer complaint narrative</th>\n",
              "    </tr>\n",
              "  </thead>\n",
              "  <tbody>\n",
              "    <tr>\n",
              "      <th>0</th>\n",
              "      <td>Credit reporting, credit repair services, or o...</td>\n",
              "      <td>The following companies ran unauthorized credi...</td>\n",
              "    </tr>\n",
              "    <tr>\n",
              "      <th>1</th>\n",
              "      <td>Credit reporting, credit repair services, or o...</td>\n",
              "      <td>XXXX XXXX XXXX pulled my credit twice with in ...</td>\n",
              "    </tr>\n",
              "    <tr>\n",
              "      <th>2</th>\n",
              "      <td>Credit reporting, credit repair services, or o...</td>\n",
              "      <td>To : Whom It May concern : I am writing to dis...</td>\n",
              "    </tr>\n",
              "    <tr>\n",
              "      <th>3</th>\n",
              "      <td>Debt collection</td>\n",
              "      <td>I'm not even sure what debt they are talking a...</td>\n",
              "    </tr>\n",
              "    <tr>\n",
              "      <th>4</th>\n",
              "      <td>Checking or savings account</td>\n",
              "      <td>Wells Fargo has sent me several general form l...</td>\n",
              "    </tr>\n",
              "    <tr>\n",
              "      <th>...</th>\n",
              "      <td>...</td>\n",
              "      <td>...</td>\n",
              "    </tr>\n",
              "    <tr>\n",
              "      <th>384623</th>\n",
              "      <td>Debt collection</td>\n",
              "      <td>After an emergency room visit on XX/XX/18, I r...</td>\n",
              "    </tr>\n",
              "    <tr>\n",
              "      <th>384624</th>\n",
              "      <td>Credit reporting, credit repair services, or o...</td>\n",
              "      <td>I went to co sign for my partner e. car and wa...</td>\n",
              "    </tr>\n",
              "    <tr>\n",
              "      <th>384625</th>\n",
              "      <td>Credit reporting, credit repair services, or o...</td>\n",
              "      <td>Originally, I sent a letter on XX/XX/2018 to X...</td>\n",
              "    </tr>\n",
              "    <tr>\n",
              "      <th>384626</th>\n",
              "      <td>Debt collection</td>\n",
              "      <td>I purchased a XXXX XXXX from a person who show...</td>\n",
              "    </tr>\n",
              "    <tr>\n",
              "      <th>384627</th>\n",
              "      <td>Credit reporting, credit repair services, or o...</td>\n",
              "      <td>I contacted Equifax on Friday XX/XX/18. I expl...</td>\n",
              "    </tr>\n",
              "  </tbody>\n",
              "</table>\n",
              "<p>384628 rows × 2 columns</p>\n",
              "</div>"
            ],
            "text/plain": [
              "                                                  Product                       Consumer complaint narrative\n",
              "0       Credit reporting, credit repair services, or o...  The following companies ran unauthorized credi...\n",
              "1       Credit reporting, credit repair services, or o...  XXXX XXXX XXXX pulled my credit twice with in ...\n",
              "2       Credit reporting, credit repair services, or o...  To : Whom It May concern : I am writing to dis...\n",
              "3                                         Debt collection  I'm not even sure what debt they are talking a...\n",
              "4                             Checking or savings account  Wells Fargo has sent me several general form l...\n",
              "...                                                   ...                                                ...\n",
              "384623                                    Debt collection  After an emergency room visit on XX/XX/18, I r...\n",
              "384624  Credit reporting, credit repair services, or o...  I went to co sign for my partner e. car and wa...\n",
              "384625  Credit reporting, credit repair services, or o...  Originally, I sent a letter on XX/XX/2018 to X...\n",
              "384626                                    Debt collection  I purchased a XXXX XXXX from a person who show...\n",
              "384627  Credit reporting, credit repair services, or o...  I contacted Equifax on Friday XX/XX/18. I expl...\n",
              "\n",
              "[384628 rows x 2 columns]"
            ]
          },
          "metadata": {
            "tags": []
          },
          "execution_count": 17
        }
      ]
    },
    {
      "cell_type": "code",
      "metadata": {
        "id": "K-ZKdrrgL4EG"
      },
      "source": [
        "#we define a function that displays the custumer complaint narrative to have a better idea of text in  order to know how to process it \n",
        "def complaint_product(indx,data):\n",
        "  complaint = data['Consumer complaint narrative'][indx]\n",
        "  product = data['Product'][indx]\n",
        "  print(complaint)\n",
        "  print('------------------------------')\n",
        "  print(\"Product : \",product)"
      ],
      "execution_count": null,
      "outputs": []
    },
    {
      "cell_type": "code",
      "metadata": {
        "colab": {
          "base_uri": "https://localhost:8080/"
        },
        "id": "zvicgkXNL7ww",
        "outputId": "deadcfbc-a6c8-4191-810f-09581c47d3d4"
      },
      "source": [
        "complaint_product(238, data)"
      ],
      "execution_count": null,
      "outputs": [
        {
          "output_type": "stream",
          "text": [
            "I have disputed the late payments on XXXX XXXX XXXX XXXX  for months. Experian refused to reverse the late payments. Not to mention they will not give me an explanation as to why they wont overturn or fix this erroneous inaccurate claim that has affected my credit score tremendously. CFPB please step up and fix this ASAP\n",
            "------------------------------\n",
            "Product :  Credit reporting, credit repair services, or other personal consumer reports\n"
          ],
          "name": "stdout"
        }
      ]
    },
    {
      "cell_type": "code",
      "metadata": {
        "id": "FcFv5de9L9wO"
      },
      "source": [
        "import string \n",
        "#the complaint narrative contains some symboles (XXXXX) to hide the confidential informations such as amount of loan , number of credit card \n",
        "#we will delete them \n",
        "#we write a funcion to preprocess customer complaint narrative\n",
        "def clean_text(text):\n",
        "    '''Make text uppercase(this gonna be the output from speech recognition model which is in uppercase format), remove text in square brackets, remove punctuation, remove words containing numbers, remove stop words and Xs.'''\n",
        "    text = text.upper()\n",
        "    text = re.sub('\\[.*?\\]', '', text)\n",
        "    text = re.sub('[%s]' % re.escape(string.punctuation), '', text)\n",
        "    text = re.sub('\\w*\\d\\w*', '', text)\n",
        "    text = re.sub('\\n', '', text)\n",
        "    text = text.replace('X', '')\n",
        "    text = ' '.join(word for word in text.split() if word not in STOPWORDS)\n",
        "    return text"
      ],
      "execution_count": null,
      "outputs": []
    },
    {
      "cell_type": "code",
      "metadata": {
        "id": "pQWzVmwQMC-1"
      },
      "source": [
        "data['Consumer complaint narrative']=data['Consumer complaint narrative'].apply(clean_text)"
      ],
      "execution_count": null,
      "outputs": []
    },
    {
      "cell_type": "code",
      "metadata": {
        "colab": {
          "base_uri": "https://localhost:8080/",
          "height": 399
        },
        "id": "gY7QSCyGMF1_",
        "outputId": "8f5edca5-f4a3-43e4-e038-f606b01fe849"
      },
      "source": [
        "data"
      ],
      "execution_count": null,
      "outputs": [
        {
          "output_type": "execute_result",
          "data": {
            "text/html": [
              "<div>\n",
              "<style scoped>\n",
              "    .dataframe tbody tr th:only-of-type {\n",
              "        vertical-align: middle;\n",
              "    }\n",
              "\n",
              "    .dataframe tbody tr th {\n",
              "        vertical-align: top;\n",
              "    }\n",
              "\n",
              "    .dataframe thead th {\n",
              "        text-align: right;\n",
              "    }\n",
              "</style>\n",
              "<table border=\"1\" class=\"dataframe\">\n",
              "  <thead>\n",
              "    <tr style=\"text-align: right;\">\n",
              "      <th></th>\n",
              "      <th>Product</th>\n",
              "      <th>Consumer complaint narrative</th>\n",
              "    </tr>\n",
              "  </thead>\n",
              "  <tbody>\n",
              "    <tr>\n",
              "      <th>0</th>\n",
              "      <td>Credit reporting, credit repair services, or o...</td>\n",
              "      <td>PULLED MY CREDIT TWICE WITH IN A DAY PERIOD WI...</td>\n",
              "    </tr>\n",
              "    <tr>\n",
              "      <th>1</th>\n",
              "      <td>Credit reporting, credit repair services, or o...</td>\n",
              "      <td>TO WHOM IT MAY CONCERN I AM WRITING TO DISPUTE...</td>\n",
              "    </tr>\n",
              "    <tr>\n",
              "      <th>2</th>\n",
              "      <td>Debt collection</td>\n",
              "      <td>IM NOT EVEN SURE WHAT DEBT THEY ARE TALKING AB...</td>\n",
              "    </tr>\n",
              "    <tr>\n",
              "      <th>3</th>\n",
              "      <td>Checking or savings account</td>\n",
              "      <td>WELLS FARGO HAS SENT ME SEVERAL GENERAL FORM L...</td>\n",
              "    </tr>\n",
              "    <tr>\n",
              "      <th>4</th>\n",
              "      <td>Credit reporting, credit repair services, or o...</td>\n",
              "      <td>COMPANY HAS WROTE THE LOAN AMOUNT OFF AS A LOS...</td>\n",
              "    </tr>\n",
              "    <tr>\n",
              "      <th>...</th>\n",
              "      <td>...</td>\n",
              "      <td>...</td>\n",
              "    </tr>\n",
              "    <tr>\n",
              "      <th>382941</th>\n",
              "      <td>Checking or savings account</td>\n",
              "      <td>I WENT INTO THE AND BRANCH OF WELLS FARGO IN O...</td>\n",
              "    </tr>\n",
              "    <tr>\n",
              "      <th>382942</th>\n",
              "      <td>Credit reporting, credit repair services, or o...</td>\n",
              "      <td>ORIGINALLY I SENT A LETTER ON TO DISPUTING A T...</td>\n",
              "    </tr>\n",
              "    <tr>\n",
              "      <th>382943</th>\n",
              "      <td>Debt collection</td>\n",
              "      <td>I PURCHASED A FROM A PERSON WHO SHOWED UP AT M...</td>\n",
              "    </tr>\n",
              "    <tr>\n",
              "      <th>382944</th>\n",
              "      <td>Credit reporting, credit repair services, or o...</td>\n",
              "      <td>ON AN AGREEMENT WAS MADE BETWEEN KOHL S AND MY...</td>\n",
              "    </tr>\n",
              "    <tr>\n",
              "      <th>382945</th>\n",
              "      <td>Debt collection</td>\n",
              "      <td>NATIONAL CHECK BUREA AND NEED TO BE PUT OUT OF...</td>\n",
              "    </tr>\n",
              "  </tbody>\n",
              "</table>\n",
              "<p>382946 rows × 2 columns</p>\n",
              "</div>"
            ],
            "text/plain": [
              "                                                  Product                       Consumer complaint narrative\n",
              "0       Credit reporting, credit repair services, or o...  PULLED MY CREDIT TWICE WITH IN A DAY PERIOD WI...\n",
              "1       Credit reporting, credit repair services, or o...  TO WHOM IT MAY CONCERN I AM WRITING TO DISPUTE...\n",
              "2                                         Debt collection  IM NOT EVEN SURE WHAT DEBT THEY ARE TALKING AB...\n",
              "3                             Checking or savings account  WELLS FARGO HAS SENT ME SEVERAL GENERAL FORM L...\n",
              "4       Credit reporting, credit repair services, or o...  COMPANY HAS WROTE THE LOAN AMOUNT OFF AS A LOS...\n",
              "...                                                   ...                                                ...\n",
              "382941                        Checking or savings account  I WENT INTO THE AND BRANCH OF WELLS FARGO IN O...\n",
              "382942  Credit reporting, credit repair services, or o...  ORIGINALLY I SENT A LETTER ON TO DISPUTING A T...\n",
              "382943                                    Debt collection  I PURCHASED A FROM A PERSON WHO SHOWED UP AT M...\n",
              "382944  Credit reporting, credit repair services, or o...  ON AN AGREEMENT WAS MADE BETWEEN KOHL S AND MY...\n",
              "382945                                    Debt collection  NATIONAL CHECK BUREA AND NEED TO BE PUT OUT OF...\n",
              "\n",
              "[382946 rows x 2 columns]"
            ]
          },
          "metadata": {
            "tags": []
          },
          "execution_count": 27
        }
      ]
    },
    {
      "cell_type": "code",
      "metadata": {
        "colab": {
          "base_uri": "https://localhost:8080/"
        },
        "id": "FkJsVxZOMI9s",
        "outputId": "b386556b-cbec-442a-9cec-8fe48875e0b7"
      },
      "source": [
        "complaint_product(238, data)"
      ],
      "execution_count": null,
      "outputs": [
        {
          "output_type": "stream",
          "text": [
            "I HAVE DISPUTED THE LATE PAYMENTS ON FOR MONTHS EPERIAN REFUSED TO REVERSE THE LATE PAYMENTS NOT TO MENTION THEY WILL NOT GIVE ME AN EPLANATION AS TO WHY THEY WONT OVERTURN OR FI THIS ERRONEOUS INACCURATE CLAIM THAT HAS AFFECTED MY CREDIT SCORE TREMENDOUSLY CFPB PLEASE STEP UP AND FI THIS ASAP\n",
            "------------------------------\n",
            "Product :  Credit reporting, credit repair services, or other personal consumer reports\n"
          ],
          "name": "stdout"
        }
      ]
    },
    {
      "cell_type": "markdown",
      "metadata": {
        "id": "OhoIcR50WvdB"
      },
      "source": [
        "**Data Viz**"
      ]
    },
    {
      "cell_type": "code",
      "metadata": {
        "colab": {
          "base_uri": "https://localhost:8080/",
          "height": 720
        },
        "id": "GDj-GVAo8mpd",
        "outputId": "a5911d64-cb25-48fb-ef8c-f86e485086a8"
      },
      "source": [
        "import seaborn as sns\n",
        "sns.set(rc={'figure.figsize':(25,12)})\n",
        "sns.countplot(x=\"Product\",data=data); "
      ],
      "execution_count": null,
      "outputs": [
        {
          "output_type": "display_data",
          "data": {
            "image/png": "[encoded data removed]",
            "text/plain": [
              "<Figure size 1800x864 with 1 Axes>"
            ]
          },
          "metadata": {
            "tags": []
          }
        }
      ]
    },
    {
      "cell_type": "markdown",
      "metadata": {
        "id": "BcJAXB7_XSyG"
      },
      "source": [
        "As we can see, this dataset suffers from huge imbalanced data we will apply some data augmentation Techniques"
      ]
    },
    {
      "cell_type": "markdown",
      "metadata": {
        "id": "2Yex4SfKZoog"
      },
      "source": [
        "# Data augmentation "
      ]
    },
    {
      "cell_type": "markdown",
      "metadata": {
        "id": "YVuC68FhZ_WF"
      },
      "source": [
        "**Back Translation**"
      ]
    },
    {
      "cell_type": "code",
      "metadata": {
        "colab": {
          "base_uri": "https://localhost:8080/"
        },
        "id": "PbjGK4wVpVXV",
        "outputId": "6dc188dc-7b8c-4828-a829-7c8dc14eada8"
      },
      "source": [
        "pip install google_trans_new\n"
      ],
      "execution_count": null,
      "outputs": [
        {
          "output_type": "stream",
          "text": [
            "Collecting google_trans_new\n",
            "  Downloading https://files.pythonhosted.org/packages/f9/7b/9f136106dc5824dc98185c97991d3cd9b53e70a197154dd49f7b899128f6/google_trans_new-1.1.9-py3-none-any.whl\n",
            "Installing collected packages: google-trans-new\n",
            "Successfully installed google-trans-new-1.1.9\n"
          ],
          "name": "stdout"
        }
      ]
    },
    {
      "cell_type": "code",
      "metadata": {
        "id": "cLdXBhuP093g"
      },
      "source": [
        "from google_trans_new import google_translator  \n",
        "translator = google_translator(url_suffix=\"hk\",timeout=1600)\n"
      ],
      "execution_count": null,
      "outputs": []
    },
    {
      "cell_type": "code",
      "metadata": {
        "id": "_KS4oPio0964"
      },
      "source": [
        "#Money transfer, virtual currency, or money service augemtation \n",
        "import time\n",
        "def data_augmentation_money_transfer (data):\n",
        "  newdata=data[data[\"Product\"]==\"Money transfer, virtual currency, or money service\"]\n",
        "  for x in newdata[\"Consumer complaint narrative\"]:\n",
        "    \n",
        "    french_translation = translator.translate(x, lang_tgt='fr')\n",
        "    time.sleep(2)\n",
        "    english_translation = translator.translate(french_translation, lang_tgt='en')\n",
        "    dict_1={\"Product\":\"Money transfer, virtual currency, or money service\",\"Consumer complaint narrative\":[english_translation]}\n",
        "    data=pd.concat([data,pd.DataFrame(dict_1)]) \n",
        "  return data"
      ],
      "execution_count": null,
      "outputs": []
    },
    {
      "cell_type": "code",
      "metadata": {
        "colab": {
          "base_uri": "https://localhost:8080/",
          "height": 36
        },
        "id": "zOBZ9BUPYU3c",
        "outputId": "e3ee4237-3114-487d-c15b-4e7a4c9a5162"
      },
      "source": [
        "import tensorflow as tf\n",
        "tf.test.gpu_device_name() "
      ],
      "execution_count": null,
      "outputs": [
        {
          "output_type": "execute_result",
          "data": {
            "application/vnd.google.colaboratory.intrinsic+json": {
              "type": "string"
            },
            "text/plain": [
              "'/device:GPU:0'"
            ]
          },
          "metadata": {
            "tags": []
          },
          "execution_count": 1
        }
      ]
    },
    {
      "cell_type": "code",
      "metadata": {
        "colab": {
          "base_uri": "https://localhost:8080/"
        },
        "id": "NLC17LTAaCdL",
        "outputId": "cb56a9cf-4cd7-43b0-db59-9fddeb5ebca3"
      },
      "source": [
        "# memory footprint support libraries/code\n",
        "!ln -sf /opt/bin/nvidia-smi /usr/bin/nvidia-smi\n",
        "!pip install gputil\n",
        "!pip install psutil\n",
        "!pip install humanize\n",
        "import psutil\n",
        "import humanize\n",
        "import os\n",
        "import GPUtil as GPU\n",
        "GPUs = GPU.getGPUs()\n",
        "# XXX: only one GPU on Colab and isn’t guaranteed\n",
        "gpu = GPUs[0]\n",
        "def printm():\n",
        " process = psutil.Process(os.getpid())\n",
        " print(\"Gen RAM Free: \" + humanize.naturalsize( psutil.virtual_memory().available ), \" | Proc size: \" + humanize.naturalsize( process.memory_info().rss))\n",
        " print(\"GPU RAM Free: {0:.0f}MB | Used: {1:.0f}MB | Util {2:3.0f}% | Total {3:.0f}MB\".format(gpu.memoryFree, gpu.memoryUsed, gpu.memoryUtil*100, gpu.memoryTotal))\n",
        "printm() "
      ],
      "execution_count": null,
      "outputs": [
        {
          "output_type": "stream",
          "text": [
            "Collecting gputil\n",
            "  Downloading https://files.pythonhosted.org/packages/ed/0e/5c61eedde9f6c87713e89d794f01e378cfd9565847d4576fa627d758c554/GPUtil-1.4.0.tar.gz\n",
            "Building wheels for collected packages: gputil\n",
            "  Building wheel for gputil (setup.py) ... \u001b[?25l\u001b[?25hdone\n",
            "  Created wheel for gputil: filename=GPUtil-1.4.0-cp37-none-any.whl size=7411 sha256=4035af947ee228f813365851142da8a9e0d312ecdafa55b1d6c66f73d007b6c3\n",
            "  Stored in directory: /root/.cache/pip/wheels/3d/77/07/80562de4bb0786e5ea186911a2c831fdd0018bda69beab71fd\n",
            "Successfully built gputil\n",
            "Installing collected packages: gputil\n",
            "Successfully installed gputil-1.4.0\n",
            "Requirement already satisfied: psutil in /usr/local/lib/python3.7/dist-packages (5.4.8)\n",
            "Requirement already satisfied: humanize in /usr/local/lib/python3.7/dist-packages (0.5.1)\n",
            "Gen RAM Free: 12.3 GB  | Proc size: 935.1 MB\n",
            "GPU RAM Free: 14887MB | Used: 222MB | Util   1% | Total 15109MB\n"
          ],
          "name": "stdout"
        }
      ]
    },
    {
      "cell_type": "code",
      "metadata": {
        "id": "eidJ6gKuDRHc"
      },
      "source": [
        "data=data_augmentation_money_transfer(data)"
      ],
      "execution_count": null,
      "outputs": []
    },
    {
      "cell_type": "code",
      "metadata": {
        "id": "RA6MfZw8EE_U"
      },
      "source": [
        "data_credit=data[data[\"Product\"]==\"Credit reporting, credit repair services, or other personal consumer reports\"]\n",
        "new_data_credit=data_credit.sample(n=32000)\n",
        "data_loan=data[data[\"Product\"]==\"Loan\"]\n",
        "new_data_loan=data_loan.sample(n=32000)\n",
        "data_debt=data[data[\"Product\"]==\"Debt collection\"]\n",
        "new_data_debt=data_debt.sample(n=32000)\n",
        "data_saving=data[data[\"Product\"]==\"Checking or savings account\"]\n",
        "new_data_saving=data_saving.sample(n=32000)\n",
        "data=data[data[\"Product\"]==\"Money transfer, virtual currency, or money service\"]\n",
        "data=pd.concat([data,new_data_credit])\n",
        "data=pd.concat([data,new_data_loan])\n",
        "data=pd.concat([data,new_data_debt])\n",
        "data=pd.concat([data,new_data_saving])\n"
      ],
      "execution_count": null,
      "outputs": []
    },
    {
      "cell_type": "code",
      "metadata": {
        "colab": {
          "base_uri": "https://localhost:8080/"
        },
        "id": "xvVRQgEEpwXp",
        "outputId": "f6a61195-d4cf-4362-a710-1d1046f055ab"
      },
      "source": [
        "data[\"Product\"].value_counts()"
      ],
      "execution_count": null,
      "outputs": [
        {
          "output_type": "execute_result",
          "data": {
            "text/plain": [
              "Credit reporting, credit repair services, or other personal consumer reports    32000\n",
              "Checking or savings account                                                     32000\n",
              "Loan                                                                            32000\n",
              "Debt collection                                                                 32000\n",
              "Money transfer, virtual currency, or money service                              31886\n",
              "Name: Product, dtype: int64"
            ]
          },
          "metadata": {
            "tags": []
          },
          "execution_count": 3
        }
      ]
    },
    {
      "cell_type": "code",
      "metadata": {
        "colab": {
          "base_uri": "https://localhost:8080/",
          "height": 631
        },
        "id": "dXiLroLzJv4j",
        "outputId": "b30b8d93-b6ac-47d2-aaf9-d22a06dc9068"
      },
      "source": [
        "import seaborn as sns\n",
        "sns.set(rc={'figure.figsize':(25,12)})\n",
        "sns.countplot(x=\"Product\",data=data); "
      ],
      "execution_count": null,
      "outputs": [
        {
          "output_type": "display_data",
          "data": {
            "image/png": "[encoded data removed]",
            "text/plain": [
              "<Figure size 1800x864 with 1 Axes>"
            ]
          },
          "metadata": {
            "tags": []
          }
        }
      ]
    },
    {
      "cell_type": "markdown",
      "metadata": {
        "id": "3vAmud1HJzKO"
      },
      "source": [
        "**the data is  well balanced we can now begin the training**"
      ]
    },
    {
      "cell_type": "markdown",
      "metadata": {
        "id": "BG510I2kMsmL"
      },
      "source": [
        "#  Context Classifiction"
      ]
    },
    {
      "cell_type": "code",
      "metadata": {
        "colab": {
          "base_uri": "https://localhost:8080/"
        },
        "id": "BqsF606JMapn",
        "outputId": "ffcfaaf4-79d1-4c85-c94e-fec70095479f"
      },
      "source": [
        "# The maximum number of words to be used. (most frequent)\n",
        "MAX_NB_WORDS = 50000\n",
        "# Max number of words in each complaint.\n",
        "MAX_SEQUENCE_LENGTH = 250\n",
        "# ech word in the embedding spece is a vector of dimentiality = 100 \n",
        "EMBEDDING_DIM = 100\n",
        "\n",
        "tokenizer = Tokenizer(num_words=MAX_NB_WORDS)\n",
        "tokenizer.fit_on_texts(data['Consumer complaint narrative'].values)\n",
        "word_index = tokenizer.word_index\n",
        "print('Found %s unique tokens.' % len(word_index))"
      ],
      "execution_count": null,
      "outputs": [
        {
          "output_type": "stream",
          "text": [
            "Found 104035 unique tokens.\n"
          ],
          "name": "stdout"
        }
      ]
    },
    {
      "cell_type": "markdown",
      "metadata": {
        "id": "7NOXYHNqQ-ad"
      },
      "source": [
        "Corpus(104035)"
      ]
    },
    {
      "cell_type": "code",
      "metadata": {
        "id": "WpQRvTwJNMv7"
      },
      "source": [
        "X = tokenizer.texts_to_sequences(data['Consumer complaint narrative'].values)#list of integers that contain the tokens mapped to each word in the text \n"
      ],
      "execution_count": null,
      "outputs": []
    },
    {
      "cell_type": "code",
      "metadata": {
        "colab": {
          "base_uri": "https://localhost:8080/"
        },
        "id": "g7zHugICNVo9",
        "outputId": "f4055cc2-6d4c-4547-c0c4-094e24d04d3d"
      },
      "source": [
        "len(X)"
      ],
      "execution_count": null,
      "outputs": [
        {
          "output_type": "execute_result",
          "data": {
            "text/plain": [
              "159886"
            ]
          },
          "metadata": {
            "tags": []
          },
          "execution_count": 18
        }
      ]
    },
    {
      "cell_type": "code",
      "metadata": {
        "id": "DPn7QYI8NZXP"
      },
      "source": [
        "X = pad_sequences(X, maxlen=MAX_SEQUENCE_LENGTH) #padding\n"
      ],
      "execution_count": null,
      "outputs": []
    },
    {
      "cell_type": "code",
      "metadata": {
        "colab": {
          "base_uri": "https://localhost:8080/"
        },
        "id": "Ym6ofVBMOllX",
        "outputId": "8b70725f-758d-4540-d352-542cd3924809"
      },
      "source": [
        "X"
      ],
      "execution_count": null,
      "outputs": [
        {
          "output_type": "execute_result",
          "data": {
            "text/plain": [
              "array([[   0,    0,    0, ...,  322,  180,  100],\n",
              "       [   0,    0,    0, ...,   10,   92,  851],\n",
              "       [   0,    0,    0, ...,  262,  239,  613],\n",
              "       ...,\n",
              "       [  15,   33,    5, ...,  226,   82, 1354],\n",
              "       [   1,  134,   85, ...,    6,  386,   54],\n",
              "       [4394, 2336,   26, ...,   18,   13, 2377]], dtype=int32)"
            ]
          },
          "metadata": {
            "tags": []
          },
          "execution_count": 20
        }
      ]
    },
    {
      "cell_type": "code",
      "metadata": {
        "colab": {
          "base_uri": "https://localhost:8080/"
        },
        "id": "k4kcqZKNN07Q",
        "outputId": "f491dec1-af21-4f86-8898-7ef25563c561"
      },
      "source": [
        "print('Shape of data tensor:', X.shape)"
      ],
      "execution_count": null,
      "outputs": [
        {
          "output_type": "stream",
          "text": [
            "Shape of data tensor: (159886, 250)\n"
          ],
          "name": "stdout"
        }
      ]
    },
    {
      "cell_type": "code",
      "metadata": {
        "colab": {
          "base_uri": "https://localhost:8080/"
        },
        "id": "kb9Wt_0HN6Yq",
        "outputId": "93055c24-ec5e-4d61-b17a-6d397b595ffc"
      },
      "source": [
        "labels = list(pd.get_dummies(data['Product']).columns)\n",
        "labels"
      ],
      "execution_count": null,
      "outputs": [
        {
          "output_type": "execute_result",
          "data": {
            "text/plain": [
              "['Checking or savings account',\n",
              " 'Credit reporting, credit repair services, or other personal consumer reports',\n",
              " 'Debt collection',\n",
              " 'Loan',\n",
              " 'Money transfer, virtual currency, or money service']"
            ]
          },
          "metadata": {
            "tags": []
          },
          "execution_count": 22
        }
      ]
    },
    {
      "cell_type": "code",
      "metadata": {
        "id": "x35M-qvfOGmV"
      },
      "source": [
        "Y = pd.get_dummies(data['Product']).values\n"
      ],
      "execution_count": null,
      "outputs": []
    },
    {
      "cell_type": "code",
      "metadata": {
        "colab": {
          "base_uri": "https://localhost:8080/"
        },
        "id": "OA4rWaF2OJy_",
        "outputId": "b53b30e4-8d6b-496e-cef3-0ead721adc3e"
      },
      "source": [
        "print('Shape of label tensor:', Y.shape)"
      ],
      "execution_count": null,
      "outputs": [
        {
          "output_type": "stream",
          "text": [
            "Shape of label tensor: (159886, 5)\n"
          ],
          "name": "stdout"
        }
      ]
    },
    {
      "cell_type": "code",
      "metadata": {
        "colab": {
          "base_uri": "https://localhost:8080/"
        },
        "id": "d9ZQRjr8OxWA",
        "outputId": "93e2142c-7012-4084-ce8d-68b8b1be1f55"
      },
      "source": [
        "\n",
        "X_train, X_test, Y_train, Y_test = train_test_split(X,Y,test_size=0.2)\n",
        "print(X_train.shape,Y_train.shape)\n",
        "print(X_test.shape,Y_test.shape)"
      ],
      "execution_count": null,
      "outputs": [
        {
          "output_type": "stream",
          "text": [
            "(127908, 250) (127908, 5)\n",
            "(31978, 250) (31978, 5)\n"
          ],
          "name": "stdout"
        }
      ]
    },
    {
      "cell_type": "code",
      "metadata": {
        "colab": {
          "base_uri": "https://localhost:8080/"
        },
        "id": "Yt9DIa1yPAFu",
        "outputId": "09bcdc64-4ab2-47fa-9a34-8697f5546865"
      },
      "source": [
        "model = Sequential()\n",
        "\n",
        "#the embedding layer from keras (meme fonctionatilté que word2vec: mapps the word into a vector in the embedding space)\n",
        "#note: word2vec is trained to extract the relation between words d'une facon general beacause it s trained on the wiki corpus\n",
        "#while the embedding layer shows the relation between words in the context of this dataset (more specific we can say)\n",
        "#not the same training algo(the keras embedding layer tries to index a table) \n",
        "model.add(Embedding(MAX_NB_WORDS, EMBEDDING_DIM, input_length=X.shape[1]))\n",
        "model.add(SpatialDropout1D(0.2))\n",
        "model.add(LSTM(100, dropout=0.2, recurrent_dropout=0.2))\n",
        "model.add(Dense(9, activation='softmax'))\n",
        "model.compile(loss=\"categorical_crossentropy\", optimizer='adam', metrics=['accuracy'])\n",
        "print(model.summary())"
      ],
      "execution_count": null,
      "outputs": [
        {
          "output_type": "stream",
          "text": [
            "Model: \"sequential\"\n",
            "_________________________________________________________________\n",
            "Layer (type)                 Output Shape              Param #   \n",
            "=================================================================\n",
            "embedding (Embedding)        (None, 250, 100)          5000000   \n",
            "_________________________________________________________________\n",
            "spatial_dropout1d (SpatialDr (None, 250, 100)          0         \n",
            "_________________________________________________________________\n",
            "lstm (LSTM)                  (None, 100)               80400     \n",
            "_________________________________________________________________\n",
            "dense (Dense)                (None, 9)                 909       \n",
            "=================================================================\n",
            "Total params: 5,081,309\n",
            "Trainable params: 5,081,309\n",
            "Non-trainable params: 0\n",
            "_________________________________________________________________\n",
            "None\n"
          ],
          "name": "stdout"
        }
      ]
    },
    {
      "cell_type": "code",
      "metadata": {
        "id": "juqX_k-DPIsA"
      },
      "source": [
        "epochs = 5\n",
        "batch_size = 64\n",
        "history = model.fit(X_train, Y_train, epochs=epochs, batch_size=batch_size,validation_split=0.1,callbacks=[EarlyStopping(monitor='val_loss', patience=3, min_delta=0.0001)])"
      ],
      "execution_count": null,
      "outputs": []
    },
    {
      "cell_type": "code",
      "metadata": {
        "id": "dH0UcKs8bl3a"
      },
      "source": [
        "score=model.evaluate(X_test,Y_test)\n",
        "\n",
        "print('Test set\\n  Loss: {:0.2f}\\n  Accuracy: {:0.2f}'.format(score[0],score[1]))"
      ],
      "execution_count": null,
      "outputs": []
    },
    {
      "cell_type": "markdown",
      "metadata": {
        "id": "LRt0igj-Lbb7"
      },
      "source": [
        "loss: 0.2408 - accuracy: 0.9253"
      ]
    },
    {
      "cell_type": "code",
      "metadata": {
        "id": "LdTH8Q9xqlpZ"
      },
      "source": [
        "Y_pred = model.predict(X_test)"
      ],
      "execution_count": null,
      "outputs": []
    },
    {
      "cell_type": "code",
      "metadata": {
        "id": "8VOBCMOnrHAA",
        "colab": {
          "base_uri": "https://localhost:8080/"
        },
        "outputId": "bde4faae-7cad-4126-a5d0-ac828dbdcf3f"
      },
      "source": [
        "Y_pred"
      ],
      "execution_count": null,
      "outputs": [
        {
          "output_type": "execute_result",
          "data": {
            "text/plain": [
              "array([[9.92766142e-01, 6.12234406e-04, 1.90342776e-03, 4.12620662e-04,\n",
              "        4.30554757e-03],\n",
              "       [9.97210205e-01, 3.52768868e-04, 2.20823567e-04, 2.90680386e-04,\n",
              "        1.92549091e-03],\n",
              "       [9.96968210e-01, 4.07065992e-04, 3.71939794e-04, 4.31063119e-04,\n",
              "        1.82171387e-03],\n",
              "       ...,\n",
              "       [4.80249408e-04, 7.17526302e-03, 9.90594387e-01, 1.51085772e-03,\n",
              "        2.39249799e-04],\n",
              "       [4.45563055e-05, 1.25556090e-03, 9.97689009e-01, 1.00536004e-03,\n",
              "        5.56531404e-06],\n",
              "       [9.97490406e-01, 1.50972965e-05, 1.13954557e-04, 5.39939268e-04,\n",
              "        1.84063020e-03]], dtype=float32)"
            ]
          },
          "metadata": {
            "tags": []
          },
          "execution_count": 29
        }
      ]
    },
    {
      "cell_type": "code",
      "metadata": {
        "id": "xcHI_b2nrRFZ"
      },
      "source": [
        "predicted_classes = np.argmax(Y_pred, axis=1)"
      ],
      "execution_count": null,
      "outputs": []
    },
    {
      "cell_type": "code",
      "metadata": {
        "id": "Y3ziWDQyrUgP",
        "colab": {
          "base_uri": "https://localhost:8080/"
        },
        "outputId": "6478bbfd-859d-4227-f5a9-9b97a2fb61e7"
      },
      "source": [
        "predicted_classes"
      ],
      "execution_count": null,
      "outputs": [
        {
          "output_type": "execute_result",
          "data": {
            "text/plain": [
              "array([0, 0, 0, ..., 2, 2, 0])"
            ]
          },
          "metadata": {
            "tags": []
          },
          "execution_count": 31
        }
      ]
    },
    {
      "cell_type": "code",
      "metadata": {
        "id": "Mh_TSRXwrWap"
      },
      "source": [
        "expected_classes =np.argmax(Y_test, axis=1)"
      ],
      "execution_count": null,
      "outputs": []
    },
    {
      "cell_type": "code",
      "metadata": {
        "id": "xkmHcaH1PEEJ"
      },
      "source": [
        "Y_pred = model.predict(X_test)\n",
        "Y_pred =np.argmax(Y_pred, axis=1)\n",
        "Y_test =np.argmax(Y_test, axis=1)"
      ],
      "execution_count": null,
      "outputs": []
    },
    {
      "cell_type": "code",
      "metadata": {
        "colab": {
          "base_uri": "https://localhost:8080/"
        },
        "id": "-uv7GFhfPIT9",
        "outputId": "53be18d8-c285-4ca5-e9f9-bae1d1df35d3"
      },
      "source": [
        "import pandas as pd\n",
        "confusion_matrix=pd.crosstab(Y_test,Y_pred,rownames=[\"Actual\"],colnames=[\"Predicted\"])\n",
        "print(confusion_matrix)\n",
        "from sklearn.metrics import classification_report\n",
        "print(classification_report(Y_test,Y_pred))"
      ],
      "execution_count": null,
      "outputs": [
        {
          "output_type": "stream",
          "text": [
            "Predicted     0     1     2     3     4\n",
            "Actual                                 \n",
            "0          5768    41    52    82   375\n",
            "1            58  5902   360   145    10\n",
            "2            64   240  5893   146    16\n",
            "3            75   166   209  5914    23\n",
            "4           211    13    30    45  6140\n",
            "              precision    recall  f1-score   support\n",
            "\n",
            "           0       0.93      0.91      0.92      6318\n",
            "           1       0.93      0.91      0.92      6475\n",
            "           2       0.90      0.93      0.91      6359\n",
            "           3       0.93      0.93      0.93      6387\n",
            "           4       0.94      0.95      0.94      6439\n",
            "\n",
            "    accuracy                           0.93     31978\n",
            "   macro avg       0.93      0.93      0.93     31978\n",
            "weighted avg       0.93      0.93      0.93     31978\n",
            "\n"
          ],
          "name": "stdout"
        }
      ]
    },
    {
      "cell_type": "markdown",
      "metadata": {
        "id": "FWhkkt2fsT9g"
      },
      "source": [
        "#Save model"
      ]
    },
    {
      "cell_type": "code",
      "metadata": {
        "id": "EmMgnhi8real"
      },
      "source": [
        "import pickle"
      ],
      "execution_count": null,
      "outputs": []
    },
    {
      "cell_type": "code",
      "metadata": {
        "id": "qwrmW80msZfu"
      },
      "source": [
        "model.save(\"intent_analysis_model.h5\")"
      ],
      "execution_count": null,
      "outputs": []
    },
    {
      "cell_type": "markdown",
      "metadata": {
        "id": "WueQWDb6RUKy"
      },
      "source": [
        "# Save Modules"
      ]
    },
    {
      "cell_type": "code",
      "metadata": {
        "id": "L86anPHVGNfy"
      },
      "source": [
        "import pickle \n",
        "with open(\"tokenizer.pickle\",\"wb\") as f :\n",
        "  pickle.dump(tokenizer,f)"
      ],
      "execution_count": null,
      "outputs": []
    },
    {
      "cell_type": "code",
      "metadata": {
        "id": "5njIRyM9HMGL"
      },
      "source": [
        "with open(\"labels.pickle\",\"wb\") as f :\n",
        "  pickle.dump(labels,f)"
      ],
      "execution_count": null,
      "outputs": []
    },
    {
      "cell_type": "code",
      "metadata": {
        "id": "w7W5hFi46VyA"
      },
      "source": [
        ""
      ],
      "execution_count": null,
      "outputs": []
    }
  ]
}