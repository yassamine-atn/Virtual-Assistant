{
  "nbformat": 4,
  "nbformat_minor": 0,
  "metadata": {
    "colab": {
      "name": "Intent_analysis.ipynb",
      "provenance": [],
      "collapsed_sections": [
        "WueQWDb6RUKy"
      ]
    },
    "kernelspec": {
      "display_name": "Python 3",
      "name": "python3"
    },
    "language_info": {
      "name": "python"
    },
    "accelerator": "GPU"
  },
  "cells": [
    {
      "cell_type": "markdown",
      "metadata": {
        "id": "9gx-oi1aTN7E"
      },
      "source": [
        "# Data"
      ]
    },
    {
      "cell_type": "code",
      "metadata": {
        "colab": {
          "base_uri": "https://localhost:8080/"
        },
        "id": "1451lDKLKUsF",
        "outputId": "02c56259-d3bf-453e-b546-5d3bbec0ab20"
      },
      "source": [
        "import numpy as np \n",
        "import pandas as pd\n",
        "import matplotlib.pyplot as plt\n",
        "import seaborn as sns\n",
        "from keras.preprocessing.text import Tokenizer\n",
        "from keras.preprocessing.sequence import pad_sequences\n",
        "from keras.models import Sequential\n",
        "from keras.layers import Dense, Embedding, LSTM, SpatialDropout1D\n",
        "from sklearn.model_selection import train_test_split\n",
        "from keras.utils.np_utils import to_categorical\n",
        "from keras.callbacks import EarlyStopping\n",
        "from keras.layers import Dropout\n",
        "import re\n",
        "from nltk.corpus import stopwords\n",
        "from nltk import word_tokenize\n",
        "import nltk\n",
        "nltk.download('stopwords')\n",
        "STOPWORDS = set(stopwords.words('english'))\n",
        "import warnings\n",
        "warnings.filterwarnings(\"ignore\")"
      ],
      "execution_count": 34,
      "outputs": [
        {
          "output_type": "stream",
          "text": [
            "[nltk_data] Downloading package stopwords to /root/nltk_data...\n",
            "[nltk_data]   Package stopwords is already up-to-date!\n"
          ],
          "name": "stdout"
        }
      ]
    },
    {
      "cell_type": "code",
      "metadata": {
        "id": "QfYotgtHTXwq"
      },
      "source": [
        "import pandas as pd \n",
        "data=pd.read_csv(\"https://www.consumerfinance.gov/data-research/consumer-complaints/search/api/v1/?date_received_max=2021-05-20&date_received_min=2018-05-20&field=all&format=csv&no_aggs=true&size=1043275\")"
      ],
      "execution_count": 35,
      "outputs": []
    },
    {
      "cell_type": "code",
      "metadata": {
        "colab": {
          "base_uri": "https://localhost:8080/",
          "height": 653
        },
        "id": "rRMENb3lZpPv",
        "outputId": "ba4062cf-1c0a-418a-d689-767c31c1ab6c"
      },
      "source": [
        "data.head()"
      ],
      "execution_count": 36,
      "outputs": [
        {
          "output_type": "execute_result",
          "data": {
            "text/html": [
              "<div>\n",
              "<style scoped>\n",
              "    .dataframe tbody tr th:only-of-type {\n",
              "        vertical-align: middle;\n",
              "    }\n",
              "\n",
              "    .dataframe tbody tr th {\n",
              "        vertical-align: top;\n",
              "    }\n",
              "\n",
              "    .dataframe thead th {\n",
              "        text-align: right;\n",
              "    }\n",
              "</style>\n",
              "<table border=\"1\" class=\"dataframe\">\n",
              "  <thead>\n",
              "    <tr style=\"text-align: right;\">\n",
              "      <th></th>\n",
              "      <th>Date received</th>\n",
              "      <th>Product</th>\n",
              "      <th>Sub-product</th>\n",
              "      <th>Issue</th>\n",
              "      <th>Sub-issue</th>\n",
              "      <th>Consumer complaint narrative</th>\n",
              "      <th>Company public response</th>\n",
              "      <th>Company</th>\n",
              "      <th>State</th>\n",
              "      <th>ZIP code</th>\n",
              "      <th>Tags</th>\n",
              "      <th>Consumer consent provided?</th>\n",
              "      <th>Submitted via</th>\n",
              "      <th>Date sent to company</th>\n",
              "      <th>Company response to consumer</th>\n",
              "      <th>Timely response?</th>\n",
              "      <th>Consumer disputed?</th>\n",
              "      <th>Complaint ID</th>\n",
              "    </tr>\n",
              "  </thead>\n",
              "  <tbody>\n",
              "    <tr>\n",
              "      <th>0</th>\n",
              "      <td>07/10/19</td>\n",
              "      <td>Credit reporting, credit repair services, or o...</td>\n",
              "      <td>Credit reporting</td>\n",
              "      <td>Incorrect information on your report</td>\n",
              "      <td>Information belongs to someone else</td>\n",
              "      <td>NaN</td>\n",
              "      <td>Company has responded to the consumer and the ...</td>\n",
              "      <td>TRANSUNION INTERMEDIATE HOLDINGS, INC.</td>\n",
              "      <td>CA</td>\n",
              "      <td>90045</td>\n",
              "      <td>None</td>\n",
              "      <td>Consent not provided</td>\n",
              "      <td>Web</td>\n",
              "      <td>07/10/19</td>\n",
              "      <td>Closed with explanation</td>\n",
              "      <td>Yes</td>\n",
              "      <td>NaN</td>\n",
              "      <td>3301964</td>\n",
              "    </tr>\n",
              "    <tr>\n",
              "      <th>1</th>\n",
              "      <td>05/29/19</td>\n",
              "      <td>Money transfer, virtual currency, or money ser...</td>\n",
              "      <td>Mobile or digital wallet</td>\n",
              "      <td>Unauthorized transactions or other transaction...</td>\n",
              "      <td>None</td>\n",
              "      <td>NaN</td>\n",
              "      <td>Company has responded to the consumer and the ...</td>\n",
              "      <td>SUNTRUST BANKS, INC.</td>\n",
              "      <td>GA</td>\n",
              "      <td>30650</td>\n",
              "      <td>None</td>\n",
              "      <td>NaN</td>\n",
              "      <td>Referral</td>\n",
              "      <td>06/07/19</td>\n",
              "      <td>Closed with explanation</td>\n",
              "      <td>Yes</td>\n",
              "      <td>NaN</td>\n",
              "      <td>3258976</td>\n",
              "    </tr>\n",
              "    <tr>\n",
              "      <th>2</th>\n",
              "      <td>05/23/19</td>\n",
              "      <td>Debt collection</td>\n",
              "      <td>Medical debt</td>\n",
              "      <td>Attempts to collect debt not owed</td>\n",
              "      <td>Debt is not yours</td>\n",
              "      <td>NaN</td>\n",
              "      <td>None</td>\n",
              "      <td>Omega RMS, LLC</td>\n",
              "      <td>MO</td>\n",
              "      <td>64128</td>\n",
              "      <td>Servicemember</td>\n",
              "      <td>Consent not provided</td>\n",
              "      <td>Web</td>\n",
              "      <td>05/23/19</td>\n",
              "      <td>Closed with explanation</td>\n",
              "      <td>Yes</td>\n",
              "      <td>NaN</td>\n",
              "      <td>3251211</td>\n",
              "    </tr>\n",
              "    <tr>\n",
              "      <th>3</th>\n",
              "      <td>04/07/19</td>\n",
              "      <td>Credit reporting, credit repair services, or o...</td>\n",
              "      <td>Credit reporting</td>\n",
              "      <td>Incorrect information on your report</td>\n",
              "      <td>Information belongs to someone else</td>\n",
              "      <td>NaN</td>\n",
              "      <td>Company has responded to the consumer and the ...</td>\n",
              "      <td>Experian Information Solutions Inc.</td>\n",
              "      <td>FL</td>\n",
              "      <td>331XX</td>\n",
              "      <td>None</td>\n",
              "      <td>Other</td>\n",
              "      <td>Web</td>\n",
              "      <td>04/07/19</td>\n",
              "      <td>Closed with non-monetary relief</td>\n",
              "      <td>Yes</td>\n",
              "      <td>NaN</td>\n",
              "      <td>3204372</td>\n",
              "    </tr>\n",
              "    <tr>\n",
              "      <th>4</th>\n",
              "      <td>04/04/19</td>\n",
              "      <td>Credit reporting, credit repair services, or o...</td>\n",
              "      <td>Credit reporting</td>\n",
              "      <td>Improper use of your report</td>\n",
              "      <td>Credit inquiries on your report that you don't...</td>\n",
              "      <td>I have noticed that XXXX XXXX XXXX have placed...</td>\n",
              "      <td>None</td>\n",
              "      <td>EQUIFAX, INC.</td>\n",
              "      <td>MO</td>\n",
              "      <td>630XX</td>\n",
              "      <td>None</td>\n",
              "      <td>Consent provided</td>\n",
              "      <td>Web</td>\n",
              "      <td>04/04/19</td>\n",
              "      <td>Closed with explanation</td>\n",
              "      <td>Yes</td>\n",
              "      <td>NaN</td>\n",
              "      <td>3201056</td>\n",
              "    </tr>\n",
              "  </tbody>\n",
              "</table>\n",
              "</div>"
            ],
            "text/plain": [
              "  Date received  ... Complaint ID\n",
              "0      07/10/19  ...      3301964\n",
              "1      05/29/19  ...      3258976\n",
              "2      05/23/19  ...      3251211\n",
              "3      04/07/19  ...      3204372\n",
              "4      04/04/19  ...      3201056\n",
              "\n",
              "[5 rows x 18 columns]"
            ]
          },
          "metadata": {
            "tags": []
          },
          "execution_count": 36
        }
      ]
    },
    {
      "cell_type": "code",
      "metadata": {
        "colab": {
          "base_uri": "https://localhost:8080/"
        },
        "id": "us1NbqvGTg0P",
        "outputId": "2ab9498d-8b6e-423f-d083-7e2676d05d06"
      },
      "source": [
        "data.info()"
      ],
      "execution_count": 37,
      "outputs": [
        {
          "output_type": "stream",
          "text": [
            "<class 'pandas.core.frame.DataFrame'>\n",
            "RangeIndex: 1043079 entries, 0 to 1043078\n",
            "Data columns (total 18 columns):\n",
            " #   Column                        Non-Null Count    Dtype  \n",
            "---  ------                        --------------    -----  \n",
            " 0   Date received                 1043079 non-null  object \n",
            " 1   Product                       1043079 non-null  object \n",
            " 2   Sub-product                   1043079 non-null  object \n",
            " 3   Issue                         1043079 non-null  object \n",
            " 4   Sub-issue                     1043079 non-null  object \n",
            " 5   Consumer complaint narrative  420617 non-null   object \n",
            " 6   Company public response       1043079 non-null  object \n",
            " 7   Company                       1043079 non-null  object \n",
            " 8   State                         1043079 non-null  object \n",
            " 9   ZIP code                      1043079 non-null  object \n",
            " 10  Tags                          1043079 non-null  object \n",
            " 11  Consumer consent provided?    906221 non-null   object \n",
            " 12  Submitted via                 1043079 non-null  object \n",
            " 13  Date sent to company          1043079 non-null  object \n",
            " 14  Company response to consumer  1043079 non-null  object \n",
            " 15  Timely response?              1043079 non-null  object \n",
            " 16  Consumer disputed?            0 non-null        float64\n",
            " 17  Complaint ID                  1043079 non-null  int64  \n",
            "dtypes: float64(1), int64(1), object(16)\n",
            "memory usage: 143.2+ MB\n"
          ],
          "name": "stdout"
        }
      ]
    },
    {
      "cell_type": "markdown",
      "metadata": {
        "id": "DTrrGszyNL9l"
      },
      "source": [
        "we only keep Product and Customer complaint narrative "
      ]
    },
    {
      "cell_type": "code",
      "metadata": {
        "id": "Cj3O6x2_TlTB"
      },
      "source": [
        "data = data[[\"Product\",\"Consumer complaint narrative\"]]"
      ],
      "execution_count": 38,
      "outputs": []
    },
    {
      "cell_type": "code",
      "metadata": {
        "colab": {
          "base_uri": "https://localhost:8080/"
        },
        "id": "VrOes54nURPp",
        "outputId": "e7ac5662-a0c7-47d5-ed9d-3e9379983760"
      },
      "source": [
        "data.info()"
      ],
      "execution_count": 39,
      "outputs": [
        {
          "output_type": "stream",
          "text": [
            "<class 'pandas.core.frame.DataFrame'>\n",
            "RangeIndex: 1043079 entries, 0 to 1043078\n",
            "Data columns (total 2 columns):\n",
            " #   Column                        Non-Null Count    Dtype \n",
            "---  ------                        --------------    ----- \n",
            " 0   Product                       1043079 non-null  object\n",
            " 1   Consumer complaint narrative  420617 non-null   object\n",
            "dtypes: object(2)\n",
            "memory usage: 15.9+ MB\n"
          ],
          "name": "stdout"
        }
      ]
    },
    {
      "cell_type": "code",
      "metadata": {
        "id": "viJnEKf6dI0l"
      },
      "source": [
        "data.dropna(how=\"any\",inplace=True,axis=0)"
      ],
      "execution_count": 40,
      "outputs": []
    },
    {
      "cell_type": "code",
      "metadata": {
        "colab": {
          "base_uri": "https://localhost:8080/"
        },
        "id": "WkFcrympdQ8T",
        "outputId": "6bac2598-0f0f-4a52-cf3b-d00b5a4205d2"
      },
      "source": [
        "data.info()"
      ],
      "execution_count": 41,
      "outputs": [
        {
          "output_type": "stream",
          "text": [
            "<class 'pandas.core.frame.DataFrame'>\n",
            "Int64Index: 420617 entries, 4 to 1043067\n",
            "Data columns (total 2 columns):\n",
            " #   Column                        Non-Null Count   Dtype \n",
            "---  ------                        --------------   ----- \n",
            " 0   Product                       420617 non-null  object\n",
            " 1   Consumer complaint narrative  420617 non-null  object\n",
            "dtypes: object(2)\n",
            "memory usage: 9.6+ MB\n"
          ],
          "name": "stdout"
        }
      ]
    },
    {
      "cell_type": "code",
      "metadata": {
        "colab": {
          "base_uri": "https://localhost:8080/"
        },
        "id": "_QMXFMONUm_S",
        "outputId": "9cf4f41c-bf98-4c1a-cd20-87205a169b09"
      },
      "source": [
        "data.Product.value_counts()"
      ],
      "execution_count": 42,
      "outputs": [
        {
          "output_type": "execute_result",
          "data": {
            "text/plain": [
              "Credit reporting, credit repair services, or other personal consumer reports    210955\n",
              "Debt collection                                                                  73443\n",
              "Credit card or prepaid card                                                      41245\n",
              "Mortgage                                                                         32720\n",
              "Checking or savings account                                                      24392\n",
              "Money transfer, virtual currency, or money service                               10948\n",
              "Student loan                                                                     10347\n",
              "Vehicle loan or lease                                                             9794\n",
              "Payday loan, title loan, or personal loan                                         6773\n",
              "Name: Product, dtype: int64"
            ]
          },
          "metadata": {
            "tags": []
          },
          "execution_count": 42
        }
      ]
    },
    {
      "cell_type": "markdown",
      "metadata": {
        "id": "4FIfbbSEWZoh"
      },
      "source": [
        "# Preprocessing"
      ]
    },
    {
      "cell_type": "code",
      "metadata": {
        "id": "HDarM5d_WuBa"
      },
      "source": [
        "data = data.reset_index(drop=True)"
      ],
      "execution_count": 43,
      "outputs": []
    },
    {
      "cell_type": "code",
      "metadata": {
        "colab": {
          "base_uri": "https://localhost:8080/",
          "height": 399
        },
        "id": "Jnc7rnXGWwLE",
        "outputId": "5f7d0fa8-7b64-4849-a383-0f89af474785"
      },
      "source": [
        "data"
      ],
      "execution_count": 44,
      "outputs": [
        {
          "output_type": "execute_result",
          "data": {
            "text/html": [
              "<div>\n",
              "<style scoped>\n",
              "    .dataframe tbody tr th:only-of-type {\n",
              "        vertical-align: middle;\n",
              "    }\n",
              "\n",
              "    .dataframe tbody tr th {\n",
              "        vertical-align: top;\n",
              "    }\n",
              "\n",
              "    .dataframe thead th {\n",
              "        text-align: right;\n",
              "    }\n",
              "</style>\n",
              "<table border=\"1\" class=\"dataframe\">\n",
              "  <thead>\n",
              "    <tr style=\"text-align: right;\">\n",
              "      <th></th>\n",
              "      <th>Product</th>\n",
              "      <th>Consumer complaint narrative</th>\n",
              "    </tr>\n",
              "  </thead>\n",
              "  <tbody>\n",
              "    <tr>\n",
              "      <th>0</th>\n",
              "      <td>Credit reporting, credit repair services, or o...</td>\n",
              "      <td>I have noticed that XXXX XXXX XXXX have placed...</td>\n",
              "    </tr>\n",
              "    <tr>\n",
              "      <th>1</th>\n",
              "      <td>Credit reporting, credit repair services, or o...</td>\n",
              "      <td>They refuse to investigate dispute because the...</td>\n",
              "    </tr>\n",
              "    <tr>\n",
              "      <th>2</th>\n",
              "      <td>Credit reporting, credit repair services, or o...</td>\n",
              "      <td>The following companies ran unauthorized credi...</td>\n",
              "    </tr>\n",
              "    <tr>\n",
              "      <th>3</th>\n",
              "      <td>Credit card or prepaid card</td>\n",
              "      <td>On XX/XX/XXXX, I applied for a Citi XXXX Visa ...</td>\n",
              "    </tr>\n",
              "    <tr>\n",
              "      <th>4</th>\n",
              "      <td>Credit reporting, credit repair services, or o...</td>\n",
              "      <td>XXXX XXXX XXXX pulled my credit twice with in ...</td>\n",
              "    </tr>\n",
              "    <tr>\n",
              "      <th>...</th>\n",
              "      <td>...</td>\n",
              "      <td>...</td>\n",
              "    </tr>\n",
              "    <tr>\n",
              "      <th>420612</th>\n",
              "      <td>Credit card or prepaid card</td>\n",
              "      <td>\" I have an overcharge of {$250.00} on my curr...</td>\n",
              "    </tr>\n",
              "    <tr>\n",
              "      <th>420613</th>\n",
              "      <td>Debt collection</td>\n",
              "      <td>I purchased a XXXX XXXX from a person who show...</td>\n",
              "    </tr>\n",
              "    <tr>\n",
              "      <th>420614</th>\n",
              "      <td>Credit reporting, credit repair services, or o...</td>\n",
              "      <td>On XX/XX/XXXX an agreement was made between Ko...</td>\n",
              "    </tr>\n",
              "    <tr>\n",
              "      <th>420615</th>\n",
              "      <td>Debt collection</td>\n",
              "      <td>National Check burea and XXXX XXXX XXXX need t...</td>\n",
              "    </tr>\n",
              "    <tr>\n",
              "      <th>420616</th>\n",
              "      <td>Debt collection</td>\n",
              "      <td>I received a letter in the mail on the XX/XX/2...</td>\n",
              "    </tr>\n",
              "  </tbody>\n",
              "</table>\n",
              "<p>420617 rows × 2 columns</p>\n",
              "</div>"
            ],
            "text/plain": [
              "                                                  Product                       Consumer complaint narrative\n",
              "0       Credit reporting, credit repair services, or o...  I have noticed that XXXX XXXX XXXX have placed...\n",
              "1       Credit reporting, credit repair services, or o...  They refuse to investigate dispute because the...\n",
              "2       Credit reporting, credit repair services, or o...  The following companies ran unauthorized credi...\n",
              "3                             Credit card or prepaid card  On XX/XX/XXXX, I applied for a Citi XXXX Visa ...\n",
              "4       Credit reporting, credit repair services, or o...  XXXX XXXX XXXX pulled my credit twice with in ...\n",
              "...                                                   ...                                                ...\n",
              "420612                        Credit card or prepaid card  \" I have an overcharge of {$250.00} on my curr...\n",
              "420613                                    Debt collection  I purchased a XXXX XXXX from a person who show...\n",
              "420614  Credit reporting, credit repair services, or o...  On XX/XX/XXXX an agreement was made between Ko...\n",
              "420615                                    Debt collection  National Check burea and XXXX XXXX XXXX need t...\n",
              "420616                                    Debt collection  I received a letter in the mail on the XX/XX/2...\n",
              "\n",
              "[420617 rows x 2 columns]"
            ]
          },
          "metadata": {
            "tags": []
          },
          "execution_count": 44
        }
      ]
    },
    {
      "cell_type": "code",
      "metadata": {
        "colab": {
          "base_uri": "https://localhost:8080/",
          "height": 583
        },
        "id": "KCu9OPhTWxyP",
        "outputId": "6175b7c2-a808-4c9c-f19e-38bc7e8a1fb8"
      },
      "source": [
        "# we visualize the new distibution of our dataset\n",
        "labels = list(data.Product.value_counts().index)\n",
        "sizes = list(data.Product.value_counts().values)\n",
        "colors = ['gold','yellowgreen', 'lightskyblue', 'lightcoral', 'red', 'purple', '#f280de', 'orange', 'green']\n",
        "explode = (0.1, 0, 0, 0,0,0,0,0,0)  # explode 1st slice\n",
        "\n",
        "# Plot\n",
        "plt.figure(figsize=(10,10))\n",
        "plt.pie(sizes, explode=explode, labels=labels, colors=colors,\n",
        "autopct='%1.1f%%', shadow=True, startangle=140, wedgeprops={\"edgecolor\":\"white\"})\n",
        "plt.axis('equal')\n",
        "plt.show()"
      ],
      "execution_count": 45,
      "outputs": [
        {
          "output_type": "display_data",
          "data": {
            "image/png": "[encoded data removed]",
            "text/plain": [
              "<Figure size 720x720 with 1 Axes>"
            ]
          },
          "metadata": {
            "tags": []
          }
        }
      ]
    },
    {
      "cell_type": "code",
      "metadata": {
        "id": "K-ZKdrrgL4EG"
      },
      "source": [
        "#we define a function that displays the custumer complaint narrative to have a better idea of text in  order to know how to process it \n",
        "def complaint_product(indx,data):\n",
        "  complaint = data['Consumer complaint narrative'][indx]\n",
        "  product = data['Product'][indx]\n",
        "  print(complaint)\n",
        "  print('------------------------------')\n",
        "  print(\"Product : \",product)"
      ],
      "execution_count": 46,
      "outputs": []
    },
    {
      "cell_type": "code",
      "metadata": {
        "colab": {
          "base_uri": "https://localhost:8080/"
        },
        "id": "zvicgkXNL7ww",
        "outputId": "23822320-374e-4608-c190-c4d1459b3aed"
      },
      "source": [
        "complaint_product(238, data)"
      ],
      "execution_count": 47,
      "outputs": [
        {
          "output_type": "stream",
          "text": [
            "XXXX XXXX XXXX XXXX is reporting a debt on my credit file that I do not owe. This debt has been paid, and I do not owe this debt and needs to be removed off of my credit.\n",
            "------------------------------\n",
            "Product :  Credit reporting, credit repair services, or other personal consumer reports\n"
          ],
          "name": "stdout"
        }
      ]
    },
    {
      "cell_type": "code",
      "metadata": {
        "id": "FcFv5de9L9wO"
      },
      "source": [
        "import string \n",
        "#the complaint narrative contains some symboles (XXXXX) to hide the confidential informations such as amount of loan , number of credit card \n",
        "#we will delete them \n",
        "#we write a funcion to preprocess customer complaint narrative\n",
        "def clean_text(text):\n",
        "    '''Make text uppercase(this gonna be the output from speech recognition model which is in uppercase format), remove text in square brackets, remove punctuation, remove words containing numbers, remove stop words and Xs.'''\n",
        "    text = text.upper()\n",
        "    text = re.sub('\\[.*?\\]', '', text)\n",
        "    text = re.sub('[%s]' % re.escape(string.punctuation), '', text)\n",
        "    text = re.sub('\\w*\\d\\w*', '', text)\n",
        "    text = re.sub('\\n', '', text)\n",
        "    text = text.replace('X', '')\n",
        "    text = ' '.join(word for word in text.split() if word not in STOPWORDS)\n",
        "    return text"
      ],
      "execution_count": 48,
      "outputs": []
    },
    {
      "cell_type": "code",
      "metadata": {
        "id": "pQWzVmwQMC-1"
      },
      "source": [
        "data['Consumer complaint narrative']=data['Consumer complaint narrative'].apply(clean_text)"
      ],
      "execution_count": 49,
      "outputs": []
    },
    {
      "cell_type": "code",
      "metadata": {
        "colab": {
          "base_uri": "https://localhost:8080/",
          "height": 399
        },
        "id": "gY7QSCyGMF1_",
        "outputId": "5c113181-de07-4e07-d7bd-8f44e3dcaf41"
      },
      "source": [
        "data"
      ],
      "execution_count": 50,
      "outputs": [
        {
          "output_type": "execute_result",
          "data": {
            "text/html": [
              "<div>\n",
              "<style scoped>\n",
              "    .dataframe tbody tr th:only-of-type {\n",
              "        vertical-align: middle;\n",
              "    }\n",
              "\n",
              "    .dataframe tbody tr th {\n",
              "        vertical-align: top;\n",
              "    }\n",
              "\n",
              "    .dataframe thead th {\n",
              "        text-align: right;\n",
              "    }\n",
              "</style>\n",
              "<table border=\"1\" class=\"dataframe\">\n",
              "  <thead>\n",
              "    <tr style=\"text-align: right;\">\n",
              "      <th></th>\n",
              "      <th>Product</th>\n",
              "      <th>Consumer complaint narrative</th>\n",
              "    </tr>\n",
              "  </thead>\n",
              "  <tbody>\n",
              "    <tr>\n",
              "      <th>0</th>\n",
              "      <td>Credit reporting, credit repair services, or o...</td>\n",
              "      <td>I HAVE NOTICED THAT HAVE PLACED AN INQUIRY ON ...</td>\n",
              "    </tr>\n",
              "    <tr>\n",
              "      <th>1</th>\n",
              "      <td>Credit reporting, credit repair services, or o...</td>\n",
              "      <td>THEY REFUSE TO INVESTIGATE DISPUTE BECAUSE THE...</td>\n",
              "    </tr>\n",
              "    <tr>\n",
              "      <th>2</th>\n",
              "      <td>Credit reporting, credit repair services, or o...</td>\n",
              "      <td>THE FOLLOWING COMPANIES RAN UNAUTHORIZED CREDI...</td>\n",
              "    </tr>\n",
              "    <tr>\n",
              "      <th>3</th>\n",
              "      <td>Credit card or prepaid card</td>\n",
              "      <td>ON I APPLIED FOR A CITI VISA CARD IN REVIEWING...</td>\n",
              "    </tr>\n",
              "    <tr>\n",
              "      <th>4</th>\n",
              "      <td>Credit reporting, credit repair services, or o...</td>\n",
              "      <td>PULLED MY CREDIT TWICE WITH IN A DAY PERIOD WI...</td>\n",
              "    </tr>\n",
              "    <tr>\n",
              "      <th>...</th>\n",
              "      <td>...</td>\n",
              "      <td>...</td>\n",
              "    </tr>\n",
              "    <tr>\n",
              "      <th>420612</th>\n",
              "      <td>Credit card or prepaid card</td>\n",
              "      <td>I HAVE AN OVERCHARGE OF ON MY CURRENT BALANCE ...</td>\n",
              "    </tr>\n",
              "    <tr>\n",
              "      <th>420613</th>\n",
              "      <td>Debt collection</td>\n",
              "      <td>I PURCHASED A FROM A PERSON WHO SHOWED UP AT M...</td>\n",
              "    </tr>\n",
              "    <tr>\n",
              "      <th>420614</th>\n",
              "      <td>Credit reporting, credit repair services, or o...</td>\n",
              "      <td>ON AN AGREEMENT WAS MADE BETWEEN KOHL S AND MY...</td>\n",
              "    </tr>\n",
              "    <tr>\n",
              "      <th>420615</th>\n",
              "      <td>Debt collection</td>\n",
              "      <td>NATIONAL CHECK BUREA AND NEED TO BE PUT OUT OF...</td>\n",
              "    </tr>\n",
              "    <tr>\n",
              "      <th>420616</th>\n",
              "      <td>Debt collection</td>\n",
              "      <td>I RECEIVED A LETTER IN THE MAIL ON THE IT IS D...</td>\n",
              "    </tr>\n",
              "  </tbody>\n",
              "</table>\n",
              "<p>420617 rows × 2 columns</p>\n",
              "</div>"
            ],
            "text/plain": [
              "                                                  Product                       Consumer complaint narrative\n",
              "0       Credit reporting, credit repair services, or o...  I HAVE NOTICED THAT HAVE PLACED AN INQUIRY ON ...\n",
              "1       Credit reporting, credit repair services, or o...  THEY REFUSE TO INVESTIGATE DISPUTE BECAUSE THE...\n",
              "2       Credit reporting, credit repair services, or o...  THE FOLLOWING COMPANIES RAN UNAUTHORIZED CREDI...\n",
              "3                             Credit card or prepaid card  ON I APPLIED FOR A CITI VISA CARD IN REVIEWING...\n",
              "4       Credit reporting, credit repair services, or o...  PULLED MY CREDIT TWICE WITH IN A DAY PERIOD WI...\n",
              "...                                                   ...                                                ...\n",
              "420612                        Credit card or prepaid card  I HAVE AN OVERCHARGE OF ON MY CURRENT BALANCE ...\n",
              "420613                                    Debt collection  I PURCHASED A FROM A PERSON WHO SHOWED UP AT M...\n",
              "420614  Credit reporting, credit repair services, or o...  ON AN AGREEMENT WAS MADE BETWEEN KOHL S AND MY...\n",
              "420615                                    Debt collection  NATIONAL CHECK BUREA AND NEED TO BE PUT OUT OF...\n",
              "420616                                    Debt collection  I RECEIVED A LETTER IN THE MAIL ON THE IT IS D...\n",
              "\n",
              "[420617 rows x 2 columns]"
            ]
          },
          "metadata": {
            "tags": []
          },
          "execution_count": 50
        }
      ]
    },
    {
      "cell_type": "code",
      "metadata": {
        "colab": {
          "base_uri": "https://localhost:8080/"
        },
        "id": "FkJsVxZOMI9s",
        "outputId": "0ddcacb3-78ac-4ad7-aa64-5e0e501244e5"
      },
      "source": [
        "complaint_product(238, data)"
      ],
      "execution_count": 51,
      "outputs": [
        {
          "output_type": "stream",
          "text": [
            "IS REPORTING A DEBT ON MY CREDIT FILE THAT I DO NOT OWE THIS DEBT HAS BEEN PAID AND I DO NOT OWE THIS DEBT AND NEEDS TO BE REMOVED OFF OF MY CREDIT\n",
            "------------------------------\n",
            "Product :  Credit reporting, credit repair services, or other personal consumer reports\n"
          ],
          "name": "stdout"
        }
      ]
    },
    {
      "cell_type": "code",
      "metadata": {
        "colab": {
          "base_uri": "https://localhost:8080/"
        },
        "id": "RjyTAmeAML_W",
        "outputId": "8656b38c-1efe-4854-d7fc-a6d38cf01cd6"
      },
      "source": [
        "number_words = [len(complaints.split(' ')) for complaints in data[\"Consumer complaint narrative\"]]\n",
        "len(number_words)"
      ],
      "execution_count": 52,
      "outputs": [
        {
          "output_type": "execute_result",
          "data": {
            "text/plain": [
              "420617"
            ]
          },
          "metadata": {
            "tags": []
          },
          "execution_count": 52
        }
      ]
    },
    {
      "cell_type": "markdown",
      "metadata": {
        "id": "BG510I2kMsmL"
      },
      "source": [
        "#  Context Classifiction"
      ]
    },
    {
      "cell_type": "code",
      "metadata": {
        "colab": {
          "base_uri": "https://localhost:8080/"
        },
        "id": "BqsF606JMapn",
        "outputId": "72d4a2c2-33d9-444b-e691-54dc3680eac2"
      },
      "source": [
        "# The maximum number of words to be used. (most frequent)\n",
        "MAX_NB_WORDS = 50000\n",
        "# Max number of words in each complaint.\n",
        "MAX_SEQUENCE_LENGTH = 250\n",
        "# ech word in the embedding spece is a vector of dimentiality = 100 \n",
        "EMBEDDING_DIM = 100\n",
        "\n",
        "tokenizer = Tokenizer(num_words=MAX_NB_WORDS)\n",
        "tokenizer.fit_on_texts(data['Consumer complaint narrative'].values)\n",
        "word_index = tokenizer.word_index\n",
        "print('Found %s unique tokens.' % len(word_index))"
      ],
      "execution_count": 53,
      "outputs": [
        {
          "output_type": "stream",
          "text": [
            "Found 141340 unique tokens.\n"
          ],
          "name": "stdout"
        }
      ]
    },
    {
      "cell_type": "code",
      "metadata": {
        "colab": {
          "base_uri": "https://localhost:8080/"
        },
        "id": "QEFvYUoXM1rR",
        "outputId": "4f180b52-0151-4cd8-8e16-0088f874ac28"
      },
      "source": [
        "#40518 unique words in the text corpus\n",
        "word_index"
      ],
      "execution_count": 64,
      "outputs": [
        {
          "output_type": "execute_result",
          "data": {
            "text/plain": [
              "{'the': 1,\n",
              " 'i': 2,\n",
              " 'to': 3,\n",
              " 'and': 4,\n",
              " 'my': 5,\n",
              " 'a': 6,\n",
              " 'of': 7,\n",
              " 'that': 8,\n",
              " 'on': 9,\n",
              " 'was': 10,\n",
              " 'in': 11,\n",
              " 'this': 12,\n",
              " 'not': 13,\n",
              " 'have': 14,\n",
              " 'credit': 15,\n",
              " 'they': 16,\n",
              " 'is': 17,\n",
              " 'for': 18,\n",
              " 'me': 19,\n",
              " 'with': 20,\n",
              " 'account': 21,\n",
              " 'it': 22,\n",
              " 'from': 23,\n",
              " 'as': 24,\n",
              " 'be': 25,\n",
              " 'report': 26,\n",
              " 'or': 27,\n",
              " 'information': 28,\n",
              " 'are': 29,\n",
              " 'by': 30,\n",
              " 'had': 31,\n",
              " 'an': 32,\n",
              " 'been': 33,\n",
              " 'them': 34,\n",
              " 'any': 35,\n",
              " 'no': 36,\n",
              " 'you': 37,\n",
              " 'has': 38,\n",
              " 'payment': 39,\n",
              " 'all': 40,\n",
              " 'reporting': 41,\n",
              " 'would': 42,\n",
              " 'at': 43,\n",
              " 'but': 44,\n",
              " 'am': 45,\n",
              " 'debt': 46,\n",
              " 'which': 47,\n",
              " 'loan': 48,\n",
              " 'received': 49,\n",
              " 'company': 50,\n",
              " 'bank': 51,\n",
              " 'did': 52,\n",
              " 'accounts': 53,\n",
              " 'we': 54,\n",
              " 'card': 55,\n",
              " 'told': 56,\n",
              " 'were': 57,\n",
              " 'their': 58,\n",
              " 'if': 59,\n",
              " 'these': 60,\n",
              " 'do': 61,\n",
              " 'when': 62,\n",
              " 'so': 63,\n",
              " 'never': 64,\n",
              " 'sent': 65,\n",
              " 'time': 66,\n",
              " 'consumer': 67,\n",
              " 'called': 68,\n",
              " 'because': 69,\n",
              " 'will': 70,\n",
              " 'also': 71,\n",
              " 'after': 72,\n",
              " 'letter': 73,\n",
              " 'there': 74,\n",
              " 'out': 75,\n",
              " 'payments': 76,\n",
              " 'can': 77,\n",
              " 'back': 78,\n",
              " 'days': 79,\n",
              " 'one': 80,\n",
              " 'your': 81,\n",
              " 'due': 82,\n",
              " 'get': 83,\n",
              " 'made': 84,\n",
              " 'number': 85,\n",
              " 'paid': 86,\n",
              " 'balance': 87,\n",
              " 'about': 88,\n",
              " 'call': 89,\n",
              " 'amount': 90,\n",
              " 'said': 91,\n",
              " 'collection': 92,\n",
              " 'dispute': 93,\n",
              " 'please': 94,\n",
              " 'being': 95,\n",
              " 'late': 96,\n",
              " 'pay': 97,\n",
              " 'up': 98,\n",
              " 'then': 99,\n",
              " 'she': 100,\n",
              " 'over': 101,\n",
              " 'money': 102,\n",
              " 'date': 103,\n",
              " 'now': 104,\n",
              " 'he': 105,\n",
              " 'what': 106,\n",
              " 'mortgage': 107,\n",
              " 'still': 108,\n",
              " 'phone': 109,\n",
              " 'only': 110,\n",
              " 'file': 111,\n",
              " 'could': 112,\n",
              " 's': 113,\n",
              " 'again': 114,\n",
              " 'identity': 115,\n",
              " 'request': 116,\n",
              " 'since': 117,\n",
              " 'our': 118,\n",
              " 'should': 119,\n",
              " 'asked': 120,\n",
              " 'name': 121,\n",
              " 'even': 122,\n",
              " 'off': 123,\n",
              " 'under': 124,\n",
              " 'reported': 125,\n",
              " 'removed': 126,\n",
              " 'who': 127,\n",
              " 'agency': 128,\n",
              " 'other': 129,\n",
              " 'contacted': 130,\n",
              " 'remove': 131,\n",
              " 'bureaus': 132,\n",
              " 'theft': 133,\n",
              " 'complaint': 134,\n",
              " 'make': 135,\n",
              " 'fraudulent': 136,\n",
              " 'through': 137,\n",
              " 'check': 138,\n",
              " 'times': 139,\n",
              " 'proof': 140,\n",
              " 'provide': 141,\n",
              " 'address': 142,\n",
              " 'us': 143,\n",
              " 'how': 144,\n",
              " 'email': 145,\n",
              " 'service': 146,\n",
              " 'years': 147,\n",
              " 'see': 148,\n",
              " 'its': 149,\n",
              " 'closed': 150,\n",
              " 'new': 151,\n",
              " 'opened': 152,\n",
              " 'help': 153,\n",
              " 'same': 154,\n",
              " 'months': 155,\n",
              " 'claim': 156,\n",
              " 'more': 157,\n",
              " 'need': 158,\n",
              " 'know': 159,\n",
              " 'into': 160,\n",
              " 'fraud': 161,\n",
              " 'section': 162,\n",
              " 'day': 163,\n",
              " 'just': 164,\n",
              " 'month': 165,\n",
              " 'requested': 166,\n",
              " 'contact': 167,\n",
              " 'several': 168,\n",
              " 'act': 169,\n",
              " 'original': 170,\n",
              " 'why': 171,\n",
              " 'like': 172,\n",
              " 'interest': 173,\n",
              " 'without': 174,\n",
              " 'home': 175,\n",
              " 'stated': 176,\n",
              " 'charge': 177,\n",
              " 'first': 178,\n",
              " 'provided': 179,\n",
              " 'response': 180,\n",
              " 'issue': 181,\n",
              " 'full': 182,\n",
              " 'send': 183,\n",
              " 'customer': 184,\n",
              " 'im': 185,\n",
              " 'another': 186,\n",
              " 'well': 187,\n",
              " 'two': 188,\n",
              " 'statement': 189,\n",
              " 'inaccurate': 190,\n",
              " 'business': 191,\n",
              " 'items': 192,\n",
              " 'equifa': 193,\n",
              " 'inquiry': 194,\n",
              " 'dont': 195,\n",
              " 'score': 196,\n",
              " 'last': 197,\n",
              " 'her': 198,\n",
              " 'immediately': 199,\n",
              " 'copy': 200,\n",
              " 'fair': 201,\n",
              " 'eperian': 202,\n",
              " 'law': 203,\n",
              " 'reports': 204,\n",
              " 'such': 205,\n",
              " 'filed': 206,\n",
              " 'mail': 207,\n",
              " 'creditor': 208,\n",
              " 'documents': 209,\n",
              " 'than': 210,\n",
              " 'however': 211,\n",
              " 'disputed': 212,\n",
              " 'take': 213,\n",
              " 'receive': 214,\n",
              " 'charges': 215,\n",
              " 'want': 216,\n",
              " 'until': 217,\n",
              " 'investigation': 218,\n",
              " 'before': 219,\n",
              " 'within': 220,\n",
              " 'may': 221,\n",
              " 'financial': 222,\n",
              " 'notice': 223,\n",
              " 'able': 224,\n",
              " 'some': 225,\n",
              " 'fcra': 226,\n",
              " 'following': 227,\n",
              " 'didnt': 228,\n",
              " 'attached': 229,\n",
              " 'very': 230,\n",
              " 'tried': 231,\n",
              " 'ive': 232,\n",
              " 'bill': 233,\n",
              " 'person': 234,\n",
              " 'spoke': 235,\n",
              " 'got': 236,\n",
              " 'stating': 237,\n",
              " 'went': 238,\n",
              " 'each': 239,\n",
              " 'trying': 240,\n",
              " 'used': 241,\n",
              " 'past': 242,\n",
              " 'fees': 243,\n",
              " 'process': 244,\n",
              " 'yet': 245,\n",
              " 'both': 246,\n",
              " 'funds': 247,\n",
              " 'chase': 248,\n",
              " 'online': 249,\n",
              " 'correct': 250,\n",
              " 'services': 251,\n",
              " 'does': 252,\n",
              " 'must': 253,\n",
              " 'regarding': 254,\n",
              " 'going': 255,\n",
              " 'matter': 256,\n",
              " 'listed': 257,\n",
              " 'department': 258,\n",
              " 'loans': 259,\n",
              " 'nothing': 260,\n",
              " 'federal': 261,\n",
              " 'representative': 262,\n",
              " 'open': 263,\n",
              " 'inquiries': 264,\n",
              " 'documentation': 265,\n",
              " 'where': 266,\n",
              " 'someone': 267,\n",
              " 'against': 268,\n",
              " 'case': 269,\n",
              " 'calls': 270,\n",
              " 'legal': 271,\n",
              " 'year': 272,\n",
              " 'informed': 273,\n",
              " 'insurance': 274,\n",
              " 'personal': 275,\n",
              " 'anything': 276,\n",
              " 'every': 277,\n",
              " 'contract': 278,\n",
              " 'mine': 279,\n",
              " 'agencies': 280,\n",
              " 'later': 281,\n",
              " 'right': 282,\n",
              " 'charged': 283,\n",
              " 'car': 284,\n",
              " 'showing': 285,\n",
              " 'via': 286,\n",
              " 'violation': 287,\n",
              " 'letters': 288,\n",
              " 'today': 289,\n",
              " 'three': 290,\n",
              " 'done': 291,\n",
              " 'verified': 292,\n",
              " 'owe': 293,\n",
              " 'bureau': 294,\n",
              " 'work': 295,\n",
              " 'transunion': 296,\n",
              " 'verify': 297,\n",
              " 'state': 298,\n",
              " 'fee': 299,\n",
              " 'submitted': 300,\n",
              " 'put': 301,\n",
              " 'block': 302,\n",
              " 'found': 303,\n",
              " 'alleged': 304,\n",
              " 'give': 305,\n",
              " 'already': 306,\n",
              " 'companies': 307,\n",
              " 'multiple': 308,\n",
              " 'transaction': 309,\n",
              " 'way': 310,\n",
              " 'security': 311,\n",
              " 'incorrect': 312,\n",
              " 'court': 313,\n",
              " 'requesting': 314,\n",
              " 'use': 315,\n",
              " 'monthly': 316,\n",
              " 'applied': 317,\n",
              " 'fact': 318,\n",
              " 'current': 319,\n",
              " 'negative': 320,\n",
              " 'different': 321,\n",
              " 'during': 322,\n",
              " 'required': 323,\n",
              " 'checking': 324,\n",
              " 'go': 325,\n",
              " 'verification': 326,\n",
              " 'deleted': 327,\n",
              " 'bankruptcy': 328,\n",
              " 'error': 329,\n",
              " 'advised': 330,\n",
              " 'believe': 331,\n",
              " 'signed': 332,\n",
              " 'wells': 333,\n",
              " 'owed': 334,\n",
              " 'once': 335,\n",
              " 'many': 336,\n",
              " 'fargo': 337,\n",
              " 'per': 338,\n",
              " 'victim': 339,\n",
              " 'reason': 340,\n",
              " 'given': 341,\n",
              " 'needed': 342,\n",
              " 'status': 343,\n",
              " 'order': 344,\n",
              " 'paying': 345,\n",
              " 'accurate': 346,\n",
              " 'capital': 347,\n",
              " 'took': 348,\n",
              " 'item': 349,\n",
              " 'transfer': 350,\n",
              " 'nor': 351,\n",
              " 'failed': 352,\n",
              " 'agreement': 353,\n",
              " 'him': 354,\n",
              " 'keep': 355,\n",
              " 'refused': 356,\n",
              " 'application': 357,\n",
              " 'asking': 358,\n",
              " 'history': 359,\n",
              " 'validation': 360,\n",
              " 'cfpb': 361,\n",
              " 'while': 362,\n",
              " 'saying': 363,\n",
              " 'action': 364,\n",
              " 'resolve': 365,\n",
              " 'problem': 366,\n",
              " 'police': 367,\n",
              " 'system': 368,\n",
              " 'taken': 369,\n",
              " 'practices': 370,\n",
              " 'access': 371,\n",
              " 'getting': 372,\n",
              " 'office': 373,\n",
              " 'states': 374,\n",
              " 'writing': 375,\n",
              " 'find': 376,\n",
              " 'collections': 377,\n",
              " 'purchase': 378,\n",
              " 'hard': 379,\n",
              " 'result': 380,\n",
              " 'refund': 381,\n",
              " 'id': 382,\n",
              " 'hold': 383,\n",
              " 'show': 384,\n",
              " 'property': 385,\n",
              " 'people': 386,\n",
              " 'delete': 387,\n",
              " 'collect': 388,\n",
              " 'denied': 389,\n",
              " 'wrong': 390,\n",
              " 'having': 391,\n",
              " 'making': 392,\n",
              " 'line': 393,\n",
              " 'claims': 394,\n",
              " 'those': 395,\n",
              " 'ask': 396,\n",
              " 'rights': 397,\n",
              " 'his': 398,\n",
              " 'written': 399,\n",
              " 'ever': 400,\n",
              " 'record': 401,\n",
              " 'social': 402,\n",
              " 'situation': 403,\n",
              " 'below': 404,\n",
              " 'further': 405,\n",
              " 'unable': 406,\n",
              " 'continue': 407,\n",
              " 'certified': 408,\n",
              " 'america': 409,\n",
              " 'additional': 410,\n",
              " 'ago': 411,\n",
              " 'cant': 412,\n",
              " 'gave': 413,\n",
              " 'shall': 414,\n",
              " 'placed': 415,\n",
              " 'using': 416,\n",
              " 'net': 417,\n",
              " 'attorney': 418,\n",
              " 'say': 419,\n",
              " 'manager': 420,\n",
              " 'good': 421,\n",
              " 'knowledge': 422,\n",
              " 'document': 423,\n",
              " 'notified': 424,\n",
              " 'close': 425,\n",
              " 'complete': 426,\n",
              " 'b': 427,\n",
              " 'end': 428,\n",
              " 'student': 429,\n",
              " 'transactions': 430,\n",
              " 'rate': 431,\n",
              " 'place': 432,\n",
              " 'calling': 433,\n",
              " 'signature': 434,\n",
              " 'eplained': 435,\n",
              " 'website': 436,\n",
              " 'supervisor': 437,\n",
              " 'though': 438,\n",
              " 'thank': 439,\n",
              " 'down': 440,\n",
              " 'point': 441,\n",
              " 'upon': 442,\n",
              " 'escrow': 443,\n",
              " 'vehicle': 444,\n",
              " 'including': 445,\n",
              " 'issues': 446,\n",
              " 'belong': 447,\n",
              " 'cards': 448,\n",
              " 'sure': 449,\n",
              " 'evidence': 450,\n",
              " 'recently': 451,\n",
              " 'speak': 452,\n",
              " 'false': 453,\n",
              " 'few': 454,\n",
              " 'review': 455,\n",
              " 'agreed': 456,\n",
              " 'total': 457,\n",
              " 'prior': 458,\n",
              " 'transferred': 459,\n",
              " 'tell': 460,\n",
              " 'feel': 461,\n",
              " 'either': 462,\n",
              " 'possible': 463,\n",
              " 'doing': 464,\n",
              " 'statements': 465,\n",
              " 'own': 466,\n",
              " 'shows': 467,\n",
              " 'much': 468,\n",
              " 'agent': 469,\n",
              " 'updated': 470,\n",
              " 'returned': 471,\n",
              " 'authorized': 472,\n",
              " 'closing': 473,\n",
              " 'stop': 474,\n",
              " 'noticed': 475,\n",
              " 'form': 476,\n",
              " 'around': 477,\n",
              " 'second': 478,\n",
              " 'above': 479,\n",
              " 'let': 480,\n",
              " 'weeks': 481,\n",
              " 'aware': 482,\n",
              " 'part': 483,\n",
              " 'sold': 484,\n",
              " 'auto': 485,\n",
              " 'deposit': 486,\n",
              " 'return': 487,\n",
              " 'receipt': 488,\n",
              " 'laws': 489,\n",
              " 'offer': 490,\n",
              " 'house': 491,\n",
              " 'resolved': 492,\n",
              " 'according': 493,\n",
              " 'ftc': 494,\n",
              " 'paypal': 495,\n",
              " 'old': 496,\n",
              " 'data': 497,\n",
              " 'started': 498,\n",
              " 'finally': 499,\n",
              " 'records': 500,\n",
              " 'hours': 501,\n",
              " 'longer': 502,\n",
              " 'unauthorized': 503,\n",
              " 'left': 504,\n",
              " 'compliance': 505,\n",
              " 'dated': 506,\n",
              " 'week': 507,\n",
              " 'disputes': 508,\n",
              " 'period': 509,\n",
              " 'apply': 510,\n",
              " 'needs': 511,\n",
              " 'rep': 512,\n",
              " 'therefore': 513,\n",
              " 'investigate': 514,\n",
              " 'mailed': 515,\n",
              " 'cash': 516,\n",
              " 'understand': 517,\n",
              " 'receiving': 518,\n",
              " 'available': 519,\n",
              " 'usc': 520,\n",
              " 'anyone': 521,\n",
              " 'instead': 522,\n",
              " 'acct': 523,\n",
              " 'happened': 524,\n",
              " 'modification': 525,\n",
              " 'respond': 526,\n",
              " 'sending': 527,\n",
              " 'demand': 528,\n",
              " 'lender': 529,\n",
              " 'dates': 530,\n",
              " 'change': 531,\n",
              " 'numerous': 532,\n",
              " 'here': 533,\n",
              " 'finance': 534,\n",
              " 'reached': 535,\n",
              " 'set': 536,\n",
              " 'previous': 537,\n",
              " 'everything': 538,\n",
              " 'myself': 539,\n",
              " 'approved': 540,\n",
              " 'something': 541,\n",
              " 'obtain': 542,\n",
              " 'note': 543,\n",
              " 'care': 544,\n",
              " 'wanted': 545,\n",
              " 'plan': 546,\n",
              " 'numbers': 547,\n",
              " 'came': 548,\n",
              " 'caused': 549,\n",
              " 'responded': 550,\n",
              " 'clear': 551,\n",
              " 'directly': 552,\n",
              " 'update': 553,\n",
              " 'soon': 554,\n",
              " 'always': 555,\n",
              " 'blocked': 556,\n",
              " 'attempted': 557,\n",
              " 'creditors': 558,\n",
              " 'message': 559,\n",
              " 'answer': 560,\n",
              " 'income': 561,\n",
              " 'whom': 562,\n",
              " 'info': 563,\n",
              " 'consumers': 564,\n",
              " 'branch': 565,\n",
              " 'activity': 566,\n",
              " 'citi': 567,\n",
              " 'points': 568,\n",
              " 'added': 569,\n",
              " 'based': 570,\n",
              " 'try': 571,\n",
              " 'title': 572,\n",
              " 'billing': 573,\n",
              " 'currently': 574,\n",
              " 'derogatory': 575,\n",
              " 'notification': 576,\n",
              " 'debit': 577,\n",
              " 'terms': 578,\n",
              " 'working': 579,\n",
              " 'attempt': 580,\n",
              " 'wasnt': 581,\n",
              " 'citibank': 582,\n",
              " 'fi': 583,\n",
              " 'bills': 584,\n",
              " 'look': 585,\n",
              " 'family': 586,\n",
              " 'things': 587,\n",
              " 'limit': 588,\n",
              " 'forbearance': 589,\n",
              " 'medical': 590,\n",
              " 'collector': 591,\n",
              " 'third': 592,\n",
              " 'clearly': 593,\n",
              " 'changed': 594,\n",
              " 'mr': 595,\n",
              " 'party': 596,\n",
              " 'confirmed': 597,\n",
              " 'included': 598,\n",
              " 'too': 599,\n",
              " 'proper': 600,\n",
              " 'come': 601,\n",
              " 'protection': 602,\n",
              " 'long': 603,\n",
              " 'says': 604,\n",
              " 'concern': 605,\n",
              " 'continued': 606,\n",
              " 'purchased': 607,\n",
              " 'dollars': 608,\n",
              " 'resolution': 609,\n",
              " 'decided': 610,\n",
              " 'servicing': 611,\n",
              " 'most': 612,\n",
              " 'ta': 613,\n",
              " 'related': 614,\n",
              " 'communication': 615,\n",
              " 'job': 616,\n",
              " 'despite': 617,\n",
              " 'program': 618,\n",
              " 'allowed': 619,\n",
              " 'delinquent': 620,\n",
              " 'type': 621,\n",
              " 'else': 622,\n",
              " 'issued': 623,\n",
              " 'authorization': 624,\n",
              " 'life': 625,\n",
              " 'taking': 626,\n",
              " 'regards': 627,\n",
              " 'direct': 628,\n",
              " 'otherwise': 629,\n",
              " 'responsible': 630,\n",
              " 'along': 631,\n",
              " 'true': 632,\n",
              " 'paperwork': 633,\n",
              " 'confirmation': 634,\n",
              " 'american': 635,\n",
              " 'assistance': 636,\n",
              " 'emails': 637,\n",
              " 'dept': 638,\n",
              " 'results': 639,\n",
              " 'disputing': 640,\n",
              " 't': 641,\n",
              " 'andor': 642,\n",
              " 'refuse': 643,\n",
              " 'completed': 644,\n",
              " 'actually': 645,\n",
              " 'thing': 646,\n",
              " 'details': 647,\n",
              " 'couldnt': 648,\n",
              " 'prove': 649,\n",
              " 'policy': 650,\n",
              " 'heard': 651,\n",
              " 'filing': 652,\n",
              " 'between': 653,\n",
              " 'validate': 654,\n",
              " 'allow': 655,\n",
              " 'unknown': 656,\n",
              " 'authorize': 657,\n",
              " 'public': 658,\n",
              " 'attempts': 659,\n",
              " 'support': 660,\n",
              " 'customers': 661,\n",
              " 'contacting': 662,\n",
              " 'taes': 663,\n",
              " 'almost': 664,\n",
              " 'less': 665,\n",
              " 'valid': 666,\n",
              " 'obtained': 667,\n",
              " 'navient': 668,\n",
              " 'question': 669,\n",
              " 'supposed': 670,\n",
              " 'local': 671,\n",
              " 'copies': 672,\n",
              " 'lost': 673,\n",
              " 'really': 674,\n",
              " 'least': 675,\n",
              " 'completely': 676,\n",
              " 'foreclosure': 677,\n",
              " 'refinance': 678,\n",
              " 'illegal': 679,\n",
              " 'checked': 680,\n",
              " 'pulled': 681,\n",
              " 'missed': 682,\n",
              " 'complaints': 683,\n",
              " 'sale': 684,\n",
              " 'subsection': 685,\n",
              " 'furnisher': 686,\n",
              " 'husband': 687,\n",
              " 'accordance': 688,\n",
              " 'recovery': 689,\n",
              " 'havent': 690,\n",
              " 'doesnt': 691,\n",
              " 'merchant': 692,\n",
              " 'oh': 693,\n",
              " 'mistake': 694,\n",
              " 'principal': 695,\n",
              " 'wife': 696,\n",
              " 'thats': 697,\n",
              " 'offered': 698,\n",
              " 'wait': 699,\n",
              " 'telling': 700,\n",
              " 'high': 701,\n",
              " 'twice': 702,\n",
              " 'settlement': 703,\n",
              " 'identified': 704,\n",
              " 'questions': 705,\n",
              " 'telephone': 706,\n",
              " 'addition': 707,\n",
              " 'general': 708,\n",
              " 'stolen': 709,\n",
              " 'eplain': 710,\n",
              " 'thought': 711,\n",
              " 'epress': 712,\n",
              " 'means': 713,\n",
              " 'lease': 714,\n",
              " 'previously': 715,\n",
              " 'accuracy': 716,\n",
              " 'fdcpa': 717,\n",
              " 'recent': 718,\n",
              " 'think': 719,\n",
              " 'standing': 720,\n",
              " 'kept': 721,\n",
              " 'posted': 722,\n",
              " 'actions': 723,\n",
              " 'forward': 724,\n",
              " 'c': 725,\n",
              " 'reach': 726,\n",
              " 'follow': 727,\n",
              " 'accept': 728,\n",
              " 'promptly': 729,\n",
              " 'reviewed': 730,\n",
              " 'app': 731,\n",
              " 'code': 732,\n",
              " 'etc': 733,\n",
              " 'consent': 734,\n",
              " 'showed': 735,\n",
              " 'mentioned': 736,\n",
              " 'corrected': 737,\n",
              " 'llc': 738,\n",
              " 'pursuant': 739,\n",
              " 'free': 740,\n",
              " 'eplanation': 741,\n",
              " 'saw': 742,\n",
              " 'final': 743,\n",
              " 'payoff': 744,\n",
              " 'alert': 745,\n",
              " 'purpose': 746,\n",
              " 'profile': 747,\n",
              " 'debts': 748,\n",
              " 'continues': 749,\n",
              " 'representatives': 750,\n",
              " 'behalf': 751,\n",
              " 'failure': 752,\n",
              " 'checks': 753,\n",
              " 'sign': 754,\n",
              " 'banks': 755,\n",
              " 'fa': 756,\n",
              " 'banking': 757,\n",
              " 'submit': 758,\n",
              " 'correspondence': 759,\n",
              " 'compliant': 760,\n",
              " 'addresses': 761,\n",
              " 'option': 762,\n",
              " 'discover': 763,\n",
              " 'unfair': 764,\n",
              " 'permission': 765,\n",
              " 'away': 766,\n",
              " 'notify': 767,\n",
              " 'providing': 768,\n",
              " 'requirements': 769,\n",
              " 'properly': 770,\n",
              " 'amounts': 771,\n",
              " 'violated': 772,\n",
              " 'responsibility': 773,\n",
              " 'union': 774,\n",
              " 'loss': 775,\n",
              " 'looking': 776,\n",
              " 'live': 777,\n",
              " 'license': 778,\n",
              " 'ability': 779,\n",
              " 'initial': 780,\n",
              " 'trade': 781,\n",
              " 'page': 782,\n",
              " 'cancel': 783,\n",
              " 'obligation': 784,\n",
              " 'timely': 785,\n",
              " 'affected': 786,\n",
              " 'breach': 787,\n",
              " 'verifiable': 788,\n",
              " 'individual': 789,\n",
              " 'none': 790,\n",
              " 'errors': 791,\n",
              " 'enough': 792,\n",
              " 'major': 793,\n",
              " 'repeatedly': 794,\n",
              " 'decision': 795,\n",
              " 'cancelled': 796,\n",
              " 'best': 797,\n",
              " 'pandemic': 798,\n",
              " 'emailed': 799,\n",
              " 'knew': 800,\n",
              " 'single': 801,\n",
              " 'deposited': 802,\n",
              " 'minutes': 803,\n",
              " 'entire': 804,\n",
              " 'claimed': 805,\n",
              " 'servicer': 806,\n",
              " 'giving': 807,\n",
              " 'wont': 808,\n",
              " 'attempting': 809,\n",
              " 'talk': 810,\n",
              " 'management': 811,\n",
              " 'held': 812,\n",
              " 'couple': 813,\n",
              " 'investigated': 814,\n",
              " 'affidavit': 815,\n",
              " 'fraudulently': 816,\n",
              " 'seems': 817,\n",
              " 'method': 818,\n",
              " 'fied': 819,\n",
              " 'comply': 820,\n",
              " 'lending': 821,\n",
              " 'usaa': 822,\n",
              " 'ensure': 823,\n",
              " 'freeze': 824,\n",
              " 'list': 825,\n",
              " 'inc': 826,\n",
              " 'bonus': 827,\n",
              " 'start': 828,\n",
              " 'plus': 829,\n",
              " 'erroneous': 830,\n",
              " 'requests': 831,\n",
              " 'violations': 832,\n",
              " 'delinquency': 833,\n",
              " 'beginning': 834,\n",
              " 'add': 835,\n",
              " 'confirm': 836,\n",
              " 'resulted': 837,\n",
              " 'credited': 838,\n",
              " 'unverified': 839,\n",
              " 'simply': 840,\n",
              " 'incorrectly': 841,\n",
              " 'causing': 842,\n",
              " 'bad': 843,\n",
              " 'buy': 844,\n",
              " 'reference': 845,\n",
              " 'store': 846,\n",
              " 'known': 847,\n",
              " 'early': 848,\n",
              " 'associated': 849,\n",
              " 'declined': 850,\n",
              " 'began': 851,\n",
              " 'savings': 852,\n",
              " 'run': 853,\n",
              " 'chapter': 854,\n",
              " 'wrote': 855,\n",
              " 'ecept': 856,\n",
              " 'manner': 857,\n",
              " 'appears': 858,\n",
              " 'portfolio': 859,\n",
              " 'waiting': 860,\n",
              " 'idea': 861,\n",
              " 'four': 862,\n",
              " 'minimum': 863,\n",
              " 'reseller': 864,\n",
              " 'ignored': 865,\n",
              " 'processed': 866,\n",
              " 'dropped': 867,\n",
              " 'release': 868,\n",
              " 'hardship': 869,\n",
              " 'recorded': 870,\n",
              " 'pull': 871,\n",
              " 'actual': 872,\n",
              " 'formal': 873,\n",
              " 'national': 874,\n",
              " 'occasions': 875,\n",
              " 'negatively': 876,\n",
              " 'reasonable': 877,\n",
              " 'practice': 878,\n",
              " 'lower': 879,\n",
              " 'purchases': 880,\n",
              " 'discovered': 881,\n",
              " 'cost': 882,\n",
              " 'hung': 883,\n",
              " 'removal': 884,\n",
              " 'synchrony': 885,\n",
              " 'although': 886,\n",
              " 'behind': 887,\n",
              " 'civil': 888,\n",
              " 'missing': 889,\n",
              " 'school': 890,\n",
              " 'files': 891,\n",
              " 'e': 892,\n",
              " 'refusing': 893,\n",
              " 'named': 894,\n",
              " 'scam': 895,\n",
              " 'plaintiff': 896,\n",
              " 'goods': 897,\n",
              " 'assist': 898,\n",
              " 'relationship': 899,\n",
              " 'united': 900,\n",
              " 'repayment': 901,\n",
              " 'county': 902,\n",
              " 'options': 903,\n",
              " 'systems': 904,\n",
              " 'correctly': 905,\n",
              " 'problems': 906,\n",
              " 'real': 907,\n",
              " 'increase': 908,\n",
              " 'apartment': 909,\n",
              " 'talked': 910,\n",
              " 'conversation': 911,\n",
              " 'promised': 912,\n",
              " 'fully': 913,\n",
              " 'pnc': 914,\n",
              " 'move': 915,\n",
              " 'lot': 916,\n",
              " 'gone': 917,\n",
              " 'assured': 918,\n",
              " 'short': 919,\n",
              " 'appropriate': 920,\n",
              " 'inform': 921,\n",
              " 'balances': 922,\n",
              " 'indicated': 923,\n",
              " 'subject': 924,\n",
              " 'include': 925,\n",
              " 'initiated': 926,\n",
              " 'default': 927,\n",
              " 'similar': 928,\n",
              " 'higher': 929,\n",
              " 'employee': 930,\n",
              " 'claiming': 931,\n",
              " 'looked': 932,\n",
              " 'approimately': 933,\n",
              " 'legally': 934,\n",
              " 'specific': 935,\n",
              " 'covid': 936,\n",
              " 'fl': 937,\n",
              " 'additionally': 938,\n",
              " 'charging': 939,\n",
              " 're': 940,\n",
              " 'processing': 941,\n",
              " 'cause': 942,\n",
              " 'employment': 943,\n",
              " 'cease': 944,\n",
              " 'whether': 945,\n",
              " 'truth': 946,\n",
              " 'appraisal': 947,\n",
              " 'ending': 948,\n",
              " 'happen': 949,\n",
              " 'research': 950,\n",
              " 'etremely': 951,\n",
              " 'refuses': 952,\n",
              " 'post': 953,\n",
              " 'overdraft': 954,\n",
              " 'reply': 955,\n",
              " 'involved': 956,\n",
              " 'might': 957,\n",
              " 'government': 958,\n",
              " 'whole': 959,\n",
              " 'education': 960,\n",
              " 'worked': 961,\n",
              " 'physical': 962,\n",
              " 'team': 963,\n",
              " 'ca': 964,\n",
              " 'concerning': 965,\n",
              " 'accepted': 966,\n",
              " 'deal': 967,\n",
              " 'small': 968,\n",
              " 'far': 969,\n",
              " 'validity': 970,\n",
              " 'outstanding': 971,\n",
              " 'parties': 972,\n",
              " 'future': 973,\n",
              " 'wouldnt': 974,\n",
              " 'etra': 975,\n",
              " 'procedures': 976,\n",
              " 'cra': 977,\n",
              " 'enclosed': 978,\n",
              " 'remaining': 979,\n",
              " 'value': 980,\n",
              " 'read': 981,\n",
              " 'specifically': 982,\n",
              " 'unless': 983,\n",
              " 'settled': 984,\n",
              " 'present': 985,\n",
              " 'ed': 986,\n",
              " 'impacted': 987,\n",
              " 'pending': 988,\n",
              " 'noted': 989,\n",
              " 'scores': 990,\n",
              " 'annual': 991,\n",
              " 'isnt': 992,\n",
              " 'advantage': 993,\n",
              " 'inquires': 994,\n",
              " 'trust': 995,\n",
              " 'impossible': 996,\n",
              " 'spent': 997,\n",
              " 'damages': 998,\n",
              " 'necessary': 999,\n",
              " 'moved': 1000,\n",
              " ...}"
            ]
          },
          "metadata": {
            "tags": []
          },
          "execution_count": 64
        }
      ]
    },
    {
      "cell_type": "code",
      "metadata": {
        "id": "WpQRvTwJNMv7"
      },
      "source": [
        "X = tokenizer.texts_to_sequences(data['Consumer complaint narrative'].values)#list of integers that contain the tokens mapped to each word in the text \n"
      ],
      "execution_count": 55,
      "outputs": []
    },
    {
      "cell_type": "code",
      "metadata": {
        "colab": {
          "base_uri": "https://localhost:8080/"
        },
        "id": "g7zHugICNVo9",
        "outputId": "5e9b7e26-1548-4d1e-b1e9-5d6886b2fe8f"
      },
      "source": [
        "X"
      ],
      "execution_count": 65,
      "outputs": [
        {
          "output_type": "execute_result",
          "data": {
            "text/plain": [
              "array([[   0,    0,    0, ..., 4201,   17, 3078],\n",
              "       [   0,    0,    0, ...,  202,   15,   41],\n",
              "       [   0,    0,    0, ...,   30, 9102,  420],\n",
              "       ...,\n",
              "       [  13,   89,   34, ...,   18,   74,  723],\n",
              "       [   0,    0,    0, ...,   11,  118, 1543],\n",
              "       [   0,    0,    0, ...,   83,   12,  212]], dtype=int32)"
            ]
          },
          "metadata": {
            "tags": []
          },
          "execution_count": 65
        }
      ]
    },
    {
      "cell_type": "code",
      "metadata": {
        "id": "DPn7QYI8NZXP"
      },
      "source": [
        "X = pad_sequences(X, maxlen=MAX_SEQUENCE_LENGTH) #padding\n"
      ],
      "execution_count": 56,
      "outputs": []
    },
    {
      "cell_type": "code",
      "metadata": {
        "colab": {
          "base_uri": "https://localhost:8080/"
        },
        "id": "k4kcqZKNN07Q",
        "outputId": "e0a6df8c-c2d3-4e34-fddd-99ce35e07bba"
      },
      "source": [
        "print('Shape of data tensor:', X.shape)"
      ],
      "execution_count": 57,
      "outputs": [
        {
          "output_type": "stream",
          "text": [
            "Shape of data tensor: (420617, 250)\n"
          ],
          "name": "stdout"
        }
      ]
    },
    {
      "cell_type": "code",
      "metadata": {
        "colab": {
          "base_uri": "https://localhost:8080/"
        },
        "id": "kb9Wt_0HN6Yq",
        "outputId": "b51dff4e-6da8-427a-ce73-f89154bf8531"
      },
      "source": [
        "labels = list(pd.get_dummies(data['Product']).columns)\n",
        "labels"
      ],
      "execution_count": 58,
      "outputs": [
        {
          "output_type": "execute_result",
          "data": {
            "text/plain": [
              "['Checking or savings account',\n",
              " 'Credit card or prepaid card',\n",
              " 'Credit reporting, credit repair services, or other personal consumer reports',\n",
              " 'Debt collection',\n",
              " 'Money transfer, virtual currency, or money service',\n",
              " 'Mortgage',\n",
              " 'Payday loan, title loan, or personal loan',\n",
              " 'Student loan',\n",
              " 'Vehicle loan or lease']"
            ]
          },
          "metadata": {
            "tags": []
          },
          "execution_count": 58
        }
      ]
    },
    {
      "cell_type": "code",
      "metadata": {
        "id": "x35M-qvfOGmV"
      },
      "source": [
        "Y = pd.get_dummies(data['Product']).values\n"
      ],
      "execution_count": 59,
      "outputs": []
    },
    {
      "cell_type": "code",
      "metadata": {
        "colab": {
          "base_uri": "https://localhost:8080/"
        },
        "id": "OA4rWaF2OJy_",
        "outputId": "c4969743-13a2-4e44-8b67-fcf87b899862"
      },
      "source": [
        "print('Shape of label tensor:', Y.shape)"
      ],
      "execution_count": 60,
      "outputs": [
        {
          "output_type": "stream",
          "text": [
            "Shape of label tensor: (420617, 9)\n"
          ],
          "name": "stdout"
        }
      ]
    },
    {
      "cell_type": "code",
      "metadata": {
        "colab": {
          "base_uri": "https://localhost:8080/"
        },
        "id": "Yhcz5LEbOf61",
        "outputId": "9ca7ff61-bae6-4555-c377-6b7abff04f40"
      },
      "source": [
        "X"
      ],
      "execution_count": 29,
      "outputs": [
        {
          "output_type": "execute_result",
          "data": {
            "text/plain": [
              "array([[   0,    0,    0, ..., 4201,   17, 3078],\n",
              "       [   0,    0,    0, ...,  202,   15,   41],\n",
              "       [   0,    0,    0, ...,   30, 9102,  420],\n",
              "       ...,\n",
              "       [  13,   89,   34, ...,   18,   74,  723],\n",
              "       [   0,    0,    0, ...,   11,  118, 1543],\n",
              "       [   0,    0,    0, ...,   83,   12,  212]], dtype=int32)"
            ]
          },
          "metadata": {
            "tags": []
          },
          "execution_count": 29
        }
      ]
    },
    {
      "cell_type": "code",
      "metadata": {
        "colab": {
          "base_uri": "https://localhost:8080/"
        },
        "id": "d9ZQRjr8OxWA",
        "outputId": "0de65f3d-075c-4ade-d04d-50e28118e363"
      },
      "source": [
        "\n",
        "X_train, X_test, Y_train, Y_test = train_test_split(X,Y,test_size=0.2)\n",
        "print(X_train.shape,Y_train.shape)\n",
        "print(X_test.shape,Y_test.shape)"
      ],
      "execution_count": 61,
      "outputs": [
        {
          "output_type": "stream",
          "text": [
            "(336493, 250) (336493, 9)\n",
            "(84124, 250) (84124, 9)\n"
          ],
          "name": "stdout"
        }
      ]
    },
    {
      "cell_type": "code",
      "metadata": {
        "colab": {
          "base_uri": "https://localhost:8080/"
        },
        "id": "Yt9DIa1yPAFu",
        "outputId": "09bcdc64-4ab2-47fa-9a34-8697f5546865"
      },
      "source": [
        "model = Sequential()\n",
        "\n",
        "#the embedding layer from keras (meme fonctionatilté que word2vec: mapps the word into a vector in the embedding space)\n",
        "#note: word2vec is trained to extract the relation between words d'une facon general beacause it s trained on the wiki corpus\n",
        "#while the embedding layer shows the relation between words in the context of this dataset (more specific we can say)\n",
        "#not the same training algo(the keras embedding layer tries to index a table) \n",
        "model.add(Embedding(MAX_NB_WORDS, EMBEDDING_DIM, input_length=X.shape[1]))\n",
        "model.add(SpatialDropout1D(0.2))\n",
        "model.add(LSTM(100, dropout=0.2, recurrent_dropout=0.2))\n",
        "model.add(Dense(9, activation='softmax'))\n",
        "model.compile(loss=\"categorical_crossentropy\", optimizer='adam', metrics=['accuracy'])\n",
        "print(model.summary())"
      ],
      "execution_count": null,
      "outputs": [
        {
          "output_type": "stream",
          "text": [
            "Model: \"sequential\"\n",
            "_________________________________________________________________\n",
            "Layer (type)                 Output Shape              Param #   \n",
            "=================================================================\n",
            "embedding (Embedding)        (None, 250, 100)          5000000   \n",
            "_________________________________________________________________\n",
            "spatial_dropout1d (SpatialDr (None, 250, 100)          0         \n",
            "_________________________________________________________________\n",
            "lstm (LSTM)                  (None, 100)               80400     \n",
            "_________________________________________________________________\n",
            "dense (Dense)                (None, 9)                 909       \n",
            "=================================================================\n",
            "Total params: 5,081,309\n",
            "Trainable params: 5,081,309\n",
            "Non-trainable params: 0\n",
            "_________________________________________________________________\n",
            "None\n"
          ],
          "name": "stdout"
        }
      ]
    },
    {
      "cell_type": "code",
      "metadata": {
        "id": "juqX_k-DPIsA"
      },
      "source": [
        "epochs = 5\n",
        "batch_size = 64\n",
        "history = model.fit(X_train, Y_train, epochs=epochs, batch_size=batch_size,validation_split=0.1,callbacks=[EarlyStopping(monitor='val_loss', patience=3, min_delta=0.0001)])"
      ],
      "execution_count": null,
      "outputs": []
    },
    {
      "cell_type": "code",
      "metadata": {
        "id": "dH0UcKs8bl3a",
        "colab": {
          "base_uri": "https://localhost:8080/"
        },
        "outputId": "4dca1f60-4f3e-4445-f05b-64fcf2c9470a"
      },
      "source": [
        "score=model.evaluate(X_test,Y_test)\n",
        "\n",
        "print('Test set\\n  Loss: {:0.2f}\\n  Accuracy: {:0.2f}'.format(score[0],score[1]))"
      ],
      "execution_count": 33,
      "outputs": [
        {
          "output_type": "stream",
          "text": [
            "2629/2629 [==============================] - 142s 53ms/step - loss: 0.3228 - accuracy: 0.8921\n",
            "Test set\n",
            "  Loss: 0.32\n",
            "  Accuracy: 0.89\n"
          ],
          "name": "stdout"
        }
      ]
    },
    {
      "cell_type": "code",
      "metadata": {
        "id": "LdTH8Q9xqlpZ"
      },
      "source": [
        "Y_pred = model.predict(X_test)"
      ],
      "execution_count": 66,
      "outputs": []
    },
    {
      "cell_type": "code",
      "metadata": {
        "id": "DUVivds1rFDj",
        "colab": {
          "base_uri": "https://localhost:8080/"
        },
        "outputId": "d20c8bf0-820e-4efb-f562-cc3560341419"
      },
      "source": [
        "Y_pred.shape"
      ],
      "execution_count": 67,
      "outputs": [
        {
          "output_type": "execute_result",
          "data": {
            "text/plain": [
              "(84124, 9)"
            ]
          },
          "metadata": {
            "tags": []
          },
          "execution_count": 67
        }
      ]
    },
    {
      "cell_type": "code",
      "metadata": {
        "id": "8VOBCMOnrHAA",
        "colab": {
          "base_uri": "https://localhost:8080/"
        },
        "outputId": "70d489b0-754d-4ee6-c80e-e9fa96f57c51"
      },
      "source": [
        "Y_pred"
      ],
      "execution_count": 68,
      "outputs": [
        {
          "output_type": "execute_result",
          "data": {
            "text/plain": [
              "array([[3.28055357e-05, 1.40656804e-04, 1.49246177e-03, ...,\n",
              "        1.40286866e-03, 1.53271627e-04, 8.68403731e-05],\n",
              "       [9.29032922e-01, 3.62569913e-02, 1.08995708e-03, ...,\n",
              "        1.15906051e-03, 1.56695078e-05, 1.04953026e-04],\n",
              "       [7.15971191e-06, 3.10130235e-05, 9.99722779e-01, ...,\n",
              "        6.00139401e-07, 4.14641136e-06, 2.11387123e-06],\n",
              "       ...,\n",
              "       [3.91665963e-04, 1.21893799e-02, 8.95381033e-01, ...,\n",
              "        2.24525551e-03, 2.60708411e-03, 4.41061473e-03],\n",
              "       [8.19087873e-05, 4.38865623e-04, 9.00002360e-01, ...,\n",
              "        1.23284734e-03, 8.03059414e-02, 6.07974187e-04],\n",
              "       [1.91879779e-04, 8.53342121e-04, 9.45040762e-01, ...,\n",
              "        8.75408645e-04, 4.38478921e-04, 5.03679700e-02]], dtype=float32)"
            ]
          },
          "metadata": {
            "tags": []
          },
          "execution_count": 68
        }
      ]
    },
    {
      "cell_type": "code",
      "metadata": {
        "id": "xcHI_b2nrRFZ"
      },
      "source": [
        "predicted_classes = np.argmax(Y_pred, axis=1)"
      ],
      "execution_count": 69,
      "outputs": []
    },
    {
      "cell_type": "code",
      "metadata": {
        "id": "Y3ziWDQyrUgP",
        "colab": {
          "base_uri": "https://localhost:8080/"
        },
        "outputId": "c033265d-c5af-41c9-98d5-89fb4e1d7288"
      },
      "source": [
        "predicted_classes"
      ],
      "execution_count": 70,
      "outputs": [
        {
          "output_type": "execute_result",
          "data": {
            "text/plain": [
              "array([3, 0, 2, ..., 2, 2, 2])"
            ]
          },
          "metadata": {
            "tags": []
          },
          "execution_count": 70
        }
      ]
    },
    {
      "cell_type": "code",
      "metadata": {
        "id": "Mh_TSRXwrWap"
      },
      "source": [
        "expected_classes =np.argmax(Y_test, axis=1)"
      ],
      "execution_count": 72,
      "outputs": []
    },
    {
      "cell_type": "markdown",
      "metadata": {
        "id": "FWhkkt2fsT9g"
      },
      "source": [
        "#Save model"
      ]
    },
    {
      "cell_type": "code",
      "metadata": {
        "id": "EmMgnhi8real"
      },
      "source": [
        "import pickle"
      ],
      "execution_count": null,
      "outputs": []
    },
    {
      "cell_type": "code",
      "metadata": {
        "id": "qwrmW80msZfu"
      },
      "source": [
        "model.save(\"intent_analysis_model.h5\")"
      ],
      "execution_count": null,
      "outputs": []
    },
    {
      "cell_type": "markdown",
      "metadata": {
        "id": "WueQWDb6RUKy"
      },
      "source": [
        "# Save Modules"
      ]
    },
    {
      "cell_type": "code",
      "metadata": {
        "id": "L86anPHVGNfy"
      },
      "source": [
        "import pickle \n",
        "with open(\"tokenizer.pickle\",\"wb\") as f :\n",
        "  pickle.dump(tokenizer,f)"
      ],
      "execution_count": 62,
      "outputs": []
    },
    {
      "cell_type": "code",
      "metadata": {
        "id": "5njIRyM9HMGL"
      },
      "source": [
        "with open(\"labels.pickle\",\"wb\") as f :\n",
        "  pickle.dump(labels,f)"
      ],
      "execution_count": 63,
      "outputs": []
    },
    {
      "cell_type": "code",
      "metadata": {
        "id": "w7W5hFi46VyA"
      },
      "source": [
        ""
      ],
      "execution_count": null,
      "outputs": []
    }
  ]
}