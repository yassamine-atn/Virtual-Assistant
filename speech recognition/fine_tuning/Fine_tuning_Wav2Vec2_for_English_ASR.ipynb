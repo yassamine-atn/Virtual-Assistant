{
  "nbformat": 4,
  "nbformat_minor": 0,
  "metadata": {
    "accelerator": "GPU",
    "colab": {
      "name": " Fine-tuning Wav2Vec2 for English ASR",
      "provenance": [],
      "collapsed_sections": [],
      "machine_shape": "hm"
    },
    "kernelspec": {
      "display_name": "Python 3",
      "name": "python3"
    },
    "widgets": {
      "application/vnd.jupyter.widget-state+json": {
        "56579001dd934b10ae29187b66e38a45": {
          "model_module": "@jupyter-widgets/controls",
          "model_name": "HBoxModel",
          "state": {
            "_dom_classes": [],
            "_model_module": "@jupyter-widgets/controls",
            "_model_module_version": "1.5.0",
            "_model_name": "HBoxModel",
            "_view_count": null,
            "_view_module": "@jupyter-widgets/controls",
            "_view_module_version": "1.5.0",
            "_view_name": "HBoxView",
            "box_style": "",
            "children": [
              "IPY_MODEL_12b104333ebf4e9bb10653f1d6e8f74b",
              "IPY_MODEL_41f0a4204b1c44f781852d93ffd2961d"
            ],
            "layout": "IPY_MODEL_e63d15a7f7fc45bb910337f4aa341e20"
          }
        },
        "12b104333ebf4e9bb10653f1d6e8f74b": {
          "model_module": "@jupyter-widgets/controls",
          "model_name": "FloatProgressModel",
          "state": {
            "_dom_classes": [],
            "_model_module": "@jupyter-widgets/controls",
            "_model_module_version": "1.5.0",
            "_model_name": "FloatProgressModel",
            "_view_count": null,
            "_view_module": "@jupyter-widgets/controls",
            "_view_module_version": "1.5.0",
            "_view_name": "ProgressView",
            "bar_style": "success",
            "description": "Downloading: ",
            "description_tooltip": null,
            "layout": "IPY_MODEL_cfbbdd43e81f45a9b75ae06d21a4b7fa",
            "max": 2349,
            "min": 0,
            "orientation": "horizontal",
            "style": "IPY_MODEL_5979293e954c499b95dc10e53da53b62",
            "value": 2349
          }
        },
        "41f0a4204b1c44f781852d93ffd2961d": {
          "model_module": "@jupyter-widgets/controls",
          "model_name": "HTMLModel",
          "state": {
            "_dom_classes": [],
            "_model_module": "@jupyter-widgets/controls",
            "_model_module_version": "1.5.0",
            "_model_name": "HTMLModel",
            "_view_count": null,
            "_view_module": "@jupyter-widgets/controls",
            "_view_module_version": "1.5.0",
            "_view_name": "HTMLView",
            "description": "",
            "description_tooltip": null,
            "layout": "IPY_MODEL_c737cfdf01ff4c2bb02c0718c400634b",
            "placeholder": "​",
            "style": "IPY_MODEL_8c569a1d0c8d4193a128cc9be3f80266",
            "value": " 6.84k/? [00:18&lt;00:00, 377B/s]"
          }
        },
        "e63d15a7f7fc45bb910337f4aa341e20": {
          "model_module": "@jupyter-widgets/base",
          "model_name": "LayoutModel",
          "state": {
            "_model_module": "@jupyter-widgets/base",
            "_model_module_version": "1.2.0",
            "_model_name": "LayoutModel",
            "_view_count": null,
            "_view_module": "@jupyter-widgets/base",
            "_view_module_version": "1.2.0",
            "_view_name": "LayoutView",
            "align_content": null,
            "align_items": null,
            "align_self": null,
            "border": null,
            "bottom": null,
            "display": null,
            "flex": null,
            "flex_flow": null,
            "grid_area": null,
            "grid_auto_columns": null,
            "grid_auto_flow": null,
            "grid_auto_rows": null,
            "grid_column": null,
            "grid_gap": null,
            "grid_row": null,
            "grid_template_areas": null,
            "grid_template_columns": null,
            "grid_template_rows": null,
            "height": null,
            "justify_content": null,
            "justify_items": null,
            "left": null,
            "margin": null,
            "max_height": null,
            "max_width": null,
            "min_height": null,
            "min_width": null,
            "object_fit": null,
            "object_position": null,
            "order": null,
            "overflow": null,
            "overflow_x": null,
            "overflow_y": null,
            "padding": null,
            "right": null,
            "top": null,
            "visibility": null,
            "width": null
          }
        },
        "cfbbdd43e81f45a9b75ae06d21a4b7fa": {
          "model_module": "@jupyter-widgets/base",
          "model_name": "LayoutModel",
          "state": {
            "_model_module": "@jupyter-widgets/base",
            "_model_module_version": "1.2.0",
            "_model_name": "LayoutModel",
            "_view_count": null,
            "_view_module": "@jupyter-widgets/base",
            "_view_module_version": "1.2.0",
            "_view_name": "LayoutView",
            "align_content": null,
            "align_items": null,
            "align_self": null,
            "border": null,
            "bottom": null,
            "display": null,
            "flex": null,
            "flex_flow": null,
            "grid_area": null,
            "grid_auto_columns": null,
            "grid_auto_flow": null,
            "grid_auto_rows": null,
            "grid_column": null,
            "grid_gap": null,
            "grid_row": null,
            "grid_template_areas": null,
            "grid_template_columns": null,
            "grid_template_rows": null,
            "height": null,
            "justify_content": null,
            "justify_items": null,
            "left": null,
            "margin": null,
            "max_height": null,
            "max_width": null,
            "min_height": null,
            "min_width": null,
            "object_fit": null,
            "object_position": null,
            "order": null,
            "overflow": null,
            "overflow_x": null,
            "overflow_y": null,
            "padding": null,
            "right": null,
            "top": null,
            "visibility": null,
            "width": null
          }
        },
        "5979293e954c499b95dc10e53da53b62": {
          "model_module": "@jupyter-widgets/controls",
          "model_name": "ProgressStyleModel",
          "state": {
            "_model_module": "@jupyter-widgets/controls",
            "_model_module_version": "1.5.0",
            "_model_name": "ProgressStyleModel",
            "_view_count": null,
            "_view_module": "@jupyter-widgets/base",
            "_view_module_version": "1.2.0",
            "_view_name": "StyleView",
            "bar_color": null,
            "description_width": "initial"
          }
        },
        "c737cfdf01ff4c2bb02c0718c400634b": {
          "model_module": "@jupyter-widgets/base",
          "model_name": "LayoutModel",
          "state": {
            "_model_module": "@jupyter-widgets/base",
            "_model_module_version": "1.2.0",
            "_model_name": "LayoutModel",
            "_view_count": null,
            "_view_module": "@jupyter-widgets/base",
            "_view_module_version": "1.2.0",
            "_view_name": "LayoutView",
            "align_content": null,
            "align_items": null,
            "align_self": null,
            "border": null,
            "bottom": null,
            "display": null,
            "flex": null,
            "flex_flow": null,
            "grid_area": null,
            "grid_auto_columns": null,
            "grid_auto_flow": null,
            "grid_auto_rows": null,
            "grid_column": null,
            "grid_gap": null,
            "grid_row": null,
            "grid_template_areas": null,
            "grid_template_columns": null,
            "grid_template_rows": null,
            "height": null,
            "justify_content": null,
            "justify_items": null,
            "left": null,
            "margin": null,
            "max_height": null,
            "max_width": null,
            "min_height": null,
            "min_width": null,
            "object_fit": null,
            "object_position": null,
            "order": null,
            "overflow": null,
            "overflow_x": null,
            "overflow_y": null,
            "padding": null,
            "right": null,
            "top": null,
            "visibility": null,
            "width": null
          }
        },
        "8c569a1d0c8d4193a128cc9be3f80266": {
          "model_module": "@jupyter-widgets/controls",
          "model_name": "DescriptionStyleModel",
          "state": {
            "_model_module": "@jupyter-widgets/controls",
            "_model_module_version": "1.5.0",
            "_model_name": "DescriptionStyleModel",
            "_view_count": null,
            "_view_module": "@jupyter-widgets/base",
            "_view_module_version": "1.2.0",
            "_view_name": "StyleView",
            "description_width": ""
          }
        },
        "b690866b79944231a4057315b3a5d934": {
          "model_module": "@jupyter-widgets/controls",
          "model_name": "HBoxModel",
          "state": {
            "_dom_classes": [],
            "_model_module": "@jupyter-widgets/controls",
            "_model_module_version": "1.5.0",
            "_model_name": "HBoxModel",
            "_view_count": null,
            "_view_module": "@jupyter-widgets/controls",
            "_view_module_version": "1.5.0",
            "_view_name": "HBoxView",
            "box_style": "",
            "children": [
              "IPY_MODEL_bcf2f29f91f640ea90be9d47ac48aad6",
              "IPY_MODEL_0f53f90a84c941efb1d7690d399acf2d"
            ],
            "layout": "IPY_MODEL_8c86addf44644f3880fe0c52f985936d"
          }
        },
        "bcf2f29f91f640ea90be9d47ac48aad6": {
          "model_module": "@jupyter-widgets/controls",
          "model_name": "FloatProgressModel",
          "state": {
            "_dom_classes": [],
            "_model_module": "@jupyter-widgets/controls",
            "_model_module_version": "1.5.0",
            "_model_name": "FloatProgressModel",
            "_view_count": null,
            "_view_module": "@jupyter-widgets/controls",
            "_view_module_version": "1.5.0",
            "_view_name": "ProgressView",
            "bar_style": "success",
            "description": "Downloading: ",
            "description_tooltip": null,
            "layout": "IPY_MODEL_029b8e6c1bc74316aa3dca62ab49c135",
            "max": 1004,
            "min": 0,
            "orientation": "horizontal",
            "style": "IPY_MODEL_824443475dde4c12bd976e1694b86e58",
            "value": 1004
          }
        },
        "0f53f90a84c941efb1d7690d399acf2d": {
          "model_module": "@jupyter-widgets/controls",
          "model_name": "HTMLModel",
          "state": {
            "_dom_classes": [],
            "_model_module": "@jupyter-widgets/controls",
            "_model_module_version": "1.5.0",
            "_model_name": "HTMLModel",
            "_view_count": null,
            "_view_module": "@jupyter-widgets/controls",
            "_view_module_version": "1.5.0",
            "_view_name": "HTMLView",
            "description": "",
            "description_tooltip": null,
            "layout": "IPY_MODEL_a922c327f76240cbafb44cf0b836dd2b",
            "placeholder": "​",
            "style": "IPY_MODEL_635e46a5f438429db3f580eb88184171",
            "value": " 2.51k/? [00:17&lt;00:00, 141B/s]"
          }
        },
        "8c86addf44644f3880fe0c52f985936d": {
          "model_module": "@jupyter-widgets/base",
          "model_name": "LayoutModel",
          "state": {
            "_model_module": "@jupyter-widgets/base",
            "_model_module_version": "1.2.0",
            "_model_name": "LayoutModel",
            "_view_count": null,
            "_view_module": "@jupyter-widgets/base",
            "_view_module_version": "1.2.0",
            "_view_name": "LayoutView",
            "align_content": null,
            "align_items": null,
            "align_self": null,
            "border": null,
            "bottom": null,
            "display": null,
            "flex": null,
            "flex_flow": null,
            "grid_area": null,
            "grid_auto_columns": null,
            "grid_auto_flow": null,
            "grid_auto_rows": null,
            "grid_column": null,
            "grid_gap": null,
            "grid_row": null,
            "grid_template_areas": null,
            "grid_template_columns": null,
            "grid_template_rows": null,
            "height": null,
            "justify_content": null,
            "justify_items": null,
            "left": null,
            "margin": null,
            "max_height": null,
            "max_width": null,
            "min_height": null,
            "min_width": null,
            "object_fit": null,
            "object_position": null,
            "order": null,
            "overflow": null,
            "overflow_x": null,
            "overflow_y": null,
            "padding": null,
            "right": null,
            "top": null,
            "visibility": null,
            "width": null
          }
        },
        "029b8e6c1bc74316aa3dca62ab49c135": {
          "model_module": "@jupyter-widgets/base",
          "model_name": "LayoutModel",
          "state": {
            "_model_module": "@jupyter-widgets/base",
            "_model_module_version": "1.2.0",
            "_model_name": "LayoutModel",
            "_view_count": null,
            "_view_module": "@jupyter-widgets/base",
            "_view_module_version": "1.2.0",
            "_view_name": "LayoutView",
            "align_content": null,
            "align_items": null,
            "align_self": null,
            "border": null,
            "bottom": null,
            "display": null,
            "flex": null,
            "flex_flow": null,
            "grid_area": null,
            "grid_auto_columns": null,
            "grid_auto_flow": null,
            "grid_auto_rows": null,
            "grid_column": null,
            "grid_gap": null,
            "grid_row": null,
            "grid_template_areas": null,
            "grid_template_columns": null,
            "grid_template_rows": null,
            "height": null,
            "justify_content": null,
            "justify_items": null,
            "left": null,
            "margin": null,
            "max_height": null,
            "max_width": null,
            "min_height": null,
            "min_width": null,
            "object_fit": null,
            "object_position": null,
            "order": null,
            "overflow": null,
            "overflow_x": null,
            "overflow_y": null,
            "padding": null,
            "right": null,
            "top": null,
            "visibility": null,
            "width": null
          }
        },
        "824443475dde4c12bd976e1694b86e58": {
          "model_module": "@jupyter-widgets/controls",
          "model_name": "ProgressStyleModel",
          "state": {
            "_model_module": "@jupyter-widgets/controls",
            "_model_module_version": "1.5.0",
            "_model_name": "ProgressStyleModel",
            "_view_count": null,
            "_view_module": "@jupyter-widgets/base",
            "_view_module_version": "1.2.0",
            "_view_name": "StyleView",
            "bar_color": null,
            "description_width": "initial"
          }
        },
        "a922c327f76240cbafb44cf0b836dd2b": {
          "model_module": "@jupyter-widgets/base",
          "model_name": "LayoutModel",
          "state": {
            "_model_module": "@jupyter-widgets/base",
            "_model_module_version": "1.2.0",
            "_model_name": "LayoutModel",
            "_view_count": null,
            "_view_module": "@jupyter-widgets/base",
            "_view_module_version": "1.2.0",
            "_view_name": "LayoutView",
            "align_content": null,
            "align_items": null,
            "align_self": null,
            "border": null,
            "bottom": null,
            "display": null,
            "flex": null,
            "flex_flow": null,
            "grid_area": null,
            "grid_auto_columns": null,
            "grid_auto_flow": null,
            "grid_auto_rows": null,
            "grid_column": null,
            "grid_gap": null,
            "grid_row": null,
            "grid_template_areas": null,
            "grid_template_columns": null,
            "grid_template_rows": null,
            "height": null,
            "justify_content": null,
            "justify_items": null,
            "left": null,
            "margin": null,
            "max_height": null,
            "max_width": null,
            "min_height": null,
            "min_width": null,
            "object_fit": null,
            "object_position": null,
            "order": null,
            "overflow": null,
            "overflow_x": null,
            "overflow_y": null,
            "padding": null,
            "right": null,
            "top": null,
            "visibility": null,
            "width": null
          }
        },
        "635e46a5f438429db3f580eb88184171": {
          "model_module": "@jupyter-widgets/controls",
          "model_name": "DescriptionStyleModel",
          "state": {
            "_model_module": "@jupyter-widgets/controls",
            "_model_module_version": "1.5.0",
            "_model_name": "DescriptionStyleModel",
            "_view_count": null,
            "_view_module": "@jupyter-widgets/base",
            "_view_module_version": "1.2.0",
            "_view_name": "StyleView",
            "description_width": ""
          }
        },
        "b6cc638cbeff4a3e8d24d4cf883e8f42": {
          "model_module": "@jupyter-widgets/controls",
          "model_name": "HBoxModel",
          "state": {
            "_dom_classes": [],
            "_model_module": "@jupyter-widgets/controls",
            "_model_module_version": "1.5.0",
            "_model_name": "HBoxModel",
            "_view_count": null,
            "_view_module": "@jupyter-widgets/controls",
            "_view_module_version": "1.5.0",
            "_view_name": "HBoxView",
            "box_style": "",
            "children": [
              "IPY_MODEL_6f885d760af748d3a08e23c2b888fc50",
              "IPY_MODEL_110bd52b2adc4c659712cf343486a65a"
            ],
            "layout": "IPY_MODEL_132c800eaae94a118de337486b31dd7b"
          }
        },
        "6f885d760af748d3a08e23c2b888fc50": {
          "model_module": "@jupyter-widgets/controls",
          "model_name": "FloatProgressModel",
          "state": {
            "_dom_classes": [],
            "_model_module": "@jupyter-widgets/controls",
            "_model_module_version": "1.5.0",
            "_model_name": "FloatProgressModel",
            "_view_count": null,
            "_view_module": "@jupyter-widgets/controls",
            "_view_module_version": "1.5.0",
            "_view_name": "ProgressView",
            "bar_style": "success",
            "description": "Downloading: 100%",
            "description_tooltip": null,
            "layout": "IPY_MODEL_aa558ff20d79459abfde067a660790ef",
            "max": 869007403,
            "min": 0,
            "orientation": "horizontal",
            "style": "IPY_MODEL_85d39474ef0d48af817324c568557362",
            "value": 869007403
          }
        },
        "110bd52b2adc4c659712cf343486a65a": {
          "model_module": "@jupyter-widgets/controls",
          "model_name": "HTMLModel",
          "state": {
            "_dom_classes": [],
            "_model_module": "@jupyter-widgets/controls",
            "_model_module_version": "1.5.0",
            "_model_name": "HTMLModel",
            "_view_count": null,
            "_view_module": "@jupyter-widgets/controls",
            "_view_module_version": "1.5.0",
            "_view_name": "HTMLView",
            "description": "",
            "description_tooltip": null,
            "layout": "IPY_MODEL_6fdf91bffa1c4bccbf548f22635232ce",
            "placeholder": "​",
            "style": "IPY_MODEL_0cc2bbb5292f4c10933216ab6cb2377c",
            "value": " 869M/869M [00:17&lt;00:00, 49.5MB/s]"
          }
        },
        "132c800eaae94a118de337486b31dd7b": {
          "model_module": "@jupyter-widgets/base",
          "model_name": "LayoutModel",
          "state": {
            "_model_module": "@jupyter-widgets/base",
            "_model_module_version": "1.2.0",
            "_model_name": "LayoutModel",
            "_view_count": null,
            "_view_module": "@jupyter-widgets/base",
            "_view_module_version": "1.2.0",
            "_view_name": "LayoutView",
            "align_content": null,
            "align_items": null,
            "align_self": null,
            "border": null,
            "bottom": null,
            "display": null,
            "flex": null,
            "flex_flow": null,
            "grid_area": null,
            "grid_auto_columns": null,
            "grid_auto_flow": null,
            "grid_auto_rows": null,
            "grid_column": null,
            "grid_gap": null,
            "grid_row": null,
            "grid_template_areas": null,
            "grid_template_columns": null,
            "grid_template_rows": null,
            "height": null,
            "justify_content": null,
            "justify_items": null,
            "left": null,
            "margin": null,
            "max_height": null,
            "max_width": null,
            "min_height": null,
            "min_width": null,
            "object_fit": null,
            "object_position": null,
            "order": null,
            "overflow": null,
            "overflow_x": null,
            "overflow_y": null,
            "padding": null,
            "right": null,
            "top": null,
            "visibility": null,
            "width": null
          }
        },
        "aa558ff20d79459abfde067a660790ef": {
          "model_module": "@jupyter-widgets/base",
          "model_name": "LayoutModel",
          "state": {
            "_model_module": "@jupyter-widgets/base",
            "_model_module_version": "1.2.0",
            "_model_name": "LayoutModel",
            "_view_count": null,
            "_view_module": "@jupyter-widgets/base",
            "_view_module_version": "1.2.0",
            "_view_name": "LayoutView",
            "align_content": null,
            "align_items": null,
            "align_self": null,
            "border": null,
            "bottom": null,
            "display": null,
            "flex": null,
            "flex_flow": null,
            "grid_area": null,
            "grid_auto_columns": null,
            "grid_auto_flow": null,
            "grid_auto_rows": null,
            "grid_column": null,
            "grid_gap": null,
            "grid_row": null,
            "grid_template_areas": null,
            "grid_template_columns": null,
            "grid_template_rows": null,
            "height": null,
            "justify_content": null,
            "justify_items": null,
            "left": null,
            "margin": null,
            "max_height": null,
            "max_width": null,
            "min_height": null,
            "min_width": null,
            "object_fit": null,
            "object_position": null,
            "order": null,
            "overflow": null,
            "overflow_x": null,
            "overflow_y": null,
            "padding": null,
            "right": null,
            "top": null,
            "visibility": null,
            "width": null
          }
        },
        "85d39474ef0d48af817324c568557362": {
          "model_module": "@jupyter-widgets/controls",
          "model_name": "ProgressStyleModel",
          "state": {
            "_model_module": "@jupyter-widgets/controls",
            "_model_module_version": "1.5.0",
            "_model_name": "ProgressStyleModel",
            "_view_count": null,
            "_view_module": "@jupyter-widgets/base",
            "_view_module_version": "1.2.0",
            "_view_name": "StyleView",
            "bar_color": null,
            "description_width": "initial"
          }
        },
        "6fdf91bffa1c4bccbf548f22635232ce": {
          "model_module": "@jupyter-widgets/base",
          "model_name": "LayoutModel",
          "state": {
            "_model_module": "@jupyter-widgets/base",
            "_model_module_version": "1.2.0",
            "_model_name": "LayoutModel",
            "_view_count": null,
            "_view_module": "@jupyter-widgets/base",
            "_view_module_version": "1.2.0",
            "_view_name": "LayoutView",
            "align_content": null,
            "align_items": null,
            "align_self": null,
            "border": null,
            "bottom": null,
            "display": null,
            "flex": null,
            "flex_flow": null,
            "grid_area": null,
            "grid_auto_columns": null,
            "grid_auto_flow": null,
            "grid_auto_rows": null,
            "grid_column": null,
            "grid_gap": null,
            "grid_row": null,
            "grid_template_areas": null,
            "grid_template_columns": null,
            "grid_template_rows": null,
            "height": null,
            "justify_content": null,
            "justify_items": null,
            "left": null,
            "margin": null,
            "max_height": null,
            "max_width": null,
            "min_height": null,
            "min_width": null,
            "object_fit": null,
            "object_position": null,
            "order": null,
            "overflow": null,
            "overflow_x": null,
            "overflow_y": null,
            "padding": null,
            "right": null,
            "top": null,
            "visibility": null,
            "width": null
          }
        },
        "0cc2bbb5292f4c10933216ab6cb2377c": {
          "model_module": "@jupyter-widgets/controls",
          "model_name": "DescriptionStyleModel",
          "state": {
            "_model_module": "@jupyter-widgets/controls",
            "_model_module_version": "1.5.0",
            "_model_name": "DescriptionStyleModel",
            "_view_count": null,
            "_view_module": "@jupyter-widgets/base",
            "_view_module_version": "1.2.0",
            "_view_name": "StyleView",
            "description_width": ""
          }
        },
        "38d2159432404dd0a21220b68d2a45a4": {
          "model_module": "@jupyter-widgets/controls",
          "model_name": "HBoxModel",
          "state": {
            "_dom_classes": [],
            "_model_module": "@jupyter-widgets/controls",
            "_model_module_version": "1.5.0",
            "_model_name": "HBoxModel",
            "_view_count": null,
            "_view_module": "@jupyter-widgets/controls",
            "_view_module_version": "1.5.0",
            "_view_name": "HBoxView",
            "box_style": "",
            "children": [
              "IPY_MODEL_b466d002a1474d7da16172da9ba5f4a6",
              "IPY_MODEL_26e1f074e243423984d2251011f73724"
            ],
            "layout": "IPY_MODEL_bc500429e6554b7db3993cb6fd1c097f"
          }
        },
        "b466d002a1474d7da16172da9ba5f4a6": {
          "model_module": "@jupyter-widgets/controls",
          "model_name": "FloatProgressModel",
          "state": {
            "_dom_classes": [],
            "_model_module": "@jupyter-widgets/controls",
            "_model_module_version": "1.5.0",
            "_model_name": "FloatProgressModel",
            "_view_count": null,
            "_view_module": "@jupyter-widgets/controls",
            "_view_module_version": "1.5.0",
            "_view_name": "ProgressView",
            "bar_style": "info",
            "description": "",
            "description_tooltip": null,
            "layout": "IPY_MODEL_0ae1c4c86a76451f9b6f7ad185e12fec",
            "max": 1,
            "min": 0,
            "orientation": "horizontal",
            "style": "IPY_MODEL_e6e138092af44a8ca1ffd421795ac576",
            "value": 1
          }
        },
        "26e1f074e243423984d2251011f73724": {
          "model_module": "@jupyter-widgets/controls",
          "model_name": "HTMLModel",
          "state": {
            "_dom_classes": [],
            "_model_module": "@jupyter-widgets/controls",
            "_model_module_version": "1.5.0",
            "_model_name": "HTMLModel",
            "_view_count": null,
            "_view_module": "@jupyter-widgets/controls",
            "_view_module_version": "1.5.0",
            "_view_name": "HTMLView",
            "description": "",
            "description_tooltip": null,
            "layout": "IPY_MODEL_2e8a7106d576437da5343bf94abb197f",
            "placeholder": "​",
            "style": "IPY_MODEL_9e8c743f18c24c56ac04d2f8a8c2b5a9",
            "value": " 4620/0 [00:08&lt;00:00, 1316.47 examples/s]"
          }
        },
        "bc500429e6554b7db3993cb6fd1c097f": {
          "model_module": "@jupyter-widgets/base",
          "model_name": "LayoutModel",
          "state": {
            "_model_module": "@jupyter-widgets/base",
            "_model_module_version": "1.2.0",
            "_model_name": "LayoutModel",
            "_view_count": null,
            "_view_module": "@jupyter-widgets/base",
            "_view_module_version": "1.2.0",
            "_view_name": "LayoutView",
            "align_content": null,
            "align_items": null,
            "align_self": null,
            "border": null,
            "bottom": null,
            "display": null,
            "flex": null,
            "flex_flow": null,
            "grid_area": null,
            "grid_auto_columns": null,
            "grid_auto_flow": null,
            "grid_auto_rows": null,
            "grid_column": null,
            "grid_gap": null,
            "grid_row": null,
            "grid_template_areas": null,
            "grid_template_columns": null,
            "grid_template_rows": null,
            "height": null,
            "justify_content": null,
            "justify_items": null,
            "left": null,
            "margin": null,
            "max_height": null,
            "max_width": null,
            "min_height": null,
            "min_width": null,
            "object_fit": null,
            "object_position": null,
            "order": null,
            "overflow": null,
            "overflow_x": null,
            "overflow_y": null,
            "padding": null,
            "right": null,
            "top": null,
            "visibility": null,
            "width": null
          }
        },
        "0ae1c4c86a76451f9b6f7ad185e12fec": {
          "model_module": "@jupyter-widgets/base",
          "model_name": "LayoutModel",
          "state": {
            "_model_module": "@jupyter-widgets/base",
            "_model_module_version": "1.2.0",
            "_model_name": "LayoutModel",
            "_view_count": null,
            "_view_module": "@jupyter-widgets/base",
            "_view_module_version": "1.2.0",
            "_view_name": "LayoutView",
            "align_content": null,
            "align_items": null,
            "align_self": null,
            "border": null,
            "bottom": null,
            "display": null,
            "flex": null,
            "flex_flow": null,
            "grid_area": null,
            "grid_auto_columns": null,
            "grid_auto_flow": null,
            "grid_auto_rows": null,
            "grid_column": null,
            "grid_gap": null,
            "grid_row": null,
            "grid_template_areas": null,
            "grid_template_columns": null,
            "grid_template_rows": null,
            "height": null,
            "justify_content": null,
            "justify_items": null,
            "left": null,
            "margin": null,
            "max_height": null,
            "max_width": null,
            "min_height": null,
            "min_width": null,
            "object_fit": null,
            "object_position": null,
            "order": null,
            "overflow": null,
            "overflow_x": null,
            "overflow_y": null,
            "padding": null,
            "right": null,
            "top": null,
            "visibility": null,
            "width": null
          }
        },
        "e6e138092af44a8ca1ffd421795ac576": {
          "model_module": "@jupyter-widgets/controls",
          "model_name": "ProgressStyleModel",
          "state": {
            "_model_module": "@jupyter-widgets/controls",
            "_model_module_version": "1.5.0",
            "_model_name": "ProgressStyleModel",
            "_view_count": null,
            "_view_module": "@jupyter-widgets/base",
            "_view_module_version": "1.2.0",
            "_view_name": "StyleView",
            "bar_color": null,
            "description_width": "initial"
          }
        },
        "2e8a7106d576437da5343bf94abb197f": {
          "model_module": "@jupyter-widgets/base",
          "model_name": "LayoutModel",
          "state": {
            "_model_module": "@jupyter-widgets/base",
            "_model_module_version": "1.2.0",
            "_model_name": "LayoutModel",
            "_view_count": null,
            "_view_module": "@jupyter-widgets/base",
            "_view_module_version": "1.2.0",
            "_view_name": "LayoutView",
            "align_content": null,
            "align_items": null,
            "align_self": null,
            "border": null,
            "bottom": null,
            "display": null,
            "flex": null,
            "flex_flow": null,
            "grid_area": null,
            "grid_auto_columns": null,
            "grid_auto_flow": null,
            "grid_auto_rows": null,
            "grid_column": null,
            "grid_gap": null,
            "grid_row": null,
            "grid_template_areas": null,
            "grid_template_columns": null,
            "grid_template_rows": null,
            "height": null,
            "justify_content": null,
            "justify_items": null,
            "left": null,
            "margin": null,
            "max_height": null,
            "max_width": null,
            "min_height": null,
            "min_width": null,
            "object_fit": null,
            "object_position": null,
            "order": null,
            "overflow": null,
            "overflow_x": null,
            "overflow_y": null,
            "padding": null,
            "right": null,
            "top": null,
            "visibility": null,
            "width": null
          }
        },
        "9e8c743f18c24c56ac04d2f8a8c2b5a9": {
          "model_module": "@jupyter-widgets/controls",
          "model_name": "DescriptionStyleModel",
          "state": {
            "_model_module": "@jupyter-widgets/controls",
            "_model_module_version": "1.5.0",
            "_model_name": "DescriptionStyleModel",
            "_view_count": null,
            "_view_module": "@jupyter-widgets/base",
            "_view_module_version": "1.2.0",
            "_view_name": "StyleView",
            "description_width": ""
          }
        },
        "64aa6669fef94c2bb7f1e20b42b3e5bb": {
          "model_module": "@jupyter-widgets/controls",
          "model_name": "HBoxModel",
          "state": {
            "_dom_classes": [],
            "_model_module": "@jupyter-widgets/controls",
            "_model_module_version": "1.5.0",
            "_model_name": "HBoxModel",
            "_view_count": null,
            "_view_module": "@jupyter-widgets/controls",
            "_view_module_version": "1.5.0",
            "_view_name": "HBoxView",
            "box_style": "",
            "children": [
              "IPY_MODEL_a6fe842d365a4f1a808ca8bab5c2f5bc",
              "IPY_MODEL_fe83fb4d3c03424c98e808f11722c584"
            ],
            "layout": "IPY_MODEL_ba1c9e7e7f704813aa18bec0c316c70a"
          }
        },
        "a6fe842d365a4f1a808ca8bab5c2f5bc": {
          "model_module": "@jupyter-widgets/controls",
          "model_name": "FloatProgressModel",
          "state": {
            "_dom_classes": [],
            "_model_module": "@jupyter-widgets/controls",
            "_model_module_version": "1.5.0",
            "_model_name": "FloatProgressModel",
            "_view_count": null,
            "_view_module": "@jupyter-widgets/controls",
            "_view_module_version": "1.5.0",
            "_view_name": "ProgressView",
            "bar_style": "info",
            "description": "",
            "description_tooltip": null,
            "layout": "IPY_MODEL_29bd30b1689a4d8db34aeb3a52f8a4f6",
            "max": 1,
            "min": 0,
            "orientation": "horizontal",
            "style": "IPY_MODEL_03b0b20512fb4289af7f08538fc1aaad",
            "value": 1
          }
        },
        "fe83fb4d3c03424c98e808f11722c584": {
          "model_module": "@jupyter-widgets/controls",
          "model_name": "HTMLModel",
          "state": {
            "_dom_classes": [],
            "_model_module": "@jupyter-widgets/controls",
            "_model_module_version": "1.5.0",
            "_model_name": "HTMLModel",
            "_view_count": null,
            "_view_module": "@jupyter-widgets/controls",
            "_view_module_version": "1.5.0",
            "_view_name": "HTMLView",
            "description": "",
            "description_tooltip": null,
            "layout": "IPY_MODEL_b950aae22b8943d1bf5bbe516643e8c9",
            "placeholder": "​",
            "style": "IPY_MODEL_39e3f0c6bc644f9b9d81b725bf7ddbfe",
            "value": " 1680/0 [00:01&lt;00:00, 1399.87 examples/s]"
          }
        },
        "ba1c9e7e7f704813aa18bec0c316c70a": {
          "model_module": "@jupyter-widgets/base",
          "model_name": "LayoutModel",
          "state": {
            "_model_module": "@jupyter-widgets/base",
            "_model_module_version": "1.2.0",
            "_model_name": "LayoutModel",
            "_view_count": null,
            "_view_module": "@jupyter-widgets/base",
            "_view_module_version": "1.2.0",
            "_view_name": "LayoutView",
            "align_content": null,
            "align_items": null,
            "align_self": null,
            "border": null,
            "bottom": null,
            "display": null,
            "flex": null,
            "flex_flow": null,
            "grid_area": null,
            "grid_auto_columns": null,
            "grid_auto_flow": null,
            "grid_auto_rows": null,
            "grid_column": null,
            "grid_gap": null,
            "grid_row": null,
            "grid_template_areas": null,
            "grid_template_columns": null,
            "grid_template_rows": null,
            "height": null,
            "justify_content": null,
            "justify_items": null,
            "left": null,
            "margin": null,
            "max_height": null,
            "max_width": null,
            "min_height": null,
            "min_width": null,
            "object_fit": null,
            "object_position": null,
            "order": null,
            "overflow": null,
            "overflow_x": null,
            "overflow_y": null,
            "padding": null,
            "right": null,
            "top": null,
            "visibility": null,
            "width": null
          }
        },
        "29bd30b1689a4d8db34aeb3a52f8a4f6": {
          "model_module": "@jupyter-widgets/base",
          "model_name": "LayoutModel",
          "state": {
            "_model_module": "@jupyter-widgets/base",
            "_model_module_version": "1.2.0",
            "_model_name": "LayoutModel",
            "_view_count": null,
            "_view_module": "@jupyter-widgets/base",
            "_view_module_version": "1.2.0",
            "_view_name": "LayoutView",
            "align_content": null,
            "align_items": null,
            "align_self": null,
            "border": null,
            "bottom": null,
            "display": null,
            "flex": null,
            "flex_flow": null,
            "grid_area": null,
            "grid_auto_columns": null,
            "grid_auto_flow": null,
            "grid_auto_rows": null,
            "grid_column": null,
            "grid_gap": null,
            "grid_row": null,
            "grid_template_areas": null,
            "grid_template_columns": null,
            "grid_template_rows": null,
            "height": null,
            "justify_content": null,
            "justify_items": null,
            "left": null,
            "margin": null,
            "max_height": null,
            "max_width": null,
            "min_height": null,
            "min_width": null,
            "object_fit": null,
            "object_position": null,
            "order": null,
            "overflow": null,
            "overflow_x": null,
            "overflow_y": null,
            "padding": null,
            "right": null,
            "top": null,
            "visibility": null,
            "width": null
          }
        },
        "03b0b20512fb4289af7f08538fc1aaad": {
          "model_module": "@jupyter-widgets/controls",
          "model_name": "ProgressStyleModel",
          "state": {
            "_model_module": "@jupyter-widgets/controls",
            "_model_module_version": "1.5.0",
            "_model_name": "ProgressStyleModel",
            "_view_count": null,
            "_view_module": "@jupyter-widgets/base",
            "_view_module_version": "1.2.0",
            "_view_name": "StyleView",
            "bar_color": null,
            "description_width": "initial"
          }
        },
        "b950aae22b8943d1bf5bbe516643e8c9": {
          "model_module": "@jupyter-widgets/base",
          "model_name": "LayoutModel",
          "state": {
            "_model_module": "@jupyter-widgets/base",
            "_model_module_version": "1.2.0",
            "_model_name": "LayoutModel",
            "_view_count": null,
            "_view_module": "@jupyter-widgets/base",
            "_view_module_version": "1.2.0",
            "_view_name": "LayoutView",
            "align_content": null,
            "align_items": null,
            "align_self": null,
            "border": null,
            "bottom": null,
            "display": null,
            "flex": null,
            "flex_flow": null,
            "grid_area": null,
            "grid_auto_columns": null,
            "grid_auto_flow": null,
            "grid_auto_rows": null,
            "grid_column": null,
            "grid_gap": null,
            "grid_row": null,
            "grid_template_areas": null,
            "grid_template_columns": null,
            "grid_template_rows": null,
            "height": null,
            "justify_content": null,
            "justify_items": null,
            "left": null,
            "margin": null,
            "max_height": null,
            "max_width": null,
            "min_height": null,
            "min_width": null,
            "object_fit": null,
            "object_position": null,
            "order": null,
            "overflow": null,
            "overflow_x": null,
            "overflow_y": null,
            "padding": null,
            "right": null,
            "top": null,
            "visibility": null,
            "width": null
          }
        },
        "39e3f0c6bc644f9b9d81b725bf7ddbfe": {
          "model_module": "@jupyter-widgets/controls",
          "model_name": "DescriptionStyleModel",
          "state": {
            "_model_module": "@jupyter-widgets/controls",
            "_model_module_version": "1.5.0",
            "_model_name": "DescriptionStyleModel",
            "_view_count": null,
            "_view_module": "@jupyter-widgets/base",
            "_view_module_version": "1.2.0",
            "_view_name": "StyleView",
            "description_width": ""
          }
        },
        "59b236c33da54f98ab6b6f34506b806d": {
          "model_module": "@jupyter-widgets/controls",
          "model_name": "HBoxModel",
          "state": {
            "_dom_classes": [],
            "_model_module": "@jupyter-widgets/controls",
            "_model_module_version": "1.5.0",
            "_model_name": "HBoxModel",
            "_view_count": null,
            "_view_module": "@jupyter-widgets/controls",
            "_view_module_version": "1.5.0",
            "_view_name": "HBoxView",
            "box_style": "",
            "children": [
              "IPY_MODEL_15e94f882b694374af665bcced5e2121",
              "IPY_MODEL_8d095accab03486ab7a4935d90cf51bd"
            ],
            "layout": "IPY_MODEL_b09c750e2aac4757b3de7f63a7637894"
          }
        },
        "15e94f882b694374af665bcced5e2121": {
          "model_module": "@jupyter-widgets/controls",
          "model_name": "FloatProgressModel",
          "state": {
            "_dom_classes": [],
            "_model_module": "@jupyter-widgets/controls",
            "_model_module_version": "1.5.0",
            "_model_name": "FloatProgressModel",
            "_view_count": null,
            "_view_module": "@jupyter-widgets/controls",
            "_view_module_version": "1.5.0",
            "_view_name": "ProgressView",
            "bar_style": "success",
            "description": "100%",
            "description_tooltip": null,
            "layout": "IPY_MODEL_5707eaad16eb44ae998237dcd334ff60",
            "max": 4620,
            "min": 0,
            "orientation": "horizontal",
            "style": "IPY_MODEL_37a17460a017431598ec404734eb9a42",
            "value": 4620
          }
        },
        "8d095accab03486ab7a4935d90cf51bd": {
          "model_module": "@jupyter-widgets/controls",
          "model_name": "HTMLModel",
          "state": {
            "_dom_classes": [],
            "_model_module": "@jupyter-widgets/controls",
            "_model_module_version": "1.5.0",
            "_model_name": "HTMLModel",
            "_view_count": null,
            "_view_module": "@jupyter-widgets/controls",
            "_view_module_version": "1.5.0",
            "_view_name": "HTMLView",
            "description": "",
            "description_tooltip": null,
            "layout": "IPY_MODEL_c6b222b53ccb4794847667ed21acc807",
            "placeholder": "​",
            "style": "IPY_MODEL_cb3eed6077054219a786d7bf7cdc916a",
            "value": " 4620/4620 [01:05&lt;00:00, 70.19ex/s]"
          }
        },
        "b09c750e2aac4757b3de7f63a7637894": {
          "model_module": "@jupyter-widgets/base",
          "model_name": "LayoutModel",
          "state": {
            "_model_module": "@jupyter-widgets/base",
            "_model_module_version": "1.2.0",
            "_model_name": "LayoutModel",
            "_view_count": null,
            "_view_module": "@jupyter-widgets/base",
            "_view_module_version": "1.2.0",
            "_view_name": "LayoutView",
            "align_content": null,
            "align_items": null,
            "align_self": null,
            "border": null,
            "bottom": null,
            "display": null,
            "flex": null,
            "flex_flow": null,
            "grid_area": null,
            "grid_auto_columns": null,
            "grid_auto_flow": null,
            "grid_auto_rows": null,
            "grid_column": null,
            "grid_gap": null,
            "grid_row": null,
            "grid_template_areas": null,
            "grid_template_columns": null,
            "grid_template_rows": null,
            "height": null,
            "justify_content": null,
            "justify_items": null,
            "left": null,
            "margin": null,
            "max_height": null,
            "max_width": null,
            "min_height": null,
            "min_width": null,
            "object_fit": null,
            "object_position": null,
            "order": null,
            "overflow": null,
            "overflow_x": null,
            "overflow_y": null,
            "padding": null,
            "right": null,
            "top": null,
            "visibility": null,
            "width": null
          }
        },
        "5707eaad16eb44ae998237dcd334ff60": {
          "model_module": "@jupyter-widgets/base",
          "model_name": "LayoutModel",
          "state": {
            "_model_module": "@jupyter-widgets/base",
            "_model_module_version": "1.2.0",
            "_model_name": "LayoutModel",
            "_view_count": null,
            "_view_module": "@jupyter-widgets/base",
            "_view_module_version": "1.2.0",
            "_view_name": "LayoutView",
            "align_content": null,
            "align_items": null,
            "align_self": null,
            "border": null,
            "bottom": null,
            "display": null,
            "flex": null,
            "flex_flow": null,
            "grid_area": null,
            "grid_auto_columns": null,
            "grid_auto_flow": null,
            "grid_auto_rows": null,
            "grid_column": null,
            "grid_gap": null,
            "grid_row": null,
            "grid_template_areas": null,
            "grid_template_columns": null,
            "grid_template_rows": null,
            "height": null,
            "justify_content": null,
            "justify_items": null,
            "left": null,
            "margin": null,
            "max_height": null,
            "max_width": null,
            "min_height": null,
            "min_width": null,
            "object_fit": null,
            "object_position": null,
            "order": null,
            "overflow": null,
            "overflow_x": null,
            "overflow_y": null,
            "padding": null,
            "right": null,
            "top": null,
            "visibility": null,
            "width": null
          }
        },
        "37a17460a017431598ec404734eb9a42": {
          "model_module": "@jupyter-widgets/controls",
          "model_name": "ProgressStyleModel",
          "state": {
            "_model_module": "@jupyter-widgets/controls",
            "_model_module_version": "1.5.0",
            "_model_name": "ProgressStyleModel",
            "_view_count": null,
            "_view_module": "@jupyter-widgets/base",
            "_view_module_version": "1.2.0",
            "_view_name": "StyleView",
            "bar_color": null,
            "description_width": "initial"
          }
        },
        "c6b222b53ccb4794847667ed21acc807": {
          "model_module": "@jupyter-widgets/base",
          "model_name": "LayoutModel",
          "state": {
            "_model_module": "@jupyter-widgets/base",
            "_model_module_version": "1.2.0",
            "_model_name": "LayoutModel",
            "_view_count": null,
            "_view_module": "@jupyter-widgets/base",
            "_view_module_version": "1.2.0",
            "_view_name": "LayoutView",
            "align_content": null,
            "align_items": null,
            "align_self": null,
            "border": null,
            "bottom": null,
            "display": null,
            "flex": null,
            "flex_flow": null,
            "grid_area": null,
            "grid_auto_columns": null,
            "grid_auto_flow": null,
            "grid_auto_rows": null,
            "grid_column": null,
            "grid_gap": null,
            "grid_row": null,
            "grid_template_areas": null,
            "grid_template_columns": null,
            "grid_template_rows": null,
            "height": null,
            "justify_content": null,
            "justify_items": null,
            "left": null,
            "margin": null,
            "max_height": null,
            "max_width": null,
            "min_height": null,
            "min_width": null,
            "object_fit": null,
            "object_position": null,
            "order": null,
            "overflow": null,
            "overflow_x": null,
            "overflow_y": null,
            "padding": null,
            "right": null,
            "top": null,
            "visibility": null,
            "width": null
          }
        },
        "cb3eed6077054219a786d7bf7cdc916a": {
          "model_module": "@jupyter-widgets/controls",
          "model_name": "DescriptionStyleModel",
          "state": {
            "_model_module": "@jupyter-widgets/controls",
            "_model_module_version": "1.5.0",
            "_model_name": "DescriptionStyleModel",
            "_view_count": null,
            "_view_module": "@jupyter-widgets/base",
            "_view_module_version": "1.2.0",
            "_view_name": "StyleView",
            "description_width": ""
          }
        },
        "879c5eef21f446358d9737ca43e241e6": {
          "model_module": "@jupyter-widgets/controls",
          "model_name": "HBoxModel",
          "state": {
            "_dom_classes": [],
            "_model_module": "@jupyter-widgets/controls",
            "_model_module_version": "1.5.0",
            "_model_name": "HBoxModel",
            "_view_count": null,
            "_view_module": "@jupyter-widgets/controls",
            "_view_module_version": "1.5.0",
            "_view_name": "HBoxView",
            "box_style": "",
            "children": [
              "IPY_MODEL_3363ec2559d7415b8cff74251edd3ebb",
              "IPY_MODEL_bdcdf5a01ade48d2b5ba8d8686ea40b2"
            ],
            "layout": "IPY_MODEL_a191267447244025a85d6565528d01b2"
          }
        },
        "3363ec2559d7415b8cff74251edd3ebb": {
          "model_module": "@jupyter-widgets/controls",
          "model_name": "FloatProgressModel",
          "state": {
            "_dom_classes": [],
            "_model_module": "@jupyter-widgets/controls",
            "_model_module_version": "1.5.0",
            "_model_name": "FloatProgressModel",
            "_view_count": null,
            "_view_module": "@jupyter-widgets/controls",
            "_view_module_version": "1.5.0",
            "_view_name": "ProgressView",
            "bar_style": "success",
            "description": "100%",
            "description_tooltip": null,
            "layout": "IPY_MODEL_1a9a30a5334f4a89a5ee981a88ac5212",
            "max": 1680,
            "min": 0,
            "orientation": "horizontal",
            "style": "IPY_MODEL_d92791e112f94495a1a27c3663d5476b",
            "value": 1680
          }
        },
        "bdcdf5a01ade48d2b5ba8d8686ea40b2": {
          "model_module": "@jupyter-widgets/controls",
          "model_name": "HTMLModel",
          "state": {
            "_dom_classes": [],
            "_model_module": "@jupyter-widgets/controls",
            "_model_module_version": "1.5.0",
            "_model_name": "HTMLModel",
            "_view_count": null,
            "_view_module": "@jupyter-widgets/controls",
            "_view_module_version": "1.5.0",
            "_view_name": "HTMLView",
            "description": "",
            "description_tooltip": null,
            "layout": "IPY_MODEL_4498e605bbff4165bcface819420f040",
            "placeholder": "​",
            "style": "IPY_MODEL_326f5c14f2374235b3ef0330254bbd2b",
            "value": " 1680/1680 [00:59&lt;00:00, 28.05ex/s]"
          }
        },
        "a191267447244025a85d6565528d01b2": {
          "model_module": "@jupyter-widgets/base",
          "model_name": "LayoutModel",
          "state": {
            "_model_module": "@jupyter-widgets/base",
            "_model_module_version": "1.2.0",
            "_model_name": "LayoutModel",
            "_view_count": null,
            "_view_module": "@jupyter-widgets/base",
            "_view_module_version": "1.2.0",
            "_view_name": "LayoutView",
            "align_content": null,
            "align_items": null,
            "align_self": null,
            "border": null,
            "bottom": null,
            "display": null,
            "flex": null,
            "flex_flow": null,
            "grid_area": null,
            "grid_auto_columns": null,
            "grid_auto_flow": null,
            "grid_auto_rows": null,
            "grid_column": null,
            "grid_gap": null,
            "grid_row": null,
            "grid_template_areas": null,
            "grid_template_columns": null,
            "grid_template_rows": null,
            "height": null,
            "justify_content": null,
            "justify_items": null,
            "left": null,
            "margin": null,
            "max_height": null,
            "max_width": null,
            "min_height": null,
            "min_width": null,
            "object_fit": null,
            "object_position": null,
            "order": null,
            "overflow": null,
            "overflow_x": null,
            "overflow_y": null,
            "padding": null,
            "right": null,
            "top": null,
            "visibility": null,
            "width": null
          }
        },
        "1a9a30a5334f4a89a5ee981a88ac5212": {
          "model_module": "@jupyter-widgets/base",
          "model_name": "LayoutModel",
          "state": {
            "_model_module": "@jupyter-widgets/base",
            "_model_module_version": "1.2.0",
            "_model_name": "LayoutModel",
            "_view_count": null,
            "_view_module": "@jupyter-widgets/base",
            "_view_module_version": "1.2.0",
            "_view_name": "LayoutView",
            "align_content": null,
            "align_items": null,
            "align_self": null,
            "border": null,
            "bottom": null,
            "display": null,
            "flex": null,
            "flex_flow": null,
            "grid_area": null,
            "grid_auto_columns": null,
            "grid_auto_flow": null,
            "grid_auto_rows": null,
            "grid_column": null,
            "grid_gap": null,
            "grid_row": null,
            "grid_template_areas": null,
            "grid_template_columns": null,
            "grid_template_rows": null,
            "height": null,
            "justify_content": null,
            "justify_items": null,
            "left": null,
            "margin": null,
            "max_height": null,
            "max_width": null,
            "min_height": null,
            "min_width": null,
            "object_fit": null,
            "object_position": null,
            "order": null,
            "overflow": null,
            "overflow_x": null,
            "overflow_y": null,
            "padding": null,
            "right": null,
            "top": null,
            "visibility": null,
            "width": null
          }
        },
        "d92791e112f94495a1a27c3663d5476b": {
          "model_module": "@jupyter-widgets/controls",
          "model_name": "ProgressStyleModel",
          "state": {
            "_model_module": "@jupyter-widgets/controls",
            "_model_module_version": "1.5.0",
            "_model_name": "ProgressStyleModel",
            "_view_count": null,
            "_view_module": "@jupyter-widgets/base",
            "_view_module_version": "1.2.0",
            "_view_name": "StyleView",
            "bar_color": null,
            "description_width": "initial"
          }
        },
        "4498e605bbff4165bcface819420f040": {
          "model_module": "@jupyter-widgets/base",
          "model_name": "LayoutModel",
          "state": {
            "_model_module": "@jupyter-widgets/base",
            "_model_module_version": "1.2.0",
            "_model_name": "LayoutModel",
            "_view_count": null,
            "_view_module": "@jupyter-widgets/base",
            "_view_module_version": "1.2.0",
            "_view_name": "LayoutView",
            "align_content": null,
            "align_items": null,
            "align_self": null,
            "border": null,
            "bottom": null,
            "display": null,
            "flex": null,
            "flex_flow": null,
            "grid_area": null,
            "grid_auto_columns": null,
            "grid_auto_flow": null,
            "grid_auto_rows": null,
            "grid_column": null,
            "grid_gap": null,
            "grid_row": null,
            "grid_template_areas": null,
            "grid_template_columns": null,
            "grid_template_rows": null,
            "height": null,
            "justify_content": null,
            "justify_items": null,
            "left": null,
            "margin": null,
            "max_height": null,
            "max_width": null,
            "min_height": null,
            "min_width": null,
            "object_fit": null,
            "object_position": null,
            "order": null,
            "overflow": null,
            "overflow_x": null,
            "overflow_y": null,
            "padding": null,
            "right": null,
            "top": null,
            "visibility": null,
            "width": null
          }
        },
        "326f5c14f2374235b3ef0330254bbd2b": {
          "model_module": "@jupyter-widgets/controls",
          "model_name": "DescriptionStyleModel",
          "state": {
            "_model_module": "@jupyter-widgets/controls",
            "_model_module_version": "1.5.0",
            "_model_name": "DescriptionStyleModel",
            "_view_count": null,
            "_view_module": "@jupyter-widgets/base",
            "_view_module_version": "1.2.0",
            "_view_name": "StyleView",
            "description_width": ""
          }
        },
        "96bfc935d98b4eb1b03f794e77c1eb5a": {
          "model_module": "@jupyter-widgets/controls",
          "model_name": "HBoxModel",
          "state": {
            "_dom_classes": [],
            "_model_module": "@jupyter-widgets/controls",
            "_model_module_version": "1.5.0",
            "_model_name": "HBoxModel",
            "_view_count": null,
            "_view_module": "@jupyter-widgets/controls",
            "_view_module_version": "1.5.0",
            "_view_name": "HBoxView",
            "box_style": "",
            "children": [
              "IPY_MODEL_92ca3fe3331d43b299d8b2d4986d4f1b",
              "IPY_MODEL_945e2e4cc0414401bcce95357f210266"
            ],
            "layout": "IPY_MODEL_4ca6ed43b4b2438185bb4474f350864d"
          }
        },
        "92ca3fe3331d43b299d8b2d4986d4f1b": {
          "model_module": "@jupyter-widgets/controls",
          "model_name": "FloatProgressModel",
          "state": {
            "_dom_classes": [],
            "_model_module": "@jupyter-widgets/controls",
            "_model_module_version": "1.5.0",
            "_model_name": "FloatProgressModel",
            "_view_count": null,
            "_view_module": "@jupyter-widgets/controls",
            "_view_module_version": "1.5.0",
            "_view_name": "ProgressView",
            "bar_style": "success",
            "description": "100%",
            "description_tooltip": null,
            "layout": "IPY_MODEL_91a5130bb7ed4633ad6fb1974a675333",
            "max": 1,
            "min": 0,
            "orientation": "horizontal",
            "style": "IPY_MODEL_7903b83e9a924b76a18a8363ef695bd8",
            "value": 1
          }
        },
        "945e2e4cc0414401bcce95357f210266": {
          "model_module": "@jupyter-widgets/controls",
          "model_name": "HTMLModel",
          "state": {
            "_dom_classes": [],
            "_model_module": "@jupyter-widgets/controls",
            "_model_module_version": "1.5.0",
            "_model_name": "HTMLModel",
            "_view_count": null,
            "_view_module": "@jupyter-widgets/controls",
            "_view_module_version": "1.5.0",
            "_view_name": "HTMLView",
            "description": "",
            "description_tooltip": null,
            "layout": "IPY_MODEL_647556d0d27247d6b34630f969d514f1",
            "placeholder": "​",
            "style": "IPY_MODEL_7093d32d12c1456082569c215f258eb7",
            "value": " 1/1 [00:00&lt;00:00, 13.65ba/s]"
          }
        },
        "4ca6ed43b4b2438185bb4474f350864d": {
          "model_module": "@jupyter-widgets/base",
          "model_name": "LayoutModel",
          "state": {
            "_model_module": "@jupyter-widgets/base",
            "_model_module_version": "1.2.0",
            "_model_name": "LayoutModel",
            "_view_count": null,
            "_view_module": "@jupyter-widgets/base",
            "_view_module_version": "1.2.0",
            "_view_name": "LayoutView",
            "align_content": null,
            "align_items": null,
            "align_self": null,
            "border": null,
            "bottom": null,
            "display": null,
            "flex": null,
            "flex_flow": null,
            "grid_area": null,
            "grid_auto_columns": null,
            "grid_auto_flow": null,
            "grid_auto_rows": null,
            "grid_column": null,
            "grid_gap": null,
            "grid_row": null,
            "grid_template_areas": null,
            "grid_template_columns": null,
            "grid_template_rows": null,
            "height": null,
            "justify_content": null,
            "justify_items": null,
            "left": null,
            "margin": null,
            "max_height": null,
            "max_width": null,
            "min_height": null,
            "min_width": null,
            "object_fit": null,
            "object_position": null,
            "order": null,
            "overflow": null,
            "overflow_x": null,
            "overflow_y": null,
            "padding": null,
            "right": null,
            "top": null,
            "visibility": null,
            "width": null
          }
        },
        "91a5130bb7ed4633ad6fb1974a675333": {
          "model_module": "@jupyter-widgets/base",
          "model_name": "LayoutModel",
          "state": {
            "_model_module": "@jupyter-widgets/base",
            "_model_module_version": "1.2.0",
            "_model_name": "LayoutModel",
            "_view_count": null,
            "_view_module": "@jupyter-widgets/base",
            "_view_module_version": "1.2.0",
            "_view_name": "LayoutView",
            "align_content": null,
            "align_items": null,
            "align_self": null,
            "border": null,
            "bottom": null,
            "display": null,
            "flex": null,
            "flex_flow": null,
            "grid_area": null,
            "grid_auto_columns": null,
            "grid_auto_flow": null,
            "grid_auto_rows": null,
            "grid_column": null,
            "grid_gap": null,
            "grid_row": null,
            "grid_template_areas": null,
            "grid_template_columns": null,
            "grid_template_rows": null,
            "height": null,
            "justify_content": null,
            "justify_items": null,
            "left": null,
            "margin": null,
            "max_height": null,
            "max_width": null,
            "min_height": null,
            "min_width": null,
            "object_fit": null,
            "object_position": null,
            "order": null,
            "overflow": null,
            "overflow_x": null,
            "overflow_y": null,
            "padding": null,
            "right": null,
            "top": null,
            "visibility": null,
            "width": null
          }
        },
        "7903b83e9a924b76a18a8363ef695bd8": {
          "model_module": "@jupyter-widgets/controls",
          "model_name": "ProgressStyleModel",
          "state": {
            "_model_module": "@jupyter-widgets/controls",
            "_model_module_version": "1.5.0",
            "_model_name": "ProgressStyleModel",
            "_view_count": null,
            "_view_module": "@jupyter-widgets/base",
            "_view_module_version": "1.2.0",
            "_view_name": "StyleView",
            "bar_color": null,
            "description_width": "initial"
          }
        },
        "647556d0d27247d6b34630f969d514f1": {
          "model_module": "@jupyter-widgets/base",
          "model_name": "LayoutModel",
          "state": {
            "_model_module": "@jupyter-widgets/base",
            "_model_module_version": "1.2.0",
            "_model_name": "LayoutModel",
            "_view_count": null,
            "_view_module": "@jupyter-widgets/base",
            "_view_module_version": "1.2.0",
            "_view_name": "LayoutView",
            "align_content": null,
            "align_items": null,
            "align_self": null,
            "border": null,
            "bottom": null,
            "display": null,
            "flex": null,
            "flex_flow": null,
            "grid_area": null,
            "grid_auto_columns": null,
            "grid_auto_flow": null,
            "grid_auto_rows": null,
            "grid_column": null,
            "grid_gap": null,
            "grid_row": null,
            "grid_template_areas": null,
            "grid_template_columns": null,
            "grid_template_rows": null,
            "height": null,
            "justify_content": null,
            "justify_items": null,
            "left": null,
            "margin": null,
            "max_height": null,
            "max_width": null,
            "min_height": null,
            "min_width": null,
            "object_fit": null,
            "object_position": null,
            "order": null,
            "overflow": null,
            "overflow_x": null,
            "overflow_y": null,
            "padding": null,
            "right": null,
            "top": null,
            "visibility": null,
            "width": null
          }
        },
        "7093d32d12c1456082569c215f258eb7": {
          "model_module": "@jupyter-widgets/controls",
          "model_name": "DescriptionStyleModel",
          "state": {
            "_model_module": "@jupyter-widgets/controls",
            "_model_module_version": "1.5.0",
            "_model_name": "DescriptionStyleModel",
            "_view_count": null,
            "_view_module": "@jupyter-widgets/base",
            "_view_module_version": "1.2.0",
            "_view_name": "StyleView",
            "description_width": ""
          }
        },
        "8782a08165ce402ab50cf6162e7f7d3b": {
          "model_module": "@jupyter-widgets/controls",
          "model_name": "HBoxModel",
          "state": {
            "_dom_classes": [],
            "_model_module": "@jupyter-widgets/controls",
            "_model_module_version": "1.5.0",
            "_model_name": "HBoxModel",
            "_view_count": null,
            "_view_module": "@jupyter-widgets/controls",
            "_view_module_version": "1.5.0",
            "_view_name": "HBoxView",
            "box_style": "",
            "children": [
              "IPY_MODEL_bc048a58a7a043069499dc3149a16bdb",
              "IPY_MODEL_63472db53e8246bf80244ac7be367565"
            ],
            "layout": "IPY_MODEL_e0b8bbf5479f404291759d2201e4d6f6"
          }
        },
        "bc048a58a7a043069499dc3149a16bdb": {
          "model_module": "@jupyter-widgets/controls",
          "model_name": "FloatProgressModel",
          "state": {
            "_dom_classes": [],
            "_model_module": "@jupyter-widgets/controls",
            "_model_module_version": "1.5.0",
            "_model_name": "FloatProgressModel",
            "_view_count": null,
            "_view_module": "@jupyter-widgets/controls",
            "_view_module_version": "1.5.0",
            "_view_name": "ProgressView",
            "bar_style": "success",
            "description": "100%",
            "description_tooltip": null,
            "layout": "IPY_MODEL_56707184ba6147d4af3563db98558ee0",
            "max": 1,
            "min": 0,
            "orientation": "horizontal",
            "style": "IPY_MODEL_25aae6bb44bd4a8eb7a753a7384b39eb",
            "value": 1
          }
        },
        "63472db53e8246bf80244ac7be367565": {
          "model_module": "@jupyter-widgets/controls",
          "model_name": "HTMLModel",
          "state": {
            "_dom_classes": [],
            "_model_module": "@jupyter-widgets/controls",
            "_model_module_version": "1.5.0",
            "_model_name": "HTMLModel",
            "_view_count": null,
            "_view_module": "@jupyter-widgets/controls",
            "_view_module_version": "1.5.0",
            "_view_name": "HTMLView",
            "description": "",
            "description_tooltip": null,
            "layout": "IPY_MODEL_b70b94974252451d9e2047f33017901f",
            "placeholder": "​",
            "style": "IPY_MODEL_dc9e94297b3a4809a91d577f9272fbe7",
            "value": " 1/1 [00:59&lt;00:00, 59.70s/ba]"
          }
        },
        "e0b8bbf5479f404291759d2201e4d6f6": {
          "model_module": "@jupyter-widgets/base",
          "model_name": "LayoutModel",
          "state": {
            "_model_module": "@jupyter-widgets/base",
            "_model_module_version": "1.2.0",
            "_model_name": "LayoutModel",
            "_view_count": null,
            "_view_module": "@jupyter-widgets/base",
            "_view_module_version": "1.2.0",
            "_view_name": "LayoutView",
            "align_content": null,
            "align_items": null,
            "align_self": null,
            "border": null,
            "bottom": null,
            "display": null,
            "flex": null,
            "flex_flow": null,
            "grid_area": null,
            "grid_auto_columns": null,
            "grid_auto_flow": null,
            "grid_auto_rows": null,
            "grid_column": null,
            "grid_gap": null,
            "grid_row": null,
            "grid_template_areas": null,
            "grid_template_columns": null,
            "grid_template_rows": null,
            "height": null,
            "justify_content": null,
            "justify_items": null,
            "left": null,
            "margin": null,
            "max_height": null,
            "max_width": null,
            "min_height": null,
            "min_width": null,
            "object_fit": null,
            "object_position": null,
            "order": null,
            "overflow": null,
            "overflow_x": null,
            "overflow_y": null,
            "padding": null,
            "right": null,
            "top": null,
            "visibility": null,
            "width": null
          }
        },
        "56707184ba6147d4af3563db98558ee0": {
          "model_module": "@jupyter-widgets/base",
          "model_name": "LayoutModel",
          "state": {
            "_model_module": "@jupyter-widgets/base",
            "_model_module_version": "1.2.0",
            "_model_name": "LayoutModel",
            "_view_count": null,
            "_view_module": "@jupyter-widgets/base",
            "_view_module_version": "1.2.0",
            "_view_name": "LayoutView",
            "align_content": null,
            "align_items": null,
            "align_self": null,
            "border": null,
            "bottom": null,
            "display": null,
            "flex": null,
            "flex_flow": null,
            "grid_area": null,
            "grid_auto_columns": null,
            "grid_auto_flow": null,
            "grid_auto_rows": null,
            "grid_column": null,
            "grid_gap": null,
            "grid_row": null,
            "grid_template_areas": null,
            "grid_template_columns": null,
            "grid_template_rows": null,
            "height": null,
            "justify_content": null,
            "justify_items": null,
            "left": null,
            "margin": null,
            "max_height": null,
            "max_width": null,
            "min_height": null,
            "min_width": null,
            "object_fit": null,
            "object_position": null,
            "order": null,
            "overflow": null,
            "overflow_x": null,
            "overflow_y": null,
            "padding": null,
            "right": null,
            "top": null,
            "visibility": null,
            "width": null
          }
        },
        "25aae6bb44bd4a8eb7a753a7384b39eb": {
          "model_module": "@jupyter-widgets/controls",
          "model_name": "ProgressStyleModel",
          "state": {
            "_model_module": "@jupyter-widgets/controls",
            "_model_module_version": "1.5.0",
            "_model_name": "ProgressStyleModel",
            "_view_count": null,
            "_view_module": "@jupyter-widgets/base",
            "_view_module_version": "1.2.0",
            "_view_name": "StyleView",
            "bar_color": null,
            "description_width": "initial"
          }
        },
        "b70b94974252451d9e2047f33017901f": {
          "model_module": "@jupyter-widgets/base",
          "model_name": "LayoutModel",
          "state": {
            "_model_module": "@jupyter-widgets/base",
            "_model_module_version": "1.2.0",
            "_model_name": "LayoutModel",
            "_view_count": null,
            "_view_module": "@jupyter-widgets/base",
            "_view_module_version": "1.2.0",
            "_view_name": "LayoutView",
            "align_content": null,
            "align_items": null,
            "align_self": null,
            "border": null,
            "bottom": null,
            "display": null,
            "flex": null,
            "flex_flow": null,
            "grid_area": null,
            "grid_auto_columns": null,
            "grid_auto_flow": null,
            "grid_auto_rows": null,
            "grid_column": null,
            "grid_gap": null,
            "grid_row": null,
            "grid_template_areas": null,
            "grid_template_columns": null,
            "grid_template_rows": null,
            "height": null,
            "justify_content": null,
            "justify_items": null,
            "left": null,
            "margin": null,
            "max_height": null,
            "max_width": null,
            "min_height": null,
            "min_width": null,
            "object_fit": null,
            "object_position": null,
            "order": null,
            "overflow": null,
            "overflow_x": null,
            "overflow_y": null,
            "padding": null,
            "right": null,
            "top": null,
            "visibility": null,
            "width": null
          }
        },
        "dc9e94297b3a4809a91d577f9272fbe7": {
          "model_module": "@jupyter-widgets/controls",
          "model_name": "DescriptionStyleModel",
          "state": {
            "_model_module": "@jupyter-widgets/controls",
            "_model_module_version": "1.5.0",
            "_model_name": "DescriptionStyleModel",
            "_view_count": null,
            "_view_module": "@jupyter-widgets/base",
            "_view_module_version": "1.2.0",
            "_view_name": "StyleView",
            "description_width": ""
          }
        },
        "e13b97c7b7d942eaa94a25b4c65fc9cb": {
          "model_module": "@jupyter-widgets/controls",
          "model_name": "HBoxModel",
          "state": {
            "_dom_classes": [],
            "_model_module": "@jupyter-widgets/controls",
            "_model_module_version": "1.5.0",
            "_model_name": "HBoxModel",
            "_view_count": null,
            "_view_module": "@jupyter-widgets/controls",
            "_view_module_version": "1.5.0",
            "_view_name": "HBoxView",
            "box_style": "",
            "children": [
              "IPY_MODEL_05eea9c3d7ac4dbca9a35eb004ebb036",
              "IPY_MODEL_42781d9014e646dfb10798de036e2f7f"
            ],
            "layout": "IPY_MODEL_c650f64c30344cfe9f48da3b64c99e0a"
          }
        },
        "05eea9c3d7ac4dbca9a35eb004ebb036": {
          "model_module": "@jupyter-widgets/controls",
          "model_name": "FloatProgressModel",
          "state": {
            "_dom_classes": [],
            "_model_module": "@jupyter-widgets/controls",
            "_model_module_version": "1.5.0",
            "_model_name": "FloatProgressModel",
            "_view_count": null,
            "_view_module": "@jupyter-widgets/controls",
            "_view_module_version": "1.5.0",
            "_view_name": "ProgressView",
            "bar_style": "success",
            "description": "#0: 100%",
            "description_tooltip": null,
            "layout": "IPY_MODEL_0c364e6ef66f430f9db07d8d599f3cc9",
            "max": 1155,
            "min": 0,
            "orientation": "horizontal",
            "style": "IPY_MODEL_10794329b3314253b569736965230ee3",
            "value": 1155
          }
        },
        "42781d9014e646dfb10798de036e2f7f": {
          "model_module": "@jupyter-widgets/controls",
          "model_name": "HTMLModel",
          "state": {
            "_dom_classes": [],
            "_model_module": "@jupyter-widgets/controls",
            "_model_module_version": "1.5.0",
            "_model_name": "HTMLModel",
            "_view_count": null,
            "_view_module": "@jupyter-widgets/controls",
            "_view_module_version": "1.5.0",
            "_view_name": "HTMLView",
            "description": "",
            "description_tooltip": null,
            "layout": "IPY_MODEL_b9f99e72e40b4bc3b9874963f2aee4d4",
            "placeholder": "​",
            "style": "IPY_MODEL_2416281e31504af28fe81cc1a46a11bb",
            "value": " 1155/1155 [00:07&lt;00:00, 152.52ex/s]"
          }
        },
        "c650f64c30344cfe9f48da3b64c99e0a": {
          "model_module": "@jupyter-widgets/base",
          "model_name": "LayoutModel",
          "state": {
            "_model_module": "@jupyter-widgets/base",
            "_model_module_version": "1.2.0",
            "_model_name": "LayoutModel",
            "_view_count": null,
            "_view_module": "@jupyter-widgets/base",
            "_view_module_version": "1.2.0",
            "_view_name": "LayoutView",
            "align_content": null,
            "align_items": null,
            "align_self": null,
            "border": null,
            "bottom": null,
            "display": null,
            "flex": null,
            "flex_flow": null,
            "grid_area": null,
            "grid_auto_columns": null,
            "grid_auto_flow": null,
            "grid_auto_rows": null,
            "grid_column": null,
            "grid_gap": null,
            "grid_row": null,
            "grid_template_areas": null,
            "grid_template_columns": null,
            "grid_template_rows": null,
            "height": null,
            "justify_content": null,
            "justify_items": null,
            "left": null,
            "margin": null,
            "max_height": null,
            "max_width": null,
            "min_height": null,
            "min_width": null,
            "object_fit": null,
            "object_position": null,
            "order": null,
            "overflow": null,
            "overflow_x": null,
            "overflow_y": null,
            "padding": null,
            "right": null,
            "top": null,
            "visibility": null,
            "width": null
          }
        },
        "0c364e6ef66f430f9db07d8d599f3cc9": {
          "model_module": "@jupyter-widgets/base",
          "model_name": "LayoutModel",
          "state": {
            "_model_module": "@jupyter-widgets/base",
            "_model_module_version": "1.2.0",
            "_model_name": "LayoutModel",
            "_view_count": null,
            "_view_module": "@jupyter-widgets/base",
            "_view_module_version": "1.2.0",
            "_view_name": "LayoutView",
            "align_content": null,
            "align_items": null,
            "align_self": null,
            "border": null,
            "bottom": null,
            "display": null,
            "flex": null,
            "flex_flow": null,
            "grid_area": null,
            "grid_auto_columns": null,
            "grid_auto_flow": null,
            "grid_auto_rows": null,
            "grid_column": null,
            "grid_gap": null,
            "grid_row": null,
            "grid_template_areas": null,
            "grid_template_columns": null,
            "grid_template_rows": null,
            "height": null,
            "justify_content": null,
            "justify_items": null,
            "left": null,
            "margin": null,
            "max_height": null,
            "max_width": null,
            "min_height": null,
            "min_width": null,
            "object_fit": null,
            "object_position": null,
            "order": null,
            "overflow": null,
            "overflow_x": null,
            "overflow_y": null,
            "padding": null,
            "right": null,
            "top": null,
            "visibility": null,
            "width": null
          }
        },
        "10794329b3314253b569736965230ee3": {
          "model_module": "@jupyter-widgets/controls",
          "model_name": "ProgressStyleModel",
          "state": {
            "_model_module": "@jupyter-widgets/controls",
            "_model_module_version": "1.5.0",
            "_model_name": "ProgressStyleModel",
            "_view_count": null,
            "_view_module": "@jupyter-widgets/base",
            "_view_module_version": "1.2.0",
            "_view_name": "StyleView",
            "bar_color": null,
            "description_width": "initial"
          }
        },
        "b9f99e72e40b4bc3b9874963f2aee4d4": {
          "model_module": "@jupyter-widgets/base",
          "model_name": "LayoutModel",
          "state": {
            "_model_module": "@jupyter-widgets/base",
            "_model_module_version": "1.2.0",
            "_model_name": "LayoutModel",
            "_view_count": null,
            "_view_module": "@jupyter-widgets/base",
            "_view_module_version": "1.2.0",
            "_view_name": "LayoutView",
            "align_content": null,
            "align_items": null,
            "align_self": null,
            "border": null,
            "bottom": null,
            "display": null,
            "flex": null,
            "flex_flow": null,
            "grid_area": null,
            "grid_auto_columns": null,
            "grid_auto_flow": null,
            "grid_auto_rows": null,
            "grid_column": null,
            "grid_gap": null,
            "grid_row": null,
            "grid_template_areas": null,
            "grid_template_columns": null,
            "grid_template_rows": null,
            "height": null,
            "justify_content": null,
            "justify_items": null,
            "left": null,
            "margin": null,
            "max_height": null,
            "max_width": null,
            "min_height": null,
            "min_width": null,
            "object_fit": null,
            "object_position": null,
            "order": null,
            "overflow": null,
            "overflow_x": null,
            "overflow_y": null,
            "padding": null,
            "right": null,
            "top": null,
            "visibility": null,
            "width": null
          }
        },
        "2416281e31504af28fe81cc1a46a11bb": {
          "model_module": "@jupyter-widgets/controls",
          "model_name": "DescriptionStyleModel",
          "state": {
            "_model_module": "@jupyter-widgets/controls",
            "_model_module_version": "1.5.0",
            "_model_name": "DescriptionStyleModel",
            "_view_count": null,
            "_view_module": "@jupyter-widgets/base",
            "_view_module_version": "1.2.0",
            "_view_name": "StyleView",
            "description_width": ""
          }
        },
        "7f6d4e897f1946ada5d240d88147a12e": {
          "model_module": "@jupyter-widgets/controls",
          "model_name": "HBoxModel",
          "state": {
            "_dom_classes": [],
            "_model_module": "@jupyter-widgets/controls",
            "_model_module_version": "1.5.0",
            "_model_name": "HBoxModel",
            "_view_count": null,
            "_view_module": "@jupyter-widgets/controls",
            "_view_module_version": "1.5.0",
            "_view_name": "HBoxView",
            "box_style": "",
            "children": [
              "IPY_MODEL_f5fa1a7692f3470c92351f49d806d645",
              "IPY_MODEL_c971786a91324769bad012bc386edc0a"
            ],
            "layout": "IPY_MODEL_fce140d577ba4dde9f6f2b0de5545fc0"
          }
        },
        "f5fa1a7692f3470c92351f49d806d645": {
          "model_module": "@jupyter-widgets/controls",
          "model_name": "FloatProgressModel",
          "state": {
            "_dom_classes": [],
            "_model_module": "@jupyter-widgets/controls",
            "_model_module_version": "1.5.0",
            "_model_name": "FloatProgressModel",
            "_view_count": null,
            "_view_module": "@jupyter-widgets/controls",
            "_view_module_version": "1.5.0",
            "_view_name": "ProgressView",
            "bar_style": "success",
            "description": "#1: 100%",
            "description_tooltip": null,
            "layout": "IPY_MODEL_e0148e222ab64e8c849114e3648d6e40",
            "max": 1155,
            "min": 0,
            "orientation": "horizontal",
            "style": "IPY_MODEL_64897cfc035341e0a44b58e31cd4b24c",
            "value": 1155
          }
        },
        "c971786a91324769bad012bc386edc0a": {
          "model_module": "@jupyter-widgets/controls",
          "model_name": "HTMLModel",
          "state": {
            "_dom_classes": [],
            "_model_module": "@jupyter-widgets/controls",
            "_model_module_version": "1.5.0",
            "_model_name": "HTMLModel",
            "_view_count": null,
            "_view_module": "@jupyter-widgets/controls",
            "_view_module_version": "1.5.0",
            "_view_name": "HTMLView",
            "description": "",
            "description_tooltip": null,
            "layout": "IPY_MODEL_22b4f7561f1c448e80b665dd1b64911a",
            "placeholder": "​",
            "style": "IPY_MODEL_be8180198a864f4a96dd463e3f801896",
            "value": " 1155/1155 [00:11&lt;00:00, 98.35ex/s]"
          }
        },
        "fce140d577ba4dde9f6f2b0de5545fc0": {
          "model_module": "@jupyter-widgets/base",
          "model_name": "LayoutModel",
          "state": {
            "_model_module": "@jupyter-widgets/base",
            "_model_module_version": "1.2.0",
            "_model_name": "LayoutModel",
            "_view_count": null,
            "_view_module": "@jupyter-widgets/base",
            "_view_module_version": "1.2.0",
            "_view_name": "LayoutView",
            "align_content": null,
            "align_items": null,
            "align_self": null,
            "border": null,
            "bottom": null,
            "display": null,
            "flex": null,
            "flex_flow": null,
            "grid_area": null,
            "grid_auto_columns": null,
            "grid_auto_flow": null,
            "grid_auto_rows": null,
            "grid_column": null,
            "grid_gap": null,
            "grid_row": null,
            "grid_template_areas": null,
            "grid_template_columns": null,
            "grid_template_rows": null,
            "height": null,
            "justify_content": null,
            "justify_items": null,
            "left": null,
            "margin": null,
            "max_height": null,
            "max_width": null,
            "min_height": null,
            "min_width": null,
            "object_fit": null,
            "object_position": null,
            "order": null,
            "overflow": null,
            "overflow_x": null,
            "overflow_y": null,
            "padding": null,
            "right": null,
            "top": null,
            "visibility": null,
            "width": null
          }
        },
        "e0148e222ab64e8c849114e3648d6e40": {
          "model_module": "@jupyter-widgets/base",
          "model_name": "LayoutModel",
          "state": {
            "_model_module": "@jupyter-widgets/base",
            "_model_module_version": "1.2.0",
            "_model_name": "LayoutModel",
            "_view_count": null,
            "_view_module": "@jupyter-widgets/base",
            "_view_module_version": "1.2.0",
            "_view_name": "LayoutView",
            "align_content": null,
            "align_items": null,
            "align_self": null,
            "border": null,
            "bottom": null,
            "display": null,
            "flex": null,
            "flex_flow": null,
            "grid_area": null,
            "grid_auto_columns": null,
            "grid_auto_flow": null,
            "grid_auto_rows": null,
            "grid_column": null,
            "grid_gap": null,
            "grid_row": null,
            "grid_template_areas": null,
            "grid_template_columns": null,
            "grid_template_rows": null,
            "height": null,
            "justify_content": null,
            "justify_items": null,
            "left": null,
            "margin": null,
            "max_height": null,
            "max_width": null,
            "min_height": null,
            "min_width": null,
            "object_fit": null,
            "object_position": null,
            "order": null,
            "overflow": null,
            "overflow_x": null,
            "overflow_y": null,
            "padding": null,
            "right": null,
            "top": null,
            "visibility": null,
            "width": null
          }
        },
        "64897cfc035341e0a44b58e31cd4b24c": {
          "model_module": "@jupyter-widgets/controls",
          "model_name": "ProgressStyleModel",
          "state": {
            "_model_module": "@jupyter-widgets/controls",
            "_model_module_version": "1.5.0",
            "_model_name": "ProgressStyleModel",
            "_view_count": null,
            "_view_module": "@jupyter-widgets/base",
            "_view_module_version": "1.2.0",
            "_view_name": "StyleView",
            "bar_color": null,
            "description_width": "initial"
          }
        },
        "22b4f7561f1c448e80b665dd1b64911a": {
          "model_module": "@jupyter-widgets/base",
          "model_name": "LayoutModel",
          "state": {
            "_model_module": "@jupyter-widgets/base",
            "_model_module_version": "1.2.0",
            "_model_name": "LayoutModel",
            "_view_count": null,
            "_view_module": "@jupyter-widgets/base",
            "_view_module_version": "1.2.0",
            "_view_name": "LayoutView",
            "align_content": null,
            "align_items": null,
            "align_self": null,
            "border": null,
            "bottom": null,
            "display": null,
            "flex": null,
            "flex_flow": null,
            "grid_area": null,
            "grid_auto_columns": null,
            "grid_auto_flow": null,
            "grid_auto_rows": null,
            "grid_column": null,
            "grid_gap": null,
            "grid_row": null,
            "grid_template_areas": null,
            "grid_template_columns": null,
            "grid_template_rows": null,
            "height": null,
            "justify_content": null,
            "justify_items": null,
            "left": null,
            "margin": null,
            "max_height": null,
            "max_width": null,
            "min_height": null,
            "min_width": null,
            "object_fit": null,
            "object_position": null,
            "order": null,
            "overflow": null,
            "overflow_x": null,
            "overflow_y": null,
            "padding": null,
            "right": null,
            "top": null,
            "visibility": null,
            "width": null
          }
        },
        "be8180198a864f4a96dd463e3f801896": {
          "model_module": "@jupyter-widgets/controls",
          "model_name": "DescriptionStyleModel",
          "state": {
            "_model_module": "@jupyter-widgets/controls",
            "_model_module_version": "1.5.0",
            "_model_name": "DescriptionStyleModel",
            "_view_count": null,
            "_view_module": "@jupyter-widgets/base",
            "_view_module_version": "1.2.0",
            "_view_name": "StyleView",
            "description_width": ""
          }
        },
        "2e6ce39ddf7d483491ecee9e0a4f450d": {
          "model_module": "@jupyter-widgets/controls",
          "model_name": "HBoxModel",
          "state": {
            "_dom_classes": [],
            "_model_module": "@jupyter-widgets/controls",
            "_model_module_version": "1.5.0",
            "_model_name": "HBoxModel",
            "_view_count": null,
            "_view_module": "@jupyter-widgets/controls",
            "_view_module_version": "1.5.0",
            "_view_name": "HBoxView",
            "box_style": "",
            "children": [
              "IPY_MODEL_2128a193ac9b4ff2a76aec570e537203",
              "IPY_MODEL_3fa60bc84d964afd81a28e061be7a599"
            ],
            "layout": "IPY_MODEL_90297fb8c39a41348417099823cbf50d"
          }
        },
        "2128a193ac9b4ff2a76aec570e537203": {
          "model_module": "@jupyter-widgets/controls",
          "model_name": "FloatProgressModel",
          "state": {
            "_dom_classes": [],
            "_model_module": "@jupyter-widgets/controls",
            "_model_module_version": "1.5.0",
            "_model_name": "FloatProgressModel",
            "_view_count": null,
            "_view_module": "@jupyter-widgets/controls",
            "_view_module_version": "1.5.0",
            "_view_name": "ProgressView",
            "bar_style": "success",
            "description": "#3: 100%",
            "description_tooltip": null,
            "layout": "IPY_MODEL_efc00e119e1e4b488b29ce581f32e6f6",
            "max": 1155,
            "min": 0,
            "orientation": "horizontal",
            "style": "IPY_MODEL_0d8ce41ac4f943549ae3320e008fadf5",
            "value": 1155
          }
        },
        "3fa60bc84d964afd81a28e061be7a599": {
          "model_module": "@jupyter-widgets/controls",
          "model_name": "HTMLModel",
          "state": {
            "_dom_classes": [],
            "_model_module": "@jupyter-widgets/controls",
            "_model_module_version": "1.5.0",
            "_model_name": "HTMLModel",
            "_view_count": null,
            "_view_module": "@jupyter-widgets/controls",
            "_view_module_version": "1.5.0",
            "_view_name": "HTMLView",
            "description": "",
            "description_tooltip": null,
            "layout": "IPY_MODEL_0606cbcfc3c3467fa4ead520cdea8489",
            "placeholder": "​",
            "style": "IPY_MODEL_df394d3c17974b4382ec067f52d85558",
            "value": " 1155/1155 [00:12&lt;00:00, 91.40ex/s]"
          }
        },
        "90297fb8c39a41348417099823cbf50d": {
          "model_module": "@jupyter-widgets/base",
          "model_name": "LayoutModel",
          "state": {
            "_model_module": "@jupyter-widgets/base",
            "_model_module_version": "1.2.0",
            "_model_name": "LayoutModel",
            "_view_count": null,
            "_view_module": "@jupyter-widgets/base",
            "_view_module_version": "1.2.0",
            "_view_name": "LayoutView",
            "align_content": null,
            "align_items": null,
            "align_self": null,
            "border": null,
            "bottom": null,
            "display": null,
            "flex": null,
            "flex_flow": null,
            "grid_area": null,
            "grid_auto_columns": null,
            "grid_auto_flow": null,
            "grid_auto_rows": null,
            "grid_column": null,
            "grid_gap": null,
            "grid_row": null,
            "grid_template_areas": null,
            "grid_template_columns": null,
            "grid_template_rows": null,
            "height": null,
            "justify_content": null,
            "justify_items": null,
            "left": null,
            "margin": null,
            "max_height": null,
            "max_width": null,
            "min_height": null,
            "min_width": null,
            "object_fit": null,
            "object_position": null,
            "order": null,
            "overflow": null,
            "overflow_x": null,
            "overflow_y": null,
            "padding": null,
            "right": null,
            "top": null,
            "visibility": null,
            "width": null
          }
        },
        "efc00e119e1e4b488b29ce581f32e6f6": {
          "model_module": "@jupyter-widgets/base",
          "model_name": "LayoutModel",
          "state": {
            "_model_module": "@jupyter-widgets/base",
            "_model_module_version": "1.2.0",
            "_model_name": "LayoutModel",
            "_view_count": null,
            "_view_module": "@jupyter-widgets/base",
            "_view_module_version": "1.2.0",
            "_view_name": "LayoutView",
            "align_content": null,
            "align_items": null,
            "align_self": null,
            "border": null,
            "bottom": null,
            "display": null,
            "flex": null,
            "flex_flow": null,
            "grid_area": null,
            "grid_auto_columns": null,
            "grid_auto_flow": null,
            "grid_auto_rows": null,
            "grid_column": null,
            "grid_gap": null,
            "grid_row": null,
            "grid_template_areas": null,
            "grid_template_columns": null,
            "grid_template_rows": null,
            "height": null,
            "justify_content": null,
            "justify_items": null,
            "left": null,
            "margin": null,
            "max_height": null,
            "max_width": null,
            "min_height": null,
            "min_width": null,
            "object_fit": null,
            "object_position": null,
            "order": null,
            "overflow": null,
            "overflow_x": null,
            "overflow_y": null,
            "padding": null,
            "right": null,
            "top": null,
            "visibility": null,
            "width": null
          }
        },
        "0d8ce41ac4f943549ae3320e008fadf5": {
          "model_module": "@jupyter-widgets/controls",
          "model_name": "ProgressStyleModel",
          "state": {
            "_model_module": "@jupyter-widgets/controls",
            "_model_module_version": "1.5.0",
            "_model_name": "ProgressStyleModel",
            "_view_count": null,
            "_view_module": "@jupyter-widgets/base",
            "_view_module_version": "1.2.0",
            "_view_name": "StyleView",
            "bar_color": null,
            "description_width": "initial"
          }
        },
        "0606cbcfc3c3467fa4ead520cdea8489": {
          "model_module": "@jupyter-widgets/base",
          "model_name": "LayoutModel",
          "state": {
            "_model_module": "@jupyter-widgets/base",
            "_model_module_version": "1.2.0",
            "_model_name": "LayoutModel",
            "_view_count": null,
            "_view_module": "@jupyter-widgets/base",
            "_view_module_version": "1.2.0",
            "_view_name": "LayoutView",
            "align_content": null,
            "align_items": null,
            "align_self": null,
            "border": null,
            "bottom": null,
            "display": null,
            "flex": null,
            "flex_flow": null,
            "grid_area": null,
            "grid_auto_columns": null,
            "grid_auto_flow": null,
            "grid_auto_rows": null,
            "grid_column": null,
            "grid_gap": null,
            "grid_row": null,
            "grid_template_areas": null,
            "grid_template_columns": null,
            "grid_template_rows": null,
            "height": null,
            "justify_content": null,
            "justify_items": null,
            "left": null,
            "margin": null,
            "max_height": null,
            "max_width": null,
            "min_height": null,
            "min_width": null,
            "object_fit": null,
            "object_position": null,
            "order": null,
            "overflow": null,
            "overflow_x": null,
            "overflow_y": null,
            "padding": null,
            "right": null,
            "top": null,
            "visibility": null,
            "width": null
          }
        },
        "df394d3c17974b4382ec067f52d85558": {
          "model_module": "@jupyter-widgets/controls",
          "model_name": "DescriptionStyleModel",
          "state": {
            "_model_module": "@jupyter-widgets/controls",
            "_model_module_version": "1.5.0",
            "_model_name": "DescriptionStyleModel",
            "_view_count": null,
            "_view_module": "@jupyter-widgets/base",
            "_view_module_version": "1.2.0",
            "_view_name": "StyleView",
            "description_width": ""
          }
        },
        "97af2af547134820a40126ec0cd67f8a": {
          "model_module": "@jupyter-widgets/controls",
          "model_name": "HBoxModel",
          "state": {
            "_dom_classes": [],
            "_model_module": "@jupyter-widgets/controls",
            "_model_module_version": "1.5.0",
            "_model_name": "HBoxModel",
            "_view_count": null,
            "_view_module": "@jupyter-widgets/controls",
            "_view_module_version": "1.5.0",
            "_view_name": "HBoxView",
            "box_style": "",
            "children": [
              "IPY_MODEL_c82327507cf34132ad7d0cbe3bac72ed",
              "IPY_MODEL_d9caf6c992ab4b7ea93e05df99f02f58"
            ],
            "layout": "IPY_MODEL_3cbaa1a5d64841d2b4a89769346b5415"
          }
        },
        "c82327507cf34132ad7d0cbe3bac72ed": {
          "model_module": "@jupyter-widgets/controls",
          "model_name": "FloatProgressModel",
          "state": {
            "_dom_classes": [],
            "_model_module": "@jupyter-widgets/controls",
            "_model_module_version": "1.5.0",
            "_model_name": "FloatProgressModel",
            "_view_count": null,
            "_view_module": "@jupyter-widgets/controls",
            "_view_module_version": "1.5.0",
            "_view_name": "ProgressView",
            "bar_style": "success",
            "description": "#2: 100%",
            "description_tooltip": null,
            "layout": "IPY_MODEL_75288bdf5aae47f399fe96cd1d4434ae",
            "max": 1155,
            "min": 0,
            "orientation": "horizontal",
            "style": "IPY_MODEL_916cbcd5e5c44f33a5f1cf023b949dd6",
            "value": 1155
          }
        },
        "d9caf6c992ab4b7ea93e05df99f02f58": {
          "model_module": "@jupyter-widgets/controls",
          "model_name": "HTMLModel",
          "state": {
            "_dom_classes": [],
            "_model_module": "@jupyter-widgets/controls",
            "_model_module_version": "1.5.0",
            "_model_name": "HTMLModel",
            "_view_count": null,
            "_view_module": "@jupyter-widgets/controls",
            "_view_module_version": "1.5.0",
            "_view_name": "HTMLView",
            "description": "",
            "description_tooltip": null,
            "layout": "IPY_MODEL_f8476083b4ce4046aae5456bcd972105",
            "placeholder": "​",
            "style": "IPY_MODEL_9ad9fac31d82464781ebf6b5a809ae82",
            "value": " 1155/1155 [00:12&lt;00:00, 92.58ex/s]"
          }
        },
        "3cbaa1a5d64841d2b4a89769346b5415": {
          "model_module": "@jupyter-widgets/base",
          "model_name": "LayoutModel",
          "state": {
            "_model_module": "@jupyter-widgets/base",
            "_model_module_version": "1.2.0",
            "_model_name": "LayoutModel",
            "_view_count": null,
            "_view_module": "@jupyter-widgets/base",
            "_view_module_version": "1.2.0",
            "_view_name": "LayoutView",
            "align_content": null,
            "align_items": null,
            "align_self": null,
            "border": null,
            "bottom": null,
            "display": null,
            "flex": null,
            "flex_flow": null,
            "grid_area": null,
            "grid_auto_columns": null,
            "grid_auto_flow": null,
            "grid_auto_rows": null,
            "grid_column": null,
            "grid_gap": null,
            "grid_row": null,
            "grid_template_areas": null,
            "grid_template_columns": null,
            "grid_template_rows": null,
            "height": null,
            "justify_content": null,
            "justify_items": null,
            "left": null,
            "margin": null,
            "max_height": null,
            "max_width": null,
            "min_height": null,
            "min_width": null,
            "object_fit": null,
            "object_position": null,
            "order": null,
            "overflow": null,
            "overflow_x": null,
            "overflow_y": null,
            "padding": null,
            "right": null,
            "top": null,
            "visibility": null,
            "width": null
          }
        },
        "75288bdf5aae47f399fe96cd1d4434ae": {
          "model_module": "@jupyter-widgets/base",
          "model_name": "LayoutModel",
          "state": {
            "_model_module": "@jupyter-widgets/base",
            "_model_module_version": "1.2.0",
            "_model_name": "LayoutModel",
            "_view_count": null,
            "_view_module": "@jupyter-widgets/base",
            "_view_module_version": "1.2.0",
            "_view_name": "LayoutView",
            "align_content": null,
            "align_items": null,
            "align_self": null,
            "border": null,
            "bottom": null,
            "display": null,
            "flex": null,
            "flex_flow": null,
            "grid_area": null,
            "grid_auto_columns": null,
            "grid_auto_flow": null,
            "grid_auto_rows": null,
            "grid_column": null,
            "grid_gap": null,
            "grid_row": null,
            "grid_template_areas": null,
            "grid_template_columns": null,
            "grid_template_rows": null,
            "height": null,
            "justify_content": null,
            "justify_items": null,
            "left": null,
            "margin": null,
            "max_height": null,
            "max_width": null,
            "min_height": null,
            "min_width": null,
            "object_fit": null,
            "object_position": null,
            "order": null,
            "overflow": null,
            "overflow_x": null,
            "overflow_y": null,
            "padding": null,
            "right": null,
            "top": null,
            "visibility": null,
            "width": null
          }
        },
        "916cbcd5e5c44f33a5f1cf023b949dd6": {
          "model_module": "@jupyter-widgets/controls",
          "model_name": "ProgressStyleModel",
          "state": {
            "_model_module": "@jupyter-widgets/controls",
            "_model_module_version": "1.5.0",
            "_model_name": "ProgressStyleModel",
            "_view_count": null,
            "_view_module": "@jupyter-widgets/base",
            "_view_module_version": "1.2.0",
            "_view_name": "StyleView",
            "bar_color": null,
            "description_width": "initial"
          }
        },
        "f8476083b4ce4046aae5456bcd972105": {
          "model_module": "@jupyter-widgets/base",
          "model_name": "LayoutModel",
          "state": {
            "_model_module": "@jupyter-widgets/base",
            "_model_module_version": "1.2.0",
            "_model_name": "LayoutModel",
            "_view_count": null,
            "_view_module": "@jupyter-widgets/base",
            "_view_module_version": "1.2.0",
            "_view_name": "LayoutView",
            "align_content": null,
            "align_items": null,
            "align_self": null,
            "border": null,
            "bottom": null,
            "display": null,
            "flex": null,
            "flex_flow": null,
            "grid_area": null,
            "grid_auto_columns": null,
            "grid_auto_flow": null,
            "grid_auto_rows": null,
            "grid_column": null,
            "grid_gap": null,
            "grid_row": null,
            "grid_template_areas": null,
            "grid_template_columns": null,
            "grid_template_rows": null,
            "height": null,
            "justify_content": null,
            "justify_items": null,
            "left": null,
            "margin": null,
            "max_height": null,
            "max_width": null,
            "min_height": null,
            "min_width": null,
            "object_fit": null,
            "object_position": null,
            "order": null,
            "overflow": null,
            "overflow_x": null,
            "overflow_y": null,
            "padding": null,
            "right": null,
            "top": null,
            "visibility": null,
            "width": null
          }
        },
        "9ad9fac31d82464781ebf6b5a809ae82": {
          "model_module": "@jupyter-widgets/controls",
          "model_name": "DescriptionStyleModel",
          "state": {
            "_model_module": "@jupyter-widgets/controls",
            "_model_module_version": "1.5.0",
            "_model_name": "DescriptionStyleModel",
            "_view_count": null,
            "_view_module": "@jupyter-widgets/base",
            "_view_module_version": "1.2.0",
            "_view_name": "StyleView",
            "description_width": ""
          }
        },
        "5ec260f2ff75485695679244d72b456c": {
          "model_module": "@jupyter-widgets/controls",
          "model_name": "HBoxModel",
          "state": {
            "_dom_classes": [],
            "_model_module": "@jupyter-widgets/controls",
            "_model_module_version": "1.5.0",
            "_model_name": "HBoxModel",
            "_view_count": null,
            "_view_module": "@jupyter-widgets/controls",
            "_view_module_version": "1.5.0",
            "_view_name": "HBoxView",
            "box_style": "",
            "children": [
              "IPY_MODEL_6a7c2e0e17b145d39c1671d92350973d",
              "IPY_MODEL_1c0be55e1bf148388e101684220f006d"
            ],
            "layout": "IPY_MODEL_1f48b364d7c846e0a4e5c9e9010c1e1a"
          }
        },
        "6a7c2e0e17b145d39c1671d92350973d": {
          "model_module": "@jupyter-widgets/controls",
          "model_name": "FloatProgressModel",
          "state": {
            "_dom_classes": [],
            "_model_module": "@jupyter-widgets/controls",
            "_model_module_version": "1.5.0",
            "_model_name": "FloatProgressModel",
            "_view_count": null,
            "_view_module": "@jupyter-widgets/controls",
            "_view_module_version": "1.5.0",
            "_view_name": "ProgressView",
            "bar_style": "success",
            "description": "#0: 100%",
            "description_tooltip": null,
            "layout": "IPY_MODEL_c4a153a0313146519517543c4b2bddff",
            "max": 420,
            "min": 0,
            "orientation": "horizontal",
            "style": "IPY_MODEL_72bcb6c7f4af4f4683835ff1c52f8997",
            "value": 420
          }
        },
        "1c0be55e1bf148388e101684220f006d": {
          "model_module": "@jupyter-widgets/controls",
          "model_name": "HTMLModel",
          "state": {
            "_dom_classes": [],
            "_model_module": "@jupyter-widgets/controls",
            "_model_module_version": "1.5.0",
            "_model_name": "HTMLModel",
            "_view_count": null,
            "_view_module": "@jupyter-widgets/controls",
            "_view_module_version": "1.5.0",
            "_view_name": "HTMLView",
            "description": "",
            "description_tooltip": null,
            "layout": "IPY_MODEL_30cef159c31a4f94bb9afb2d3137b4ba",
            "placeholder": "​",
            "style": "IPY_MODEL_0d5ed9c3fef94b83944e1e1ac29959c5",
            "value": " 420/420 [00:01&lt;00:00, 231.34ex/s]"
          }
        },
        "1f48b364d7c846e0a4e5c9e9010c1e1a": {
          "model_module": "@jupyter-widgets/base",
          "model_name": "LayoutModel",
          "state": {
            "_model_module": "@jupyter-widgets/base",
            "_model_module_version": "1.2.0",
            "_model_name": "LayoutModel",
            "_view_count": null,
            "_view_module": "@jupyter-widgets/base",
            "_view_module_version": "1.2.0",
            "_view_name": "LayoutView",
            "align_content": null,
            "align_items": null,
            "align_self": null,
            "border": null,
            "bottom": null,
            "display": null,
            "flex": null,
            "flex_flow": null,
            "grid_area": null,
            "grid_auto_columns": null,
            "grid_auto_flow": null,
            "grid_auto_rows": null,
            "grid_column": null,
            "grid_gap": null,
            "grid_row": null,
            "grid_template_areas": null,
            "grid_template_columns": null,
            "grid_template_rows": null,
            "height": null,
            "justify_content": null,
            "justify_items": null,
            "left": null,
            "margin": null,
            "max_height": null,
            "max_width": null,
            "min_height": null,
            "min_width": null,
            "object_fit": null,
            "object_position": null,
            "order": null,
            "overflow": null,
            "overflow_x": null,
            "overflow_y": null,
            "padding": null,
            "right": null,
            "top": null,
            "visibility": null,
            "width": null
          }
        },
        "c4a153a0313146519517543c4b2bddff": {
          "model_module": "@jupyter-widgets/base",
          "model_name": "LayoutModel",
          "state": {
            "_model_module": "@jupyter-widgets/base",
            "_model_module_version": "1.2.0",
            "_model_name": "LayoutModel",
            "_view_count": null,
            "_view_module": "@jupyter-widgets/base",
            "_view_module_version": "1.2.0",
            "_view_name": "LayoutView",
            "align_content": null,
            "align_items": null,
            "align_self": null,
            "border": null,
            "bottom": null,
            "display": null,
            "flex": null,
            "flex_flow": null,
            "grid_area": null,
            "grid_auto_columns": null,
            "grid_auto_flow": null,
            "grid_auto_rows": null,
            "grid_column": null,
            "grid_gap": null,
            "grid_row": null,
            "grid_template_areas": null,
            "grid_template_columns": null,
            "grid_template_rows": null,
            "height": null,
            "justify_content": null,
            "justify_items": null,
            "left": null,
            "margin": null,
            "max_height": null,
            "max_width": null,
            "min_height": null,
            "min_width": null,
            "object_fit": null,
            "object_position": null,
            "order": null,
            "overflow": null,
            "overflow_x": null,
            "overflow_y": null,
            "padding": null,
            "right": null,
            "top": null,
            "visibility": null,
            "width": null
          }
        },
        "72bcb6c7f4af4f4683835ff1c52f8997": {
          "model_module": "@jupyter-widgets/controls",
          "model_name": "ProgressStyleModel",
          "state": {
            "_model_module": "@jupyter-widgets/controls",
            "_model_module_version": "1.5.0",
            "_model_name": "ProgressStyleModel",
            "_view_count": null,
            "_view_module": "@jupyter-widgets/base",
            "_view_module_version": "1.2.0",
            "_view_name": "StyleView",
            "bar_color": null,
            "description_width": "initial"
          }
        },
        "30cef159c31a4f94bb9afb2d3137b4ba": {
          "model_module": "@jupyter-widgets/base",
          "model_name": "LayoutModel",
          "state": {
            "_model_module": "@jupyter-widgets/base",
            "_model_module_version": "1.2.0",
            "_model_name": "LayoutModel",
            "_view_count": null,
            "_view_module": "@jupyter-widgets/base",
            "_view_module_version": "1.2.0",
            "_view_name": "LayoutView",
            "align_content": null,
            "align_items": null,
            "align_self": null,
            "border": null,
            "bottom": null,
            "display": null,
            "flex": null,
            "flex_flow": null,
            "grid_area": null,
            "grid_auto_columns": null,
            "grid_auto_flow": null,
            "grid_auto_rows": null,
            "grid_column": null,
            "grid_gap": null,
            "grid_row": null,
            "grid_template_areas": null,
            "grid_template_columns": null,
            "grid_template_rows": null,
            "height": null,
            "justify_content": null,
            "justify_items": null,
            "left": null,
            "margin": null,
            "max_height": null,
            "max_width": null,
            "min_height": null,
            "min_width": null,
            "object_fit": null,
            "object_position": null,
            "order": null,
            "overflow": null,
            "overflow_x": null,
            "overflow_y": null,
            "padding": null,
            "right": null,
            "top": null,
            "visibility": null,
            "width": null
          }
        },
        "0d5ed9c3fef94b83944e1e1ac29959c5": {
          "model_module": "@jupyter-widgets/controls",
          "model_name": "DescriptionStyleModel",
          "state": {
            "_model_module": "@jupyter-widgets/controls",
            "_model_module_version": "1.5.0",
            "_model_name": "DescriptionStyleModel",
            "_view_count": null,
            "_view_module": "@jupyter-widgets/base",
            "_view_module_version": "1.2.0",
            "_view_name": "StyleView",
            "description_width": ""
          }
        },
        "2497ac5ae09a40cfbdd1b003a870c838": {
          "model_module": "@jupyter-widgets/controls",
          "model_name": "HBoxModel",
          "state": {
            "_dom_classes": [],
            "_model_module": "@jupyter-widgets/controls",
            "_model_module_version": "1.5.0",
            "_model_name": "HBoxModel",
            "_view_count": null,
            "_view_module": "@jupyter-widgets/controls",
            "_view_module_version": "1.5.0",
            "_view_name": "HBoxView",
            "box_style": "",
            "children": [
              "IPY_MODEL_0b60001b40e74f298b4e09368f81cc1e",
              "IPY_MODEL_a444c127c1f54e5fb1ad77a68adab20c"
            ],
            "layout": "IPY_MODEL_0d38639ce2ce48408c28e292757519ee"
          }
        },
        "0b60001b40e74f298b4e09368f81cc1e": {
          "model_module": "@jupyter-widgets/controls",
          "model_name": "FloatProgressModel",
          "state": {
            "_dom_classes": [],
            "_model_module": "@jupyter-widgets/controls",
            "_model_module_version": "1.5.0",
            "_model_name": "FloatProgressModel",
            "_view_count": null,
            "_view_module": "@jupyter-widgets/controls",
            "_view_module_version": "1.5.0",
            "_view_name": "ProgressView",
            "bar_style": "success",
            "description": "#1: 100%",
            "description_tooltip": null,
            "layout": "IPY_MODEL_0dcf4c14134c47208a8128a36024915f",
            "max": 420,
            "min": 0,
            "orientation": "horizontal",
            "style": "IPY_MODEL_0d1d20ec9b8d4f458e1053f82f96a010",
            "value": 420
          }
        },
        "a444c127c1f54e5fb1ad77a68adab20c": {
          "model_module": "@jupyter-widgets/controls",
          "model_name": "HTMLModel",
          "state": {
            "_dom_classes": [],
            "_model_module": "@jupyter-widgets/controls",
            "_model_module_version": "1.5.0",
            "_model_name": "HTMLModel",
            "_view_count": null,
            "_view_module": "@jupyter-widgets/controls",
            "_view_module_version": "1.5.0",
            "_view_name": "HTMLView",
            "description": "",
            "description_tooltip": null,
            "layout": "IPY_MODEL_3313503783194791921898c17baa9e82",
            "placeholder": "​",
            "style": "IPY_MODEL_3a2accf9f29f4413adf441b8c152f02d",
            "value": " 420/420 [00:01&lt;00:00, 222.22ex/s]"
          }
        },
        "0d38639ce2ce48408c28e292757519ee": {
          "model_module": "@jupyter-widgets/base",
          "model_name": "LayoutModel",
          "state": {
            "_model_module": "@jupyter-widgets/base",
            "_model_module_version": "1.2.0",
            "_model_name": "LayoutModel",
            "_view_count": null,
            "_view_module": "@jupyter-widgets/base",
            "_view_module_version": "1.2.0",
            "_view_name": "LayoutView",
            "align_content": null,
            "align_items": null,
            "align_self": null,
            "border": null,
            "bottom": null,
            "display": null,
            "flex": null,
            "flex_flow": null,
            "grid_area": null,
            "grid_auto_columns": null,
            "grid_auto_flow": null,
            "grid_auto_rows": null,
            "grid_column": null,
            "grid_gap": null,
            "grid_row": null,
            "grid_template_areas": null,
            "grid_template_columns": null,
            "grid_template_rows": null,
            "height": null,
            "justify_content": null,
            "justify_items": null,
            "left": null,
            "margin": null,
            "max_height": null,
            "max_width": null,
            "min_height": null,
            "min_width": null,
            "object_fit": null,
            "object_position": null,
            "order": null,
            "overflow": null,
            "overflow_x": null,
            "overflow_y": null,
            "padding": null,
            "right": null,
            "top": null,
            "visibility": null,
            "width": null
          }
        },
        "0dcf4c14134c47208a8128a36024915f": {
          "model_module": "@jupyter-widgets/base",
          "model_name": "LayoutModel",
          "state": {
            "_model_module": "@jupyter-widgets/base",
            "_model_module_version": "1.2.0",
            "_model_name": "LayoutModel",
            "_view_count": null,
            "_view_module": "@jupyter-widgets/base",
            "_view_module_version": "1.2.0",
            "_view_name": "LayoutView",
            "align_content": null,
            "align_items": null,
            "align_self": null,
            "border": null,
            "bottom": null,
            "display": null,
            "flex": null,
            "flex_flow": null,
            "grid_area": null,
            "grid_auto_columns": null,
            "grid_auto_flow": null,
            "grid_auto_rows": null,
            "grid_column": null,
            "grid_gap": null,
            "grid_row": null,
            "grid_template_areas": null,
            "grid_template_columns": null,
            "grid_template_rows": null,
            "height": null,
            "justify_content": null,
            "justify_items": null,
            "left": null,
            "margin": null,
            "max_height": null,
            "max_width": null,
            "min_height": null,
            "min_width": null,
            "object_fit": null,
            "object_position": null,
            "order": null,
            "overflow": null,
            "overflow_x": null,
            "overflow_y": null,
            "padding": null,
            "right": null,
            "top": null,
            "visibility": null,
            "width": null
          }
        },
        "0d1d20ec9b8d4f458e1053f82f96a010": {
          "model_module": "@jupyter-widgets/controls",
          "model_name": "ProgressStyleModel",
          "state": {
            "_model_module": "@jupyter-widgets/controls",
            "_model_module_version": "1.5.0",
            "_model_name": "ProgressStyleModel",
            "_view_count": null,
            "_view_module": "@jupyter-widgets/base",
            "_view_module_version": "1.2.0",
            "_view_name": "StyleView",
            "bar_color": null,
            "description_width": "initial"
          }
        },
        "3313503783194791921898c17baa9e82": {
          "model_module": "@jupyter-widgets/base",
          "model_name": "LayoutModel",
          "state": {
            "_model_module": "@jupyter-widgets/base",
            "_model_module_version": "1.2.0",
            "_model_name": "LayoutModel",
            "_view_count": null,
            "_view_module": "@jupyter-widgets/base",
            "_view_module_version": "1.2.0",
            "_view_name": "LayoutView",
            "align_content": null,
            "align_items": null,
            "align_self": null,
            "border": null,
            "bottom": null,
            "display": null,
            "flex": null,
            "flex_flow": null,
            "grid_area": null,
            "grid_auto_columns": null,
            "grid_auto_flow": null,
            "grid_auto_rows": null,
            "grid_column": null,
            "grid_gap": null,
            "grid_row": null,
            "grid_template_areas": null,
            "grid_template_columns": null,
            "grid_template_rows": null,
            "height": null,
            "justify_content": null,
            "justify_items": null,
            "left": null,
            "margin": null,
            "max_height": null,
            "max_width": null,
            "min_height": null,
            "min_width": null,
            "object_fit": null,
            "object_position": null,
            "order": null,
            "overflow": null,
            "overflow_x": null,
            "overflow_y": null,
            "padding": null,
            "right": null,
            "top": null,
            "visibility": null,
            "width": null
          }
        },
        "3a2accf9f29f4413adf441b8c152f02d": {
          "model_module": "@jupyter-widgets/controls",
          "model_name": "DescriptionStyleModel",
          "state": {
            "_model_module": "@jupyter-widgets/controls",
            "_model_module_version": "1.5.0",
            "_model_name": "DescriptionStyleModel",
            "_view_count": null,
            "_view_module": "@jupyter-widgets/base",
            "_view_module_version": "1.2.0",
            "_view_name": "StyleView",
            "description_width": ""
          }
        },
        "438050a37d884fdd96c86d8afa4ca3ee": {
          "model_module": "@jupyter-widgets/controls",
          "model_name": "HBoxModel",
          "state": {
            "_dom_classes": [],
            "_model_module": "@jupyter-widgets/controls",
            "_model_module_version": "1.5.0",
            "_model_name": "HBoxModel",
            "_view_count": null,
            "_view_module": "@jupyter-widgets/controls",
            "_view_module_version": "1.5.0",
            "_view_name": "HBoxView",
            "box_style": "",
            "children": [
              "IPY_MODEL_0b6457dbb86941bc9aea6b09b482c210",
              "IPY_MODEL_a4480a229b8c4eb79dbc0cae3f704492"
            ],
            "layout": "IPY_MODEL_bb78e06237414e518e1993ed6563e58b"
          }
        },
        "0b6457dbb86941bc9aea6b09b482c210": {
          "model_module": "@jupyter-widgets/controls",
          "model_name": "FloatProgressModel",
          "state": {
            "_dom_classes": [],
            "_model_module": "@jupyter-widgets/controls",
            "_model_module_version": "1.5.0",
            "_model_name": "FloatProgressModel",
            "_view_count": null,
            "_view_module": "@jupyter-widgets/controls",
            "_view_module_version": "1.5.0",
            "_view_name": "ProgressView",
            "bar_style": "success",
            "description": "#2: 100%",
            "description_tooltip": null,
            "layout": "IPY_MODEL_571d93bb938c40dca42635ee07c7df4a",
            "max": 420,
            "min": 0,
            "orientation": "horizontal",
            "style": "IPY_MODEL_6f39f6b9fca94d67976e1fa41bbc6080",
            "value": 420
          }
        },
        "a4480a229b8c4eb79dbc0cae3f704492": {
          "model_module": "@jupyter-widgets/controls",
          "model_name": "HTMLModel",
          "state": {
            "_dom_classes": [],
            "_model_module": "@jupyter-widgets/controls",
            "_model_module_version": "1.5.0",
            "_model_name": "HTMLModel",
            "_view_count": null,
            "_view_module": "@jupyter-widgets/controls",
            "_view_module_version": "1.5.0",
            "_view_name": "HTMLView",
            "description": "",
            "description_tooltip": null,
            "layout": "IPY_MODEL_6805a231e67442bf86bdc4c6f1f8a888",
            "placeholder": "​",
            "style": "IPY_MODEL_18f9d88a6a1a4ca1b442e68d34922d2f",
            "value": " 420/420 [00:01&lt;00:00, 229.32ex/s]"
          }
        },
        "bb78e06237414e518e1993ed6563e58b": {
          "model_module": "@jupyter-widgets/base",
          "model_name": "LayoutModel",
          "state": {
            "_model_module": "@jupyter-widgets/base",
            "_model_module_version": "1.2.0",
            "_model_name": "LayoutModel",
            "_view_count": null,
            "_view_module": "@jupyter-widgets/base",
            "_view_module_version": "1.2.0",
            "_view_name": "LayoutView",
            "align_content": null,
            "align_items": null,
            "align_self": null,
            "border": null,
            "bottom": null,
            "display": null,
            "flex": null,
            "flex_flow": null,
            "grid_area": null,
            "grid_auto_columns": null,
            "grid_auto_flow": null,
            "grid_auto_rows": null,
            "grid_column": null,
            "grid_gap": null,
            "grid_row": null,
            "grid_template_areas": null,
            "grid_template_columns": null,
            "grid_template_rows": null,
            "height": null,
            "justify_content": null,
            "justify_items": null,
            "left": null,
            "margin": null,
            "max_height": null,
            "max_width": null,
            "min_height": null,
            "min_width": null,
            "object_fit": null,
            "object_position": null,
            "order": null,
            "overflow": null,
            "overflow_x": null,
            "overflow_y": null,
            "padding": null,
            "right": null,
            "top": null,
            "visibility": null,
            "width": null
          }
        },
        "571d93bb938c40dca42635ee07c7df4a": {
          "model_module": "@jupyter-widgets/base",
          "model_name": "LayoutModel",
          "state": {
            "_model_module": "@jupyter-widgets/base",
            "_model_module_version": "1.2.0",
            "_model_name": "LayoutModel",
            "_view_count": null,
            "_view_module": "@jupyter-widgets/base",
            "_view_module_version": "1.2.0",
            "_view_name": "LayoutView",
            "align_content": null,
            "align_items": null,
            "align_self": null,
            "border": null,
            "bottom": null,
            "display": null,
            "flex": null,
            "flex_flow": null,
            "grid_area": null,
            "grid_auto_columns": null,
            "grid_auto_flow": null,
            "grid_auto_rows": null,
            "grid_column": null,
            "grid_gap": null,
            "grid_row": null,
            "grid_template_areas": null,
            "grid_template_columns": null,
            "grid_template_rows": null,
            "height": null,
            "justify_content": null,
            "justify_items": null,
            "left": null,
            "margin": null,
            "max_height": null,
            "max_width": null,
            "min_height": null,
            "min_width": null,
            "object_fit": null,
            "object_position": null,
            "order": null,
            "overflow": null,
            "overflow_x": null,
            "overflow_y": null,
            "padding": null,
            "right": null,
            "top": null,
            "visibility": null,
            "width": null
          }
        },
        "6f39f6b9fca94d67976e1fa41bbc6080": {
          "model_module": "@jupyter-widgets/controls",
          "model_name": "ProgressStyleModel",
          "state": {
            "_model_module": "@jupyter-widgets/controls",
            "_model_module_version": "1.5.0",
            "_model_name": "ProgressStyleModel",
            "_view_count": null,
            "_view_module": "@jupyter-widgets/base",
            "_view_module_version": "1.2.0",
            "_view_name": "StyleView",
            "bar_color": null,
            "description_width": "initial"
          }
        },
        "6805a231e67442bf86bdc4c6f1f8a888": {
          "model_module": "@jupyter-widgets/base",
          "model_name": "LayoutModel",
          "state": {
            "_model_module": "@jupyter-widgets/base",
            "_model_module_version": "1.2.0",
            "_model_name": "LayoutModel",
            "_view_count": null,
            "_view_module": "@jupyter-widgets/base",
            "_view_module_version": "1.2.0",
            "_view_name": "LayoutView",
            "align_content": null,
            "align_items": null,
            "align_self": null,
            "border": null,
            "bottom": null,
            "display": null,
            "flex": null,
            "flex_flow": null,
            "grid_area": null,
            "grid_auto_columns": null,
            "grid_auto_flow": null,
            "grid_auto_rows": null,
            "grid_column": null,
            "grid_gap": null,
            "grid_row": null,
            "grid_template_areas": null,
            "grid_template_columns": null,
            "grid_template_rows": null,
            "height": null,
            "justify_content": null,
            "justify_items": null,
            "left": null,
            "margin": null,
            "max_height": null,
            "max_width": null,
            "min_height": null,
            "min_width": null,
            "object_fit": null,
            "object_position": null,
            "order": null,
            "overflow": null,
            "overflow_x": null,
            "overflow_y": null,
            "padding": null,
            "right": null,
            "top": null,
            "visibility": null,
            "width": null
          }
        },
        "18f9d88a6a1a4ca1b442e68d34922d2f": {
          "model_module": "@jupyter-widgets/controls",
          "model_name": "DescriptionStyleModel",
          "state": {
            "_model_module": "@jupyter-widgets/controls",
            "_model_module_version": "1.5.0",
            "_model_name": "DescriptionStyleModel",
            "_view_count": null,
            "_view_module": "@jupyter-widgets/base",
            "_view_module_version": "1.2.0",
            "_view_name": "StyleView",
            "description_width": ""
          }
        },
        "cf092fe945324fe68f78da27d031db33": {
          "model_module": "@jupyter-widgets/controls",
          "model_name": "HBoxModel",
          "state": {
            "_dom_classes": [],
            "_model_module": "@jupyter-widgets/controls",
            "_model_module_version": "1.5.0",
            "_model_name": "HBoxModel",
            "_view_count": null,
            "_view_module": "@jupyter-widgets/controls",
            "_view_module_version": "1.5.0",
            "_view_name": "HBoxView",
            "box_style": "",
            "children": [
              "IPY_MODEL_8e045eb4ce634c25ad6000a9096d273f",
              "IPY_MODEL_77f9fb47d52f487dbbf256ec28407c30"
            ],
            "layout": "IPY_MODEL_a0400645baf84a81ae7a8b9b1e42efd7"
          }
        },
        "8e045eb4ce634c25ad6000a9096d273f": {
          "model_module": "@jupyter-widgets/controls",
          "model_name": "FloatProgressModel",
          "state": {
            "_dom_classes": [],
            "_model_module": "@jupyter-widgets/controls",
            "_model_module_version": "1.5.0",
            "_model_name": "FloatProgressModel",
            "_view_count": null,
            "_view_module": "@jupyter-widgets/controls",
            "_view_module_version": "1.5.0",
            "_view_name": "ProgressView",
            "bar_style": "success",
            "description": "#3: 100%",
            "description_tooltip": null,
            "layout": "IPY_MODEL_d4d05fa551564e86b475fd18d36331bd",
            "max": 420,
            "min": 0,
            "orientation": "horizontal",
            "style": "IPY_MODEL_fb30d995bdf84f3e9c6123b6e60f2e92",
            "value": 420
          }
        },
        "77f9fb47d52f487dbbf256ec28407c30": {
          "model_module": "@jupyter-widgets/controls",
          "model_name": "HTMLModel",
          "state": {
            "_dom_classes": [],
            "_model_module": "@jupyter-widgets/controls",
            "_model_module_version": "1.5.0",
            "_model_name": "HTMLModel",
            "_view_count": null,
            "_view_module": "@jupyter-widgets/controls",
            "_view_module_version": "1.5.0",
            "_view_name": "HTMLView",
            "description": "",
            "description_tooltip": null,
            "layout": "IPY_MODEL_06ae8b3496dd41d385a6167d877e92c5",
            "placeholder": "​",
            "style": "IPY_MODEL_5946298366034977bf2b56ac7d501c2c",
            "value": " 420/420 [00:02&lt;00:00, 207.09ex/s]"
          }
        },
        "a0400645baf84a81ae7a8b9b1e42efd7": {
          "model_module": "@jupyter-widgets/base",
          "model_name": "LayoutModel",
          "state": {
            "_model_module": "@jupyter-widgets/base",
            "_model_module_version": "1.2.0",
            "_model_name": "LayoutModel",
            "_view_count": null,
            "_view_module": "@jupyter-widgets/base",
            "_view_module_version": "1.2.0",
            "_view_name": "LayoutView",
            "align_content": null,
            "align_items": null,
            "align_self": null,
            "border": null,
            "bottom": null,
            "display": null,
            "flex": null,
            "flex_flow": null,
            "grid_area": null,
            "grid_auto_columns": null,
            "grid_auto_flow": null,
            "grid_auto_rows": null,
            "grid_column": null,
            "grid_gap": null,
            "grid_row": null,
            "grid_template_areas": null,
            "grid_template_columns": null,
            "grid_template_rows": null,
            "height": null,
            "justify_content": null,
            "justify_items": null,
            "left": null,
            "margin": null,
            "max_height": null,
            "max_width": null,
            "min_height": null,
            "min_width": null,
            "object_fit": null,
            "object_position": null,
            "order": null,
            "overflow": null,
            "overflow_x": null,
            "overflow_y": null,
            "padding": null,
            "right": null,
            "top": null,
            "visibility": null,
            "width": null
          }
        },
        "d4d05fa551564e86b475fd18d36331bd": {
          "model_module": "@jupyter-widgets/base",
          "model_name": "LayoutModel",
          "state": {
            "_model_module": "@jupyter-widgets/base",
            "_model_module_version": "1.2.0",
            "_model_name": "LayoutModel",
            "_view_count": null,
            "_view_module": "@jupyter-widgets/base",
            "_view_module_version": "1.2.0",
            "_view_name": "LayoutView",
            "align_content": null,
            "align_items": null,
            "align_self": null,
            "border": null,
            "bottom": null,
            "display": null,
            "flex": null,
            "flex_flow": null,
            "grid_area": null,
            "grid_auto_columns": null,
            "grid_auto_flow": null,
            "grid_auto_rows": null,
            "grid_column": null,
            "grid_gap": null,
            "grid_row": null,
            "grid_template_areas": null,
            "grid_template_columns": null,
            "grid_template_rows": null,
            "height": null,
            "justify_content": null,
            "justify_items": null,
            "left": null,
            "margin": null,
            "max_height": null,
            "max_width": null,
            "min_height": null,
            "min_width": null,
            "object_fit": null,
            "object_position": null,
            "order": null,
            "overflow": null,
            "overflow_x": null,
            "overflow_y": null,
            "padding": null,
            "right": null,
            "top": null,
            "visibility": null,
            "width": null
          }
        },
        "fb30d995bdf84f3e9c6123b6e60f2e92": {
          "model_module": "@jupyter-widgets/controls",
          "model_name": "ProgressStyleModel",
          "state": {
            "_model_module": "@jupyter-widgets/controls",
            "_model_module_version": "1.5.0",
            "_model_name": "ProgressStyleModel",
            "_view_count": null,
            "_view_module": "@jupyter-widgets/base",
            "_view_module_version": "1.2.0",
            "_view_name": "StyleView",
            "bar_color": null,
            "description_width": "initial"
          }
        },
        "06ae8b3496dd41d385a6167d877e92c5": {
          "model_module": "@jupyter-widgets/base",
          "model_name": "LayoutModel",
          "state": {
            "_model_module": "@jupyter-widgets/base",
            "_model_module_version": "1.2.0",
            "_model_name": "LayoutModel",
            "_view_count": null,
            "_view_module": "@jupyter-widgets/base",
            "_view_module_version": "1.2.0",
            "_view_name": "LayoutView",
            "align_content": null,
            "align_items": null,
            "align_self": null,
            "border": null,
            "bottom": null,
            "display": null,
            "flex": null,
            "flex_flow": null,
            "grid_area": null,
            "grid_auto_columns": null,
            "grid_auto_flow": null,
            "grid_auto_rows": null,
            "grid_column": null,
            "grid_gap": null,
            "grid_row": null,
            "grid_template_areas": null,
            "grid_template_columns": null,
            "grid_template_rows": null,
            "height": null,
            "justify_content": null,
            "justify_items": null,
            "left": null,
            "margin": null,
            "max_height": null,
            "max_width": null,
            "min_height": null,
            "min_width": null,
            "object_fit": null,
            "object_position": null,
            "order": null,
            "overflow": null,
            "overflow_x": null,
            "overflow_y": null,
            "padding": null,
            "right": null,
            "top": null,
            "visibility": null,
            "width": null
          }
        },
        "5946298366034977bf2b56ac7d501c2c": {
          "model_module": "@jupyter-widgets/controls",
          "model_name": "DescriptionStyleModel",
          "state": {
            "_model_module": "@jupyter-widgets/controls",
            "_model_module_version": "1.5.0",
            "_model_name": "DescriptionStyleModel",
            "_view_count": null,
            "_view_module": "@jupyter-widgets/base",
            "_view_module_version": "1.2.0",
            "_view_name": "StyleView",
            "description_width": ""
          }
        },
        "fba3d1340f2449f8a6c562a2b12f9a62": {
          "model_module": "@jupyter-widgets/controls",
          "model_name": "HBoxModel",
          "state": {
            "_dom_classes": [],
            "_model_module": "@jupyter-widgets/controls",
            "_model_module_version": "1.5.0",
            "_model_name": "HBoxModel",
            "_view_count": null,
            "_view_module": "@jupyter-widgets/controls",
            "_view_module_version": "1.5.0",
            "_view_name": "HBoxView",
            "box_style": "",
            "children": [
              "IPY_MODEL_ba16e3b96ca74b43b8454fc9926ddf75",
              "IPY_MODEL_b1529c92eec94966b59f55ff7683e5ed"
            ],
            "layout": "IPY_MODEL_de35392a4e074330857078d37535c546"
          }
        },
        "ba16e3b96ca74b43b8454fc9926ddf75": {
          "model_module": "@jupyter-widgets/controls",
          "model_name": "FloatProgressModel",
          "state": {
            "_dom_classes": [],
            "_model_module": "@jupyter-widgets/controls",
            "_model_module_version": "1.5.0",
            "_model_name": "FloatProgressModel",
            "_view_count": null,
            "_view_module": "@jupyter-widgets/controls",
            "_view_module_version": "1.5.0",
            "_view_name": "ProgressView",
            "bar_style": "success",
            "description": "#3: 100%",
            "description_tooltip": null,
            "layout": "IPY_MODEL_1da91d441a55472fa6b23aa47a9afcc4",
            "max": 145,
            "min": 0,
            "orientation": "horizontal",
            "style": "IPY_MODEL_2d1992a6bc554b8ba48fd034d3528e9c",
            "value": 145
          }
        },
        "b1529c92eec94966b59f55ff7683e5ed": {
          "model_module": "@jupyter-widgets/controls",
          "model_name": "HTMLModel",
          "state": {
            "_dom_classes": [],
            "_model_module": "@jupyter-widgets/controls",
            "_model_module_version": "1.5.0",
            "_model_name": "HTMLModel",
            "_view_count": null,
            "_view_module": "@jupyter-widgets/controls",
            "_view_module_version": "1.5.0",
            "_view_name": "HTMLView",
            "description": "",
            "description_tooltip": null,
            "layout": "IPY_MODEL_73f1d0459adf45259cb6509e5920072c",
            "placeholder": "​",
            "style": "IPY_MODEL_fe3046c624fd405aaec8b06dace4a2e7",
            "value": " 145/145 [00:47&lt;00:00,  3.06ba/s]"
          }
        },
        "de35392a4e074330857078d37535c546": {
          "model_module": "@jupyter-widgets/base",
          "model_name": "LayoutModel",
          "state": {
            "_model_module": "@jupyter-widgets/base",
            "_model_module_version": "1.2.0",
            "_model_name": "LayoutModel",
            "_view_count": null,
            "_view_module": "@jupyter-widgets/base",
            "_view_module_version": "1.2.0",
            "_view_name": "LayoutView",
            "align_content": null,
            "align_items": null,
            "align_self": null,
            "border": null,
            "bottom": null,
            "display": null,
            "flex": null,
            "flex_flow": null,
            "grid_area": null,
            "grid_auto_columns": null,
            "grid_auto_flow": null,
            "grid_auto_rows": null,
            "grid_column": null,
            "grid_gap": null,
            "grid_row": null,
            "grid_template_areas": null,
            "grid_template_columns": null,
            "grid_template_rows": null,
            "height": null,
            "justify_content": null,
            "justify_items": null,
            "left": null,
            "margin": null,
            "max_height": null,
            "max_width": null,
            "min_height": null,
            "min_width": null,
            "object_fit": null,
            "object_position": null,
            "order": null,
            "overflow": null,
            "overflow_x": null,
            "overflow_y": null,
            "padding": null,
            "right": null,
            "top": null,
            "visibility": null,
            "width": null
          }
        },
        "1da91d441a55472fa6b23aa47a9afcc4": {
          "model_module": "@jupyter-widgets/base",
          "model_name": "LayoutModel",
          "state": {
            "_model_module": "@jupyter-widgets/base",
            "_model_module_version": "1.2.0",
            "_model_name": "LayoutModel",
            "_view_count": null,
            "_view_module": "@jupyter-widgets/base",
            "_view_module_version": "1.2.0",
            "_view_name": "LayoutView",
            "align_content": null,
            "align_items": null,
            "align_self": null,
            "border": null,
            "bottom": null,
            "display": null,
            "flex": null,
            "flex_flow": null,
            "grid_area": null,
            "grid_auto_columns": null,
            "grid_auto_flow": null,
            "grid_auto_rows": null,
            "grid_column": null,
            "grid_gap": null,
            "grid_row": null,
            "grid_template_areas": null,
            "grid_template_columns": null,
            "grid_template_rows": null,
            "height": null,
            "justify_content": null,
            "justify_items": null,
            "left": null,
            "margin": null,
            "max_height": null,
            "max_width": null,
            "min_height": null,
            "min_width": null,
            "object_fit": null,
            "object_position": null,
            "order": null,
            "overflow": null,
            "overflow_x": null,
            "overflow_y": null,
            "padding": null,
            "right": null,
            "top": null,
            "visibility": null,
            "width": null
          }
        },
        "2d1992a6bc554b8ba48fd034d3528e9c": {
          "model_module": "@jupyter-widgets/controls",
          "model_name": "ProgressStyleModel",
          "state": {
            "_model_module": "@jupyter-widgets/controls",
            "_model_module_version": "1.5.0",
            "_model_name": "ProgressStyleModel",
            "_view_count": null,
            "_view_module": "@jupyter-widgets/base",
            "_view_module_version": "1.2.0",
            "_view_name": "StyleView",
            "bar_color": null,
            "description_width": "initial"
          }
        },
        "73f1d0459adf45259cb6509e5920072c": {
          "model_module": "@jupyter-widgets/base",
          "model_name": "LayoutModel",
          "state": {
            "_model_module": "@jupyter-widgets/base",
            "_model_module_version": "1.2.0",
            "_model_name": "LayoutModel",
            "_view_count": null,
            "_view_module": "@jupyter-widgets/base",
            "_view_module_version": "1.2.0",
            "_view_name": "LayoutView",
            "align_content": null,
            "align_items": null,
            "align_self": null,
            "border": null,
            "bottom": null,
            "display": null,
            "flex": null,
            "flex_flow": null,
            "grid_area": null,
            "grid_auto_columns": null,
            "grid_auto_flow": null,
            "grid_auto_rows": null,
            "grid_column": null,
            "grid_gap": null,
            "grid_row": null,
            "grid_template_areas": null,
            "grid_template_columns": null,
            "grid_template_rows": null,
            "height": null,
            "justify_content": null,
            "justify_items": null,
            "left": null,
            "margin": null,
            "max_height": null,
            "max_width": null,
            "min_height": null,
            "min_width": null,
            "object_fit": null,
            "object_position": null,
            "order": null,
            "overflow": null,
            "overflow_x": null,
            "overflow_y": null,
            "padding": null,
            "right": null,
            "top": null,
            "visibility": null,
            "width": null
          }
        },
        "fe3046c624fd405aaec8b06dace4a2e7": {
          "model_module": "@jupyter-widgets/controls",
          "model_name": "DescriptionStyleModel",
          "state": {
            "_model_module": "@jupyter-widgets/controls",
            "_model_module_version": "1.5.0",
            "_model_name": "DescriptionStyleModel",
            "_view_count": null,
            "_view_module": "@jupyter-widgets/base",
            "_view_module_version": "1.2.0",
            "_view_name": "StyleView",
            "description_width": ""
          }
        },
        "7ee1379b06f44aaf91c8a975f0fd488e": {
          "model_module": "@jupyter-widgets/controls",
          "model_name": "HBoxModel",
          "state": {
            "_dom_classes": [],
            "_model_module": "@jupyter-widgets/controls",
            "_model_module_version": "1.5.0",
            "_model_name": "HBoxModel",
            "_view_count": null,
            "_view_module": "@jupyter-widgets/controls",
            "_view_module_version": "1.5.0",
            "_view_name": "HBoxView",
            "box_style": "",
            "children": [
              "IPY_MODEL_c6b1cdc52ae541d5b396ebb1edcbc97c",
              "IPY_MODEL_564ebfd4ea58480bb9047b46fe8f0510"
            ],
            "layout": "IPY_MODEL_7de0dff3eea947fab1a1d7e22137e35a"
          }
        },
        "c6b1cdc52ae541d5b396ebb1edcbc97c": {
          "model_module": "@jupyter-widgets/controls",
          "model_name": "FloatProgressModel",
          "state": {
            "_dom_classes": [],
            "_model_module": "@jupyter-widgets/controls",
            "_model_module_version": "1.5.0",
            "_model_name": "FloatProgressModel",
            "_view_count": null,
            "_view_module": "@jupyter-widgets/controls",
            "_view_module_version": "1.5.0",
            "_view_name": "ProgressView",
            "bar_style": "success",
            "description": "#0: 100%",
            "description_tooltip": null,
            "layout": "IPY_MODEL_f5cf50893ad44308b1fd34700a24f51f",
            "max": 145,
            "min": 0,
            "orientation": "horizontal",
            "style": "IPY_MODEL_c460479e35274e729b84212320a42154",
            "value": 145
          }
        },
        "564ebfd4ea58480bb9047b46fe8f0510": {
          "model_module": "@jupyter-widgets/controls",
          "model_name": "HTMLModel",
          "state": {
            "_dom_classes": [],
            "_model_module": "@jupyter-widgets/controls",
            "_model_module_version": "1.5.0",
            "_model_name": "HTMLModel",
            "_view_count": null,
            "_view_module": "@jupyter-widgets/controls",
            "_view_module_version": "1.5.0",
            "_view_name": "HTMLView",
            "description": "",
            "description_tooltip": null,
            "layout": "IPY_MODEL_de4f53d328fa4590b0e778c28daacf0a",
            "placeholder": "​",
            "style": "IPY_MODEL_97aa45f4b837430180646677565c5bf2",
            "value": " 145/145 [00:47&lt;00:00,  3.03ba/s]"
          }
        },
        "7de0dff3eea947fab1a1d7e22137e35a": {
          "model_module": "@jupyter-widgets/base",
          "model_name": "LayoutModel",
          "state": {
            "_model_module": "@jupyter-widgets/base",
            "_model_module_version": "1.2.0",
            "_model_name": "LayoutModel",
            "_view_count": null,
            "_view_module": "@jupyter-widgets/base",
            "_view_module_version": "1.2.0",
            "_view_name": "LayoutView",
            "align_content": null,
            "align_items": null,
            "align_self": null,
            "border": null,
            "bottom": null,
            "display": null,
            "flex": null,
            "flex_flow": null,
            "grid_area": null,
            "grid_auto_columns": null,
            "grid_auto_flow": null,
            "grid_auto_rows": null,
            "grid_column": null,
            "grid_gap": null,
            "grid_row": null,
            "grid_template_areas": null,
            "grid_template_columns": null,
            "grid_template_rows": null,
            "height": null,
            "justify_content": null,
            "justify_items": null,
            "left": null,
            "margin": null,
            "max_height": null,
            "max_width": null,
            "min_height": null,
            "min_width": null,
            "object_fit": null,
            "object_position": null,
            "order": null,
            "overflow": null,
            "overflow_x": null,
            "overflow_y": null,
            "padding": null,
            "right": null,
            "top": null,
            "visibility": null,
            "width": null
          }
        },
        "f5cf50893ad44308b1fd34700a24f51f": {
          "model_module": "@jupyter-widgets/base",
          "model_name": "LayoutModel",
          "state": {
            "_model_module": "@jupyter-widgets/base",
            "_model_module_version": "1.2.0",
            "_model_name": "LayoutModel",
            "_view_count": null,
            "_view_module": "@jupyter-widgets/base",
            "_view_module_version": "1.2.0",
            "_view_name": "LayoutView",
            "align_content": null,
            "align_items": null,
            "align_self": null,
            "border": null,
            "bottom": null,
            "display": null,
            "flex": null,
            "flex_flow": null,
            "grid_area": null,
            "grid_auto_columns": null,
            "grid_auto_flow": null,
            "grid_auto_rows": null,
            "grid_column": null,
            "grid_gap": null,
            "grid_row": null,
            "grid_template_areas": null,
            "grid_template_columns": null,
            "grid_template_rows": null,
            "height": null,
            "justify_content": null,
            "justify_items": null,
            "left": null,
            "margin": null,
            "max_height": null,
            "max_width": null,
            "min_height": null,
            "min_width": null,
            "object_fit": null,
            "object_position": null,
            "order": null,
            "overflow": null,
            "overflow_x": null,
            "overflow_y": null,
            "padding": null,
            "right": null,
            "top": null,
            "visibility": null,
            "width": null
          }
        },
        "c460479e35274e729b84212320a42154": {
          "model_module": "@jupyter-widgets/controls",
          "model_name": "ProgressStyleModel",
          "state": {
            "_model_module": "@jupyter-widgets/controls",
            "_model_module_version": "1.5.0",
            "_model_name": "ProgressStyleModel",
            "_view_count": null,
            "_view_module": "@jupyter-widgets/base",
            "_view_module_version": "1.2.0",
            "_view_name": "StyleView",
            "bar_color": null,
            "description_width": "initial"
          }
        },
        "de4f53d328fa4590b0e778c28daacf0a": {
          "model_module": "@jupyter-widgets/base",
          "model_name": "LayoutModel",
          "state": {
            "_model_module": "@jupyter-widgets/base",
            "_model_module_version": "1.2.0",
            "_model_name": "LayoutModel",
            "_view_count": null,
            "_view_module": "@jupyter-widgets/base",
            "_view_module_version": "1.2.0",
            "_view_name": "LayoutView",
            "align_content": null,
            "align_items": null,
            "align_self": null,
            "border": null,
            "bottom": null,
            "display": null,
            "flex": null,
            "flex_flow": null,
            "grid_area": null,
            "grid_auto_columns": null,
            "grid_auto_flow": null,
            "grid_auto_rows": null,
            "grid_column": null,
            "grid_gap": null,
            "grid_row": null,
            "grid_template_areas": null,
            "grid_template_columns": null,
            "grid_template_rows": null,
            "height": null,
            "justify_content": null,
            "justify_items": null,
            "left": null,
            "margin": null,
            "max_height": null,
            "max_width": null,
            "min_height": null,
            "min_width": null,
            "object_fit": null,
            "object_position": null,
            "order": null,
            "overflow": null,
            "overflow_x": null,
            "overflow_y": null,
            "padding": null,
            "right": null,
            "top": null,
            "visibility": null,
            "width": null
          }
        },
        "97aa45f4b837430180646677565c5bf2": {
          "model_module": "@jupyter-widgets/controls",
          "model_name": "DescriptionStyleModel",
          "state": {
            "_model_module": "@jupyter-widgets/controls",
            "_model_module_version": "1.5.0",
            "_model_name": "DescriptionStyleModel",
            "_view_count": null,
            "_view_module": "@jupyter-widgets/base",
            "_view_module_version": "1.2.0",
            "_view_name": "StyleView",
            "description_width": ""
          }
        },
        "c91604d797744e35b0f8cba56de55a58": {
          "model_module": "@jupyter-widgets/controls",
          "model_name": "HBoxModel",
          "state": {
            "_dom_classes": [],
            "_model_module": "@jupyter-widgets/controls",
            "_model_module_version": "1.5.0",
            "_model_name": "HBoxModel",
            "_view_count": null,
            "_view_module": "@jupyter-widgets/controls",
            "_view_module_version": "1.5.0",
            "_view_name": "HBoxView",
            "box_style": "",
            "children": [
              "IPY_MODEL_4e665587b1c144f1bd7f1917b2c6cf5a",
              "IPY_MODEL_41099067dacb45bbaa20d611d344e459"
            ],
            "layout": "IPY_MODEL_c2a6ea420b1b4db99725086c7cbde753"
          }
        },
        "4e665587b1c144f1bd7f1917b2c6cf5a": {
          "model_module": "@jupyter-widgets/controls",
          "model_name": "FloatProgressModel",
          "state": {
            "_dom_classes": [],
            "_model_module": "@jupyter-widgets/controls",
            "_model_module_version": "1.5.0",
            "_model_name": "FloatProgressModel",
            "_view_count": null,
            "_view_module": "@jupyter-widgets/controls",
            "_view_module_version": "1.5.0",
            "_view_name": "ProgressView",
            "bar_style": "success",
            "description": "#1: 100%",
            "description_tooltip": null,
            "layout": "IPY_MODEL_d3f4420f44ae4575965db21ed1017072",
            "max": 145,
            "min": 0,
            "orientation": "horizontal",
            "style": "IPY_MODEL_b3cb8c5a9601468a9354373e6e9cb711",
            "value": 145
          }
        },
        "41099067dacb45bbaa20d611d344e459": {
          "model_module": "@jupyter-widgets/controls",
          "model_name": "HTMLModel",
          "state": {
            "_dom_classes": [],
            "_model_module": "@jupyter-widgets/controls",
            "_model_module_version": "1.5.0",
            "_model_name": "HTMLModel",
            "_view_count": null,
            "_view_module": "@jupyter-widgets/controls",
            "_view_module_version": "1.5.0",
            "_view_name": "HTMLView",
            "description": "",
            "description_tooltip": null,
            "layout": "IPY_MODEL_96f371d9de604152a58933f56391b8c8",
            "placeholder": "​",
            "style": "IPY_MODEL_ee88adf45cde44dfa794c3b7b1672eb9",
            "value": " 145/145 [00:47&lt;00:00,  3.07ba/s]"
          }
        },
        "c2a6ea420b1b4db99725086c7cbde753": {
          "model_module": "@jupyter-widgets/base",
          "model_name": "LayoutModel",
          "state": {
            "_model_module": "@jupyter-widgets/base",
            "_model_module_version": "1.2.0",
            "_model_name": "LayoutModel",
            "_view_count": null,
            "_view_module": "@jupyter-widgets/base",
            "_view_module_version": "1.2.0",
            "_view_name": "LayoutView",
            "align_content": null,
            "align_items": null,
            "align_self": null,
            "border": null,
            "bottom": null,
            "display": null,
            "flex": null,
            "flex_flow": null,
            "grid_area": null,
            "grid_auto_columns": null,
            "grid_auto_flow": null,
            "grid_auto_rows": null,
            "grid_column": null,
            "grid_gap": null,
            "grid_row": null,
            "grid_template_areas": null,
            "grid_template_columns": null,
            "grid_template_rows": null,
            "height": null,
            "justify_content": null,
            "justify_items": null,
            "left": null,
            "margin": null,
            "max_height": null,
            "max_width": null,
            "min_height": null,
            "min_width": null,
            "object_fit": null,
            "object_position": null,
            "order": null,
            "overflow": null,
            "overflow_x": null,
            "overflow_y": null,
            "padding": null,
            "right": null,
            "top": null,
            "visibility": null,
            "width": null
          }
        },
        "d3f4420f44ae4575965db21ed1017072": {
          "model_module": "@jupyter-widgets/base",
          "model_name": "LayoutModel",
          "state": {
            "_model_module": "@jupyter-widgets/base",
            "_model_module_version": "1.2.0",
            "_model_name": "LayoutModel",
            "_view_count": null,
            "_view_module": "@jupyter-widgets/base",
            "_view_module_version": "1.2.0",
            "_view_name": "LayoutView",
            "align_content": null,
            "align_items": null,
            "align_self": null,
            "border": null,
            "bottom": null,
            "display": null,
            "flex": null,
            "flex_flow": null,
            "grid_area": null,
            "grid_auto_columns": null,
            "grid_auto_flow": null,
            "grid_auto_rows": null,
            "grid_column": null,
            "grid_gap": null,
            "grid_row": null,
            "grid_template_areas": null,
            "grid_template_columns": null,
            "grid_template_rows": null,
            "height": null,
            "justify_content": null,
            "justify_items": null,
            "left": null,
            "margin": null,
            "max_height": null,
            "max_width": null,
            "min_height": null,
            "min_width": null,
            "object_fit": null,
            "object_position": null,
            "order": null,
            "overflow": null,
            "overflow_x": null,
            "overflow_y": null,
            "padding": null,
            "right": null,
            "top": null,
            "visibility": null,
            "width": null
          }
        },
        "b3cb8c5a9601468a9354373e6e9cb711": {
          "model_module": "@jupyter-widgets/controls",
          "model_name": "ProgressStyleModel",
          "state": {
            "_model_module": "@jupyter-widgets/controls",
            "_model_module_version": "1.5.0",
            "_model_name": "ProgressStyleModel",
            "_view_count": null,
            "_view_module": "@jupyter-widgets/base",
            "_view_module_version": "1.2.0",
            "_view_name": "StyleView",
            "bar_color": null,
            "description_width": "initial"
          }
        },
        "96f371d9de604152a58933f56391b8c8": {
          "model_module": "@jupyter-widgets/base",
          "model_name": "LayoutModel",
          "state": {
            "_model_module": "@jupyter-widgets/base",
            "_model_module_version": "1.2.0",
            "_model_name": "LayoutModel",
            "_view_count": null,
            "_view_module": "@jupyter-widgets/base",
            "_view_module_version": "1.2.0",
            "_view_name": "LayoutView",
            "align_content": null,
            "align_items": null,
            "align_self": null,
            "border": null,
            "bottom": null,
            "display": null,
            "flex": null,
            "flex_flow": null,
            "grid_area": null,
            "grid_auto_columns": null,
            "grid_auto_flow": null,
            "grid_auto_rows": null,
            "grid_column": null,
            "grid_gap": null,
            "grid_row": null,
            "grid_template_areas": null,
            "grid_template_columns": null,
            "grid_template_rows": null,
            "height": null,
            "justify_content": null,
            "justify_items": null,
            "left": null,
            "margin": null,
            "max_height": null,
            "max_width": null,
            "min_height": null,
            "min_width": null,
            "object_fit": null,
            "object_position": null,
            "order": null,
            "overflow": null,
            "overflow_x": null,
            "overflow_y": null,
            "padding": null,
            "right": null,
            "top": null,
            "visibility": null,
            "width": null
          }
        },
        "ee88adf45cde44dfa794c3b7b1672eb9": {
          "model_module": "@jupyter-widgets/controls",
          "model_name": "DescriptionStyleModel",
          "state": {
            "_model_module": "@jupyter-widgets/controls",
            "_model_module_version": "1.5.0",
            "_model_name": "DescriptionStyleModel",
            "_view_count": null,
            "_view_module": "@jupyter-widgets/base",
            "_view_module_version": "1.2.0",
            "_view_name": "StyleView",
            "description_width": ""
          }
        },
        "1bd10e4857064114bd9c135a7c2d57fe": {
          "model_module": "@jupyter-widgets/controls",
          "model_name": "HBoxModel",
          "state": {
            "_dom_classes": [],
            "_model_module": "@jupyter-widgets/controls",
            "_model_module_version": "1.5.0",
            "_model_name": "HBoxModel",
            "_view_count": null,
            "_view_module": "@jupyter-widgets/controls",
            "_view_module_version": "1.5.0",
            "_view_name": "HBoxView",
            "box_style": "",
            "children": [
              "IPY_MODEL_3749d4e37b7c478aa81995452dc48fb9",
              "IPY_MODEL_cb964f98c94f4b38bb3567f27a27a685"
            ],
            "layout": "IPY_MODEL_4bf514a5e1db445399dbed005b2e10ec"
          }
        },
        "3749d4e37b7c478aa81995452dc48fb9": {
          "model_module": "@jupyter-widgets/controls",
          "model_name": "FloatProgressModel",
          "state": {
            "_dom_classes": [],
            "_model_module": "@jupyter-widgets/controls",
            "_model_module_version": "1.5.0",
            "_model_name": "FloatProgressModel",
            "_view_count": null,
            "_view_module": "@jupyter-widgets/controls",
            "_view_module_version": "1.5.0",
            "_view_name": "ProgressView",
            "bar_style": "success",
            "description": "#2: 100%",
            "description_tooltip": null,
            "layout": "IPY_MODEL_d1c9e45fefcf4911b075549839766136",
            "max": 145,
            "min": 0,
            "orientation": "horizontal",
            "style": "IPY_MODEL_6b8b84caa9824bd3ac52056203e4f8a7",
            "value": 145
          }
        },
        "cb964f98c94f4b38bb3567f27a27a685": {
          "model_module": "@jupyter-widgets/controls",
          "model_name": "HTMLModel",
          "state": {
            "_dom_classes": [],
            "_model_module": "@jupyter-widgets/controls",
            "_model_module_version": "1.5.0",
            "_model_name": "HTMLModel",
            "_view_count": null,
            "_view_module": "@jupyter-widgets/controls",
            "_view_module_version": "1.5.0",
            "_view_name": "HTMLView",
            "description": "",
            "description_tooltip": null,
            "layout": "IPY_MODEL_c2cd7c4e52354a3389115cd6bc6b8201",
            "placeholder": "​",
            "style": "IPY_MODEL_bf36556516a646a4add66522cd4353f6",
            "value": " 145/145 [00:47&lt;00:00,  3.03ba/s]"
          }
        },
        "4bf514a5e1db445399dbed005b2e10ec": {
          "model_module": "@jupyter-widgets/base",
          "model_name": "LayoutModel",
          "state": {
            "_model_module": "@jupyter-widgets/base",
            "_model_module_version": "1.2.0",
            "_model_name": "LayoutModel",
            "_view_count": null,
            "_view_module": "@jupyter-widgets/base",
            "_view_module_version": "1.2.0",
            "_view_name": "LayoutView",
            "align_content": null,
            "align_items": null,
            "align_self": null,
            "border": null,
            "bottom": null,
            "display": null,
            "flex": null,
            "flex_flow": null,
            "grid_area": null,
            "grid_auto_columns": null,
            "grid_auto_flow": null,
            "grid_auto_rows": null,
            "grid_column": null,
            "grid_gap": null,
            "grid_row": null,
            "grid_template_areas": null,
            "grid_template_columns": null,
            "grid_template_rows": null,
            "height": null,
            "justify_content": null,
            "justify_items": null,
            "left": null,
            "margin": null,
            "max_height": null,
            "max_width": null,
            "min_height": null,
            "min_width": null,
            "object_fit": null,
            "object_position": null,
            "order": null,
            "overflow": null,
            "overflow_x": null,
            "overflow_y": null,
            "padding": null,
            "right": null,
            "top": null,
            "visibility": null,
            "width": null
          }
        },
        "d1c9e45fefcf4911b075549839766136": {
          "model_module": "@jupyter-widgets/base",
          "model_name": "LayoutModel",
          "state": {
            "_model_module": "@jupyter-widgets/base",
            "_model_module_version": "1.2.0",
            "_model_name": "LayoutModel",
            "_view_count": null,
            "_view_module": "@jupyter-widgets/base",
            "_view_module_version": "1.2.0",
            "_view_name": "LayoutView",
            "align_content": null,
            "align_items": null,
            "align_self": null,
            "border": null,
            "bottom": null,
            "display": null,
            "flex": null,
            "flex_flow": null,
            "grid_area": null,
            "grid_auto_columns": null,
            "grid_auto_flow": null,
            "grid_auto_rows": null,
            "grid_column": null,
            "grid_gap": null,
            "grid_row": null,
            "grid_template_areas": null,
            "grid_template_columns": null,
            "grid_template_rows": null,
            "height": null,
            "justify_content": null,
            "justify_items": null,
            "left": null,
            "margin": null,
            "max_height": null,
            "max_width": null,
            "min_height": null,
            "min_width": null,
            "object_fit": null,
            "object_position": null,
            "order": null,
            "overflow": null,
            "overflow_x": null,
            "overflow_y": null,
            "padding": null,
            "right": null,
            "top": null,
            "visibility": null,
            "width": null
          }
        },
        "6b8b84caa9824bd3ac52056203e4f8a7": {
          "model_module": "@jupyter-widgets/controls",
          "model_name": "ProgressStyleModel",
          "state": {
            "_model_module": "@jupyter-widgets/controls",
            "_model_module_version": "1.5.0",
            "_model_name": "ProgressStyleModel",
            "_view_count": null,
            "_view_module": "@jupyter-widgets/base",
            "_view_module_version": "1.2.0",
            "_view_name": "StyleView",
            "bar_color": null,
            "description_width": "initial"
          }
        },
        "c2cd7c4e52354a3389115cd6bc6b8201": {
          "model_module": "@jupyter-widgets/base",
          "model_name": "LayoutModel",
          "state": {
            "_model_module": "@jupyter-widgets/base",
            "_model_module_version": "1.2.0",
            "_model_name": "LayoutModel",
            "_view_count": null,
            "_view_module": "@jupyter-widgets/base",
            "_view_module_version": "1.2.0",
            "_view_name": "LayoutView",
            "align_content": null,
            "align_items": null,
            "align_self": null,
            "border": null,
            "bottom": null,
            "display": null,
            "flex": null,
            "flex_flow": null,
            "grid_area": null,
            "grid_auto_columns": null,
            "grid_auto_flow": null,
            "grid_auto_rows": null,
            "grid_column": null,
            "grid_gap": null,
            "grid_row": null,
            "grid_template_areas": null,
            "grid_template_columns": null,
            "grid_template_rows": null,
            "height": null,
            "justify_content": null,
            "justify_items": null,
            "left": null,
            "margin": null,
            "max_height": null,
            "max_width": null,
            "min_height": null,
            "min_width": null,
            "object_fit": null,
            "object_position": null,
            "order": null,
            "overflow": null,
            "overflow_x": null,
            "overflow_y": null,
            "padding": null,
            "right": null,
            "top": null,
            "visibility": null,
            "width": null
          }
        },
        "bf36556516a646a4add66522cd4353f6": {
          "model_module": "@jupyter-widgets/controls",
          "model_name": "DescriptionStyleModel",
          "state": {
            "_model_module": "@jupyter-widgets/controls",
            "_model_module_version": "1.5.0",
            "_model_name": "DescriptionStyleModel",
            "_view_count": null,
            "_view_module": "@jupyter-widgets/base",
            "_view_module_version": "1.2.0",
            "_view_name": "StyleView",
            "description_width": ""
          }
        },
        "8c2a7258485b42bfbe651ee00ac856d2": {
          "model_module": "@jupyter-widgets/controls",
          "model_name": "HBoxModel",
          "state": {
            "_dom_classes": [],
            "_model_module": "@jupyter-widgets/controls",
            "_model_module_version": "1.5.0",
            "_model_name": "HBoxModel",
            "_view_count": null,
            "_view_module": "@jupyter-widgets/controls",
            "_view_module_version": "1.5.0",
            "_view_name": "HBoxView",
            "box_style": "",
            "children": [
              "IPY_MODEL_ac650d571c3f4b27b45b05a89ca5c0cb",
              "IPY_MODEL_c4a9c3729b2345e5997a83294ed916e6"
            ],
            "layout": "IPY_MODEL_18e004583ec14d80b14b4f39e499950c"
          }
        },
        "ac650d571c3f4b27b45b05a89ca5c0cb": {
          "model_module": "@jupyter-widgets/controls",
          "model_name": "FloatProgressModel",
          "state": {
            "_dom_classes": [],
            "_model_module": "@jupyter-widgets/controls",
            "_model_module_version": "1.5.0",
            "_model_name": "FloatProgressModel",
            "_view_count": null,
            "_view_module": "@jupyter-widgets/controls",
            "_view_module_version": "1.5.0",
            "_view_name": "ProgressView",
            "bar_style": "success",
            "description": "#0: 100%",
            "description_tooltip": null,
            "layout": "IPY_MODEL_10dfcd633ff34ad19593160aeae4f081",
            "max": 53,
            "min": 0,
            "orientation": "horizontal",
            "style": "IPY_MODEL_0883f4b2c2724352acfd74a87417f6e8",
            "value": 53
          }
        },
        "c4a9c3729b2345e5997a83294ed916e6": {
          "model_module": "@jupyter-widgets/controls",
          "model_name": "HTMLModel",
          "state": {
            "_dom_classes": [],
            "_model_module": "@jupyter-widgets/controls",
            "_model_module_version": "1.5.0",
            "_model_name": "HTMLModel",
            "_view_count": null,
            "_view_module": "@jupyter-widgets/controls",
            "_view_module_version": "1.5.0",
            "_view_name": "HTMLView",
            "description": "",
            "description_tooltip": null,
            "layout": "IPY_MODEL_d708420bacc942068d67d6a7538e8824",
            "placeholder": "​",
            "style": "IPY_MODEL_51cdf1bbd2ac4892bebb9e24f737f622",
            "value": " 53/53 [00:16&lt;00:00,  3.22ba/s]"
          }
        },
        "18e004583ec14d80b14b4f39e499950c": {
          "model_module": "@jupyter-widgets/base",
          "model_name": "LayoutModel",
          "state": {
            "_model_module": "@jupyter-widgets/base",
            "_model_module_version": "1.2.0",
            "_model_name": "LayoutModel",
            "_view_count": null,
            "_view_module": "@jupyter-widgets/base",
            "_view_module_version": "1.2.0",
            "_view_name": "LayoutView",
            "align_content": null,
            "align_items": null,
            "align_self": null,
            "border": null,
            "bottom": null,
            "display": null,
            "flex": null,
            "flex_flow": null,
            "grid_area": null,
            "grid_auto_columns": null,
            "grid_auto_flow": null,
            "grid_auto_rows": null,
            "grid_column": null,
            "grid_gap": null,
            "grid_row": null,
            "grid_template_areas": null,
            "grid_template_columns": null,
            "grid_template_rows": null,
            "height": null,
            "justify_content": null,
            "justify_items": null,
            "left": null,
            "margin": null,
            "max_height": null,
            "max_width": null,
            "min_height": null,
            "min_width": null,
            "object_fit": null,
            "object_position": null,
            "order": null,
            "overflow": null,
            "overflow_x": null,
            "overflow_y": null,
            "padding": null,
            "right": null,
            "top": null,
            "visibility": null,
            "width": null
          }
        },
        "10dfcd633ff34ad19593160aeae4f081": {
          "model_module": "@jupyter-widgets/base",
          "model_name": "LayoutModel",
          "state": {
            "_model_module": "@jupyter-widgets/base",
            "_model_module_version": "1.2.0",
            "_model_name": "LayoutModel",
            "_view_count": null,
            "_view_module": "@jupyter-widgets/base",
            "_view_module_version": "1.2.0",
            "_view_name": "LayoutView",
            "align_content": null,
            "align_items": null,
            "align_self": null,
            "border": null,
            "bottom": null,
            "display": null,
            "flex": null,
            "flex_flow": null,
            "grid_area": null,
            "grid_auto_columns": null,
            "grid_auto_flow": null,
            "grid_auto_rows": null,
            "grid_column": null,
            "grid_gap": null,
            "grid_row": null,
            "grid_template_areas": null,
            "grid_template_columns": null,
            "grid_template_rows": null,
            "height": null,
            "justify_content": null,
            "justify_items": null,
            "left": null,
            "margin": null,
            "max_height": null,
            "max_width": null,
            "min_height": null,
            "min_width": null,
            "object_fit": null,
            "object_position": null,
            "order": null,
            "overflow": null,
            "overflow_x": null,
            "overflow_y": null,
            "padding": null,
            "right": null,
            "top": null,
            "visibility": null,
            "width": null
          }
        },
        "0883f4b2c2724352acfd74a87417f6e8": {
          "model_module": "@jupyter-widgets/controls",
          "model_name": "ProgressStyleModel",
          "state": {
            "_model_module": "@jupyter-widgets/controls",
            "_model_module_version": "1.5.0",
            "_model_name": "ProgressStyleModel",
            "_view_count": null,
            "_view_module": "@jupyter-widgets/base",
            "_view_module_version": "1.2.0",
            "_view_name": "StyleView",
            "bar_color": null,
            "description_width": "initial"
          }
        },
        "d708420bacc942068d67d6a7538e8824": {
          "model_module": "@jupyter-widgets/base",
          "model_name": "LayoutModel",
          "state": {
            "_model_module": "@jupyter-widgets/base",
            "_model_module_version": "1.2.0",
            "_model_name": "LayoutModel",
            "_view_count": null,
            "_view_module": "@jupyter-widgets/base",
            "_view_module_version": "1.2.0",
            "_view_name": "LayoutView",
            "align_content": null,
            "align_items": null,
            "align_self": null,
            "border": null,
            "bottom": null,
            "display": null,
            "flex": null,
            "flex_flow": null,
            "grid_area": null,
            "grid_auto_columns": null,
            "grid_auto_flow": null,
            "grid_auto_rows": null,
            "grid_column": null,
            "grid_gap": null,
            "grid_row": null,
            "grid_template_areas": null,
            "grid_template_columns": null,
            "grid_template_rows": null,
            "height": null,
            "justify_content": null,
            "justify_items": null,
            "left": null,
            "margin": null,
            "max_height": null,
            "max_width": null,
            "min_height": null,
            "min_width": null,
            "object_fit": null,
            "object_position": null,
            "order": null,
            "overflow": null,
            "overflow_x": null,
            "overflow_y": null,
            "padding": null,
            "right": null,
            "top": null,
            "visibility": null,
            "width": null
          }
        },
        "51cdf1bbd2ac4892bebb9e24f737f622": {
          "model_module": "@jupyter-widgets/controls",
          "model_name": "DescriptionStyleModel",
          "state": {
            "_model_module": "@jupyter-widgets/controls",
            "_model_module_version": "1.5.0",
            "_model_name": "DescriptionStyleModel",
            "_view_count": null,
            "_view_module": "@jupyter-widgets/base",
            "_view_module_version": "1.2.0",
            "_view_name": "StyleView",
            "description_width": ""
          }
        },
        "1e860659835047d5b11fcf68b1a3f646": {
          "model_module": "@jupyter-widgets/controls",
          "model_name": "HBoxModel",
          "state": {
            "_dom_classes": [],
            "_model_module": "@jupyter-widgets/controls",
            "_model_module_version": "1.5.0",
            "_model_name": "HBoxModel",
            "_view_count": null,
            "_view_module": "@jupyter-widgets/controls",
            "_view_module_version": "1.5.0",
            "_view_name": "HBoxView",
            "box_style": "",
            "children": [
              "IPY_MODEL_f509b05465c747bf949d425841c5da6d",
              "IPY_MODEL_6d71391de20b4adabca8c1847cd6a4a2"
            ],
            "layout": "IPY_MODEL_81a757f785a94e92a0b332f5de12e35a"
          }
        },
        "f509b05465c747bf949d425841c5da6d": {
          "model_module": "@jupyter-widgets/controls",
          "model_name": "FloatProgressModel",
          "state": {
            "_dom_classes": [],
            "_model_module": "@jupyter-widgets/controls",
            "_model_module_version": "1.5.0",
            "_model_name": "FloatProgressModel",
            "_view_count": null,
            "_view_module": "@jupyter-widgets/controls",
            "_view_module_version": "1.5.0",
            "_view_name": "ProgressView",
            "bar_style": "success",
            "description": "#2: 100%",
            "description_tooltip": null,
            "layout": "IPY_MODEL_39c1f31482c34558a048f9620c176de1",
            "max": 53,
            "min": 0,
            "orientation": "horizontal",
            "style": "IPY_MODEL_d6eb83a63a85457ea409126eef65bb36",
            "value": 53
          }
        },
        "6d71391de20b4adabca8c1847cd6a4a2": {
          "model_module": "@jupyter-widgets/controls",
          "model_name": "HTMLModel",
          "state": {
            "_dom_classes": [],
            "_model_module": "@jupyter-widgets/controls",
            "_model_module_version": "1.5.0",
            "_model_name": "HTMLModel",
            "_view_count": null,
            "_view_module": "@jupyter-widgets/controls",
            "_view_module_version": "1.5.0",
            "_view_name": "HTMLView",
            "description": "",
            "description_tooltip": null,
            "layout": "IPY_MODEL_65675b2780eb41d5824df8a8b8678953",
            "placeholder": "​",
            "style": "IPY_MODEL_9fdb416cc4c84e328be747925a6e43f2",
            "value": " 53/53 [00:16&lt;00:00,  3.18ba/s]"
          }
        },
        "81a757f785a94e92a0b332f5de12e35a": {
          "model_module": "@jupyter-widgets/base",
          "model_name": "LayoutModel",
          "state": {
            "_model_module": "@jupyter-widgets/base",
            "_model_module_version": "1.2.0",
            "_model_name": "LayoutModel",
            "_view_count": null,
            "_view_module": "@jupyter-widgets/base",
            "_view_module_version": "1.2.0",
            "_view_name": "LayoutView",
            "align_content": null,
            "align_items": null,
            "align_self": null,
            "border": null,
            "bottom": null,
            "display": null,
            "flex": null,
            "flex_flow": null,
            "grid_area": null,
            "grid_auto_columns": null,
            "grid_auto_flow": null,
            "grid_auto_rows": null,
            "grid_column": null,
            "grid_gap": null,
            "grid_row": null,
            "grid_template_areas": null,
            "grid_template_columns": null,
            "grid_template_rows": null,
            "height": null,
            "justify_content": null,
            "justify_items": null,
            "left": null,
            "margin": null,
            "max_height": null,
            "max_width": null,
            "min_height": null,
            "min_width": null,
            "object_fit": null,
            "object_position": null,
            "order": null,
            "overflow": null,
            "overflow_x": null,
            "overflow_y": null,
            "padding": null,
            "right": null,
            "top": null,
            "visibility": null,
            "width": null
          }
        },
        "39c1f31482c34558a048f9620c176de1": {
          "model_module": "@jupyter-widgets/base",
          "model_name": "LayoutModel",
          "state": {
            "_model_module": "@jupyter-widgets/base",
            "_model_module_version": "1.2.0",
            "_model_name": "LayoutModel",
            "_view_count": null,
            "_view_module": "@jupyter-widgets/base",
            "_view_module_version": "1.2.0",
            "_view_name": "LayoutView",
            "align_content": null,
            "align_items": null,
            "align_self": null,
            "border": null,
            "bottom": null,
            "display": null,
            "flex": null,
            "flex_flow": null,
            "grid_area": null,
            "grid_auto_columns": null,
            "grid_auto_flow": null,
            "grid_auto_rows": null,
            "grid_column": null,
            "grid_gap": null,
            "grid_row": null,
            "grid_template_areas": null,
            "grid_template_columns": null,
            "grid_template_rows": null,
            "height": null,
            "justify_content": null,
            "justify_items": null,
            "left": null,
            "margin": null,
            "max_height": null,
            "max_width": null,
            "min_height": null,
            "min_width": null,
            "object_fit": null,
            "object_position": null,
            "order": null,
            "overflow": null,
            "overflow_x": null,
            "overflow_y": null,
            "padding": null,
            "right": null,
            "top": null,
            "visibility": null,
            "width": null
          }
        },
        "d6eb83a63a85457ea409126eef65bb36": {
          "model_module": "@jupyter-widgets/controls",
          "model_name": "ProgressStyleModel",
          "state": {
            "_model_module": "@jupyter-widgets/controls",
            "_model_module_version": "1.5.0",
            "_model_name": "ProgressStyleModel",
            "_view_count": null,
            "_view_module": "@jupyter-widgets/base",
            "_view_module_version": "1.2.0",
            "_view_name": "StyleView",
            "bar_color": null,
            "description_width": "initial"
          }
        },
        "65675b2780eb41d5824df8a8b8678953": {
          "model_module": "@jupyter-widgets/base",
          "model_name": "LayoutModel",
          "state": {
            "_model_module": "@jupyter-widgets/base",
            "_model_module_version": "1.2.0",
            "_model_name": "LayoutModel",
            "_view_count": null,
            "_view_module": "@jupyter-widgets/base",
            "_view_module_version": "1.2.0",
            "_view_name": "LayoutView",
            "align_content": null,
            "align_items": null,
            "align_self": null,
            "border": null,
            "bottom": null,
            "display": null,
            "flex": null,
            "flex_flow": null,
            "grid_area": null,
            "grid_auto_columns": null,
            "grid_auto_flow": null,
            "grid_auto_rows": null,
            "grid_column": null,
            "grid_gap": null,
            "grid_row": null,
            "grid_template_areas": null,
            "grid_template_columns": null,
            "grid_template_rows": null,
            "height": null,
            "justify_content": null,
            "justify_items": null,
            "left": null,
            "margin": null,
            "max_height": null,
            "max_width": null,
            "min_height": null,
            "min_width": null,
            "object_fit": null,
            "object_position": null,
            "order": null,
            "overflow": null,
            "overflow_x": null,
            "overflow_y": null,
            "padding": null,
            "right": null,
            "top": null,
            "visibility": null,
            "width": null
          }
        },
        "9fdb416cc4c84e328be747925a6e43f2": {
          "model_module": "@jupyter-widgets/controls",
          "model_name": "DescriptionStyleModel",
          "state": {
            "_model_module": "@jupyter-widgets/controls",
            "_model_module_version": "1.5.0",
            "_model_name": "DescriptionStyleModel",
            "_view_count": null,
            "_view_module": "@jupyter-widgets/base",
            "_view_module_version": "1.2.0",
            "_view_name": "StyleView",
            "description_width": ""
          }
        },
        "d8c57f6305a1482888a81796a957906f": {
          "model_module": "@jupyter-widgets/controls",
          "model_name": "HBoxModel",
          "state": {
            "_dom_classes": [],
            "_model_module": "@jupyter-widgets/controls",
            "_model_module_version": "1.5.0",
            "_model_name": "HBoxModel",
            "_view_count": null,
            "_view_module": "@jupyter-widgets/controls",
            "_view_module_version": "1.5.0",
            "_view_name": "HBoxView",
            "box_style": "",
            "children": [
              "IPY_MODEL_5bc7c0cbe100407eaea17bc32dd27436",
              "IPY_MODEL_d7dedda016664c388b9b3f1f8f96c0c9"
            ],
            "layout": "IPY_MODEL_d49e0913c1a64c41bfd8b195f6c479a9"
          }
        },
        "5bc7c0cbe100407eaea17bc32dd27436": {
          "model_module": "@jupyter-widgets/controls",
          "model_name": "FloatProgressModel",
          "state": {
            "_dom_classes": [],
            "_model_module": "@jupyter-widgets/controls",
            "_model_module_version": "1.5.0",
            "_model_name": "FloatProgressModel",
            "_view_count": null,
            "_view_module": "@jupyter-widgets/controls",
            "_view_module_version": "1.5.0",
            "_view_name": "ProgressView",
            "bar_style": "success",
            "description": "#1: 100%",
            "description_tooltip": null,
            "layout": "IPY_MODEL_5af8b357b40947fab2c6a8979fb1d27a",
            "max": 53,
            "min": 0,
            "orientation": "horizontal",
            "style": "IPY_MODEL_b0155975792a47aca9aee8e4501b419f",
            "value": 53
          }
        },
        "d7dedda016664c388b9b3f1f8f96c0c9": {
          "model_module": "@jupyter-widgets/controls",
          "model_name": "HTMLModel",
          "state": {
            "_dom_classes": [],
            "_model_module": "@jupyter-widgets/controls",
            "_model_module_version": "1.5.0",
            "_model_name": "HTMLModel",
            "_view_count": null,
            "_view_module": "@jupyter-widgets/controls",
            "_view_module_version": "1.5.0",
            "_view_name": "HTMLView",
            "description": "",
            "description_tooltip": null,
            "layout": "IPY_MODEL_0822d4a95cb141088ae4eeeadd41f3bf",
            "placeholder": "​",
            "style": "IPY_MODEL_d490c0bf288c4a11b8437b2f0ee8c27b",
            "value": " 53/53 [00:16&lt;00:00,  3.18ba/s]"
          }
        },
        "d49e0913c1a64c41bfd8b195f6c479a9": {
          "model_module": "@jupyter-widgets/base",
          "model_name": "LayoutModel",
          "state": {
            "_model_module": "@jupyter-widgets/base",
            "_model_module_version": "1.2.0",
            "_model_name": "LayoutModel",
            "_view_count": null,
            "_view_module": "@jupyter-widgets/base",
            "_view_module_version": "1.2.0",
            "_view_name": "LayoutView",
            "align_content": null,
            "align_items": null,
            "align_self": null,
            "border": null,
            "bottom": null,
            "display": null,
            "flex": null,
            "flex_flow": null,
            "grid_area": null,
            "grid_auto_columns": null,
            "grid_auto_flow": null,
            "grid_auto_rows": null,
            "grid_column": null,
            "grid_gap": null,
            "grid_row": null,
            "grid_template_areas": null,
            "grid_template_columns": null,
            "grid_template_rows": null,
            "height": null,
            "justify_content": null,
            "justify_items": null,
            "left": null,
            "margin": null,
            "max_height": null,
            "max_width": null,
            "min_height": null,
            "min_width": null,
            "object_fit": null,
            "object_position": null,
            "order": null,
            "overflow": null,
            "overflow_x": null,
            "overflow_y": null,
            "padding": null,
            "right": null,
            "top": null,
            "visibility": null,
            "width": null
          }
        },
        "5af8b357b40947fab2c6a8979fb1d27a": {
          "model_module": "@jupyter-widgets/base",
          "model_name": "LayoutModel",
          "state": {
            "_model_module": "@jupyter-widgets/base",
            "_model_module_version": "1.2.0",
            "_model_name": "LayoutModel",
            "_view_count": null,
            "_view_module": "@jupyter-widgets/base",
            "_view_module_version": "1.2.0",
            "_view_name": "LayoutView",
            "align_content": null,
            "align_items": null,
            "align_self": null,
            "border": null,
            "bottom": null,
            "display": null,
            "flex": null,
            "flex_flow": null,
            "grid_area": null,
            "grid_auto_columns": null,
            "grid_auto_flow": null,
            "grid_auto_rows": null,
            "grid_column": null,
            "grid_gap": null,
            "grid_row": null,
            "grid_template_areas": null,
            "grid_template_columns": null,
            "grid_template_rows": null,
            "height": null,
            "justify_content": null,
            "justify_items": null,
            "left": null,
            "margin": null,
            "max_height": null,
            "max_width": null,
            "min_height": null,
            "min_width": null,
            "object_fit": null,
            "object_position": null,
            "order": null,
            "overflow": null,
            "overflow_x": null,
            "overflow_y": null,
            "padding": null,
            "right": null,
            "top": null,
            "visibility": null,
            "width": null
          }
        },
        "b0155975792a47aca9aee8e4501b419f": {
          "model_module": "@jupyter-widgets/controls",
          "model_name": "ProgressStyleModel",
          "state": {
            "_model_module": "@jupyter-widgets/controls",
            "_model_module_version": "1.5.0",
            "_model_name": "ProgressStyleModel",
            "_view_count": null,
            "_view_module": "@jupyter-widgets/base",
            "_view_module_version": "1.2.0",
            "_view_name": "StyleView",
            "bar_color": null,
            "description_width": "initial"
          }
        },
        "0822d4a95cb141088ae4eeeadd41f3bf": {
          "model_module": "@jupyter-widgets/base",
          "model_name": "LayoutModel",
          "state": {
            "_model_module": "@jupyter-widgets/base",
            "_model_module_version": "1.2.0",
            "_model_name": "LayoutModel",
            "_view_count": null,
            "_view_module": "@jupyter-widgets/base",
            "_view_module_version": "1.2.0",
            "_view_name": "LayoutView",
            "align_content": null,
            "align_items": null,
            "align_self": null,
            "border": null,
            "bottom": null,
            "display": null,
            "flex": null,
            "flex_flow": null,
            "grid_area": null,
            "grid_auto_columns": null,
            "grid_auto_flow": null,
            "grid_auto_rows": null,
            "grid_column": null,
            "grid_gap": null,
            "grid_row": null,
            "grid_template_areas": null,
            "grid_template_columns": null,
            "grid_template_rows": null,
            "height": null,
            "justify_content": null,
            "justify_items": null,
            "left": null,
            "margin": null,
            "max_height": null,
            "max_width": null,
            "min_height": null,
            "min_width": null,
            "object_fit": null,
            "object_position": null,
            "order": null,
            "overflow": null,
            "overflow_x": null,
            "overflow_y": null,
            "padding": null,
            "right": null,
            "top": null,
            "visibility": null,
            "width": null
          }
        },
        "d490c0bf288c4a11b8437b2f0ee8c27b": {
          "model_module": "@jupyter-widgets/controls",
          "model_name": "DescriptionStyleModel",
          "state": {
            "_model_module": "@jupyter-widgets/controls",
            "_model_module_version": "1.5.0",
            "_model_name": "DescriptionStyleModel",
            "_view_count": null,
            "_view_module": "@jupyter-widgets/base",
            "_view_module_version": "1.2.0",
            "_view_name": "StyleView",
            "description_width": ""
          }
        },
        "8f01dd302d6e4b409efe71368185635d": {
          "model_module": "@jupyter-widgets/controls",
          "model_name": "HBoxModel",
          "state": {
            "_dom_classes": [],
            "_model_module": "@jupyter-widgets/controls",
            "_model_module_version": "1.5.0",
            "_model_name": "HBoxModel",
            "_view_count": null,
            "_view_module": "@jupyter-widgets/controls",
            "_view_module_version": "1.5.0",
            "_view_name": "HBoxView",
            "box_style": "",
            "children": [
              "IPY_MODEL_eed17080c1cb416b84d040a074b63f3f",
              "IPY_MODEL_1ee3bf55c2b540cea1a151c438104500"
            ],
            "layout": "IPY_MODEL_789494d9bbbd498793b876ca509f36d8"
          }
        },
        "eed17080c1cb416b84d040a074b63f3f": {
          "model_module": "@jupyter-widgets/controls",
          "model_name": "FloatProgressModel",
          "state": {
            "_dom_classes": [],
            "_model_module": "@jupyter-widgets/controls",
            "_model_module_version": "1.5.0",
            "_model_name": "FloatProgressModel",
            "_view_count": null,
            "_view_module": "@jupyter-widgets/controls",
            "_view_module_version": "1.5.0",
            "_view_name": "ProgressView",
            "bar_style": "success",
            "description": "#3: 100%",
            "description_tooltip": null,
            "layout": "IPY_MODEL_e82af9c27fb7491b9b7696e24205069e",
            "max": 53,
            "min": 0,
            "orientation": "horizontal",
            "style": "IPY_MODEL_eba8d883314f4205b480f3583f3162a3",
            "value": 53
          }
        },
        "1ee3bf55c2b540cea1a151c438104500": {
          "model_module": "@jupyter-widgets/controls",
          "model_name": "HTMLModel",
          "state": {
            "_dom_classes": [],
            "_model_module": "@jupyter-widgets/controls",
            "_model_module_version": "1.5.0",
            "_model_name": "HTMLModel",
            "_view_count": null,
            "_view_module": "@jupyter-widgets/controls",
            "_view_module_version": "1.5.0",
            "_view_name": "HTMLView",
            "description": "",
            "description_tooltip": null,
            "layout": "IPY_MODEL_5800339e346d47f5ae79231cc6c08cdb",
            "placeholder": "​",
            "style": "IPY_MODEL_7de8fdd75e304ddda9a93dea3c1e01a9",
            "value": " 53/53 [00:16&lt;00:00,  3.17ba/s]"
          }
        },
        "789494d9bbbd498793b876ca509f36d8": {
          "model_module": "@jupyter-widgets/base",
          "model_name": "LayoutModel",
          "state": {
            "_model_module": "@jupyter-widgets/base",
            "_model_module_version": "1.2.0",
            "_model_name": "LayoutModel",
            "_view_count": null,
            "_view_module": "@jupyter-widgets/base",
            "_view_module_version": "1.2.0",
            "_view_name": "LayoutView",
            "align_content": null,
            "align_items": null,
            "align_self": null,
            "border": null,
            "bottom": null,
            "display": null,
            "flex": null,
            "flex_flow": null,
            "grid_area": null,
            "grid_auto_columns": null,
            "grid_auto_flow": null,
            "grid_auto_rows": null,
            "grid_column": null,
            "grid_gap": null,
            "grid_row": null,
            "grid_template_areas": null,
            "grid_template_columns": null,
            "grid_template_rows": null,
            "height": null,
            "justify_content": null,
            "justify_items": null,
            "left": null,
            "margin": null,
            "max_height": null,
            "max_width": null,
            "min_height": null,
            "min_width": null,
            "object_fit": null,
            "object_position": null,
            "order": null,
            "overflow": null,
            "overflow_x": null,
            "overflow_y": null,
            "padding": null,
            "right": null,
            "top": null,
            "visibility": null,
            "width": null
          }
        },
        "e82af9c27fb7491b9b7696e24205069e": {
          "model_module": "@jupyter-widgets/base",
          "model_name": "LayoutModel",
          "state": {
            "_model_module": "@jupyter-widgets/base",
            "_model_module_version": "1.2.0",
            "_model_name": "LayoutModel",
            "_view_count": null,
            "_view_module": "@jupyter-widgets/base",
            "_view_module_version": "1.2.0",
            "_view_name": "LayoutView",
            "align_content": null,
            "align_items": null,
            "align_self": null,
            "border": null,
            "bottom": null,
            "display": null,
            "flex": null,
            "flex_flow": null,
            "grid_area": null,
            "grid_auto_columns": null,
            "grid_auto_flow": null,
            "grid_auto_rows": null,
            "grid_column": null,
            "grid_gap": null,
            "grid_row": null,
            "grid_template_areas": null,
            "grid_template_columns": null,
            "grid_template_rows": null,
            "height": null,
            "justify_content": null,
            "justify_items": null,
            "left": null,
            "margin": null,
            "max_height": null,
            "max_width": null,
            "min_height": null,
            "min_width": null,
            "object_fit": null,
            "object_position": null,
            "order": null,
            "overflow": null,
            "overflow_x": null,
            "overflow_y": null,
            "padding": null,
            "right": null,
            "top": null,
            "visibility": null,
            "width": null
          }
        },
        "eba8d883314f4205b480f3583f3162a3": {
          "model_module": "@jupyter-widgets/controls",
          "model_name": "ProgressStyleModel",
          "state": {
            "_model_module": "@jupyter-widgets/controls",
            "_model_module_version": "1.5.0",
            "_model_name": "ProgressStyleModel",
            "_view_count": null,
            "_view_module": "@jupyter-widgets/base",
            "_view_module_version": "1.2.0",
            "_view_name": "StyleView",
            "bar_color": null,
            "description_width": "initial"
          }
        },
        "5800339e346d47f5ae79231cc6c08cdb": {
          "model_module": "@jupyter-widgets/base",
          "model_name": "LayoutModel",
          "state": {
            "_model_module": "@jupyter-widgets/base",
            "_model_module_version": "1.2.0",
            "_model_name": "LayoutModel",
            "_view_count": null,
            "_view_module": "@jupyter-widgets/base",
            "_view_module_version": "1.2.0",
            "_view_name": "LayoutView",
            "align_content": null,
            "align_items": null,
            "align_self": null,
            "border": null,
            "bottom": null,
            "display": null,
            "flex": null,
            "flex_flow": null,
            "grid_area": null,
            "grid_auto_columns": null,
            "grid_auto_flow": null,
            "grid_auto_rows": null,
            "grid_column": null,
            "grid_gap": null,
            "grid_row": null,
            "grid_template_areas": null,
            "grid_template_columns": null,
            "grid_template_rows": null,
            "height": null,
            "justify_content": null,
            "justify_items": null,
            "left": null,
            "margin": null,
            "max_height": null,
            "max_width": null,
            "min_height": null,
            "min_width": null,
            "object_fit": null,
            "object_position": null,
            "order": null,
            "overflow": null,
            "overflow_x": null,
            "overflow_y": null,
            "padding": null,
            "right": null,
            "top": null,
            "visibility": null,
            "width": null
          }
        },
        "7de8fdd75e304ddda9a93dea3c1e01a9": {
          "model_module": "@jupyter-widgets/controls",
          "model_name": "DescriptionStyleModel",
          "state": {
            "_model_module": "@jupyter-widgets/controls",
            "_model_module_version": "1.5.0",
            "_model_name": "DescriptionStyleModel",
            "_view_count": null,
            "_view_module": "@jupyter-widgets/base",
            "_view_module_version": "1.2.0",
            "_view_name": "StyleView",
            "description_width": ""
          }
        },
        "492daa79e3ea4d25a117bf38da36a2a7": {
          "model_module": "@jupyter-widgets/controls",
          "model_name": "HBoxModel",
          "state": {
            "_dom_classes": [],
            "_model_module": "@jupyter-widgets/controls",
            "_model_module_version": "1.5.0",
            "_model_name": "HBoxModel",
            "_view_count": null,
            "_view_module": "@jupyter-widgets/controls",
            "_view_module_version": "1.5.0",
            "_view_name": "HBoxView",
            "box_style": "",
            "children": [
              "IPY_MODEL_3a685014b64e419fa98b79ae449c8a11",
              "IPY_MODEL_cf0b9bd40dd245cf8a3f1bbb41d18c87"
            ],
            "layout": "IPY_MODEL_549ef44806a448af9c4a6f205a0e11bc"
          }
        },
        "3a685014b64e419fa98b79ae449c8a11": {
          "model_module": "@jupyter-widgets/controls",
          "model_name": "FloatProgressModel",
          "state": {
            "_dom_classes": [],
            "_model_module": "@jupyter-widgets/controls",
            "_model_module_version": "1.5.0",
            "_model_name": "FloatProgressModel",
            "_view_count": null,
            "_view_module": "@jupyter-widgets/controls",
            "_view_module_version": "1.5.0",
            "_view_name": "ProgressView",
            "bar_style": "success",
            "description": "Downloading: ",
            "description_tooltip": null,
            "layout": "IPY_MODEL_3cba5cad9a7145828f784356da368c2d",
            "max": 1764,
            "min": 0,
            "orientation": "horizontal",
            "style": "IPY_MODEL_7219cdb31ca64eb78f97eec6a261691f",
            "value": 1764
          }
        },
        "cf0b9bd40dd245cf8a3f1bbb41d18c87": {
          "model_module": "@jupyter-widgets/controls",
          "model_name": "HTMLModel",
          "state": {
            "_dom_classes": [],
            "_model_module": "@jupyter-widgets/controls",
            "_model_module_version": "1.5.0",
            "_model_name": "HTMLModel",
            "_view_count": null,
            "_view_module": "@jupyter-widgets/controls",
            "_view_module_version": "1.5.0",
            "_view_name": "HTMLView",
            "description": "",
            "description_tooltip": null,
            "layout": "IPY_MODEL_f395f309850f460785830b46390883f7",
            "placeholder": "​",
            "style": "IPY_MODEL_175552c5179e4ac3811826160e4adb1b",
            "value": " 3.90k/? [00:00&lt;00:00, 11.9kB/s]"
          }
        },
        "549ef44806a448af9c4a6f205a0e11bc": {
          "model_module": "@jupyter-widgets/base",
          "model_name": "LayoutModel",
          "state": {
            "_model_module": "@jupyter-widgets/base",
            "_model_module_version": "1.2.0",
            "_model_name": "LayoutModel",
            "_view_count": null,
            "_view_module": "@jupyter-widgets/base",
            "_view_module_version": "1.2.0",
            "_view_name": "LayoutView",
            "align_content": null,
            "align_items": null,
            "align_self": null,
            "border": null,
            "bottom": null,
            "display": null,
            "flex": null,
            "flex_flow": null,
            "grid_area": null,
            "grid_auto_columns": null,
            "grid_auto_flow": null,
            "grid_auto_rows": null,
            "grid_column": null,
            "grid_gap": null,
            "grid_row": null,
            "grid_template_areas": null,
            "grid_template_columns": null,
            "grid_template_rows": null,
            "height": null,
            "justify_content": null,
            "justify_items": null,
            "left": null,
            "margin": null,
            "max_height": null,
            "max_width": null,
            "min_height": null,
            "min_width": null,
            "object_fit": null,
            "object_position": null,
            "order": null,
            "overflow": null,
            "overflow_x": null,
            "overflow_y": null,
            "padding": null,
            "right": null,
            "top": null,
            "visibility": null,
            "width": null
          }
        },
        "3cba5cad9a7145828f784356da368c2d": {
          "model_module": "@jupyter-widgets/base",
          "model_name": "LayoutModel",
          "state": {
            "_model_module": "@jupyter-widgets/base",
            "_model_module_version": "1.2.0",
            "_model_name": "LayoutModel",
            "_view_count": null,
            "_view_module": "@jupyter-widgets/base",
            "_view_module_version": "1.2.0",
            "_view_name": "LayoutView",
            "align_content": null,
            "align_items": null,
            "align_self": null,
            "border": null,
            "bottom": null,
            "display": null,
            "flex": null,
            "flex_flow": null,
            "grid_area": null,
            "grid_auto_columns": null,
            "grid_auto_flow": null,
            "grid_auto_rows": null,
            "grid_column": null,
            "grid_gap": null,
            "grid_row": null,
            "grid_template_areas": null,
            "grid_template_columns": null,
            "grid_template_rows": null,
            "height": null,
            "justify_content": null,
            "justify_items": null,
            "left": null,
            "margin": null,
            "max_height": null,
            "max_width": null,
            "min_height": null,
            "min_width": null,
            "object_fit": null,
            "object_position": null,
            "order": null,
            "overflow": null,
            "overflow_x": null,
            "overflow_y": null,
            "padding": null,
            "right": null,
            "top": null,
            "visibility": null,
            "width": null
          }
        },
        "7219cdb31ca64eb78f97eec6a261691f": {
          "model_module": "@jupyter-widgets/controls",
          "model_name": "ProgressStyleModel",
          "state": {
            "_model_module": "@jupyter-widgets/controls",
            "_model_module_version": "1.5.0",
            "_model_name": "ProgressStyleModel",
            "_view_count": null,
            "_view_module": "@jupyter-widgets/base",
            "_view_module_version": "1.2.0",
            "_view_name": "StyleView",
            "bar_color": null,
            "description_width": "initial"
          }
        },
        "f395f309850f460785830b46390883f7": {
          "model_module": "@jupyter-widgets/base",
          "model_name": "LayoutModel",
          "state": {
            "_model_module": "@jupyter-widgets/base",
            "_model_module_version": "1.2.0",
            "_model_name": "LayoutModel",
            "_view_count": null,
            "_view_module": "@jupyter-widgets/base",
            "_view_module_version": "1.2.0",
            "_view_name": "LayoutView",
            "align_content": null,
            "align_items": null,
            "align_self": null,
            "border": null,
            "bottom": null,
            "display": null,
            "flex": null,
            "flex_flow": null,
            "grid_area": null,
            "grid_auto_columns": null,
            "grid_auto_flow": null,
            "grid_auto_rows": null,
            "grid_column": null,
            "grid_gap": null,
            "grid_row": null,
            "grid_template_areas": null,
            "grid_template_columns": null,
            "grid_template_rows": null,
            "height": null,
            "justify_content": null,
            "justify_items": null,
            "left": null,
            "margin": null,
            "max_height": null,
            "max_width": null,
            "min_height": null,
            "min_width": null,
            "object_fit": null,
            "object_position": null,
            "order": null,
            "overflow": null,
            "overflow_x": null,
            "overflow_y": null,
            "padding": null,
            "right": null,
            "top": null,
            "visibility": null,
            "width": null
          }
        },
        "175552c5179e4ac3811826160e4adb1b": {
          "model_module": "@jupyter-widgets/controls",
          "model_name": "DescriptionStyleModel",
          "state": {
            "_model_module": "@jupyter-widgets/controls",
            "_model_module_version": "1.5.0",
            "_model_name": "DescriptionStyleModel",
            "_view_count": null,
            "_view_module": "@jupyter-widgets/base",
            "_view_module_version": "1.2.0",
            "_view_name": "StyleView",
            "description_width": ""
          }
        },
        "035716c833c342f68a829011ff3bd0a4": {
          "model_module": "@jupyter-widgets/controls",
          "model_name": "HBoxModel",
          "state": {
            "_dom_classes": [],
            "_model_module": "@jupyter-widgets/controls",
            "_model_module_version": "1.5.0",
            "_model_name": "HBoxModel",
            "_view_count": null,
            "_view_module": "@jupyter-widgets/controls",
            "_view_module_version": "1.5.0",
            "_view_name": "HBoxView",
            "box_style": "",
            "children": [
              "IPY_MODEL_ef0a3991bb164286967095110a0db5ca",
              "IPY_MODEL_79c0bc9508c44810bbf5f1435a4c0e50"
            ],
            "layout": "IPY_MODEL_a03a897c820948418caa76560ac5288e"
          }
        },
        "ef0a3991bb164286967095110a0db5ca": {
          "model_module": "@jupyter-widgets/controls",
          "model_name": "FloatProgressModel",
          "state": {
            "_dom_classes": [],
            "_model_module": "@jupyter-widgets/controls",
            "_model_module_version": "1.5.0",
            "_model_name": "FloatProgressModel",
            "_view_count": null,
            "_view_module": "@jupyter-widgets/controls",
            "_view_module_version": "1.5.0",
            "_view_name": "ProgressView",
            "bar_style": "success",
            "description": "Downloading: 100%",
            "description_tooltip": null,
            "layout": "IPY_MODEL_8d12f0b493ce43e9aa5148dcedd37cd0",
            "max": 1465,
            "min": 0,
            "orientation": "horizontal",
            "style": "IPY_MODEL_f345c8878d75449f86779569849260c5",
            "value": 1465
          }
        },
        "79c0bc9508c44810bbf5f1435a4c0e50": {
          "model_module": "@jupyter-widgets/controls",
          "model_name": "HTMLModel",
          "state": {
            "_dom_classes": [],
            "_model_module": "@jupyter-widgets/controls",
            "_model_module_version": "1.5.0",
            "_model_name": "HTMLModel",
            "_view_count": null,
            "_view_module": "@jupyter-widgets/controls",
            "_view_module_version": "1.5.0",
            "_view_name": "HTMLView",
            "description": "",
            "description_tooltip": null,
            "layout": "IPY_MODEL_21652a22fb7448fbb58b25cd12a50de5",
            "placeholder": "​",
            "style": "IPY_MODEL_c6300f43f823422d80884d05da90f7c4",
            "value": " 1.47k/1.47k [00:13&lt;00:00, 112B/s]"
          }
        },
        "a03a897c820948418caa76560ac5288e": {
          "model_module": "@jupyter-widgets/base",
          "model_name": "LayoutModel",
          "state": {
            "_model_module": "@jupyter-widgets/base",
            "_model_module_version": "1.2.0",
            "_model_name": "LayoutModel",
            "_view_count": null,
            "_view_module": "@jupyter-widgets/base",
            "_view_module_version": "1.2.0",
            "_view_name": "LayoutView",
            "align_content": null,
            "align_items": null,
            "align_self": null,
            "border": null,
            "bottom": null,
            "display": null,
            "flex": null,
            "flex_flow": null,
            "grid_area": null,
            "grid_auto_columns": null,
            "grid_auto_flow": null,
            "grid_auto_rows": null,
            "grid_column": null,
            "grid_gap": null,
            "grid_row": null,
            "grid_template_areas": null,
            "grid_template_columns": null,
            "grid_template_rows": null,
            "height": null,
            "justify_content": null,
            "justify_items": null,
            "left": null,
            "margin": null,
            "max_height": null,
            "max_width": null,
            "min_height": null,
            "min_width": null,
            "object_fit": null,
            "object_position": null,
            "order": null,
            "overflow": null,
            "overflow_x": null,
            "overflow_y": null,
            "padding": null,
            "right": null,
            "top": null,
            "visibility": null,
            "width": null
          }
        },
        "8d12f0b493ce43e9aa5148dcedd37cd0": {
          "model_module": "@jupyter-widgets/base",
          "model_name": "LayoutModel",
          "state": {
            "_model_module": "@jupyter-widgets/base",
            "_model_module_version": "1.2.0",
            "_model_name": "LayoutModel",
            "_view_count": null,
            "_view_module": "@jupyter-widgets/base",
            "_view_module_version": "1.2.0",
            "_view_name": "LayoutView",
            "align_content": null,
            "align_items": null,
            "align_self": null,
            "border": null,
            "bottom": null,
            "display": null,
            "flex": null,
            "flex_flow": null,
            "grid_area": null,
            "grid_auto_columns": null,
            "grid_auto_flow": null,
            "grid_auto_rows": null,
            "grid_column": null,
            "grid_gap": null,
            "grid_row": null,
            "grid_template_areas": null,
            "grid_template_columns": null,
            "grid_template_rows": null,
            "height": null,
            "justify_content": null,
            "justify_items": null,
            "left": null,
            "margin": null,
            "max_height": null,
            "max_width": null,
            "min_height": null,
            "min_width": null,
            "object_fit": null,
            "object_position": null,
            "order": null,
            "overflow": null,
            "overflow_x": null,
            "overflow_y": null,
            "padding": null,
            "right": null,
            "top": null,
            "visibility": null,
            "width": null
          }
        },
        "f345c8878d75449f86779569849260c5": {
          "model_module": "@jupyter-widgets/controls",
          "model_name": "ProgressStyleModel",
          "state": {
            "_model_module": "@jupyter-widgets/controls",
            "_model_module_version": "1.5.0",
            "_model_name": "ProgressStyleModel",
            "_view_count": null,
            "_view_module": "@jupyter-widgets/base",
            "_view_module_version": "1.2.0",
            "_view_name": "StyleView",
            "bar_color": null,
            "description_width": "initial"
          }
        },
        "21652a22fb7448fbb58b25cd12a50de5": {
          "model_module": "@jupyter-widgets/base",
          "model_name": "LayoutModel",
          "state": {
            "_model_module": "@jupyter-widgets/base",
            "_model_module_version": "1.2.0",
            "_model_name": "LayoutModel",
            "_view_count": null,
            "_view_module": "@jupyter-widgets/base",
            "_view_module_version": "1.2.0",
            "_view_name": "LayoutView",
            "align_content": null,
            "align_items": null,
            "align_self": null,
            "border": null,
            "bottom": null,
            "display": null,
            "flex": null,
            "flex_flow": null,
            "grid_area": null,
            "grid_auto_columns": null,
            "grid_auto_flow": null,
            "grid_auto_rows": null,
            "grid_column": null,
            "grid_gap": null,
            "grid_row": null,
            "grid_template_areas": null,
            "grid_template_columns": null,
            "grid_template_rows": null,
            "height": null,
            "justify_content": null,
            "justify_items": null,
            "left": null,
            "margin": null,
            "max_height": null,
            "max_width": null,
            "min_height": null,
            "min_width": null,
            "object_fit": null,
            "object_position": null,
            "order": null,
            "overflow": null,
            "overflow_x": null,
            "overflow_y": null,
            "padding": null,
            "right": null,
            "top": null,
            "visibility": null,
            "width": null
          }
        },
        "c6300f43f823422d80884d05da90f7c4": {
          "model_module": "@jupyter-widgets/controls",
          "model_name": "DescriptionStyleModel",
          "state": {
            "_model_module": "@jupyter-widgets/controls",
            "_model_module_version": "1.5.0",
            "_model_name": "DescriptionStyleModel",
            "_view_count": null,
            "_view_module": "@jupyter-widgets/base",
            "_view_module_version": "1.2.0",
            "_view_name": "StyleView",
            "description_width": ""
          }
        },
        "9867fa3d10044684aade35288fd2e449": {
          "model_module": "@jupyter-widgets/controls",
          "model_name": "HBoxModel",
          "state": {
            "_dom_classes": [],
            "_model_module": "@jupyter-widgets/controls",
            "_model_module_version": "1.5.0",
            "_model_name": "HBoxModel",
            "_view_count": null,
            "_view_module": "@jupyter-widgets/controls",
            "_view_module_version": "1.5.0",
            "_view_name": "HBoxView",
            "box_style": "",
            "children": [
              "IPY_MODEL_9d06f6b013c74a12b941f4fcf7ab4498",
              "IPY_MODEL_4cce9b824b1f4f0e98e4be85d1409e71"
            ],
            "layout": "IPY_MODEL_f2620f8c4ec645739dae5b07678900b7"
          }
        },
        "9d06f6b013c74a12b941f4fcf7ab4498": {
          "model_module": "@jupyter-widgets/controls",
          "model_name": "FloatProgressModel",
          "state": {
            "_dom_classes": [],
            "_model_module": "@jupyter-widgets/controls",
            "_model_module_version": "1.5.0",
            "_model_name": "FloatProgressModel",
            "_view_count": null,
            "_view_module": "@jupyter-widgets/controls",
            "_view_module_version": "1.5.0",
            "_view_name": "ProgressView",
            "bar_style": "success",
            "description": "Downloading: 100%",
            "description_tooltip": null,
            "layout": "IPY_MODEL_d062e581966d4b1884038d8f5cc76b81",
            "max": 377569754,
            "min": 0,
            "orientation": "horizontal",
            "style": "IPY_MODEL_b2a2867ece03454e8965da34bec308d3",
            "value": 377569754
          }
        },
        "4cce9b824b1f4f0e98e4be85d1409e71": {
          "model_module": "@jupyter-widgets/controls",
          "model_name": "HTMLModel",
          "state": {
            "_dom_classes": [],
            "_model_module": "@jupyter-widgets/controls",
            "_model_module_version": "1.5.0",
            "_model_name": "HTMLModel",
            "_view_count": null,
            "_view_module": "@jupyter-widgets/controls",
            "_view_module_version": "1.5.0",
            "_view_name": "HTMLView",
            "description": "",
            "description_tooltip": null,
            "layout": "IPY_MODEL_a6503d67c4884842a4ec33d9344a5cc5",
            "placeholder": "​",
            "style": "IPY_MODEL_21682121517a4eb987be4dbbf1103c6c",
            "value": " 378M/378M [00:09&lt;00:00, 41.0MB/s]"
          }
        },
        "f2620f8c4ec645739dae5b07678900b7": {
          "model_module": "@jupyter-widgets/base",
          "model_name": "LayoutModel",
          "state": {
            "_model_module": "@jupyter-widgets/base",
            "_model_module_version": "1.2.0",
            "_model_name": "LayoutModel",
            "_view_count": null,
            "_view_module": "@jupyter-widgets/base",
            "_view_module_version": "1.2.0",
            "_view_name": "LayoutView",
            "align_content": null,
            "align_items": null,
            "align_self": null,
            "border": null,
            "bottom": null,
            "display": null,
            "flex": null,
            "flex_flow": null,
            "grid_area": null,
            "grid_auto_columns": null,
            "grid_auto_flow": null,
            "grid_auto_rows": null,
            "grid_column": null,
            "grid_gap": null,
            "grid_row": null,
            "grid_template_areas": null,
            "grid_template_columns": null,
            "grid_template_rows": null,
            "height": null,
            "justify_content": null,
            "justify_items": null,
            "left": null,
            "margin": null,
            "max_height": null,
            "max_width": null,
            "min_height": null,
            "min_width": null,
            "object_fit": null,
            "object_position": null,
            "order": null,
            "overflow": null,
            "overflow_x": null,
            "overflow_y": null,
            "padding": null,
            "right": null,
            "top": null,
            "visibility": null,
            "width": null
          }
        },
        "d062e581966d4b1884038d8f5cc76b81": {
          "model_module": "@jupyter-widgets/base",
          "model_name": "LayoutModel",
          "state": {
            "_model_module": "@jupyter-widgets/base",
            "_model_module_version": "1.2.0",
            "_model_name": "LayoutModel",
            "_view_count": null,
            "_view_module": "@jupyter-widgets/base",
            "_view_module_version": "1.2.0",
            "_view_name": "LayoutView",
            "align_content": null,
            "align_items": null,
            "align_self": null,
            "border": null,
            "bottom": null,
            "display": null,
            "flex": null,
            "flex_flow": null,
            "grid_area": null,
            "grid_auto_columns": null,
            "grid_auto_flow": null,
            "grid_auto_rows": null,
            "grid_column": null,
            "grid_gap": null,
            "grid_row": null,
            "grid_template_areas": null,
            "grid_template_columns": null,
            "grid_template_rows": null,
            "height": null,
            "justify_content": null,
            "justify_items": null,
            "left": null,
            "margin": null,
            "max_height": null,
            "max_width": null,
            "min_height": null,
            "min_width": null,
            "object_fit": null,
            "object_position": null,
            "order": null,
            "overflow": null,
            "overflow_x": null,
            "overflow_y": null,
            "padding": null,
            "right": null,
            "top": null,
            "visibility": null,
            "width": null
          }
        },
        "b2a2867ece03454e8965da34bec308d3": {
          "model_module": "@jupyter-widgets/controls",
          "model_name": "ProgressStyleModel",
          "state": {
            "_model_module": "@jupyter-widgets/controls",
            "_model_module_version": "1.5.0",
            "_model_name": "ProgressStyleModel",
            "_view_count": null,
            "_view_module": "@jupyter-widgets/base",
            "_view_module_version": "1.2.0",
            "_view_name": "StyleView",
            "bar_color": null,
            "description_width": "initial"
          }
        },
        "a6503d67c4884842a4ec33d9344a5cc5": {
          "model_module": "@jupyter-widgets/base",
          "model_name": "LayoutModel",
          "state": {
            "_model_module": "@jupyter-widgets/base",
            "_model_module_version": "1.2.0",
            "_model_name": "LayoutModel",
            "_view_count": null,
            "_view_module": "@jupyter-widgets/base",
            "_view_module_version": "1.2.0",
            "_view_name": "LayoutView",
            "align_content": null,
            "align_items": null,
            "align_self": null,
            "border": null,
            "bottom": null,
            "display": null,
            "flex": null,
            "flex_flow": null,
            "grid_area": null,
            "grid_auto_columns": null,
            "grid_auto_flow": null,
            "grid_auto_rows": null,
            "grid_column": null,
            "grid_gap": null,
            "grid_row": null,
            "grid_template_areas": null,
            "grid_template_columns": null,
            "grid_template_rows": null,
            "height": null,
            "justify_content": null,
            "justify_items": null,
            "left": null,
            "margin": null,
            "max_height": null,
            "max_width": null,
            "min_height": null,
            "min_width": null,
            "object_fit": null,
            "object_position": null,
            "order": null,
            "overflow": null,
            "overflow_x": null,
            "overflow_y": null,
            "padding": null,
            "right": null,
            "top": null,
            "visibility": null,
            "width": null
          }
        },
        "21682121517a4eb987be4dbbf1103c6c": {
          "model_module": "@jupyter-widgets/controls",
          "model_name": "DescriptionStyleModel",
          "state": {
            "_model_module": "@jupyter-widgets/controls",
            "_model_module_version": "1.5.0",
            "_model_name": "DescriptionStyleModel",
            "_view_count": null,
            "_view_module": "@jupyter-widgets/base",
            "_view_module_version": "1.2.0",
            "_view_name": "StyleView",
            "description_width": ""
          }
        },
        "908a6a1c87b5438e8dee9b90ed68dc8f": {
          "model_module": "@jupyter-widgets/controls",
          "model_name": "HBoxModel",
          "state": {
            "_dom_classes": [],
            "_model_module": "@jupyter-widgets/controls",
            "_model_module_version": "1.5.0",
            "_model_name": "HBoxModel",
            "_view_count": null,
            "_view_module": "@jupyter-widgets/controls",
            "_view_module_version": "1.5.0",
            "_view_name": "HBoxView",
            "box_style": "",
            "children": [
              "IPY_MODEL_37d000a299014fbd971ef494761a8d57",
              "IPY_MODEL_08a8dd0c1b2a4eecab3743e1c3c8c3ba"
            ],
            "layout": "IPY_MODEL_aca9235816d3478f9fcb63d7f4791551"
          }
        },
        "37d000a299014fbd971ef494761a8d57": {
          "model_module": "@jupyter-widgets/controls",
          "model_name": "FloatProgressModel",
          "state": {
            "_dom_classes": [],
            "_model_module": "@jupyter-widgets/controls",
            "_model_module_version": "1.5.0",
            "_model_name": "FloatProgressModel",
            "_view_count": null,
            "_view_module": "@jupyter-widgets/controls",
            "_view_module_version": "1.5.0",
            "_view_name": "ProgressView",
            "bar_style": "success",
            "description": "100%",
            "description_tooltip": null,
            "layout": "IPY_MODEL_969999ec97b7436eb28c26ac6676a295",
            "max": 1680,
            "min": 0,
            "orientation": "horizontal",
            "style": "IPY_MODEL_be33ad032f454238ad6626c5de73a265",
            "value": 1680
          }
        },
        "08a8dd0c1b2a4eecab3743e1c3c8c3ba": {
          "model_module": "@jupyter-widgets/controls",
          "model_name": "HTMLModel",
          "state": {
            "_dom_classes": [],
            "_model_module": "@jupyter-widgets/controls",
            "_model_module_version": "1.5.0",
            "_model_name": "HTMLModel",
            "_view_count": null,
            "_view_module": "@jupyter-widgets/controls",
            "_view_module_version": "1.5.0",
            "_view_name": "HTMLView",
            "description": "",
            "description_tooltip": null,
            "layout": "IPY_MODEL_c10d2bbebee54dddbb96b9cbc4c48fc7",
            "placeholder": "​",
            "style": "IPY_MODEL_647ef95775ac4a129b3ae06a64552f2a",
            "value": " 1680/1680 [01:22&lt;00:00, 20.37ex/s]"
          }
        },
        "aca9235816d3478f9fcb63d7f4791551": {
          "model_module": "@jupyter-widgets/base",
          "model_name": "LayoutModel",
          "state": {
            "_model_module": "@jupyter-widgets/base",
            "_model_module_version": "1.2.0",
            "_model_name": "LayoutModel",
            "_view_count": null,
            "_view_module": "@jupyter-widgets/base",
            "_view_module_version": "1.2.0",
            "_view_name": "LayoutView",
            "align_content": null,
            "align_items": null,
            "align_self": null,
            "border": null,
            "bottom": null,
            "display": null,
            "flex": null,
            "flex_flow": null,
            "grid_area": null,
            "grid_auto_columns": null,
            "grid_auto_flow": null,
            "grid_auto_rows": null,
            "grid_column": null,
            "grid_gap": null,
            "grid_row": null,
            "grid_template_areas": null,
            "grid_template_columns": null,
            "grid_template_rows": null,
            "height": null,
            "justify_content": null,
            "justify_items": null,
            "left": null,
            "margin": null,
            "max_height": null,
            "max_width": null,
            "min_height": null,
            "min_width": null,
            "object_fit": null,
            "object_position": null,
            "order": null,
            "overflow": null,
            "overflow_x": null,
            "overflow_y": null,
            "padding": null,
            "right": null,
            "top": null,
            "visibility": null,
            "width": null
          }
        },
        "969999ec97b7436eb28c26ac6676a295": {
          "model_module": "@jupyter-widgets/base",
          "model_name": "LayoutModel",
          "state": {
            "_model_module": "@jupyter-widgets/base",
            "_model_module_version": "1.2.0",
            "_model_name": "LayoutModel",
            "_view_count": null,
            "_view_module": "@jupyter-widgets/base",
            "_view_module_version": "1.2.0",
            "_view_name": "LayoutView",
            "align_content": null,
            "align_items": null,
            "align_self": null,
            "border": null,
            "bottom": null,
            "display": null,
            "flex": null,
            "flex_flow": null,
            "grid_area": null,
            "grid_auto_columns": null,
            "grid_auto_flow": null,
            "grid_auto_rows": null,
            "grid_column": null,
            "grid_gap": null,
            "grid_row": null,
            "grid_template_areas": null,
            "grid_template_columns": null,
            "grid_template_rows": null,
            "height": null,
            "justify_content": null,
            "justify_items": null,
            "left": null,
            "margin": null,
            "max_height": null,
            "max_width": null,
            "min_height": null,
            "min_width": null,
            "object_fit": null,
            "object_position": null,
            "order": null,
            "overflow": null,
            "overflow_x": null,
            "overflow_y": null,
            "padding": null,
            "right": null,
            "top": null,
            "visibility": null,
            "width": null
          }
        },
        "be33ad032f454238ad6626c5de73a265": {
          "model_module": "@jupyter-widgets/controls",
          "model_name": "ProgressStyleModel",
          "state": {
            "_model_module": "@jupyter-widgets/controls",
            "_model_module_version": "1.5.0",
            "_model_name": "ProgressStyleModel",
            "_view_count": null,
            "_view_module": "@jupyter-widgets/base",
            "_view_module_version": "1.2.0",
            "_view_name": "StyleView",
            "bar_color": null,
            "description_width": "initial"
          }
        },
        "c10d2bbebee54dddbb96b9cbc4c48fc7": {
          "model_module": "@jupyter-widgets/base",
          "model_name": "LayoutModel",
          "state": {
            "_model_module": "@jupyter-widgets/base",
            "_model_module_version": "1.2.0",
            "_model_name": "LayoutModel",
            "_view_count": null,
            "_view_module": "@jupyter-widgets/base",
            "_view_module_version": "1.2.0",
            "_view_name": "LayoutView",
            "align_content": null,
            "align_items": null,
            "align_self": null,
            "border": null,
            "bottom": null,
            "display": null,
            "flex": null,
            "flex_flow": null,
            "grid_area": null,
            "grid_auto_columns": null,
            "grid_auto_flow": null,
            "grid_auto_rows": null,
            "grid_column": null,
            "grid_gap": null,
            "grid_row": null,
            "grid_template_areas": null,
            "grid_template_columns": null,
            "grid_template_rows": null,
            "height": null,
            "justify_content": null,
            "justify_items": null,
            "left": null,
            "margin": null,
            "max_height": null,
            "max_width": null,
            "min_height": null,
            "min_width": null,
            "object_fit": null,
            "object_position": null,
            "order": null,
            "overflow": null,
            "overflow_x": null,
            "overflow_y": null,
            "padding": null,
            "right": null,
            "top": null,
            "visibility": null,
            "width": null
          }
        },
        "647ef95775ac4a129b3ae06a64552f2a": {
          "model_module": "@jupyter-widgets/controls",
          "model_name": "DescriptionStyleModel",
          "state": {
            "_model_module": "@jupyter-widgets/controls",
            "_model_module_version": "1.5.0",
            "_model_name": "DescriptionStyleModel",
            "_view_count": null,
            "_view_module": "@jupyter-widgets/base",
            "_view_module_version": "1.2.0",
            "_view_name": "StyleView",
            "description_width": ""
          }
        }
      }
    }
  },
  "cells": [
    {
      "cell_type": "markdown",
      "metadata": {
        "id": "LBSYoWbi-45k"
      },
      "source": [
        "# **Fine-tuning Wav2Vec2 for English ASR with Transformers**"
      ]
    },
    {
      "cell_type": "markdown",
      "metadata": {
        "id": "V7YOT2mnUiea"
      },
      "source": [
        "Wav2Vec2 is a pretrained model for Automatic Speech Recognition (ASR) and was released in September 2020 by Alexei Baevski, Michael Auli, and Alex Conneau.\n",
        "\n",
        "Using a novel contrastive pretraining objective, Wav2Vec2 learns powerful speech representations from more than 50.000 hours of unlabeled speech, the model learns contextualized speech representations by randomly masking feature vectors before passing them to a transformer network.\n",
        "\n",
        "\n",
        "\n",
        "For the first time, it has been shown that pretraining, followed by fine-tuning on very little labeled speech data achieves competitive results to state-of-the-art ASR systems. "
      ]
    },
    {
      "cell_type": "markdown",
      "metadata": {
        "id": "nT_QrfWtsxIz"
      },
      "source": [
        " we will fine-tune Wav2Vec2 without making use of a language model. It is much simpler to use Wav2Vec2 without a language model as an end-to-end ASR system and it has been shown that a standalone Wav2Vec2 acoustic model achieves impressive results. we fine-tune the \"base\"-sized on the rather small Timit dataset that contains just 5h of training data."
      ]
    },
    {
      "cell_type": "markdown",
      "metadata": {
        "id": "Gx9OdDYrCtQ1"
      },
      "source": [
        "Wav2Vec2 is fine-tuned using Connectionist Temporal Classification (CTC), which is an algorithm that is used to train neural networks for sequence-to-sequence problems and mainly in Automatic Speech Recognition and handwriting recognition. \n",
        "\n"
      ]
    },
    {
      "cell_type": "code",
      "metadata": {
        "colab": {
          "base_uri": "https://localhost:8080/"
        },
        "id": "c8eh87Hoee5d",
        "outputId": "c3a63c02-7963-456f-ca85-9218fbada5fd"
      },
      "source": [
        "\n",
        "!pip install git+https://github.com/huggingface/datasets.git\n",
        "!pip install git+https://github.com/huggingface/transformers.git\n",
        "!pip install soundfile\n",
        "!pip install jiwer"
      ],
      "execution_count": null,
      "outputs": [
        {
          "output_type": "stream",
          "text": [
            "Collecting git+https://github.com/huggingface/datasets.git\n",
            "  Cloning https://github.com/huggingface/datasets.git to /tmp/pip-req-build-mx7cxf65\n",
            "  Running command git clone -q https://github.com/huggingface/datasets.git /tmp/pip-req-build-mx7cxf65\n",
            "Requirement already satisfied: numpy>=1.17 in /usr/local/lib/python3.7/dist-packages (from datasets==1.5.0.dev0) (1.19.5)\n",
            "Requirement already satisfied: pyarrow>=0.17.1 in /usr/local/lib/python3.7/dist-packages (from datasets==1.5.0.dev0) (3.0.0)\n",
            "Requirement already satisfied: dill in /usr/local/lib/python3.7/dist-packages (from datasets==1.5.0.dev0) (0.3.3)\n",
            "Requirement already satisfied: pandas in /usr/local/lib/python3.7/dist-packages (from datasets==1.5.0.dev0) (1.1.5)\n",
            "Requirement already satisfied: requests>=2.19.0 in /usr/local/lib/python3.7/dist-packages (from datasets==1.5.0.dev0) (2.23.0)\n",
            "Requirement already satisfied: tqdm<4.50.0,>=4.27 in /usr/local/lib/python3.7/dist-packages (from datasets==1.5.0.dev0) (4.41.1)\n",
            "Collecting xxhash\n",
            "\u001b[?25l  Downloading https://files.pythonhosted.org/packages/e7/27/1c0b37c53a7852f1c190ba5039404d27b3ae96a55f48203a74259f8213c9/xxhash-2.0.0-cp37-cp37m-manylinux2010_x86_64.whl (243kB)\n",
            "\u001b[K     |████████████████████████████████| 245kB 13.6MB/s \n",
            "\u001b[?25hRequirement already satisfied: multiprocess in /usr/local/lib/python3.7/dist-packages (from datasets==1.5.0.dev0) (0.70.11.1)\n",
            "Collecting fsspec\n",
            "\u001b[?25l  Downloading https://files.pythonhosted.org/packages/91/0d/a6bfee0ddf47b254286b9bd574e6f50978c69897647ae15b14230711806e/fsspec-0.8.7-py3-none-any.whl (103kB)\n",
            "\u001b[K     |████████████████████████████████| 112kB 26.7MB/s \n",
            "\u001b[?25hCollecting huggingface_hub<0.1.0\n",
            "  Downloading https://files.pythonhosted.org/packages/af/07/bf95f398e6598202d878332280f36e589512174882536eb20d792532a57d/huggingface_hub-0.0.7-py3-none-any.whl\n",
            "Requirement already satisfied: importlib_metadata in /usr/local/lib/python3.7/dist-packages (from datasets==1.5.0.dev0) (3.7.2)\n",
            "Requirement already satisfied: pytz>=2017.2 in /usr/local/lib/python3.7/dist-packages (from pandas->datasets==1.5.0.dev0) (2018.9)\n",
            "Requirement already satisfied: python-dateutil>=2.7.3 in /usr/local/lib/python3.7/dist-packages (from pandas->datasets==1.5.0.dev0) (2.8.1)\n",
            "Requirement already satisfied: chardet<4,>=3.0.2 in /usr/local/lib/python3.7/dist-packages (from requests>=2.19.0->datasets==1.5.0.dev0) (3.0.4)\n",
            "Requirement already satisfied: idna<3,>=2.5 in /usr/local/lib/python3.7/dist-packages (from requests>=2.19.0->datasets==1.5.0.dev0) (2.10)\n",
            "Requirement already satisfied: urllib3!=1.25.0,!=1.25.1,<1.26,>=1.21.1 in /usr/local/lib/python3.7/dist-packages (from requests>=2.19.0->datasets==1.5.0.dev0) (1.24.3)\n",
            "Requirement already satisfied: certifi>=2017.4.17 in /usr/local/lib/python3.7/dist-packages (from requests>=2.19.0->datasets==1.5.0.dev0) (2020.12.5)\n",
            "Requirement already satisfied: filelock in /usr/local/lib/python3.7/dist-packages (from huggingface_hub<0.1.0->datasets==1.5.0.dev0) (3.0.12)\n",
            "Requirement already satisfied: zipp>=0.5 in /usr/local/lib/python3.7/dist-packages (from importlib_metadata->datasets==1.5.0.dev0) (3.4.1)\n",
            "Requirement already satisfied: typing-extensions>=3.6.4; python_version < \"3.8\" in /usr/local/lib/python3.7/dist-packages (from importlib_metadata->datasets==1.5.0.dev0) (3.7.4.3)\n",
            "Requirement already satisfied: six>=1.5 in /usr/local/lib/python3.7/dist-packages (from python-dateutil>=2.7.3->pandas->datasets==1.5.0.dev0) (1.15.0)\n",
            "Building wheels for collected packages: datasets\n",
            "  Building wheel for datasets (setup.py) ... \u001b[?25l\u001b[?25hdone\n",
            "  Created wheel for datasets: filename=datasets-1.5.0.dev0-cp37-none-any.whl size=189992 sha256=1a66e929f0f257d0e9a0f2b0fd21d5841c6e05a958b1d241abcc1d9f64b40b3b\n",
            "  Stored in directory: /tmp/pip-ephem-wheel-cache-40dd_xhy/wheels/3e/af/ff/d1cdb5d0f9cff6eba2042a16b477ada497e23f1a3b6950b928\n",
            "Successfully built datasets\n",
            "Installing collected packages: xxhash, fsspec, huggingface-hub, datasets\n",
            "Successfully installed datasets-1.5.0.dev0 fsspec-0.8.7 huggingface-hub-0.0.7 xxhash-2.0.0\n",
            "Collecting git+https://github.com/huggingface/transformers.git\n",
            "  Cloning https://github.com/huggingface/transformers.git to /tmp/pip-req-build-29i1v63e\n",
            "  Running command git clone -q https://github.com/huggingface/transformers.git /tmp/pip-req-build-29i1v63e\n",
            "  Installing build dependencies ... \u001b[?25l\u001b[?25hdone\n",
            "  Getting requirements to build wheel ... \u001b[?25l\u001b[?25hdone\n",
            "    Preparing wheel metadata ... \u001b[?25l\u001b[?25hdone\n",
            "Requirement already satisfied: regex!=2019.12.17 in /usr/local/lib/python3.7/dist-packages (from transformers==4.5.0.dev0) (2019.12.20)\n",
            "Collecting sacremoses\n",
            "\u001b[?25l  Downloading https://files.pythonhosted.org/packages/7d/34/09d19aff26edcc8eb2a01bed8e98f13a1537005d31e95233fd48216eed10/sacremoses-0.0.43.tar.gz (883kB)\n",
            "\u001b[K     |████████████████████████████████| 890kB 16.7MB/s \n",
            "\u001b[?25hCollecting tokenizers<0.11,>=0.10.1\n",
            "\u001b[?25l  Downloading https://files.pythonhosted.org/packages/71/23/2ddc317b2121117bf34dd00f5b0de194158f2a44ee2bf5e47c7166878a97/tokenizers-0.10.1-cp37-cp37m-manylinux2010_x86_64.whl (3.2MB)\n",
            "\u001b[K     |████████████████████████████████| 3.2MB 57.2MB/s \n",
            "\u001b[?25hRequirement already satisfied: tqdm>=4.27 in /usr/local/lib/python3.7/dist-packages (from transformers==4.5.0.dev0) (4.41.1)\n",
            "Requirement already satisfied: requests in /usr/local/lib/python3.7/dist-packages (from transformers==4.5.0.dev0) (2.23.0)\n",
            "Requirement already satisfied: packaging in /usr/local/lib/python3.7/dist-packages (from transformers==4.5.0.dev0) (20.9)\n",
            "Requirement already satisfied: filelock in /usr/local/lib/python3.7/dist-packages (from transformers==4.5.0.dev0) (3.0.12)\n",
            "Requirement already satisfied: importlib-metadata; python_version < \"3.8\" in /usr/local/lib/python3.7/dist-packages (from transformers==4.5.0.dev0) (3.7.2)\n",
            "Requirement already satisfied: numpy>=1.17 in /usr/local/lib/python3.7/dist-packages (from transformers==4.5.0.dev0) (1.19.5)\n",
            "Requirement already satisfied: six in /usr/local/lib/python3.7/dist-packages (from sacremoses->transformers==4.5.0.dev0) (1.15.0)\n",
            "Requirement already satisfied: click in /usr/local/lib/python3.7/dist-packages (from sacremoses->transformers==4.5.0.dev0) (7.1.2)\n",
            "Requirement already satisfied: joblib in /usr/local/lib/python3.7/dist-packages (from sacremoses->transformers==4.5.0.dev0) (1.0.1)\n",
            "Requirement already satisfied: idna<3,>=2.5 in /usr/local/lib/python3.7/dist-packages (from requests->transformers==4.5.0.dev0) (2.10)\n",
            "Requirement already satisfied: certifi>=2017.4.17 in /usr/local/lib/python3.7/dist-packages (from requests->transformers==4.5.0.dev0) (2020.12.5)\n",
            "Requirement already satisfied: chardet<4,>=3.0.2 in /usr/local/lib/python3.7/dist-packages (from requests->transformers==4.5.0.dev0) (3.0.4)\n",
            "Requirement already satisfied: urllib3!=1.25.0,!=1.25.1,<1.26,>=1.21.1 in /usr/local/lib/python3.7/dist-packages (from requests->transformers==4.5.0.dev0) (1.24.3)\n",
            "Requirement already satisfied: pyparsing>=2.0.2 in /usr/local/lib/python3.7/dist-packages (from packaging->transformers==4.5.0.dev0) (2.4.7)\n",
            "Requirement already satisfied: typing-extensions>=3.6.4; python_version < \"3.8\" in /usr/local/lib/python3.7/dist-packages (from importlib-metadata; python_version < \"3.8\"->transformers==4.5.0.dev0) (3.7.4.3)\n",
            "Requirement already satisfied: zipp>=0.5 in /usr/local/lib/python3.7/dist-packages (from importlib-metadata; python_version < \"3.8\"->transformers==4.5.0.dev0) (3.4.1)\n",
            "Building wheels for collected packages: transformers\n",
            "  Building wheel for transformers (PEP 517) ... \u001b[?25l\u001b[?25hdone\n",
            "  Created wheel for transformers: filename=transformers-4.5.0.dev0-cp37-none-any.whl size=1983609 sha256=05e7fe3d843c9666f339032c09c2bf43141d61f43dc4f94741aabd2f5b489dfd\n",
            "  Stored in directory: /tmp/pip-ephem-wheel-cache-qp489x9d/wheels/33/eb/3b/4bf5dd835e865e472d4fc0754f35ac0edb08fe852e8f21655f\n",
            "Successfully built transformers\n",
            "Building wheels for collected packages: sacremoses\n",
            "  Building wheel for sacremoses (setup.py) ... \u001b[?25l\u001b[?25hdone\n",
            "  Created wheel for sacremoses: filename=sacremoses-0.0.43-cp37-none-any.whl size=893262 sha256=7506d8221db159ed642df5fb0a1fe493c1cf3a1abedd68cef4db95bc208f6c04\n",
            "  Stored in directory: /root/.cache/pip/wheels/29/3c/fd/7ce5c3f0666dab31a50123635e6fb5e19ceb42ce38d4e58f45\n",
            "Successfully built sacremoses\n",
            "Installing collected packages: sacremoses, tokenizers, transformers\n",
            "Successfully installed sacremoses-0.0.43 tokenizers-0.10.1 transformers-4.5.0.dev0\n",
            "Requirement already satisfied: soundfile in /usr/local/lib/python3.7/dist-packages (0.10.3.post1)\n",
            "Requirement already satisfied: cffi>=1.0 in /usr/local/lib/python3.7/dist-packages (from soundfile) (1.14.5)\n",
            "Requirement already satisfied: pycparser in /usr/local/lib/python3.7/dist-packages (from cffi>=1.0->soundfile) (2.20)\n",
            "Collecting jiwer\n",
            "  Downloading https://files.pythonhosted.org/packages/8c/cc/fb9d3132cba1f6d393b7d5a9398d9d4c8fc033bc54668cf87e9b197a6d7a/jiwer-2.2.0-py3-none-any.whl\n",
            "Collecting python-Levenshtein\n",
            "\u001b[?25l  Downloading https://files.pythonhosted.org/packages/2a/dc/97f2b63ef0fa1fd78dcb7195aca577804f6b2b51e712516cc0e902a9a201/python-Levenshtein-0.12.2.tar.gz (50kB)\n",
            "\u001b[K     |████████████████████████████████| 51kB 5.9MB/s \n",
            "\u001b[?25hRequirement already satisfied: numpy in /usr/local/lib/python3.7/dist-packages (from jiwer) (1.19.5)\n",
            "Requirement already satisfied: setuptools in /usr/local/lib/python3.7/dist-packages (from python-Levenshtein->jiwer) (54.1.2)\n",
            "Building wheels for collected packages: python-Levenshtein\n",
            "  Building wheel for python-Levenshtein (setup.py) ... \u001b[?25l\u001b[?25hdone\n",
            "  Created wheel for python-Levenshtein: filename=python_Levenshtein-0.12.2-cp37-cp37m-linux_x86_64.whl size=149821 sha256=515c5e0d73fee2c9bfdf2b2020802a75c47ee897e0a92ac6e12b91f7b977c0cd\n",
            "  Stored in directory: /root/.cache/pip/wheels/b3/26/73/4b48503bac73f01cf18e52cd250947049a7f339e940c5df8fc\n",
            "Successfully built python-Levenshtein\n",
            "Installing collected packages: python-Levenshtein, jiwer\n",
            "Successfully installed jiwer-2.2.0 python-Levenshtein-0.12.2\n"
          ],
          "name": "stdout"
        }
      ]
    },
    {
      "cell_type": "markdown",
      "metadata": {
        "id": "0mW-C1Nt-j7k"
      },
      "source": [
        "## Prepare Data, Tokenizer, Feature Extractor"
      ]
    },
    {
      "cell_type": "markdown",
      "metadata": {
        "id": "BeBosnY9BH3e"
      },
      "source": [
        "ASR models transcribe speech to text, which means that we both need a feature extractor that processes the speech signal to the model's input format  and a tokenizer that processes the model's output format to text. \n",
        "\n",
        " the Wav2Vec2 model is thus accompanied by both a tokenizer, called Wav2Vec2CTCTokenizer and a feature extractor  called Wav2Vec2FeatureExtractor\n",
        "we  start by creating the tokenizer responsible for decoding the model's predictions."
      ]
    },
    {
      "cell_type": "markdown",
      "metadata": {
        "id": "sEXEWEJGQPqD"
      },
      "source": [
        "### Create Wav2Vec2CTCTokenizer"
      ]
    },
    {
      "cell_type": "markdown",
      "metadata": {
        "id": "tWmMikuNEKl_"
      },
      "source": [
        "The pretrained Wav2Vec2 checkpoint maps the speech signal to a sequence of context representations . A fine-tuned Wav2Vec2 checkpoint needs to map this sequence of context representations to its corresponding transcription so that a linear layer has to be added on top of the transformer block. This linear layer is used to classifies each context representation to a token class \n",
        "\n",
        "The output size of this layer corresponds to the number of tokens in the vocabulary, which does **not** depend on Wav2Vec2's pretraining task, but only on the labeled dataset used for fine-tuning. So in the first step, we will take a look at Timit and define a vocabulary based on the dataset's transcriptions."
      ]
    },
    {
      "cell_type": "code",
      "metadata": {
        "colab": {
          "base_uri": "https://localhost:8080/",
          "height": 222,
          "referenced_widgets": [
            "56579001dd934b10ae29187b66e38a45",
            "12b104333ebf4e9bb10653f1d6e8f74b",
            "41f0a4204b1c44f781852d93ffd2961d",
            "e63d15a7f7fc45bb910337f4aa341e20",
            "cfbbdd43e81f45a9b75ae06d21a4b7fa",
            "5979293e954c499b95dc10e53da53b62",
            "c737cfdf01ff4c2bb02c0718c400634b",
            "8c569a1d0c8d4193a128cc9be3f80266",
            "b690866b79944231a4057315b3a5d934",
            "bcf2f29f91f640ea90be9d47ac48aad6",
            "0f53f90a84c941efb1d7690d399acf2d",
            "8c86addf44644f3880fe0c52f985936d",
            "029b8e6c1bc74316aa3dca62ab49c135",
            "824443475dde4c12bd976e1694b86e58",
            "a922c327f76240cbafb44cf0b836dd2b",
            "635e46a5f438429db3f580eb88184171",
            "b6cc638cbeff4a3e8d24d4cf883e8f42",
            "6f885d760af748d3a08e23c2b888fc50",
            "110bd52b2adc4c659712cf343486a65a",
            "132c800eaae94a118de337486b31dd7b",
            "aa558ff20d79459abfde067a660790ef",
            "85d39474ef0d48af817324c568557362",
            "6fdf91bffa1c4bccbf548f22635232ce",
            "0cc2bbb5292f4c10933216ab6cb2377c",
            "38d2159432404dd0a21220b68d2a45a4",
            "b466d002a1474d7da16172da9ba5f4a6",
            "26e1f074e243423984d2251011f73724",
            "bc500429e6554b7db3993cb6fd1c097f",
            "0ae1c4c86a76451f9b6f7ad185e12fec",
            "e6e138092af44a8ca1ffd421795ac576",
            "2e8a7106d576437da5343bf94abb197f",
            "9e8c743f18c24c56ac04d2f8a8c2b5a9",
            "64aa6669fef94c2bb7f1e20b42b3e5bb",
            "a6fe842d365a4f1a808ca8bab5c2f5bc",
            "fe83fb4d3c03424c98e808f11722c584",
            "ba1c9e7e7f704813aa18bec0c316c70a",
            "29bd30b1689a4d8db34aeb3a52f8a4f6",
            "03b0b20512fb4289af7f08538fc1aaad",
            "b950aae22b8943d1bf5bbe516643e8c9",
            "39e3f0c6bc644f9b9d81b725bf7ddbfe"
          ]
        },
        "id": "2MMXcWFFgCXU",
        "outputId": "bc544cb8-d9e6-49a8-f516-a3166cd40a35"
      },
      "source": [
        "from datasets import load_dataset, load_metric\n",
        "\n",
        "timit = load_dataset(\"timit_asr\")"
      ],
      "execution_count": null,
      "outputs": [
        {
          "output_type": "display_data",
          "data": {
            "application/vnd.jupyter.widget-view+json": {
              "model_id": "56579001dd934b10ae29187b66e38a45",
              "version_major": 2,
              "version_minor": 0
            },
            "text/plain": [
              "HBox(children=(FloatProgress(value=0.0, description='Downloading', max=2349.0, style=ProgressStyle(description…"
            ]
          },
          "metadata": {
            "tags": []
          }
        },
        {
          "output_type": "stream",
          "text": [
            "\n"
          ],
          "name": "stdout"
        },
        {
          "output_type": "display_data",
          "data": {
            "application/vnd.jupyter.widget-view+json": {
              "model_id": "b690866b79944231a4057315b3a5d934",
              "version_major": 2,
              "version_minor": 0
            },
            "text/plain": [
              "HBox(children=(FloatProgress(value=0.0, description='Downloading', max=1004.0, style=ProgressStyle(description…"
            ]
          },
          "metadata": {
            "tags": []
          }
        },
        {
          "output_type": "stream",
          "text": [
            "\n",
            "Downloading and preparing dataset timit_asr/clean (download: 828.75 MiB, generated: 7.90 MiB, post-processed: Unknown size, total: 836.65 MiB) to /root/.cache/huggingface/datasets/timit_asr/clean/2.0.1/e7245f262bb418c1a5c67d67e00297322b1ad19eb65223676b790aa8003449e4...\n"
          ],
          "name": "stdout"
        },
        {
          "output_type": "display_data",
          "data": {
            "application/vnd.jupyter.widget-view+json": {
              "model_id": "b6cc638cbeff4a3e8d24d4cf883e8f42",
              "version_major": 2,
              "version_minor": 0
            },
            "text/plain": [
              "HBox(children=(FloatProgress(value=0.0, description='Downloading', max=869007403.0, style=ProgressStyle(descri…"
            ]
          },
          "metadata": {
            "tags": []
          }
        },
        {
          "output_type": "stream",
          "text": [
            "\n"
          ],
          "name": "stdout"
        },
        {
          "output_type": "display_data",
          "data": {
            "application/vnd.jupyter.widget-view+json": {
              "model_id": "38d2159432404dd0a21220b68d2a45a4",
              "version_major": 2,
              "version_minor": 0
            },
            "text/plain": [
              "HBox(children=(FloatProgress(value=1.0, bar_style='info', max=1.0), HTML(value='')))"
            ]
          },
          "metadata": {
            "tags": []
          }
        },
        {
          "output_type": "stream",
          "text": [
            "\r"
          ],
          "name": "stdout"
        },
        {
          "output_type": "display_data",
          "data": {
            "application/vnd.jupyter.widget-view+json": {
              "model_id": "64aa6669fef94c2bb7f1e20b42b3e5bb",
              "version_major": 2,
              "version_minor": 0
            },
            "text/plain": [
              "HBox(children=(FloatProgress(value=1.0, bar_style='info', max=1.0), HTML(value='')))"
            ]
          },
          "metadata": {
            "tags": []
          }
        },
        {
          "output_type": "stream",
          "text": [
            "\rDataset timit_asr downloaded and prepared to /root/.cache/huggingface/datasets/timit_asr/clean/2.0.1/e7245f262bb418c1a5c67d67e00297322b1ad19eb65223676b790aa8003449e4. Subsequent calls will reuse this data.\n"
          ],
          "name": "stdout"
        }
      ]
    },
    {
      "cell_type": "code",
      "metadata": {
        "colab": {
          "base_uri": "https://localhost:8080/"
        },
        "id": "QbIM-L0xdvf4",
        "outputId": "27081b8e-9c07-41e0-89a1-a29359de72f2"
      },
      "source": [
        "timit"
      ],
      "execution_count": null,
      "outputs": [
        {
          "output_type": "execute_result",
          "data": {
            "text/plain": [
              "DatasetDict({\n",
              "    train: Dataset({\n",
              "        features: ['file', 'text', 'phonetic_detail', 'word_detail', 'dialect_region', 'sentence_type', 'speaker_id', 'id'],\n",
              "        num_rows: 4620\n",
              "    })\n",
              "    test: Dataset({\n",
              "        features: ['file', 'text', 'phonetic_detail', 'word_detail', 'dialect_region', 'sentence_type', 'speaker_id', 'id'],\n",
              "        num_rows: 1680\n",
              "    })\n",
              "})"
            ]
          },
          "metadata": {
            "tags": []
          },
          "execution_count": 3
        }
      ]
    },
    {
      "cell_type": "markdown",
      "metadata": {
        "id": "ri5y5N_HMANq"
      },
      "source": [
        " we will  consider the transcribed text for fine-tuning.\n",
        "\n"
      ]
    },
    {
      "cell_type": "code",
      "metadata": {
        "id": "kbyq6lDgQc2a"
      },
      "source": [
        "timit = timit.remove_columns([\"phonetic_detail\", \"word_detail\", \"dialect_region\", \"id\", \"sentence_type\", \"speaker_id\"])"
      ],
      "execution_count": null,
      "outputs": []
    },
    {
      "cell_type": "markdown",
      "metadata": {
        "id": "Go9Hq4e4NDT9"
      },
      "source": [
        "we write  a short function to display some random samples of the dataset "
      ]
    },
    {
      "cell_type": "code",
      "metadata": {
        "id": "72737oog2F6U"
      },
      "source": [
        "from datasets import ClassLabel\n",
        "import random\n",
        "import pandas as pd\n",
        "from IPython.display import display, HTML\n",
        "\n",
        "def show_random_elements(dataset, num_examples=10):\n",
        "    assert num_examples <= len(dataset), \"Can't pick more elements than there are in the dataset.\"\n",
        "    picks = []\n",
        "    for _ in range(num_examples):\n",
        "        pick = random.randint(0, len(dataset)-1)\n",
        "        while pick in picks:\n",
        "            pick = random.randint(0, len(dataset)-1)\n",
        "        picks.append(pick)\n",
        "    \n",
        "    df = pd.DataFrame(dataset[picks])\n",
        "    display(HTML(df.to_html()))"
      ],
      "execution_count": null,
      "outputs": []
    },
    {
      "cell_type": "code",
      "metadata": {
        "colab": {
          "base_uri": "https://localhost:8080/",
          "height": 634
        },
        "id": "K_JUmf3G3b9S",
        "outputId": "d1b56cb6-e2cf-4690-8e2d-86741d6fbb73"
      },
      "source": [
        "show_random_elements(timit[\"train\"].remove_columns([\"file\"]), num_examples=20)"
      ],
      "execution_count": null,
      "outputs": [
        {
          "output_type": "display_data",
          "data": {
            "text/html": [
              "<table border=\"1\" class=\"dataframe\">\n",
              "  <thead>\n",
              "    <tr style=\"text-align: right;\">\n",
              "      <th></th>\n",
              "      <th>text</th>\n",
              "    </tr>\n",
              "  </thead>\n",
              "  <tbody>\n",
              "    <tr>\n",
              "      <th>0</th>\n",
              "      <td>Everything in the final analysis reduced itself to sexual symbolism.</td>\n",
              "    </tr>\n",
              "    <tr>\n",
              "      <th>1</th>\n",
              "      <td>But it must be remembered that the plan should not be oriented geographically.</td>\n",
              "    </tr>\n",
              "    <tr>\n",
              "      <th>2</th>\n",
              "      <td>She had your dark suit in greasy wash water all year.</td>\n",
              "    </tr>\n",
              "    <tr>\n",
              "      <th>3</th>\n",
              "      <td>Well, now we have two big theaters.</td>\n",
              "    </tr>\n",
              "    <tr>\n",
              "      <th>4</th>\n",
              "      <td>A screwdriver is made from vodka and orange juice.</td>\n",
              "    </tr>\n",
              "    <tr>\n",
              "      <th>5</th>\n",
              "      <td>Mosquitoes exist in warm, humid climates.</td>\n",
              "    </tr>\n",
              "    <tr>\n",
              "      <th>6</th>\n",
              "      <td>Try to recall the events in chronological order.</td>\n",
              "    </tr>\n",
              "    <tr>\n",
              "      <th>7</th>\n",
              "      <td>Don't ask me to carry an oily rag like that.</td>\n",
              "    </tr>\n",
              "    <tr>\n",
              "      <th>8</th>\n",
              "      <td>A screwdriver is made from vodka and orange juice.</td>\n",
              "    </tr>\n",
              "    <tr>\n",
              "      <th>9</th>\n",
              "      <td>She had your dark suit in greasy wash water all year.</td>\n",
              "    </tr>\n",
              "    <tr>\n",
              "      <th>10</th>\n",
              "      <td>Please sing just the club theme.</td>\n",
              "    </tr>\n",
              "    <tr>\n",
              "      <th>11</th>\n",
              "      <td>She had your dark suit in greasy wash water all year.</td>\n",
              "    </tr>\n",
              "    <tr>\n",
              "      <th>12</th>\n",
              "      <td>Would a camera club be useful in taking pictures pertinent to plant safety?</td>\n",
              "    </tr>\n",
              "    <tr>\n",
              "      <th>13</th>\n",
              "      <td>Biologists use radioactive isotopes to study microorganisms.</td>\n",
              "    </tr>\n",
              "    <tr>\n",
              "      <th>14</th>\n",
              "      <td>Although always alone, we survive.</td>\n",
              "    </tr>\n",
              "    <tr>\n",
              "      <th>15</th>\n",
              "      <td>Those who are not purists use canned vegetables when making stew.</td>\n",
              "    </tr>\n",
              "    <tr>\n",
              "      <th>16</th>\n",
              "      <td>Teacher assignment in order to desegregate.</td>\n",
              "    </tr>\n",
              "    <tr>\n",
              "      <th>17</th>\n",
              "      <td>Don't ask me to carry an oily rag like that.</td>\n",
              "    </tr>\n",
              "    <tr>\n",
              "      <th>18</th>\n",
              "      <td>Would a tomboy often play outdoors?</td>\n",
              "    </tr>\n",
              "    <tr>\n",
              "      <th>19</th>\n",
              "      <td>The easygoing zoologist relaxed throughout the voyage.</td>\n",
              "    </tr>\n",
              "  </tbody>\n",
              "</table>"
            ],
            "text/plain": [
              "<IPython.core.display.HTML object>"
            ]
          },
          "metadata": {
            "tags": []
          }
        }
      ]
    },
    {
      "cell_type": "markdown",
      "metadata": {
        "id": "vq7OR50LN49m"
      },
      "source": [
        "We can see that the transcriptions contain some special characters, such as `,.?!;:`. Without a language model, it is much harder to classify speech chunks to such special characters because they don't really correspond to a characteristic sound unit.\n",
        "Also in order to understand the meaning of a speech signal, it is usually not necessary to include special characters in the transcription.\n",
        "\n",
        "In addition, we normalize the text to only have lower case letters and append a word separator token at the end."
      ]
    },
    {
      "cell_type": "code",
      "metadata": {
        "id": "svKzVJ_hQGK6"
      },
      "source": [
        "import re\n",
        "chars_to_ignore_regex = '[\\,\\?\\.\\!\\-\\;\\:\\\"]'\n",
        "\n",
        "def remove_special_characters(batch):\n",
        "    batch[\"text\"] = re.sub(chars_to_ignore_regex, '', batch[\"text\"]).lower() + \" \"\n",
        "    return batch"
      ],
      "execution_count": null,
      "outputs": []
    },
    {
      "cell_type": "code",
      "metadata": {
        "colab": {
          "base_uri": "https://localhost:8080/",
          "height": 116,
          "referenced_widgets": [
            "59b236c33da54f98ab6b6f34506b806d",
            "15e94f882b694374af665bcced5e2121",
            "8d095accab03486ab7a4935d90cf51bd",
            "b09c750e2aac4757b3de7f63a7637894",
            "5707eaad16eb44ae998237dcd334ff60",
            "37a17460a017431598ec404734eb9a42",
            "c6b222b53ccb4794847667ed21acc807",
            "cb3eed6077054219a786d7bf7cdc916a",
            "879c5eef21f446358d9737ca43e241e6",
            "3363ec2559d7415b8cff74251edd3ebb",
            "bdcdf5a01ade48d2b5ba8d8686ea40b2",
            "a191267447244025a85d6565528d01b2",
            "1a9a30a5334f4a89a5ee981a88ac5212",
            "d92791e112f94495a1a27c3663d5476b",
            "4498e605bbff4165bcface819420f040",
            "326f5c14f2374235b3ef0330254bbd2b"
          ]
        },
        "id": "XIHocAuTQbBR",
        "outputId": "40d85bc9-c20e-4bd6-aa79-581101ad42f0"
      },
      "source": [
        "timit = timit.map(remove_special_characters)"
      ],
      "execution_count": null,
      "outputs": [
        {
          "output_type": "display_data",
          "data": {
            "application/vnd.jupyter.widget-view+json": {
              "model_id": "59b236c33da54f98ab6b6f34506b806d",
              "version_major": 2,
              "version_minor": 0
            },
            "text/plain": [
              "HBox(children=(FloatProgress(value=0.0, max=4620.0), HTML(value='')))"
            ]
          },
          "metadata": {
            "tags": []
          }
        },
        {
          "output_type": "stream",
          "text": [
            "\n"
          ],
          "name": "stdout"
        },
        {
          "output_type": "display_data",
          "data": {
            "application/vnd.jupyter.widget-view+json": {
              "model_id": "879c5eef21f446358d9737ca43e241e6",
              "version_major": 2,
              "version_minor": 0
            },
            "text/plain": [
              "HBox(children=(FloatProgress(value=0.0, max=1680.0), HTML(value='')))"
            ]
          },
          "metadata": {
            "tags": []
          }
        },
        {
          "output_type": "stream",
          "text": [
            "\n"
          ],
          "name": "stdout"
        }
      ]
    },
    {
      "cell_type": "code",
      "metadata": {
        "colab": {
          "base_uri": "https://localhost:8080/",
          "height": 340
        },
        "id": "RBDRAAYxRE6n",
        "outputId": "bdf513db-f995-4368-88c0-dffd3ddb9e18"
      },
      "source": [
        "show_random_elements(timit[\"train\"].remove_columns([\"file\"]))"
      ],
      "execution_count": null,
      "outputs": [
        {
          "output_type": "display_data",
          "data": {
            "text/html": [
              "<table border=\"1\" class=\"dataframe\">\n",
              "  <thead>\n",
              "    <tr style=\"text-align: right;\">\n",
              "      <th></th>\n",
              "      <th>text</th>\n",
              "    </tr>\n",
              "  </thead>\n",
              "  <tbody>\n",
              "    <tr>\n",
              "      <th>0</th>\n",
              "      <td>the soft snow was deceitful underfoot</td>\n",
              "    </tr>\n",
              "    <tr>\n",
              "      <th>1</th>\n",
              "      <td>would a camera club be useful in taking pictures pertinent to plant safety</td>\n",
              "    </tr>\n",
              "    <tr>\n",
              "      <th>2</th>\n",
              "      <td>she had your dark suit in greasy wash water all year</td>\n",
              "    </tr>\n",
              "    <tr>\n",
              "      <th>3</th>\n",
              "      <td>don't ask me to carry an oily rag like that</td>\n",
              "    </tr>\n",
              "    <tr>\n",
              "      <th>4</th>\n",
              "      <td>coconut cream pie makes a nice dessert</td>\n",
              "    </tr>\n",
              "    <tr>\n",
              "      <th>5</th>\n",
              "      <td>don't ask me to carry an oily rag like that</td>\n",
              "    </tr>\n",
              "    <tr>\n",
              "      <th>6</th>\n",
              "      <td>don't ask me to carry an oily rag like that</td>\n",
              "    </tr>\n",
              "    <tr>\n",
              "      <th>7</th>\n",
              "      <td>she had your dark suit in greasy wash water all year</td>\n",
              "    </tr>\n",
              "    <tr>\n",
              "      <th>8</th>\n",
              "      <td>in every major cloverleaf traffic sometimes gets backed up</td>\n",
              "    </tr>\n",
              "    <tr>\n",
              "      <th>9</th>\n",
              "      <td>regular attendance is seldom required</td>\n",
              "    </tr>\n",
              "  </tbody>\n",
              "</table>"
            ],
            "text/plain": [
              "<IPython.core.display.HTML object>"
            ]
          },
          "metadata": {
            "tags": []
          }
        }
      ]
    },
    {
      "cell_type": "markdown",
      "metadata": {
        "id": "jwfaptH5RJwA"
      },
      "source": [
        ".\n",
        "\n",
        "In CTC, it is common to classify speech chunks into letters so we will  extract all distinct letters of the training and test data and build our vocabulary from this set of letters.\n",
        "\n",
        "We write a mapping function that concatenates all transcriptions into one long transcription and then transforms the string into a set of chars. \n"
      ]
    },
    {
      "cell_type": "code",
      "metadata": {
        "id": "LwCshNbbeRZR"
      },
      "source": [
        "def extract_all_chars(batch):\n",
        "  all_text = \" \".join(batch[\"text\"])\n",
        "  vocab = list(set(all_text))\n",
        "  return {\"vocab\": [vocab], \"all_text\": [all_text]}"
      ],
      "execution_count": null,
      "outputs": []
    },
    {
      "cell_type": "code",
      "metadata": {
        "colab": {
          "base_uri": "https://localhost:8080/",
          "height": 116,
          "referenced_widgets": [
            "96bfc935d98b4eb1b03f794e77c1eb5a",
            "92ca3fe3331d43b299d8b2d4986d4f1b",
            "945e2e4cc0414401bcce95357f210266",
            "4ca6ed43b4b2438185bb4474f350864d",
            "91a5130bb7ed4633ad6fb1974a675333",
            "7903b83e9a924b76a18a8363ef695bd8",
            "647556d0d27247d6b34630f969d514f1",
            "7093d32d12c1456082569c215f258eb7",
            "8782a08165ce402ab50cf6162e7f7d3b",
            "bc048a58a7a043069499dc3149a16bdb",
            "63472db53e8246bf80244ac7be367565",
            "e0b8bbf5479f404291759d2201e4d6f6",
            "56707184ba6147d4af3563db98558ee0",
            "25aae6bb44bd4a8eb7a753a7384b39eb",
            "b70b94974252451d9e2047f33017901f",
            "dc9e94297b3a4809a91d577f9272fbe7"
          ]
        },
        "id": "_m6uUjjcfbjH",
        "outputId": "48cc1e9a-c2d4-4d9c-da51-337e02e5022b"
      },
      "source": [
        "#batched=true to have access to all the transcription text at once \n",
        "vocabs = timit.map(extract_all_chars, batched=True, batch_size=-1, keep_in_memory=True, remove_columns=timit.column_names[\"train\"])"
      ],
      "execution_count": null,
      "outputs": [
        {
          "output_type": "display_data",
          "data": {
            "application/vnd.jupyter.widget-view+json": {
              "model_id": "96bfc935d98b4eb1b03f794e77c1eb5a",
              "version_major": 2,
              "version_minor": 0
            },
            "text/plain": [
              "HBox(children=(FloatProgress(value=0.0, max=1.0), HTML(value='')))"
            ]
          },
          "metadata": {
            "tags": []
          }
        },
        {
          "output_type": "stream",
          "text": [
            "\n"
          ],
          "name": "stdout"
        },
        {
          "output_type": "display_data",
          "data": {
            "application/vnd.jupyter.widget-view+json": {
              "model_id": "8782a08165ce402ab50cf6162e7f7d3b",
              "version_major": 2,
              "version_minor": 0
            },
            "text/plain": [
              "HBox(children=(FloatProgress(value=0.0, max=1.0), HTML(value='')))"
            ]
          },
          "metadata": {
            "tags": []
          }
        },
        {
          "output_type": "stream",
          "text": [
            "\n"
          ],
          "name": "stdout"
        }
      ]
    },
    {
      "cell_type": "code",
      "metadata": {
        "id": "bbYfXz4xdTSj"
      },
      "source": [
        "vocabs[\"train\"][\"all_text\"]"
      ],
      "execution_count": null,
      "outputs": []
    },
    {
      "cell_type": "code",
      "metadata": {
        "colab": {
          "base_uri": "https://localhost:8080/"
        },
        "id": "7Bop7l6deTk1",
        "outputId": "3970427f-7446-48dd-bf54-e43f9340546b"
      },
      "source": [
        "vocabs[\"train\"][\"vocab\"]"
      ],
      "execution_count": null,
      "outputs": [
        {
          "output_type": "execute_result",
          "data": {
            "text/plain": [
              "[['m',\n",
              "  'b',\n",
              "  'o',\n",
              "  'f',\n",
              "  'y',\n",
              "  'i',\n",
              "  'a',\n",
              "  'g',\n",
              "  'u',\n",
              "  'k',\n",
              "  'w',\n",
              "  't',\n",
              "  'z',\n",
              "  \"'\",\n",
              "  'r',\n",
              "  'h',\n",
              "  's',\n",
              "  'd',\n",
              "  'n',\n",
              "  'j',\n",
              "  'c',\n",
              "  'v',\n",
              "  'p',\n",
              "  'l',\n",
              "  'q',\n",
              "  ' ',\n",
              "  'x',\n",
              "  'e']]"
            ]
          },
          "metadata": {
            "tags": []
          },
          "execution_count": 13
        }
      ]
    },
    {
      "cell_type": "code",
      "metadata": {
        "colab": {
          "base_uri": "https://localhost:8080/"
        },
        "id": "DMIu5Xd55y2N",
        "outputId": "f5ede186-22a2-48a9-803e-99bcbaa95ac8"
      },
      "source": [
        "vocabs"
      ],
      "execution_count": null,
      "outputs": [
        {
          "output_type": "execute_result",
          "data": {
            "text/plain": [
              "DatasetDict({\n",
              "    train: Dataset({\n",
              "        features: ['all_text', 'vocab'],\n",
              "        num_rows: 1\n",
              "    })\n",
              "    test: Dataset({\n",
              "        features: ['all_text', 'vocab'],\n",
              "        num_rows: 1\n",
              "    })\n",
              "})"
            ]
          },
          "metadata": {
            "tags": []
          },
          "execution_count": 14
        }
      ]
    },
    {
      "cell_type": "markdown",
      "metadata": {
        "id": "7oVgE8RZSJNP"
      },
      "source": [
        "Now, we create the union of all distinct letters in the training dataset and test dataset and convert the resulting list into an enumerated dictionary."
      ]
    },
    {
      "cell_type": "code",
      "metadata": {
        "id": "aQfneNsmlJI0"
      },
      "source": [
        "vocab_list = list(set(vocabs[\"train\"][\"vocab\"][0]) | set(vocabs[\"test\"][\"vocab\"][0]))"
      ],
      "execution_count": null,
      "outputs": []
    },
    {
      "cell_type": "code",
      "metadata": {
        "colab": {
          "base_uri": "https://localhost:8080/"
        },
        "id": "rNsiqla-5tij",
        "outputId": "5d6657b9-84d1-4bdd-ba0d-5c51ee01e06c"
      },
      "source": [
        "vocab_list"
      ],
      "execution_count": null,
      "outputs": [
        {
          "output_type": "execute_result",
          "data": {
            "text/plain": [
              "['m',\n",
              " 'b',\n",
              " 'o',\n",
              " 'f',\n",
              " 'y',\n",
              " 'i',\n",
              " 'a',\n",
              " 'g',\n",
              " 'u',\n",
              " 'k',\n",
              " 'w',\n",
              " 't',\n",
              " 'z',\n",
              " \"'\",\n",
              " 'r',\n",
              " 'h',\n",
              " 's',\n",
              " 'd',\n",
              " 'n',\n",
              " 'j',\n",
              " 'c',\n",
              " 'v',\n",
              " 'p',\n",
              " 'l',\n",
              " 'q',\n",
              " ' ',\n",
              " 'x',\n",
              " 'e']"
            ]
          },
          "metadata": {
            "tags": []
          },
          "execution_count": 16
        }
      ]
    },
    {
      "cell_type": "code",
      "metadata": {
        "colab": {
          "base_uri": "https://localhost:8080/"
        },
        "id": "EXyWg0ky6jx4",
        "outputId": "a0732aea-cfc3-4980-9dc4-9b57f75c8dcc"
      },
      "source": [
        "len(vocab_list)"
      ],
      "execution_count": null,
      "outputs": [
        {
          "output_type": "execute_result",
          "data": {
            "text/plain": [
              "28"
            ]
          },
          "metadata": {
            "tags": []
          },
          "execution_count": 17
        }
      ]
    },
    {
      "cell_type": "code",
      "metadata": {
        "colab": {
          "base_uri": "https://localhost:8080/"
        },
        "id": "_0kRndSvqaKk",
        "outputId": "7b72ed4c-4bad-403f-abd9-d0f6b3c510d1"
      },
      "source": [
        "vocab_dict = {v: k for k, v in enumerate(vocab_list)}\n",
        "vocab_dict"
      ],
      "execution_count": null,
      "outputs": [
        {
          "output_type": "execute_result",
          "data": {
            "text/plain": [
              "{' ': 25,\n",
              " \"'\": 13,\n",
              " 'a': 6,\n",
              " 'b': 1,\n",
              " 'c': 20,\n",
              " 'd': 17,\n",
              " 'e': 27,\n",
              " 'f': 3,\n",
              " 'g': 7,\n",
              " 'h': 15,\n",
              " 'i': 5,\n",
              " 'j': 19,\n",
              " 'k': 9,\n",
              " 'l': 23,\n",
              " 'm': 0,\n",
              " 'n': 18,\n",
              " 'o': 2,\n",
              " 'p': 22,\n",
              " 'q': 24,\n",
              " 'r': 14,\n",
              " 's': 16,\n",
              " 't': 11,\n",
              " 'u': 8,\n",
              " 'v': 21,\n",
              " 'w': 10,\n",
              " 'x': 26,\n",
              " 'y': 4,\n",
              " 'z': 12}"
            ]
          },
          "metadata": {
            "tags": []
          },
          "execution_count": 18
        }
      ]
    },
    {
      "cell_type": "markdown",
      "metadata": {
        "id": "JOSzbvs9SXT1"
      },
      "source": [
        " we also extracted the special characters `\" \"` and `'`.  we did not exclude those special characters because: \n",
        "\n",
        "- The model has to learn to predict when a word finished or else the model prediction would always be a sequence of chars which would make it impossible to separate words from each other.\n",
        "- In English, we need to keep the `'` character to differentiate between words, `\"it's\"` and `\"its\"` which have very different meanings."
      ]
    },
    {
      "cell_type": "markdown",
      "metadata": {
        "id": "b1fBRCn-TRaO"
      },
      "source": [
        "To make it clearer that `\" \"` has its own token class, we give it a more visible character `|`. In addition, we also add an \"unknown\" token so that the model can later deal with characters not encountered in Timit's training set. \n",
        " we also add a padding token that corresponds to CTC's \"blank token\". The \"blank token\" is a core component of the CTC algorithm."
      ]
    },
    {
      "cell_type": "code",
      "metadata": {
        "id": "npbIbBoLgaFX"
      },
      "source": [
        "vocab_dict[\"|\"] = vocab_dict[\" \"]\n",
        "del vocab_dict[\" \"]"
      ],
      "execution_count": null,
      "outputs": []
    },
    {
      "cell_type": "code",
      "metadata": {
        "colab": {
          "base_uri": "https://localhost:8080/"
        },
        "id": "mjK6H2In8DEu",
        "outputId": "190da8fd-d89e-4bde-cbd0-42ed90d65b4b"
      },
      "source": [
        "vocab_dict"
      ],
      "execution_count": null,
      "outputs": [
        {
          "output_type": "execute_result",
          "data": {
            "text/plain": [
              "{\"'\": 13,\n",
              " 'a': 6,\n",
              " 'b': 1,\n",
              " 'c': 20,\n",
              " 'd': 17,\n",
              " 'e': 27,\n",
              " 'f': 3,\n",
              " 'g': 7,\n",
              " 'h': 15,\n",
              " 'i': 5,\n",
              " 'j': 19,\n",
              " 'k': 9,\n",
              " 'l': 23,\n",
              " 'm': 0,\n",
              " 'n': 18,\n",
              " 'o': 2,\n",
              " 'p': 22,\n",
              " 'q': 24,\n",
              " 'r': 14,\n",
              " 's': 16,\n",
              " 't': 11,\n",
              " 'u': 8,\n",
              " 'v': 21,\n",
              " 'w': 10,\n",
              " 'x': 26,\n",
              " 'y': 4,\n",
              " 'z': 12,\n",
              " '|': 25}"
            ]
          },
          "metadata": {
            "tags": []
          },
          "execution_count": 20
        }
      ]
    },
    {
      "cell_type": "code",
      "metadata": {
        "colab": {
          "base_uri": "https://localhost:8080/"
        },
        "id": "znF0bNunsjbl",
        "outputId": "ce64cbfc-35c7-4206-8f2a-005eac2e7660"
      },
      "source": [
        "vocab_dict[\"[UNK]\"] = len(vocab_dict)\n",
        "vocab_dict[\"[PAD]\"] = len(vocab_dict)\n",
        "len(vocab_dict)"
      ],
      "execution_count": null,
      "outputs": [
        {
          "output_type": "execute_result",
          "data": {
            "text/plain": [
              "30"
            ]
          },
          "metadata": {
            "tags": []
          },
          "execution_count": 21
        }
      ]
    },
    {
      "cell_type": "markdown",
      "metadata": {
        "id": "SFPGfet8U5sL"
      },
      "source": [
        " now our vocabulary is complete and consists of 30 tokens, which means that the linear layer that we will add on top of the pretrained Wav2Vec2 checkpoint will have an output dimension of 30."
      ]
    },
    {
      "cell_type": "markdown",
      "metadata": {
        "id": "1CujRgBNVRaD"
      },
      "source": [
        "Let's now save the vocabulary as a json file."
      ]
    },
    {
      "cell_type": "code",
      "metadata": {
        "id": "ehyUoh9vk191"
      },
      "source": [
        "import json\n",
        "with open('vocab.json', 'w') as vocab_file:\n",
        "    json.dump(vocab_dict, vocab_file)"
      ],
      "execution_count": null,
      "outputs": []
    },
    {
      "cell_type": "markdown",
      "metadata": {
        "id": "SHJDaKlIVVim"
      },
      "source": [
        "In a final step, we use the json file to instantiate an object of the `Wav2Vec2CTCTokenizer` class."
      ]
    },
    {
      "cell_type": "code",
      "metadata": {
        "id": "xriFGEWQkO4M"
      },
      "source": [
        "from transformers import Wav2Vec2CTCTokenizer\n",
        "\n",
        "tokenizer = Wav2Vec2CTCTokenizer(\"./vocab.json\", unk_token=\"[UNK]\", pad_token=\"[PAD]\", word_delimiter_token=\"|\")"
      ],
      "execution_count": null,
      "outputs": []
    },
    {
      "cell_type": "markdown",
      "metadata": {
        "id": "KvL12DrNV4cx"
      },
      "source": [
        "Next, we will create the feature extractor."
      ]
    },
    {
      "cell_type": "markdown",
      "metadata": {
        "id": "mYcIiR2FQ96i"
      },
      "source": [
        "### Create Wav2Vec2 Feature Extractor"
      ]
    },
    {
      "cell_type": "markdown",
      "metadata": {
        "id": "Y6mDEyW719rx"
      },
      "source": [
        "Speech is a continuous signal and to be treated by computers, it first has to be discretized, which is usually called **sampling**. The sampling rate hereby plays an important role in that it defines how many data points of the speech signal are measured per second. Therefore, sampling with a higher sampling rate results in a better approximation of the *real* speech signal but also necessitates more values per second.\n",
        "\n",
        "**A pretrained checkpoint expects its input data to have been sampled more or less from the same distribution as the data it was trained on**. The same speech signals sampled at two different rates have a very different distribution, *e.g.*, doubling the sampling rate results in data points being twice as long. Thus, \n",
        "before fine-tuning a pretrained checkpoint of an ASR model, it is crucial to verify that the sampling rate of the data that was used to pretrain the model matches the sampling rate of the dataset used to fine-tune the model.\n",
        "\n",
        "Wav2Vec2 was pretrained on the audio data of LibriSpeech and LibriVox which both were sampling with 16kHz. Our fine-tuning dataset, Timit was  also sampled with 16kHz. If the fine-tuning dataset would have been sampled with a rate lower or higher than 16kHz, we first would have had to up or downsample the speech signal to match the sampling rate of the data used for pretraining. \n",
        "\n"
      ]
    },
    {
      "cell_type": "code",
      "metadata": {
        "id": "kAR0-2KLkopp"
      },
      "source": [
        "from transformers import Wav2Vec2FeatureExtractor\n",
        "\n",
        "feature_extractor = Wav2Vec2FeatureExtractor(feature_size=1, sampling_rate=16000, padding_value=0.0, do_normalize=True, return_attention_mask=False)"
      ],
      "execution_count": null,
      "outputs": []
    },
    {
      "cell_type": "markdown",
      "metadata": {
        "id": "qUETetgqYC3W"
      },
      "source": [
        "the feature extractor and tokenizer are *wrapped* into a single `Wav2Vec2Processor` class so that one only needs a `model` and `processor` object."
      ]
    },
    {
      "cell_type": "code",
      "metadata": {
        "id": "KYZtoW-tlZgl"
      },
      "source": [
        "from transformers import Wav2Vec2Processor\n",
        "\n",
        "processor = Wav2Vec2Processor(feature_extractor=feature_extractor, tokenizer=tokenizer)"
      ],
      "execution_count": null,
      "outputs": []
    },
    {
      "cell_type": "code",
      "metadata": {
        "colab": {
          "base_uri": "https://localhost:8080/"
        },
        "id": "yq7Bzuzz4zjQ",
        "outputId": "c6d7c7b2-8de0-4f0e-a87e-cb6fdad8881c"
      },
      "source": [
        " from google.colab import drive\n",
        " drive.mount('/content/gdrive/')"
      ],
      "execution_count": null,
      "outputs": [
        {
          "output_type": "stream",
          "text": [
            "Mounted at /content/gdrive/\n"
          ],
          "name": "stdout"
        }
      ]
    },
    {
      "cell_type": "code",
      "metadata": {
        "id": "Par9rpypPsml"
      },
      "source": [
        " processor.save_pretrained(\"/content/gdrive/MyDrive/wav2vec2-base-timit-demo\")"
      ],
      "execution_count": null,
      "outputs": []
    },
    {
      "cell_type": "markdown",
      "metadata": {
        "id": "DrKnYuvDIoOO"
      },
      "source": [
        "Next, we can prepare the dataset."
      ]
    },
    {
      "cell_type": "markdown",
      "metadata": {
        "id": "YFmShnl7RE35"
      },
      "source": [
        "### Preprocess Data\n",
        "\n",
        "`Wav2Vec2` expects the audio file in the format of a 1-dimensional array, so in the first step, let's load all audio files into the dataset object.\n",
        "\n",
        "Let's first check the serialization format of the downloaded audio files by looking at the first training sample."
      ]
    },
    {
      "cell_type": "code",
      "metadata": {
        "colab": {
          "base_uri": "https://localhost:8080/"
        },
        "id": "TTCS7W6XJ9BG",
        "outputId": "65b87e1d-1b4e-4392-a5f7-f1c497ed90a5"
      },
      "source": [
        "timit[\"train\"][0]"
      ],
      "execution_count": null,
      "outputs": [
        {
          "output_type": "execute_result",
          "data": {
            "text/plain": [
              "{'file': '/root/.cache/huggingface/datasets/downloads/extracted/404950a46da14eac65eb4e2a8317b1372fb3971d980d91d5d5b221275b1fd7e0/data/TRAIN/DR4/MMDM0/SI681.WAV',\n",
              " 'text': 'would such an act of refusal be useful '}"
            ]
          },
          "metadata": {
            "tags": []
          },
          "execution_count": 26
        }
      ]
    },
    {
      "cell_type": "markdown",
      "metadata": {
        "id": "wSBIGEiaKHMn"
      },
      "source": [
        "\n",
        "An audio file usually stores both its values and the sampling rate with which the speech signal was digitalized. We want to store both in the dataset and write a `map(...)` function accordingly."
      ]
    },
    {
      "cell_type": "code",
      "metadata": {
        "id": "al9Luo4LPpwJ"
      },
      "source": [
        "import soundfile as sf\n",
        "\n",
        "def speech_file_to_array_fn(batch):\n",
        "    speech_array, sampling_rate = sf.read(batch[\"file\"])\n",
        "    batch[\"speech\"] = speech_array\n",
        "    batch[\"sampling_rate\"] = sampling_rate\n",
        "    batch[\"target_text\"] = batch[\"text\"]\n",
        "    return batch"
      ],
      "execution_count": null,
      "outputs": []
    },
    {
      "cell_type": "code",
      "metadata": {
        "colab": {
          "base_uri": "https://localhost:8080/",
          "height": 451,
          "referenced_widgets": [
            "e13b97c7b7d942eaa94a25b4c65fc9cb",
            "05eea9c3d7ac4dbca9a35eb004ebb036",
            "42781d9014e646dfb10798de036e2f7f",
            "c650f64c30344cfe9f48da3b64c99e0a",
            "0c364e6ef66f430f9db07d8d599f3cc9",
            "10794329b3314253b569736965230ee3",
            "b9f99e72e40b4bc3b9874963f2aee4d4",
            "2416281e31504af28fe81cc1a46a11bb",
            "7f6d4e897f1946ada5d240d88147a12e",
            "f5fa1a7692f3470c92351f49d806d645",
            "c971786a91324769bad012bc386edc0a",
            "fce140d577ba4dde9f6f2b0de5545fc0",
            "e0148e222ab64e8c849114e3648d6e40",
            "64897cfc035341e0a44b58e31cd4b24c",
            "22b4f7561f1c448e80b665dd1b64911a",
            "be8180198a864f4a96dd463e3f801896",
            "2e6ce39ddf7d483491ecee9e0a4f450d",
            "2128a193ac9b4ff2a76aec570e537203",
            "3fa60bc84d964afd81a28e061be7a599",
            "90297fb8c39a41348417099823cbf50d",
            "efc00e119e1e4b488b29ce581f32e6f6",
            "0d8ce41ac4f943549ae3320e008fadf5",
            "0606cbcfc3c3467fa4ead520cdea8489",
            "df394d3c17974b4382ec067f52d85558",
            "97af2af547134820a40126ec0cd67f8a",
            "c82327507cf34132ad7d0cbe3bac72ed",
            "d9caf6c992ab4b7ea93e05df99f02f58",
            "3cbaa1a5d64841d2b4a89769346b5415",
            "75288bdf5aae47f399fe96cd1d4434ae",
            "916cbcd5e5c44f33a5f1cf023b949dd6",
            "f8476083b4ce4046aae5456bcd972105",
            "9ad9fac31d82464781ebf6b5a809ae82",
            "5ec260f2ff75485695679244d72b456c",
            "6a7c2e0e17b145d39c1671d92350973d",
            "1c0be55e1bf148388e101684220f006d",
            "1f48b364d7c846e0a4e5c9e9010c1e1a",
            "c4a153a0313146519517543c4b2bddff",
            "72bcb6c7f4af4f4683835ff1c52f8997",
            "30cef159c31a4f94bb9afb2d3137b4ba",
            "0d5ed9c3fef94b83944e1e1ac29959c5",
            "2497ac5ae09a40cfbdd1b003a870c838",
            "0b60001b40e74f298b4e09368f81cc1e",
            "a444c127c1f54e5fb1ad77a68adab20c",
            "0d38639ce2ce48408c28e292757519ee",
            "0dcf4c14134c47208a8128a36024915f",
            "0d1d20ec9b8d4f458e1053f82f96a010",
            "3313503783194791921898c17baa9e82",
            "3a2accf9f29f4413adf441b8c152f02d",
            "438050a37d884fdd96c86d8afa4ca3ee",
            "0b6457dbb86941bc9aea6b09b482c210",
            "a4480a229b8c4eb79dbc0cae3f704492",
            "bb78e06237414e518e1993ed6563e58b",
            "571d93bb938c40dca42635ee07c7df4a",
            "6f39f6b9fca94d67976e1fa41bbc6080",
            "6805a231e67442bf86bdc4c6f1f8a888",
            "18f9d88a6a1a4ca1b442e68d34922d2f",
            "cf092fe945324fe68f78da27d031db33",
            "8e045eb4ce634c25ad6000a9096d273f",
            "77f9fb47d52f487dbbf256ec28407c30",
            "a0400645baf84a81ae7a8b9b1e42efd7",
            "d4d05fa551564e86b475fd18d36331bd",
            "fb30d995bdf84f3e9c6123b6e60f2e92",
            "06ae8b3496dd41d385a6167d877e92c5",
            "5946298366034977bf2b56ac7d501c2c"
          ]
        },
        "id": "afeicUeWlrRL",
        "outputId": "1db98ab9-b05e-4c1b-dd6b-38f6cb8f1e02"
      },
      "source": [
        "timit = timit.map(speech_file_to_array_fn, remove_columns=timit.column_names[\"train\"], num_proc=4)"
      ],
      "execution_count": null,
      "outputs": [
        {
          "output_type": "stream",
          "text": [
            "    "
          ],
          "name": "stdout"
        },
        {
          "output_type": "display_data",
          "data": {
            "application/vnd.jupyter.widget-view+json": {
              "model_id": "e13b97c7b7d942eaa94a25b4c65fc9cb",
              "version_major": 2,
              "version_minor": 0
            },
            "text/plain": [
              "HBox(children=(FloatProgress(value=0.0, description='#0', max=1155.0, style=ProgressStyle(description_width='i…"
            ]
          },
          "metadata": {
            "tags": []
          }
        },
        {
          "output_type": "display_data",
          "data": {
            "application/vnd.jupyter.widget-view+json": {
              "model_id": "7f6d4e897f1946ada5d240d88147a12e",
              "version_major": 2,
              "version_minor": 0
            },
            "text/plain": [
              "HBox(children=(FloatProgress(value=0.0, description='#1', max=1155.0, style=ProgressStyle(description_width='i…"
            ]
          },
          "metadata": {
            "tags": []
          }
        },
        {
          "output_type": "display_data",
          "data": {
            "application/vnd.jupyter.widget-view+json": {
              "model_id": "2e6ce39ddf7d483491ecee9e0a4f450d",
              "version_major": 2,
              "version_minor": 0
            },
            "text/plain": [
              "HBox(children=(FloatProgress(value=0.0, description='#3', max=1155.0, style=ProgressStyle(description_width='i…"
            ]
          },
          "metadata": {
            "tags": []
          }
        },
        {
          "output_type": "display_data",
          "data": {
            "application/vnd.jupyter.widget-view+json": {
              "model_id": "97af2af547134820a40126ec0cd67f8a",
              "version_major": 2,
              "version_minor": 0
            },
            "text/plain": [
              "HBox(children=(FloatProgress(value=0.0, description='#2', max=1155.0, style=ProgressStyle(description_width='i…"
            ]
          },
          "metadata": {
            "tags": []
          }
        },
        {
          "output_type": "stream",
          "text": [
            "\n",
            "\n",
            "\n",
            "\n",
            "    "
          ],
          "name": "stdout"
        },
        {
          "output_type": "display_data",
          "data": {
            "application/vnd.jupyter.widget-view+json": {
              "model_id": "5ec260f2ff75485695679244d72b456c",
              "version_major": 2,
              "version_minor": 0
            },
            "text/plain": [
              "HBox(children=(FloatProgress(value=0.0, description='#0', max=420.0, style=ProgressStyle(description_width='in…"
            ]
          },
          "metadata": {
            "tags": []
          }
        },
        {
          "output_type": "display_data",
          "data": {
            "application/vnd.jupyter.widget-view+json": {
              "model_id": "2497ac5ae09a40cfbdd1b003a870c838",
              "version_major": 2,
              "version_minor": 0
            },
            "text/plain": [
              "HBox(children=(FloatProgress(value=0.0, description='#1', max=420.0, style=ProgressStyle(description_width='in…"
            ]
          },
          "metadata": {
            "tags": []
          }
        },
        {
          "output_type": "display_data",
          "data": {
            "application/vnd.jupyter.widget-view+json": {
              "model_id": "438050a37d884fdd96c86d8afa4ca3ee",
              "version_major": 2,
              "version_minor": 0
            },
            "text/plain": [
              "HBox(children=(FloatProgress(value=0.0, description='#2', max=420.0, style=ProgressStyle(description_width='in…"
            ]
          },
          "metadata": {
            "tags": []
          }
        },
        {
          "output_type": "display_data",
          "data": {
            "application/vnd.jupyter.widget-view+json": {
              "model_id": "cf092fe945324fe68f78da27d031db33",
              "version_major": 2,
              "version_minor": 0
            },
            "text/plain": [
              "HBox(children=(FloatProgress(value=0.0, description='#3', max=420.0, style=ProgressStyle(description_width='in…"
            ]
          },
          "metadata": {
            "tags": []
          }
        },
        {
          "output_type": "stream",
          "text": [
            "\n",
            "\n",
            "\n",
            "\n"
          ],
          "name": "stdout"
        }
      ]
    },
    {
      "cell_type": "markdown",
      "metadata": {
        "id": "SOckzFd4Mbzq"
      },
      "source": [
        "we listen to a couple of audio files to better understand the dataset and verify that the audio was correctly loaded. \n",
        "\n"
      ]
    },
    {
      "cell_type": "code",
      "metadata": {
        "colab": {
          "base_uri": "https://localhost:8080/",
          "height": 75
        },
        "id": "dueM6U7Ev0OA",
        "outputId": "55768222-bf19-444e-ae73-89e89f7d7fcc"
      },
      "source": [
        "import IPython.display as ipd\n",
        "import numpy as np\n",
        "import random\n",
        "\n",
        "rand_int = random.randint(0, len(timit[\"train\"]))\n",
        "\n",
        "ipd.Audio(data=np.asarray(timit[\"train\"][rand_int][\"speech\"]), autoplay=True, rate=16000)"
      ],
      "execution_count": null,
      "outputs": [
        {
          "output_type": "execute_result",
          "data": {
            "text/html": [
              "\n",
              "                <audio controls=\"controls\" autoplay=\"autoplay\">\n",
              "                    <source src=\"data:audio/wav;base64,UklGRoweAQBXQVZFZm10IBAAAAABAAEAgD4AAAB9AAACABAAZGF0YWgeAQBSAPn/DgAOAAcADgAAAAcAFgAOAPn/BwAWAAAA8v8AAPL/BwDy//n/+f8AAPn/FgAHAAAADgAWAA4AHQAHAPn/FgAHAPL/AAD5//n/FgAAAOr/+f8AAAAADgAAAPn/DgAHAAAAFgDj/+r/AAD5/wAA8v/5//L/AAAHAAAAFgAWAPL/6v8AAAAABwAAAPL/+f8WAAAA+f/y/wcADgAWAAcAAAAAAPn/BwAAAPn/BwAOAPL/8v8OAA4A+f8OAAAA+f/5//L/AAD5//n/AAAAAPn/8v8WAOr/+f8OABYABwAHAA4ADgDy//n/BwAAAAAA+f/5/xYA8v/5/wAAAADy/wcA+f/y//n/BwAHAPn/AAAAAAAA+f8AAAAA6v/5/w4A6v8AAAcADgD5/wAAFgAHAAcAAAAWAAcA8v/5/w4ABwAOAAcA+f8OAAcABwAAAPL/+f/5//n/BwAHAOr/6v/5//L/+f/q/+P/4//y//L/6v/5//L/AADj//L/+f/y//L/+f8AAPL/6v/b/+P/2//j/9v/4//j//n/+f/j//n/6v/b/+P/2//b/+P/2//q/+r/2//F/67/vf/U/9T/vf+f/9T/AADq/+r/FgBKAFIA6v/U/9v/DgAAAMX/tv/M/+P/4/+u/6f/xf/U/9v/tv+n/5//n//F/67/p/+9/8X/zP/q/wAANABZAIYAswCcAGgAJQBKAEoALAAOANv/+f8OAAAA4//b/9v/8v/y/9v/4//j//L/4//j/9v/4//j/+P/4//j//L/8v/5/wAA+f8AAPn/AAD5//L/FgAHAAcADgAAAA4ABwAHAPn/8v8AAAAABwD5/w4A8v9hABYA4/+n/6f/WQDq/yUAxf8WAOr/QwDU/wAALADy/zQA4//q//L/6v8dAPL/8v/y/wAA+f/5/+r/8v8HAAcAAADq//L/+f/5/wAA8v/5//L/BwAAAOr/+f8AAAAABwDq//n/BwD5//n/8v/5//L/AAAWAPn/+f8AAAAAAAAAAAAA+f8HAAcADgAHAPn/BwAWAAAAAAAAAPn/FgAAACwABwAHAA4ADgAHABYAFgAHAA4A8v8OAPn/+f/q/+P/8v/5/wAADgAWABYADgAWAA4A+f8AABYAAAAAABYAFgD5/wcAFgAAAAAA+f/5//L/+f8WAAAA+f8OABYADgAHAAcA+f/y/+P/2//y/wAA+f8AAA4ABwAWAA4AAAD5/wAA4//j/+r/8v/b//L/AAD5/w4AFgAOABYADgD5/wcA+f/5/+r/8v8HAPn/AADy/wcAAAAOAAAA+f8AAA4ABwAOAPL/4/8AAPn/8v/y/wAA8v8HAA4AFgAAAAAA+f8OAB0ADgDy/wcA6v/q/+r/+f/y/wAADgAAAA4ABwDy/wAADgAHAAAAFgDy//n/6v8OAPn/FgAHAAAAAADq/wAAAAAAAPn/BwAOAAcABwAOAA4ABwAHAAAADgDy/wcA+f8HAA4A+f8AAAAADgAHAAcAAAAWAPL/AAAAAAcAAAD5//L/FgDy/w4AAAAdAAcADgAOAAcAAAAHAAcA8v8AAAcA+f/q/+r/AAD5//n/4/8AAAcAFgDy//n/AAAAAA4AAADq//n/FgAHAPL/AAD5/wAADgAAAAcAAAAHAAAA+f8HAAcABwD5/+r/8v8AAPn/AAAAABYA8v8AAAAA+f8AABYAAADy/wAAAAAAAOr/+f/q/9v/+f8HAA4ABwA7ACwA8v/5/wAADgD5/wAA6v/5//L/AAAdAAcA6v/b/+r/8v/b//L/AAAHAPn/DgAHAAcADgAHAPL/6v/U/xYAAAD5//n/AAAWAAcALAAlAA4AAAD5//n/FgD5/w4ABwAOAPn/BwAOAAAA8v/5/+P/+f/y/wAADgAOAOr/8v/5//n/4//q/+P/6v8AAPL/AAAOAA4A8v8AAPn/AADy/wcA6v/j/+r/AAAAAOr/4/8AAAAAAAAOAA4AAAAAAPL/+f/5//n/4//y/wAA8v/y/w4ABwAWAPL/8v8AAAAAAAD5//n/4//y//n/+f8OAAcADgAAAAcAFgD5//L/DgAOAPL/+f/y//n/+f/5//n/AADy/wAABwAOAPL/BwD5/xYAAAAWAPL/DgAHAAAA6v8AAAAAHQDy//L/+f8OAAAADgAAAPn/8v8AAA4AAAAAAPL/8v/q//L/DgAHABYAHQAOAPn/DgDq/w4AAAAHAA4A6v8AAAcAAAD5/wAAFgD5//n/+f/y/wcAAAAAAAAA4/8OAOP/+f/5/xYA8v8HAA4AAAD5//L/AAAAAAAABwAAAPL/+f/j//n/AADq/+P/+f/5/wAAFgAAAPn/HQAAAAAABwAAABYA4//j//L/AAD5/w4AAAAOAAcADgAHAAAA8v/j/wAA+f/q/+r/BwAAAA4ABwAWAAcADgAAAOr/4//5//L/+f/y//L/AAAAAAcADgDy/wAA+f/y//L/AAD5/wAAAAAWAPn/+f/y//L/2/8AAA4A+f8AAPn/+f8HABYA+f8HAPn/AAD5//L/AAAAAPn/AAAAABYA+f8AAA4AFgAHAA4AHQAHAPL/BwAdAB0ABwAOAB0ABwDy/+r/BwAHAOP/6v/q/+r/8v/5//n/FgDy//n/AAAWAAAADgAAAPn/6v/5/wcADgD5//L/4//q//n/8v/q//n/+f8HAAcAAAAlAAcABwAOAPL/AAAAABYADgAOAAAADgAdAAcA6v8OAAAA+f/5/wcAHQAHAPn/AADy/w4AAAAHAPL/+f8HAAAA+f/5/w4A+f/5//n/8v8AAPn/DgD5/wcABwD5/wAADgDy//n/BwAAAAAAAAAHAAAA+f8HAPn/AAAAAA4AAADy/w4ABwD5/wcA+f8OAAAA8v8AAA4AAAD5/x0ADgAWAPL/DgAHAAAAAAD5/w4AFgAOAAAABwDy/wcAFgDy/xYA+f8AAPn/BwDj//n/8v8AAB0ABwAOABYA+f/q/wAA+f8OAAAA+f8AAPL/8v8HAAcA+f/5/w4A+f/y/wAAAAAOAAcADgAHABYA+f8HAOr/+f/5/wAA8v8AAAAAFgAHAOr/HQAWAAAAFgAWAAcA8v8AAOr/BwDy/wAADgAHAAcA+f8AAAAA+f8AAAAABwAWAPn/DgDy/xYAAAAHAA4AAAAAAPn/AAD5//n/DgAHABYA+f8WAAcA8v/j//n/4//y/wAA+f/j/x0A+f8OAA4AAAAWAAAAAAD5//n/6v/5//n/DgAHAB0AFgAAABYAHQAHAPn/AAAHAA4ABwDy/wcADgDy/wcADgDq/wAA8v8AAPL/+f8AABYAAADy/xYA+f/y//n/8v/5/+P/8v8dAAcA6v8AAA4AAAD5/xYABwDy/+r/AAD5//n/AADq/wcABwD5/xYA+f8OAAcAAAAHAA4A+f8WAOP/DgDy/+r/6v/j//L/6v8OAAAABwDy/wcADgAAAPL/8v8HAAAAAAAHAA4A+f/5/wcA+f/5//L/6v/y/w4ABwD5/w4ABwD5//n/AAAOAAAA6v/5//n/AAAAAB0ABwDy/wAAFgAAAPL/AADq//L/AAAOAAcA2//q/xYABwD5/xYADgAHAAAA+f8AAAAA8v8AAA4AAAAHAA4AFgAHAPn/+f/y/w4ABwAOAAcAAAAOAPL/BwAWAB0ADgDj//n/DgAOAAcADgAHACUADgAWAAAABwD5//L/AAAAAPL/DgAOABYADgAAAAcAAAAAAPL/6v/5/+P/DgAHAAAABwAHAA4A6v/q//L/8v8HAPn/8v8HAAAA8v8AAPn/+f/y//n/+f/y//L/AAAOAAcA8v8HAAcAAAAAAPn/+f/y//n/AADy//n/AAAHAPn/AAAOAPn/8v/5//n/6v/q//n/6v8HAAcA8v8HAAAADgAAAAAA4//5/+r/6v8HAPn/AAAAAB0A+f/5/+r/4//5//L/+f/5/wcA8v8AAPL/+f8AAPn/8v8HAPn/8v/q//n/DgAHAA4ABwAdABYAFgAWAAAA8v/5//n/+f/5/w4A8v/5/+r/AAAOAPL/4//j/+r/6v/q/wAAJQD5//L/+f8AAPL/6v/q/+r/6v/q//n/JQAHAAAA4//y//n/8v/5/wAA+f/5//L/DgAAAAAAAADy/wAA6v8AAOP/AAAAAPL/AAAOAA4AFgAlAPn/8v8AAPn/+f/y/9v/+f/y/wAAAAAOAAAA+f/5/wAAAAAAAPn/+f8AAPn/BwDy/wAA+f/j/+P/+f/y/w4AAAAOAAcABwAdAPn/DgAAAPL/6v/q//n/4/8AAAcAAAAAAA4ADgAAAA4A4/8AAOP/8v/y//n/AAAOAA4ADgAWAA4AFgAHAAAA8v/5/+r/+f8WAAAAHQAWAAcA6v8AAPL/AADj//n/+f8AAAcAFgAOAPn/+f/5//n/AAD5/wcAAAD5/w4AJQAHABYAHQAOABYABwDq/+P/6v/5//L/DgAHAAcABwAAAPL/+f/y//n/+f8AAPn/AAD5//L/DgAHAAAADgAHAPn/8v8AAAAA+f/y/wcAAAAAAPn/+f/5//L/AAAAAA4AAAAAAAAA+f/y//n/8v/y/+P/DgAOAPL/8v8HAPn/8v/5/wcAAAD5//n/BwD5//n/AAAOAPL/FgDy/wAA+f8OAPn/BwAAAA4A+f/y/w4AAAD5//L/AAAAAAAA+f/q/+P/BwAOAPL/FgAOAPn/AAAAAPn/8v/5//L/BwDy//n/AADy/wAA6v8HAPn/8v/y/w4A+f/y/w4AFgDy/wcAFgAlAEMA6v/q/+r/HQD5/9v/8v/5//n/1P/q//L/+f/j/+P/+f/5//n/8v8HAPn/AADq//L/AAD5/wAA8v8HAPn/FgAAAOr/AAD5/wcAAAAAAPn/6v/5//L/8v/5/wAA8v8AAPn/DgAHAPn/AADy//n/8v/q//n/DgDy/wcABwAOAAcA8v/5/wAA+f8AAAcAAAD5/xYABwD5/x0A6v/y/wAA+f8AAPn/AADy/+P/DgAHAPn/8v8AAOr/AAAAAA4AAADj//L/AAAOAAAAFgDy/wAA8v8AAAAAAAD5/wAADgDy/wAABwAOAPL/AADy//n/+f/5/w4AAADy/wAAAAAHAAAABwAOAPn/+f/5/wcAAAD5//n/AADy/+r/+f8HAAAAFgAHAPn/+f8OAPn/4/8AAAAA+f/y/w4ADgAWAAAA+f8AAAAA8v8HAAAAAAAAAAAA8v8OAAAABwD5/wAA+f8AAPn/+f8HAA4A+f8HABYAAADq/wAA+f/j//n/+f/5//L/AAAAAAcADgD5/wcABwD5/+r/AAD5/wcABwAHAAcAAADy/wAADgD5/+P/+f/y/wAA+f8AABYABwD5/+r/AADq/wAAHQDy/wcABwAOAAAADgAHAA4A4//q/wcA4//j/wAA8v8AAA4AAAAAAA4AAAD5//L/8v8AAAcA+f8OAAcADgAAAAAABwAHAPL/8v/q/wAA8v8AAAAAAAD5//L/+f/j/+r/4//b/+P/6v/5/+P/FgAHAOr/+f8AABYA+f/5//n/+f8HAAAAAAAdABYA+f/y/xYA+f/5/w4A+f8AAAcAAAD5/wAA+f8AAPL/AADq/+P/4//5/xYABwAAAA4ADgAdAAcA+f/y/+P/4//y/+P/+f/y/+r/8v/5//L/4//5/9v/+f/y//n/4//q/wAADgDy/wAAAADq/wAA+f8AAOr/+f8AAPL/HQAWAAcA8v8HAAcA8v/q//n/AAD5//n/BwAWAAAAQwAWAB0AAAAdAB0AHQAdADsAQwA7AEMAFgAsACUADgDy/+r/BwDq/9v/+f8WAAAAAAD5/w4ABwD5/wAA+f/y//n/+f8AAA4ABwAAAA4AHQAdABYABwAAAPn/AAAWABYAJQAWAB0A+f/j/+P/DgAAAAAAFgAWACUASgBDAFkAOwAdADsAWQAsAEoAYQB3AFkAUgAsAGEASgB+AH4AqwDRAO8A5wDJAFIAqwAjAVABqQESCQ4PRQpnBDMEWgMSAgAA7P5R/e36n/hXAZ8Gj/xU+L3/MAKC/6H+AABR/Wz7K/pA/mQCLP2++wUB1v7a/Jr+4fzc+40AXP85/mkD2wJK/W/94/8lANb+jwMfA2L8zv4Z/578b/0v/34A1P+g+20BugDl+pwAGf9t/iX9OwAMAUkEsAVEA+oC2vx+AAYEngPNAtj9nvy1+DP9Pv/a/F/6IwGu/5z9vf8D/9T7Zv4v/1z/8gLnAC78Of5KAB399v0bAZ//QwAR/8n9Vf9k/5z9Kv6//h0ADAEZ/5r+mv6t/An8bf4o/zf/+/6N/Ur9d/2Q/5//KP+n/9YBogEHAKsA0QAlABsBWgPPAboAFAEdAFIAUgAlABYAN/9ZACUACv/q/7/+Gf8AAAr/ZgGcADP9+/5c/87+5f64/lX/A/+E/ov+tv/RAEb/zP9KAE3/cACpAZUA5wA0AJMBKgG6AIADGQLgANEASAGiAVIA5wAUASL+df7s/mj92/8R/3X+v/7CAGEAkP9V/5//4ABoAOAA3gHJALoA4AAwAnMCTgKiAboA1gGJAoQBKgHJAGgAyQBG/4L/NAC//h39M/0M/k/+5/32/U3/Gf9v/RT+9P5t/gX+x/7l/ov+3f7l/uX+k/4HALoAev8lAMcB8v+p/nP/EgIUAf0ANADd/pP+zv4U/vT+fP6T/on/7P7q/0MAJQCNAF8B2/8MAUYC/QCcAPL/1P96/5//if/Y/dj9Tf+f/3r/N//nAF8BBQEoAvQBVwGQ/yj/XP+GABsBa//W/on/GwGkACoB5QGY/40AzQKCArMAXAJ3AF8B3wTRAKf/1v5ZALEBKgFN/7j+Pv/q/73/4AB1AeAAPwI/Ah0E+QIg/40AzwEKAsIAL/+Q/wz+gv+NALb/Vf96/5j/zP8R/zsASgD0/qn+cAC9/17+5wBBARICegKiASoBuAESAggD5QGYAuwBswB6At4BwgBzAtYBQwBSAJwAHQCJ/+UBqQEUAUoAL/96/1z/N//JAIYAvf8lACUAuP6rAHUB5wAWABkCzwFoAHwBZgFKAFcB1gED/1IAMAIjAaIB/QAv/yUA7AEyAV8BdQFc/2b+1v4OABn/LABfAUMABwDF/3AAWQCNAOAAawK6AM8BawLJALgBxQJQAZMBIQJVAtEAQQHjAlIAfAHgAGv/HQCrAKkBGwGcAMX/Rv+a/gcAaAA7ABYAN/+v+9z7Mf79/VH9KP8U/rj+2ADU/w4Aev/F/9QCJgONAKf/cABKAPL/qQHsAWv/yf3Y/VkAFgDd/k/+nP1o/Rv+G/4U/mT/+/4R/0j+3f4sAHcABwDF/0EBhAEHAK7/gv+GAE3/ugAUAd3+bf5g/W/9SgCGAOP/HQDf/Zz96v9wAOAAL/+a/vv+a//W/uP/8v8AAPL/p//5/+z+A//U/7oAa/83/9D93/3d/tEAiwEH/UL9/f1t/on/lQD2AAoC7wCY/yMBiwHnAMcBRgKLAYQBsQEyAVz/3f6kADkBKgFtATsAb/2a/jQAjQCkADkB8v+2/7b/GwE5AcX/if8lABQBUAGw/lz/xf9ZAIYAIwEHANT/qf5IAccB4ADgAAcAGf/H/vn/KgFfAckAUgC9/8f+UgDHAcX/pP16/y//Ef+9/5P+9P7lARsB8v/5/xH/8v8oAgoChAG2/6H+AAB8ATAC9AFoACr+OwC6AJwA0QBmAQ4Axf+zAPYAOQH5//0AlQA3/20BfAH9/XX+VwH2ALgBDAEg/3z+Gf+GAE4CdwDj/3P/O/1v/QAABwBr/zQAOf4U/tT/sP5G/y//Zv6Q/+AA4ABhAPT+9v2L/lIAZgEAAJj/V/6a/rb/aAB3ABn/+f8OAKH+N//7/nH89v24ATkBQQEDAtT/Gf83/+cAkwFDAGgA4ADl/sv8Wf2E/kb/c//U/3cAdf6k/Tn+Xv70/jQAVf/O/q7/VwFfAfv+DgA5AWgAQQEWAG3+KP+2/zkBcwI/AgcAk/58/jIBegL0AUoAOwAsALoAuAFtAfT+5/2E/vv+yQAUAUD+nP2V/d3+N//nALgB7wC9/1IAVwEyAf0AnABmAXUBHQDO/hb9fv3b/zcCuAGzAMf+Sv0W/fn/NwLbAmQC3gEZ/5P+YQDgAHcA9gAhAvL/y/xC/fb94/9GAtsCpABoACD/2/+aAQMCEgLeARYAi/7W/r/+i/6h/pr+Mf7J/Yb9Bf64/kb/8v/2APYAVwEoAqkBKgGvAlgESQTyAqIB2/9SAMIAQwCp/ir+W/z6+xj82P3s/jv9U/xR/Xr/0QAbAZj/aP2//poBkQL7AQMCDAHy/8kAcwIhAkb/1v5z/ywAfgBwADH+AfyA/Nj9A//0/rr9tPyI/DH+5f58/iL+IP83/yD/kP8WAAcAVf9mAT0DxQJDAJD/Gf8lADkBogHnADsAzv6//vT+6v/M//n/1v6u/2v/ev8HACD/3/2//kD+DgBhAGv//f0F/lf+c/+cAPYAfgCC/03/OQFGAj8CKAI1A8cBUwOWA2kDFwPeAQUBhgAyAfYAOwAK//v+3/2k/Wb+O/26/eX+6v9+AKsAxf9DAH4AwgBwADkB2ABVAkQDwAFhAE/+uv0D/8kA7wCY/yL+M/0z/c7+FgAo/3X+qf4K/5z9y/wv/6f/n/8lAJoBKP8x/j7/SgBDABsBawIUAYL/bQE/AkEBnABfAaIBdQGzADf/k/70/oYAAABP/tj9Ef8q/ob9wgDsAUEBFgAAANEAAwJ6AioB0QAo/03/of7s/jsA9gBz/5r+of6n/4YA4//CAFUCAQOpASoBwgBQARADZALAAY0Avf/W/lf+7P5oAHAAIP+r/fL7YP3H/sIAUAGGAI0AFAEUAYYARgJTA7QDPQPsAVABGwG6ACwAFgDj/1kAxf8v/3P/OwDgAKQAqwCrAK7/KP9c/x0AHQBDABn/+/7F/7/+hv2k/aH+T/7u/br9fP7F/9T/kP+V/bT8//zf/db++f+k/RT6Yfmb+hb9U/xO+1z4wfYa97P5IfsF+mH57/m7+Wj5NPnR+SH7bPvI+qb4OPez+Yr7FAEJCtYXxhuqE50HTgk9FTQdoRtKFmsRYAuUBEMAwgC4AfD82/hv9qb4ofea8zDwH/Wa/u4EaQOT/jP9qQG3BegH1Ql3C3kKgwWlA1QGaQfBBEEB+wG2AggDmP+c/WT76/vY/a7/Rv+6/bz85fr0+qb8tv9t/mL8pvxt/gr/7v1m/nX+XP87AM8BKgHU/y//3f5N//n/UAGf/7L91Psu/OP79Poj+g36yPq++yX9B/3D/Ef7c/uv+8n9Gf8v/4D8HPrs99f2YvUt9c7zEvDx7RbueO6r60PnXeXk4aXjzPiENO9Q/z1zAovs8xDzODpGWDcpJq0VSwce+W33QP7U+9/yvukH8mv0Se8m2MzXOeicABIN4Af6+/TzdfMf/PoJghRxFfkNTwWSBdEHqghOAv8DLwZ8DEcJmgHl+tD2ofds+2gA8AMKAtH5FPOP9W/9EAONBGAETgIfA4QBNwLvACUAcQPzBTwHcgYsBO790fka+ygCegZABUgBjf0p+z/7i/69/6sAIwHRAJD/5/2G/WD9DP5ZAG8E/QQ3Agz++vtq/JP+QwBKAGT/Dv3I+mv4sPfz9/r3Avha+ar6d/ka9432GPik+QX6Jfln9pj03fNr9Ovw3+vq6Y/qt+x46uDjkNuj6zcuc10EVcoOkeVtAXYwiEigPHknwBOfBlT4yfK29KX1ve3g5x3y4/sW+SzcqdIq4bT8nxHdEPMFlfkh9EX48wVwEpwWuQ/cCRIJGwwUCD7/Kv7lAcILIQ1aB23+DvYl8mT0bPu+An4EKv4i93H1SfrS/BT+1P9EA7kIrAfIBD7/Dv3b/9AE3AloC8YJgANo/U77v/7HAZECdQHeAfL/CfxD+cz4sfp3/SMBFwNcAiD/EPzF+3z+WgNNBhEG6gKzADn+6fwn/OH87v3f/Z784PmU9kjzLPL083L4TPzp/PT6cvgG9h/1S/VA9zH3zvNi8Y7uR+wK6Y3nReZw47rcN968CsRP/WprQKnzvOZzFMhCQkkQMiAcHQ/DA8X0Ee047JbqTOZ/7n79wQQa8MvQ6dDW6HsJzhd5EZQE9vm/90L9ygdvD7cQEA5aDmUQfg/FAkX4dPeTAaUO7g9BCG/9a/QQ8f3yUvlhAHoCsv3x+O/51Ptz+6j7LP3QBPAKwAwyCB0Ay/z0/lgEkQkhDQcLlgOm/Ov7Mf56/wX+T/7gAMABtv99+oX2IveK+0EB/QS/BQgDv/5x/Ej+iQJeBQQFpQMDAkoASv3g+Tb4pvhH+9L8qPtc+E30nvFZ8kL2jPq8/H79+vtt93fyVPHM9Lv5BPcD8MXpr+mj6/To9+Ng4D/e1uhqHGxZ3mPxLjbx8/ejIWRA6jmhJpYZihDzBf/1Buv65f3gT+GT84EGIQle7DTRv9YI7tcI8xCWDtMGIwFhAHwBzgXRB6QHjQtSEscXWBPsAdD28vQv/10J/Qt2CDsAB/mT80DzZ/bx+Mj6KfuN/er/hP4F+h75cfwOBOkKeg2kC78FmgEUAVMDZQWdB24IXAbSA20B0P3T+JL3ufpSAIICGwEF/rv5tfjA+pP+iwEVBGUF/QS0A1UC/QDj//n/GQKWA68CQwCg+wL4YPZt9yX5pPlS+fP35vbS9bv1Qva39zj7kP9G/1r5TfSs9WD2pPIy703tHO887ijp6ea94nThMN434jEQ3VVHa1VA/vnz94EcvDaPMusfkR/jGDUOgPyv6a7io9lL2BbuSwcUE5P6jtjq12bo3gE0B6AJNAsBCiEN5AX3A0MAj/yHAwEOFh34HNMK/vn48Tz5kwEzBPsFggKJAg79ivcZ9Kjw7vLb9HH8/wO/BXwBefiZ94v+OgiVC4IJIQm8CvUIjQRtATACcwJaA4MFIAZ+BPD8m/YB9Q/5sP4+/xn/x/4sAHz+YP0i/h0AuAGrBLsHwAh6BuUBuP7h/Oz+qwBZAOf9RPxs+3L4Z/Zx9ar2T/fb+Bz6V/rb+LL2UfY2+Ib9KP/c+zj3qvaN9sz0J/G17VHrROq86s7sgunN5cPfRt798k4xnl7MVuEg3f4WFmMngCsBGb0YgxuCGNAP9PqH6l/ZQs5b27X4+Q3ADKrvFeQ36Qb2Xfs6+nYEKwiEE9YTDg/sBZD4L/jj/1YQKRvLFeYI5/3U+8H9Evtf+qL6kP+cBEwDmP+H9QvwVuyR8DL6oAJNBpgChgAdAFoDoQVvBD0DiQblDIUPlQu3BeAABf6//lkApwJDALL9j/yX/Db8V/qz+cL5Qv0ZAl4F5gRVAh0A0QDjAv0E8wUbBf8DMAKTAfv+GPyd+QD5A/u8/OH8z/p5+AT3Mffk9+r4B/lw+XX6C/sD+276ZPus+f32DvZL9TD0DPMq8xLwSeu46Mnnmuh16JPonOcu6tQUc0uwVTc1awY/FJImdSlKFv0LWhnQGlkWzgUo9LzmQtXW0hToBwAwDS78Ee1+8vz6Mf7c8En28v88DkAXCxT1DyYDufoy+jACEA6oELwKdAWwBWEH8v8I9VnyFfZc/1oDfgScAIb5dfO38CPzkvcD+yD/wwNJCIYLjAj1BOr/jQC3BZcKcw3pCt4IEwWTAU/+bvpS+Z35GPwdABsBBwCg+4H44vgf/BsBJgMbBWMG+QYtB+4EMALy/5//iwH5AkQDwgDa/KT55Pcn+BH4iPha+fz6EPyv+yP6R/ct9Xj1n/iT+gn8vPwW/Tr6EPW68mDyhvJ+8sTxGe3Z6pbq4u1n63vlxuFI6P0LBENXUV08qBDlF4wpEyaGErEB8RFCGqEbng79/QzsMdZU0Dfig/fwA6v91vN+/UIEeAPP79frdvYnBlsV/xW8FfgKfgD9/RQBxgW5BCYDuQSkCykQJwq7+YrwP/A++G/9c/9+AE/+rfys+SD4tPVz9Cn3d/16BjwOoRBbCq8CugB4A34E8gLIBOAHxArrCUAFnP399qD0jfa++zQANwKpASj/DP51/qv9qPum/GsCqgjQC8sKiQZrAkb/nP3u/SL+df7H/i//5f4H/Rb54/R18wb2u/nj+wH8P/vn+Wv4iveN9tD2EfjA+s/6D/lU+Cn3s/Jt7DDpte1J75vvlOtr6f/mLuoC+OwiTz9oPhUl4xjdLccppRma/oADqhOMGkIWJwbe+pbq4tuk3NTp/fIg+FP1Kv4JCm8Ljf2U697vBfqxCGsN2w2wEKANugvbBvcDKP/N+5z9EwUKDYUP8Qbj+/r37PdS+Y/1j/UP+RH/GQJDACX9l/h49WD2EPxgBKYKVAoSCW4IPQolB3r/rfy2/3oGcwldCQIGDAGt/HD5efjq+I75Cfw0ANIDQAW2Ahv+OPsd/e8AlgP7BdEHSQjMBqMEfAFT/Hn4+Pjy+8f+ZP/u/b77wvlj+DH3UfYk9t331vrS/OH89PpU+En2b/ZF+Dz51fes9VX0KvN183fygvCU6//qi+xH7LHo9Ohj+A4hpDptOCAjaB1rLtMnPxT4/O4ELRLWF0sScwlVAvDx0+Jx3z/pFO9U8Q7yb/0yDAgOlQBv8t/yS/mTAcUCEQZzDW8PDBCEDHsJVQKi+kP5V/5aB28LegYZAqsAjQDY/Uv1j/F886L6of6VAEEBi/47/Yj82P1r/zQA7wCvAsIHnAtqClgE8v/CAGkDRANIAZwAkwEwAosBUgAs/Wb6s/nj+xn/zwFVApMBXwG+ApYDKAKu/yj/ZALXBDEFEAN8AUb/B/0f/N76I/p3+ef5c/sH/f/8ffpF+Ef3ofdN+Bj4fPc++En6avxR/Sn7qvZD8s3wUfJN9AP0wO967T/wuvLJ8tDrsOzE+JYZnitSLwEg9h24KUwnwRYK/8cB/QuoFPsMnQeTCHX+pvGU69nuH/Gk7pTrJPbTBlQKZALj+w36gvt1/sX7oPtfAVwG7gvwDnEOCwlMA+X+O/0yAc0CSgBhAEQDnwa1BnAA0flt95f4rvh3+SH7fv13AOUBRgK+AuAAJf1s+3797AFiA6cCxQJFBqQHvwVtAWb+Bf7d/t3+kP9XAV8B7wAyAfYAYQBX/lP8M/0dAM8B1gHWAc8BNwLeAer/9v3S/Bj8efw7/ZX9Fv1T/Gz77frI+rv5vfhr+Gj57foB/An8qPvF+4D8Fv0z/eH8l/wJ/F37wPqi+jr64Pl3+S35Yfk0+Wv4kvcJ+F37YASPCvAOsg8nETgUMhNpDjYG4QNcBmALkQlgBDsERQb5BkgBjf05/vn/Of6q+nf9xf+n//v+Vf+TAU4CIP+V/XX+ZP/YAHr/mP+2/yUAwAHgAJUA4/8R/+r/1P8OALb/AABZAGEAGwFBAaQAzP+4/j7/dwCVAEoA8v/JAIQBXwEFAWgAQwC2/2T/1P/b/z7/V/4D/0oANAB6/0b/+f9oAA4ASgCkANEAQwAOAOAAGwF3AOr/OwCVAKQAaADy/9T/6v/F/8X/xf+J/4n/vf+u/8z/vf8D/5r+mv58/gX+2P2V/Y39yf3f/ef9nP07/Q79Hf34/Hn8Afzc+9z7RPym/HH86/tV+8j6jPqb+qD7nP3WAXQFqQV4A2QCTgIIA3MCZwQvBmcEbwRPBQYIRQaYAmsCpwKAA/0ABQFGAioBkwHFAtkDaQMjAbb/NAAAAK7/Gf9G/3r/Vf/YANgANADj/6H+KP+f/+X+SP4U/hn/tv9wAOcAHQDq/2T/kP8sAJ//KP/s/mv/OwCNAKsANAC9/9v/vf96/+z+Kv4F/nz+c/+Q/yD/Pv+Q/0MAQwA0ADsAOwB3ALoAIwEyAZUAfgDCAAUBZgEqAasAswAUASoBpAB3AB0A4/8HABYASgC9/0b/N//0/sf+Iv6V/WD9Sv2N/aT9jf1R/f/86fzL/ID8Cfxz+xr7c/sf/B/8Xfuq+nX6K/rP+kL9KAIMBUkETgJ6AmsCtgL0AVgECgaHAw4EvwW7B08F5QFzAvkChwOVAPYAZALYAOwB1ALDAwED9gDy/2gAdwDb/xn/ZP+2/5D/9gDnAAAA8v/O/lz/4/9k/23+V/5N/8X/pADJADQANABG/0b/vf9k/yj/Pv+2/zQAdwDJAFIAxf+f/3r/A//l/gr/KP/d/gr/if8+/z7/IP/q/wAA8v9DAH4AfgCNAFIA4ADvAKkBGQLHAXr/NACJ/9EAzwHsAZoByQCY/1z/XP/U/8kA0QDq/xH/T/7l/ov+of5e/jn+lf3w/Bb9hv2r/Zz9YP0s/cv8RPzy++P7vvsY/Pr7LvyZ+yH7ufrI+mz77P5pA6sECAMSAiECxQJcAr4CoQVCBM0CZwSQBmkHpwLWAbYC/wNkAkoAZAJmAYYAAwI9Ax0E7AEOACwAFAE7AHr/IP+n/1X/FgBfAWgASgA3/87+QwDj/xH/Of7H/on/DgDCAGgAHQDU/wP/xf+f//T++/5N/zsApADJAI0AzP/y//n/n//0/m3+A/8o/z7/n/9c/0b/3f5z/0MAHQDy/8X/dwDYANEAQQHJAIYA2AAFASMBMgHgAMIABQEyARQBwgB3ANv/HQBoAA4ABwDU/4L/mP+Y/yj/k/4x/u79/f3u/ZX9hv2N/Yb9hv3B/Tv9Pfy++4r71PsQ/Cf8EPz6+137wPq5+hr7wf0oAnYEHwP0ARICggJkAtYBKgWUBCgCrQO/BfcHUwOLAZgCBgS+Arb/IQLlARYAmgHUAg4ERgLj/zsAUAFZADf/A/87AC//rv9QASwAWQC2/93+YQBr//T+qf4+/5//mP93AHAAaABZACj/ZP9z/wP/A//W/jf/DgDJAP0AHQDy//L/gv9V//v+9P6T/rj+vf/j/w4Ac/9V/9v/8v/5/7b/1P9ZALMASAEMARsB/QB+AMkAKgHvAJUA0QAqATkBMgHvAH4AdwAOAPL/WQDq/4n/mP+9/4L/Tf8D/2b+DP7n/br9/f2c/Tv9fv2y/ZX9LP28/AH8gvtk+9z7H/xT/PL73Pts+xL7gvv7/jUD4QPsAcABPwJGAm0BoAIZBvADRgKWA3IGrgblAd4B2wLSAxQBlQAfA2YBhgCiASYD2QO4AdT/dwCzANv/4/8HAPn/7P47AAUBhgBZALD+Cv/y/7b/N//7/j7/Pv8lALoAUgBKAIL/7P6J/5j/Tf8D/6H+Ef/y/3cASgAHAOP/2/+9/5j/gv9N//v+Pv+f/wcAAAB6/5//WQAsACUAOwDb//n/SgAFAVcBGwHYAMIAQQEqAe8ABQHCAKsA5wAbAQUBugBoAFIAjQCkADsA4/+J/1z/ev9z/z7/A/+h/k/+Xv51/gz+jf1g/Wj9lf2k/W/9O/3a/HH8Lvwf/B/8t/td+3P7ivtd+837aP1oAHoC8gIDAvsB+wHAAU4CTAPXBLQDRAN+BEcFVgWJAkYCMAJrAmYBKgEwAhQBGwEDAqACrwKiAVIA6v8dAIL/DgDy/6f/c/9DALMAYQAlAD7/Vf96/y//Pv9V/1z/ZP8lAKQAaAA0AHP/+/4g/zf/KP8R//T+Gf+u/x0A2//b/73/ev9c/03/ZP8Z/zf/vf9DADsASgAOANv/DgBZALoAjQBZAFIAswAUAe8AMgH2AMIA2AAFAfYABQHRAMkA0QAFAfYAyQCNAGEAWQCNAEMAJQDy/7b/n/+Y/1z/Ef/O/ov+hP6a/lf+/f3J/Y39fv1o/Ur9Sv3//MP8tPyX/C78xfuR+4r7qPtE/Er9/f2//ur/IwH0AQoCawLUAk4CggLbAv8DFQS8AzsEDgQOBNQCtgLNAs8BqQFIAbgBogFtAZMBdQGEAQUBwgB3AAAAev+9/8z/1P/q/9T/+f/j/+P/1P/F/3r/IP9c/4L/n//U/+r/FgD5//n/zP+f/zf/Ef9V/2T/Rv9k/3P/n/9z/2v/a/9G//v++/4R/wr/Ef9V/2v/p/8AAHAASgAWAEMAcADCAPYASAH9ABsBSAFIAZMBbQGEATkBDAEyAUgBIwHJAO8A0QDnALoAlQBoAEMALABZACwABwDb/5D/ev+Y/2T/Pv8D/6H+bf6E/rD+fP45/v39Bf7u/br9lf1v/Sz9B/34/Bb94fy8/HH8gPye/Nr8Qv2k/UD+sP43/+r/wgCpATACpwLFAi4DeAMuAzcCMAJEAzMETAM/ApECNQOnAlcBKgH0ASMBHQC9//0AIwGkADQAdwAbAckA+f/F/+r/zP+9/+P/OwBoAGEAOwAsAGgAWQAOAKf/ev/U/x0A1P+u/+P/4/+J/xH/Cv8o//T+Xv5e/qH+7P7H/rj+5f77/t3+c/8MAUEBQwD0/on/NABKAGT/LADRAM8BKgH9AEgBsQEMAQ4AOwCpATcCMALlAb4C+QKRAsABqQGpASoBWQBoAP0A5wBSAAAAFgDj/2T/i/4x/l7+hP6T/iD/kP/F/1X/Cv/O/uX+Zv4M/iL+fP6//vv+x/6E/hT+0P13/W/9Qv0d/Rb9Jf1C/SX90vzy+4T6cPla+er48/dJ9mL1rvTM9Kr2Pfy5BKsLOg9+D8wRIRTAEwgO7weSBXIGPAc+BvMFxgVxAwcAM/1E/OD5Ffb28gH1wvn//BT+k/5r/+P/Vf/f/fD8Pfxx/ED+xwFlBegHcAf7Bf0EhQT5AhsBXP/7/mgAXAKtA8oDVQIlANj9RPyT+lL5L/hN+P75tPzs/on/Gf85/v392P1A/qH+ZP8MAR8D7AUyCKIIzwibCMQGPQNOAjME0gNQAUj+1P8UAUgBdf6I/C78mfuK+777Wf0b/qH+of6GAD8C5QFV/6n+Mf6C/9v/n//7/nr/mP/U/67/5f7f/Sz9pvwO/f390P0l/R/8qPvF+6D7qvpo+TT5S/mM+j38wf1t/s7+SgDeAY8D9wOrBBsF6gZYCIIJgglYCNMGZQVnBPICIwFV/+79yf1+/cH9+Px5/D/7gvuv+2r8w/xZ/W3+vf9XASgC1ALqAggDaQP3A28EZwQdBKUDtANEA6ACfAFZAC//df7n/br9lf1C/VH9jf32/UD+k/7W/jf/mP9KAEgBuAEZAkYC1AIuA2kDtgIoAigCMAL7AakBFAGzAMkALAAg/9/9b/3h/K388Pwl/W/9pP32/Qz+hP6a/oT+df6h/hH/8v8lAPn/Vf+a/o39rfyZ+xT6APlU+FT4L/hN+Af5s/mV+fH4hvmz+a74VPjV9+D5kP9eDPAZbCbBJaQdexRsFLAQ6APd98nycvjF+3X+Qv3D/NX3R/Ds7DHs7e8H8uXzLflnBGAP6hHhDiEJAgYkBBIC0QBzAvcDEQbICIAKJwrmBDP90vUD9Hr0ufY8+WT75f4ZAlEELgPU//z6g/c49zT5Sv1QAQ4EqQWJBr0GfAUwAgz+C/uK+3z+EgK5BN0FCgaFBJECmP9q/Gj5R/cJ+M/6zv7eAeMCZAJ8AZUAKP8q/pX9Of5KAGkDgQaqCKIIawZpA3cA7v0Q/Av7wPrc+6v9mP+6ADQAof7S/Ir7R/sn/KT9zP83Ao0EgQYtBzYGFQS4AXP/FP7u/Uj+9P6f/1kAjQAOAOX+M/2K+7H6Ifut/LD+ugB6Ao8DFQThA74CbQFDAC//A/+u/8IAfAHHAYQBwgCn/1f+Hf1T/D388Px1/h0AiwFOAjcC3gEqAVkAgv/7/hn/rv+GAEEBuAGpAf0AAADs/hT+pP2N/Rv+5f4dAAUBuAG4AV8BlQDb/03/L/9r/9T/WQDnAGYBVwEFAVIAZP/W/oT+k/7s/lz/zP+VAOcABQGGAA4An/9c//v+Ef+C/wcAWQB3ALMAjQBhAMz/a/9c/3P/xf8WAIYA7wAqAf0AnABDAPn/ev8v/xH/N/+C/9T/8v8dAAcA4/+9/4L/a/+Q/8X/NAB+ANgAIwFBAQwBugBwACUA1P+9/5j/p/+9/+r/zP/j/4n/c/8o/1X/Gf+Q/2v/QwDy/8z/kfsiBccBTf+8Awz+mgHs/jsAQQHn/UgBDgDp/EoADgD7AU/+Cv8HAJr+OwAHAHP/6v+9//YANADgAKIBhgC9/5D/aABwAMz/HQCn/8z/WQBDAAcAn/+Y/y//IP+2/ywAUgDj/wAAdwBhAGgAUgDq/73/6v8WACwAWQBSAA4A1P/5/0MADgDM/73/n/+u/+r/OwBDABYAJQCzAC8Gng6gDf4H0ASaBcH99Pqh9znzqu8D9Br3Rfho/T7/ZP9C/b/+BQH7ATkBvgIMBWUFGgn4CjIIVgU1Awr/oPv0+qT5FPor+pn79v1DAMkAmgHy/yL+x/6J/7/+AACTAYkCeANRBP8D8gIjAW3+2vwY/Nr8Mf5P/uz+fgCnAmQCEgJIAQAAzv7d/hn/XP85ARICsQFBAVABFAFr/9j92vzS/Pj8V/4sAOcAwAFVAk4CEgLHAboAvf/s/qH+c/9DAGgAhgCGAAcAVf+a/tD9hv2G/dD9+/7b/1cBZAKRAiECSAEyAYYAUgA+/z7/n/+zADQAnAD9AKQAZP8g/6H+d/2k/Sr+bf6T/nAAxwEKAgoCoAIoAtgAOwDF/xH/p/9KAMz/hgCcAI0ANAC2/wX+QP4i/n79Mf7y/7oAOQHWAc8B3gFQAasAJQB6/3P/aAA0ADQAXwESAmEA8v/q/87+Of4q/tD9sv0o/1z/+f9hAOcA9gDRALMA5wAqAWgApACzAGEApAAFATQAc/+2/yj/1v5t/oT+k/4Z//v+1P9SAKsA7wAbAe8AbQHAASoBswAOAJ//Vf8g/7D+sP70/gP/gv+n/0oAUgAsAKf/hgBmAc8BXwEbAQwBpAB3AHP/df7B/Tn+SP64/oL/nADeARkCwAFIAYQBfgB6/3X+Mf6E/i//rv9KAO8AQQHYAOr/kP9G/93+Xv7s/sX/BQF8AYsBMgE5ASUARv/7/nz+SP7W/r3/FgDvAN4BIQIqAasADgAD/9D95/2r/fb9nvyc/eoC5gSSBTACAQNfAfb9gv8B/Nn5Gvfy/xcDIQKtA9sGIgUF/oQBx/5Q+nn8Uvkl/c/6MQWMCFYFvgK+AqkB0P3c+2r8V/pi/KH+2ADKA0cFtwUIA3P/9P6a/iX9OPvw/IT+OwCYAjUDXAIZAncAhP7Y/aT9Mf4K/40AOQGgArYCpwIZAr3/k/5A/iz9tPwx/hYAaABBAWYBQQFSAFX/mv6a/pr+kP/YAPQBXAImAzUDzwHF/17+YP0O/WD9aP0b/mEAVQK2AqcCCgLJAAP/hv34/On82P0+/4YAwAEzBDEFhwM5AVX/6fzF+5n7oPsd/bb/zwHFAh0EdgSWA18BuP7n/fD8iPxK/Rn/aAA/AuMCIQIwAscBc/9o/Rb9W/zh/Lj+cADPAUwD8AOtA8UCdQEAAED+vPye/H79DP70/n4AXwH7AXMCEgJKAC//v/5A/kL9G/5SAOwB+wHqAjUDcwIyAYn/4fwY/Nz7Yvyc/er/hAGRArQDOwQ7BHoCqwAD/4b92vyc/e797v1c//YAswDgAJMBVwFk/7D+Ef8+/03/YQCxAfsBawKJAqkB2/+C/7D+d/3p/Af97v3O/p//nAD7ASgCzQK2AgwBHQAqAX4Aof5+ACgCkwFtAVABPv+y/dj9vPxd+yH7iPyy/Xz+HQCgAokCEgK2AhcD4AC2/4n/QP7f/Wb+uP51/qn+7P7O/m3+1v5k/3X+sv1m/nX+hv3s/n4AQQEZAkQD8gIQA8oDPQMZAhsB2ABoAIn/bf6p/nP/FgAyAQMCRgK+AocD1AKCAnMCfAGcADsA1P/b/yUA6v+u/ywAAADF/3P/3f7H/vv+7P4+/x0AwgAbAbEBSAFQAQUBDgAZ/wr/fP4b/nX+bf5e/sf+Tf/O/ov+df5m/hT+sP4D/2T/QwDgAI0Arv/q/03/uP5R/bT8aP1R/Qf9y/yc/Uz81vrR+dP4hvmg+yr+v/7q/5MBEAOtA/QBN//S/Af5JPbD9Uv5TPznAL8FvApWEGQUexT4EQQQkQ2VB4QBb/2m/CH7u/lo+Rz6sfrt+in77fqK+x392P1N/+wBxgWxCGMKDgtgC54K4AeNBJMBEf/L/Dj7Evv8+gn8Uf3Q/f39Of7W/mb+mv6Q/zkBVQIBA/ADYASUBP8DkQL2AAP/b/23++365fqZ+3n8YP1X/mT/SgCNAFkAjQBoABYA1P/F/3r/9P6T/qT9y/yo+276Fvlj+Pj4FPps+6v9sP4g/3AAVQKgAiUAzv5+/T/7X/p1+gX61/Za9aD0I/Og8A/ufOyt6iLsB/LK+WYBHwq4F/UsKUOuTzVMfD87M8wjfg+A9cDdBM+ExwLFpMbGz1Dd5egf8RX2vPzFApoFhAhTDpMXkR8kJUgpuiwRLl0mAxgIB2X36unJ3JnTTNCA1NPbZ+Ss7mH5UwNOCY0L/QuiDPINuw5lEJ0SARWGFqYVcBLADHYEdfoa8HfnZeEX337g3OX57Vb3PwIdD1MZNhzoGXoYQBcjE9gLOAW4AWT/tPyz+SD4QPcX9W/y/O/X72jyFfYc+tv/nQcmDjQS3hP0EyUSNw37Bbj+xPg+9GLxZfCv8DLzfvbx+Cn75/0HALMAuAG+AmcEYwZwB2kHLQcCBhAD7P4r+rv1Q/Ki7x7uUu4p8Cj0Lfn//HP/qwAdAI/87vZR8o7utune5JDin+Jj4sTi1OlT/LUcVUCfYQxy02zAXKlKzDkpG0DzyM6JtgiwWrCAt17E39VD54ntFvJ29v/8QQFQAaQHuRMvIyswlTp/RQlIVUC2Ks4QEvv45j3UBsPgu+6//coc2XnmnfV6AooJfgtMCgcLfAwkDw8SyRakHccioyUPJFkdrhHHAQnxuOHW1oHQ68/K2LHoxvcuA90MqRcjHuQbeRVaDq8JtQaFBMoDTwVQCH0IDAVSAEf7yvU07oTo4OfQ61nyffokBJgNCRXHF54ViBG6C6sESv1l90b05fMB9Wf28fga+6D7ufpL+ab4B/n++aD79P68A+gHngpSCz0KcAcIAx39BPeV8knvie3s7IHtZfDH89T0sfM39FH26vSV8tjy2/Tq9LT1J/h/+UX4XPhOCeAkiES6VJFSo03kQ+w4HSH2APPlNc1dvYqyvraBxXvT6uJn69f2RgJhBx8KEAqbD+UTzheOHYEjPi6ZMUgtLyORFD4GNfXc5UTYPtC5zrfP6tda407wt/sXAwsJVwyWDocOSw7uD1QRWBPGFGAWdRdEFaoPXAaX/DnzKuzl6JroZ+uC8Ib5ZgF/B98LCg2kC9sGjwOVADn+bf4D/5oBgAMiBYMF4QNOAnz+vvv4+HT3UvnN+6f/8gKmBpsIhAh/B9kD5wBg/eD5sPfQ9s734vj0+rz8hv1X/pz9d/0O/bT8nvym/Cz9jf0x/t/9j/yg+276l/gO9k30EvTQ8j/wa+1H7CftKuxr6a3mzeW15lblS+N84SDtPhGLShR5/3/9dZlvX27jVj0nl/gc0qe2OZ/IlEqi9bggzBTS0dyv8H79n/+o+7gBFw4sFswcNiebO5hLXk6sRRA2gybzEAv3F9+OzW/DC734vh/JzNfi5vLwhvkFAYEGdghYCJwLJxEqF78bRCCKJgMqpiflHg0TRQZU+KXq1N5/2GvXbNqn4rnv9v2zB6wO/BPDFbkTww6+CewFBgS0AwgDpQNtBcYF+QJc/9T7VvdI82LxUfJC9k77GwGfBm8LaQ6WDhsMygcfAwX+6vjZ9fn0PPV+9pD4bvr6+2j9Bf7B/av9Mf6E/t3+SgCaAU4CuAFZALL9UPqj9iPzfe8g7ezsL+0T7M7s3u+o8L7wrfES8NXswOiI5jzjSN1R4JH7NS+8ZWZ5rHRGc1R37Gv5QBERZugjxySt+ZnRnl+xL8Geyc/S5egJ+Pb5FfbO94UEKgxNEb8bGS5JQvZJ9kl8Qzg4aiegDf/1uOEF0jTGOcAvxarOE9o65KjsSfbS/B0A7wAmA8gI+Q2iE/4ZuiFIKVsrfygqIngZPg32/QPwdOUQ31nc3N6V5wfy9vlQAZUHYAtUCvcHqQUSAhsBMALKAzYGqAlGDSoM6wkPBzcCpvzu9qf0CvRT9er4+PyxAeYEaQfRB6kFtAOVADP9V/qG+dn5BfrN+5z9uP5k/8f+QP4l/Sf8P/ui+in7zfv4/JX96fxE/Pz6u/kJ+KX1k/OX8ePwdu8j72XwZ+8a8KrvJ+3j6ZfmZeWr4MPYANwF/vk1tGKAaUNmy3BZfN9qhD+aF5b12NVUutaqwLFsvdC/x8BS0QjqGvA/6UXm9+7D/GYBsAWTExYoGzi6PhZFjEYUP2MuDxmxCJ/4hucX2NrQC9PY1dfZU99l5cHrju4w8G/yyPYJ/GT/7AV2D3EZIiJOJssncicXJIoblA8EBZH7G/Pt70zxi/Og9EL2iPi7+S35bfcX9Uryy/G09bP5bf4bBVkLYA+1EX0TxBGYDV0JfgQUAZP++PyI/Ez8//xo/VH9YvwL+3/58/eZ90X4zPhJ+q38Rv85AXoCRAMIA04CDAFG/9D9nvww+535pvgJ+Ln2pfWl9YD1F/Um9Uv1RPW483XzwvIO8q/wu+5L7hXr0edB5ELgy9ux3ez+yzLUUpxUYFQqZ4B0AGIqPyEfUQT76FTQHMf0y0LOJ8WZxODY4+mG50Pc7dky5Kbt3PBY9m0FnBYzIf8rCjn7Pw07TS5GIzgbMRBfAV7z8+xT6sLn7ufU6ejqk+hU5nnmyecQ6jXqjev/8fT6TwXMDdQUnRlhHfofdR5vGsYUYg7tCHwFQweKCfEGAQP2ACoBgPyA9T3xT+xZ54/mPerg7qnzhvmh/m8EgAp6DYIN3QwyDG8LjwrVCYoJyAjTBv0EZwSYAuz+ffpP9yb1uPMq8xTzA/T39Vz4z/q6/cz/hgBhANgAbQFmAUoAx/7J/Qf9Evt/+Xn4R/cc9mL1oPRk9Lb0BfOP8Qnxy/FU8RHtIO3/6uPpOeiJ6QXodOyJDeAvOz78O/dB7lSuVvhEGDIpHxINE/dQ6EHolOtp42LUR9pG6Y/qY+Jy24bcSOHd4T/ls+6e/N4BGQYwFOch6yYKI0EezBxRGiwWhQ/hCsAIawIlACECLgNI/jH3uvIL8Nnu1ext6O7nvuki7IDx+vdo/fL/UwNjBrkIWQu6C9MK5wtJD+cSxhRiFVsVdRN+D8kLpAfUAu36EPU588TxEPFF8aTyXvOH9Yr3Q/mK+/j82vwU/skAwwOhBdsGrAcaCa8JCwk6CPEGowTHAQcAN/8M/oj8Evsj+mb6m/pJ+rP5wvkl+ZD4tfgl+Rb5vfgR+OT3n/hL+R75cPlu+n369vmd+Yb55PcX9ZrzqfON8orw/u7T7Zzrhufi5kb00g48HcAeOSLsLZs7YDcNMMIozByUD5wEaQP7BaACVvf/8c/6fP5j+KLz6O4E7I3nMOXH6ADuIfBj7ajwt/sIA98EHQR+BOYE7gS9Br0GswdSB1gEVAZoC1wN/QtFCt4ImAYRBqsEGQJSACX9ffqq+nn8+Pzy+z/7Qfrv+Qv7oPs4+7H6OPvp/Kf/oALFAv8D3wQ7BNIDcQPwA18Btv/0/qn+tv9k/5//uP6p/tb+T/7s/s7+Zv7Q/Rv+5f6C/+r/8v/j/yUAAADb//n/if8o/+z+Cv9r/+r/WQBoAMIAGwFQATkBGwH2AKsAWQBZACwAWQA7AAAA8v/b/9v/tv+9/9v/p/9k/zf/N/8K/+z+3f7W/vT+1v7W/uz+9P7W/rD+df51/mb+Mf4U/gP/jQBBASoBVwHPASgCwAF1AWYBMgH9ALoADAFBAUgBIwH9AGYBogF1AV8BdQFtASoBDAEUATIBOQHnAMkA7wDRALoAaAB+AGEAUgAdAAAABwBKAPL/4//5/wcA4//F/8X/mP96/3r/kP+n/2v/Rv9N/1z/Pv/s/hH/N/9N/y//Pv+C/67/n/9z/6f/zP+Y/5j/p//F/9T/zP/b/wAAWQBKAFIAUgBKACUASgBSAFIAUgBZAFIAfgCkAJUAcABwAHAAWQBKAGEANAAlAB0AHQAdAAcA6v/b/9v/2//M/73/tv/F/9T/2//b/+P/2//b/9v/zP+2/6f/rv+J/2T/XP9k/2v/a/9k/2T/Vf8+/yD/Cv8K/wr/+/7s/gP/Ef8Z/wr/9P77/uX+1v7O/vT+Vf9k/5D/zP8WAFIAWQBoAHcAhgBoAH4AlQCVAMIAwgDgABQBGwE5ASMBOQEbAQUB5wD9AP0A/QDvAOcA7wDvAOcAwgDRAJwAdwBhAFIAWQBhADsAQwAlAAcA+f/j/+P/xf/M/7b/vf+u/6f/kP96/5D/if+C/2T/a/9V/1z/Tf9k/2T/ev9z/4n/n/+n/7b/vf/U/73/rv+9/9T/2//q//L/6v8AAB0AHQAlADQASgBSAFIAUgBSAFIAUgBSAFIAWQBKAFkAQwA7ADsAJQA0AB0ADgD5/w4AHQAHAA4A+f8WAPn/6v/j/9v/1P/b/73/rv+Y/5//n/+f/6f/mP+Q/5j/if+J/4n/kP9k/2T/ZP9k/2T/ZP9k/2v/ZP9c/2T/Tf9G/03/Pv9G/z7/Vf9G/y//L/8+/2T/a/+Q/73/4/8AADsAUgBZAFkAaABwAGgAhgCcAMIAwgDRAMkA4ADYAOcA7wDgAP0A7wDgAOcA0QDJANEAswCkAI0AaABwAFkAUgBSAFkASgBZACwAQwAOAA4AAADy/+P/2//M/8z/tv+n/5D/mP+Q/5j/if+C/4n/ev+C/3r/if+J/4n/n/+n/5//rv+9/9v/2//b/9v/2//j/9v/8v/y/9T/+f/5/w4ADgAdAA4AHQAWADsAQwA7ADQASgBDADQADgBDADQAFgAdAAcAAAAHABYA8v/y//n/BwDy//n/4//q/9v/2//b/9v/1P/U/+P/2//b/8z/xf+9/8X/p/+u/5//p/+u/5//p/+f/5D/mP+Y/5D/mP+J/5j/kP+Y/3r/mP+Q/4n/gv96/4L/gv9r/3P/a/9z/4L/p/+2/9T/8v8HABYAQwBZAFIAWQBSAGEAYQB+AJUAlQCzAKsAqwCzAKsAyQC6AKsAwgCzALMAqwDJAKsAqwCGAIYAfgBSAFkAUgBSAFIAUgBSAFkANAAWAPn/8v/q/+P/2//b/9v/1P/b/9v/zP+9/7b/n/+9/8X/tv+9/7b/vf/F/8X/1P/b/9v/2//U/+P/2//5//n/6v8AAPL/AAAAAAAAAAAWAAAADgD5/2gALABDAOr/cADy/5wA8v/YADIBuw7bDQYEQwf0/kMAPfxK/c/66fzP+h393/0U/sv8X/pP/oT+N/+2/0oAQwAZ/xkCHQBVAhkCp/+C/+AAKALvAEYCBQG6ABn/kP+GAED+gv/4/Jf8wf0D/2b+Fv3l/oj8+vsH/e79DP7//A79J/x+/TP9lf2k/Vf+cAA0ADcCJAQdBPkCMwQVBC4DOwQ9A0wDHwOeA1oDgAOyBBAD7AFXAUgB5wDM/3cA1P8K/73/a/+//on/3f7a/EL9jf0z/Y390P3n/dj9Kv58/m3+of7d/gX+T/6n/wAArv8lALMAqwCxATcC5QFkAoICiQIBAzUDPQNGAjcCCgKLAbEBxwFKAC//rv/q/0/+mv5m/vb97v05/lf+Mf4Z/wP/FP5t/r/+of6p/ij/gv9G/8z/aAB+ACMBswDj/wAAswCrAAcAxf/q/03/mP9KAMX/gv9k//v+qf6L/ov+/f1o/Yb9sv0s/cv82vzj+3v7VfsD+8D6Vft7+9b6C/ve+m760fk0+S35n/gH+Xn41fdt96P2rvRZ8sjvI++w9x0LyRZYE0sOyBMtHd8aoBQNE3QQDg9xDvgRkxdGGCsPJgNIAUQDqf5f+iv2mvOa8yT2Qfq7+VH2jfJL7v7uavFz9Jb1gvTD9WH5DgAGBOwBnAC9/20BrQPkBdwJ2gqvCQMJQwv3DpgNTAqLBWkD1wScBAYE2wIMAeX+4/um/ID8wPoJ+PL0M/aB+MX7Zv6h/sv87frQ/e8AiwH9AD8CUwP5AiIFQQjKBxsF4wIfA2ID7gReBXEDuAE5AU4CbQHy/2T/pP2Z++36Hf0b/pf8EvsN+mb6kftM/BD8Gvv6++n8hv37/ncAswAv/8f+OwB1AbgBhgCJ/wP/3f6E/jP9qPsF+mv4t/e/9+L4gfib9i31DPPQ8qTy9vIy857xefGo8O/ueu0k67TqFvmEFzcuBSlaGd8aVSrLK9Qf1hd+FscXqRcvGCIbTRz2Epz9ne7e7/D1ifSg6cDkVel27yzym+8x7L7paOfG5WHnOfMq/oT+/Prn/eAHaw1gC/UIpAfcCYQM5g++FN0XixdyESoMqQyJDUMLhQRN/0j+Mf6T/nf9qvpY9lnyKfDv7q/wovNX81nyMvMa9+X6RPw7/b3/ZAJTAxEGLAuHDtIOrw0DDaIMXgyYDU8MfQhyBvkGCgYBA7gBYQCe/NP4ofdU+EX43ffO9432cfVA99n56vgv+Pb59Pr6+8n9UAFrAgEDcwLyAqACLARlBYMFaQNTA1MDCANmAaQAv/5M/ML5XPhA97L2JPbS9XP0fPMF86Tys/Ji8VbwUO8N76jw8vDG8F/v/evK6ofqIPgKGBQ0EDapIs4XtCANKT0nIx6fGOEZfRrFGL4UzRSIFZUHR/CH3wjj6/BG9I7upOdq5jDpeukh6f3nJuq560jozem/888BRQqbCDEFzQL1BAcL9Q9aEhgRphH8E2wUcRUHFh8VIhAUCIICUgBOArIEPwLc+9n1PvTl8yXyGPFW8Lnv4O7C7kzxWvVw+Qv7pPkl+T/7dwChBeYIaAtkDcoOPA6JDYMQ+hSTE6cNKQnXCF0JzwhLB2kDi/7r+9n5IveA9bf3pviR9EXxfvKs9Yr3L/hw+fH4D/nj+7D+WQDlAVgE9QQuA7QD1QWVB7MHDwepBRcDRgL5AnoCaABm/mj9C/s++Mj2Qva79Rf1RvRt8wzzsfMS9DTyZ++z7ubvmfBO8FbwmfAD8I7ui+yF63H1dRNhMzg8hSwPHbMd4SDPHkAbjBpOH54gZxpJD3MJUw79C2z7EOZ93TDlR+zI7/TvLe7G7Bvo8eIX31rj/u5L9Tz1zvNt94YAcAfuC9MK2QebCNMKXA2PDn0TCxvOGywWeA7CC3wMGwzVCbIEOQHb//b91vq/90f3yPZA89nu7uu37NfvhPOP9UT11PRR9mP4f/mg+6f/hwOhBdsGFAi3CXwMfg+hEHkRQRPIE84QuAykC/8KMgi/BUQD+f9v/Uz8hPqU9gH16vST8+nxvPES9Nn1/fbT+Lv5/vkD+9j9DgCzALYCOAU+BhkG8wXMBuoGCAfTBlYF0gNaAx8DzwG9/7D+0P3y+wX6kPiw92f2afWn9KnzQPOa81X0evTl8yPzjfJ38m/yO/J+8irzx/NI89PxOu9y7Xvw3gG8IHY36jkXK/ofextZFn8S0RKHGcciKiItGesJJgMdBO8A7vYw6Ufl7ueY6bfsPO6t8f/xCO7u5xXgg+GH6kT1tPxZ/S//7AE7BAoG3wRLB1ILqg+KEBkNlg4cE5oXaBbzEE0N5AmsB28EEgLWARICPwK4/p/47PMd8tjyfvJx8fLwl/FP8yH0ZPTU9CL3m/of/GL8U/xV/z0DiQY6CN4I6wnTCmgLBwv4CoQM0g77EMwRDBCaDMAIAgavAoL/yf1g/Q79Tvvi+LL2mPQK9NbzI/Pu8pH0qPdS+YT6AfwU/qf/HQAMAd4BHwMMBZ8GUgfTBsQGnwa/BVgEEAOgAjACqQFoAJP+Hf0B/CH7yvlF+N33mfc49//18vS99FP1FfYr9v/1tPWd9Xj1gvT785rzRvRc9PTzB/Lm7/ntfe/T+OgOdCY/NUUyLCjFH9IVrA6vCfkNtBmUIS8jDxleDLwD4fwY+Jvvi+zM7X3vCfGz7jLvWO+576/wnOtt6MTm/euT8233+vuC/40ErgYsBJEC5QGmBn4LvQ3KDhUPUhLvEr8QCA6VC6QLNgrCB5QEkwEyAXAAev8Q/JD4dPcz9ur0fvKA8brykfRC9hz2w/Wj9nL4Ovr0+hj8qf6xAeEDsgQxBUUGygc/CagJoAkBClkL7AxzDcUN1A1zDW8L7wcsBLMAzv7Q/UL9efw/+4T66viU9oL0ZvP78zX1Kffi+CP6zfsW/W3+zv5z/xsBiQKHA+gDWAQbBXwFzgVHBasE4QNTA3oCQQEOAFX/A/9t/lH9H/wL+yP6LflU+KH3Kffu9tf23/bu9in3fPeK9+b2//Ut9Xr05fMD9JH0vfQS9I3yTvDI78LyhAGGFhQplDBTK4omphxwEtcIlAQSDUgXHyBiIIQXYA8EBcP8MvNA7L3tbPAm9QH1i/NR8gPwCfGk7t/r8unD6uvw/fLK9Zf4yf0GBCIF5gSYAmQCBAWBBowI1Qm2DfgRFBOfES0O5wuXCtcI+QYVBK8CoAKgAlcB0P2R+5v6hvlH9xn0FPO48wH1//Xh9W/25Pdw+TL6yvlf+lv85f4yARICNQPIBL0GKwjvB/cHyAgWCzANcw1GDakMXgyeCmEHsgSYAk4CxwGNAKH+avxH+8r58/f/9UT1OvYp9+T3L/gH+Un6bPuP/Af9q/1V/+AACgIhAlwChwN2BAQFsgR+BDMEDgRaAxICGwF3AI0A8v+//n79pvwQ/Cn7Mvrq+Cf4xvfV9233Ivdl9yD4a/jd95v2pfUf9fn0N/RV9GT0gPXb9KLzCfGg8NT02wIYFWclPSu6KKwkyBonEU0G9wN3C0wVuB4DH5YZrhE0B2/9fvLk7GnuDPP69/H4zvcQ9TvyP/BU7ejqS+ov7X7yKPT/9ZL3NvyzAMAB1gGzAOUB9wPIBCcGnQf9C/UPlxGDEBcOfAy1CuYIkAa5BH4EBAVPBVoDLADf/S78z/pc+P/1cfXw9Qv39fZY9nb2T/eQ+Mz4kPhS+Qv7Sv3W/uP//QDUAqsEAgYZBhEGnwbKB1AIAQrQC+oNng5kDZwLswdHBS4DPwLeARsBSAEsAAX+MPt5+H72nfUc9u72mfem+OD5m/p1+lf6Xfum/DH+ZP+NAKkBGQL5Ah8DWgOWA/ADSQTKAzUDiQIhArgBDAGNAK7/5f79/cP8gvtQ+tn5aPnq+Hn4Rfhj+GP4GPjG90/3m/ZJ9p31ePXy9Lb0XPTO8+7y2vEB8YbysvYIA9kSfiEHKNIkHSHsFxMQSwcEBasLghT2HYof1xqVEtEHFP6R9A3ve/Ba9Zv6//yC+9X39vJf76HsJuo96grtBfP39W33Pvgr+iz9sv1P/l7+n/8wAuED7AUtBwEKmA1CD1EPeg2zCxAKwAidB5gGGQbqBmkHRQYBA8X/b/2K+8r55Peh9xj40/gP+ez3wfY69qP2bfeo94j4HPon/ND9uP5k/2EAsQFEAw4EhQQiBWMG0QdzCW8LEg3bDRkN0AsSCVQGdgStAyQE4QOAA04CFgB3/VD6sPcr9m/2sPe1+Fr54PkN+qz5PPla+Un6t/ur/WT/jQAMAXwBEgJrApgC6gJ4A+EDpQMBA2sCMAIZAqkBGwFKAFX/Of4l/eP7yPoy+vb50fnC+WH58fhU+PP3bfej9jP29/Uc9sr1lvX59Bn0G/ND8qbxhvJR9qn+wAzoGQoj9iENHrAXGhD6CXwFqAmXEVEawB57G5kUvAqEATT5G/No8lH2mfv0/m3+m/qP9Yrw0+1J6+Hq7OyX8Un2Avhr+HL4OvqC+7f7W/w7/QcAkQLBBJ8G2QetCpoMaw1BDIAKVgn1CG4IQQiVB9EHBgh/BxsFogH0/kL9J/wL+/75/vlX+kn6f/nG9432JPYL98b3a/hD+cD6tPy6/SL+bf4+/6QA+wG2AmkDQgRNBsoHzwjICGwJcQrhCnEKuQiHB70GRQaSBSwEEAMKAlcBmP/4/Mj6jvl3+WH5Yfke+Tz5jvnv+Y75cPn++YL7B/3f/ZP+N/9KABsBmgGpAc8BegIfA1MD1AI/AjcCMAIZAkgBpAAlAL3/Gf/2/dr8H/zc+4L7ufrn+Wj5f/mz+VL5vfg2+N33ivfm9kn2tPXD9ej1tPUf9RL0gvR29rn6UAEfCt4TKRumHB4ZyBOWDncL1QnuC2UQgBWCGMkWIBELCc8Bl/xD+cT4K/rw/JP+9v3t+mD2LPKi7yPvwO8Y8VfzWPZF+Jf4AvgJ+DT5ffoJ/Fn9XP+aAcoDmgWmBsoHjAhWCXsJ7QiqCIQIyAgDCbEIBgi9BsYFfgSJAsIAKP+a/ir+lf2t/Jn73voF+jT5TfjG9wn42/iO+Rz6m/pH+yf80vx+/TH+5f4OAGYBRgKvAp4DfgQ4BbAFhwfrCdAL/QvyCeYIPgZlBQ4EZwSrBIUEsgS2AgcA8Pyq+qT58fhh+Rz6wPrl+in7ZvqO+dv4rPkh+z38Qv1X/q7/8v87AFkAdwD9AKIBTgJkAjcCMAI3AiECuAE5AcIAhgAWAIL/i/6V/fj8j/z6+xr7k/pX+m76Mvrv+ZX5Lfmf+C/4t/dl9wT3BPfX9m/2w/Xo9Rz2g/dX+rj+lAThCnkRRBUzFkkT5g9NDecLQQygDZkQHBPlEyUSaw2zBxICfP4u/IL7NvzJ/b/+Iv4B/Db42/Th8TbxgPHJ8r30Kfdh+eD5pPkH+dv4Uvl1+lP8Zv7nABAD5gTOBewF7AUgBoEG8QZ4B7MHMghYCEEIWgcvBv0EDgQIAwMC/QBSAKf/N/9I/ln9U/x7++36UPoU+rv54PlX+u36Xfu3+wH8efwO/Yb9SP4+/+AAiQIOBDEFYwaBBnIGmgVtBSoFgwVrBuoGcAfMBtUF6AMZAmEAIP+//qH+Cv/0/rD+aP1b/AP7DfrK+SP6P/sY/CX9Qv1Z/Qf9rfz//Dv9Mf4g/0oA9gA5ASoByQCkAHcAlQDJAP0AOQEyAaQAvf8D/2b+Bf6r/Xf9O/0O/Y/8Pfzc+2z73vqx+nX6QfoF+tn5u/l3+Tz5+Piu+GP4GPjd9xj4kPhB+un8XwGHBxcOcBKdEt8PsQzhCvIJvgm8CrYN3RD2EnkRRg2dB4kCif8q/ir+Tf/9AFwCmgED/5v6Z/b089bzCPVv9gL40fnt+oT64vhW9wT3Avgc+j38Iv6Y/+cA+wE3AhIC+wFGAqUD7gTkBRkGRQZrBmsG5AXuBP8DlgOHAzUDmAIKAsABMgHRAMX/i/53/en80vy0/Hn8Lvxb/K382vxq/ET8H/y8/Dv99v11/lkAAwKAA0QDpwJOAigCtgJ4A1gEnAReBbcFxgUVBKcCMgHnAMIAFAFQAasAhgDq/03/9v1x/Gr8nvws/Yb9jf2c/Sz96fyP/D38Cfxq/Gj9Of6L/on/LAAo/4n/9v24/qn+FgDRAHUBGwHq/8f+DP51/t3+L/9G//v+T/4i/pz9sv1+/f39FP79/Zz9Jf34/NL8rfyA/Cf81Puv+7f7bPsD+5P6ffpJ+lD6jPo4+yz9kwGiCMwNNQ4nCocHJQfZB2EHUgeECMsKiQ1pDosMUgfqAtEADAF8AbgBVQKRAvICCgIlAB/8APmQ+NH5Ifsp+4L7l/zL/Ov7UPo8+Zf4f/mg+379Bf79/Wb+XP+f/yj/7P5V/8kAMAIuA0QDpwKnAh8DNQPFAjcCMAKCAhADJgOvAvQBXwEyAUEBlQBoAMkA2AC2/7/+gPxi/Nr8k/5wAOcAnAC//qn+ZP9ZAEMAAABKAHAA/QCiAdYBbQEbASoBogEjAcIAnABoAI0AfgCzAFIAzP8AAMz/a/+h/pP+Gf9k/3P/3f6E/l7+Kv5e/iL+7v0M/rD+L/9N/9b+hP6E/qn+L//F/x0AzP+2/wcABwCf/0b/if9KAKQAVf8g/5D/Ef9I/s7+Cv+w/o39XP8hApj/Uf36+2b+pACC/5r+lf1K/Qr/n/9N/2b+DP4F/hT+lf3Y/XX+hP4R/+f9//xC/YT+Tf+V/Uj+FQQLCfUI/wMyAYkC3QUjCCAG+QL0AcgECwmKCRsFwgDF/5MBxQKJAuwB7wB1AfQBNwKGAAf9//zn/bD+aP3a/Iv+of7n/a38zftz+3v78PwF/iz9l/xZ/WT/2/+T/qT92P1r/yMBGQIKArMAlQDWAdsCoAJXAdEASAEDApgCawK4AfYAFAHAAc8B7wB3ACMBEgKpAer/Tf+Y/xYAev8i/gz+SgAAAIL/nP1Z/Qr/aADy/7r93/1G/4sB9AFZAN3+Bf4WAJEC9AFKAAP/2/+zACMBUAHb/5X9Rv98AWT/1P+r/W3+pAAUAUj+G/5+AEMAFgBe/pP+rv8HABsBIv79/ez+yQC+Asf+V/4b/sn9i/4uA+MCZv4J/Nn5mAIZBjIB4Plu+sABcQM3AlP89v1KANb+dwAqATkBZAJQ+p78WQAqBeMCuP6C+xv+lQCEAQoCwgDO/oT6Sv3sARsFhAHn+XP7b/1+BHMCBwDD/F7+q/0R/x8DwwOrAJP+SP5rAjEF1wQsANb+ZAJcAj0DHwPFAnMClQDCAOUBKAL7AVcBk/6N/eoCrQMbATv9tPxr/6IBmALO/u363PvsAf8D2/8Q/O795wBSAMf+Rv+6ACMBXP+6/dL8MgGUBKkBJ/yR+5r+2wI4BZMBpPna/EYCjQRkAun8RPx3AJIF3/3S/CgClQBVAo/8df4v/xcDnAAF/lf+1v7YAJ//XP/J/bEBVf/j/8X/HQD//OcAFAH2AIL/Kv6p/s0CrQOf+Lj+3gH5Btj91fcjAc8BVAaLASD47foZApUH4QNr+P75IgXIBJf8Nvz9AN4BLgM+/z38mgEOAH4Emv6x+s7+YQBJBJoB3PtL+eAA4Af9AK/7UPolALQD3gG8/PL/ggLN+3cAawKEAZX9qQFIAaT9wAEW+S4KfgTR+Vb3Ef8YCvICQv2U9o8D4wJIAVcBJ/wWAAMCnABk/6n+dgTRAI/8W/xvBMX/6gbT+KsAcAAU/vMFn//2/YT6mgEdBIIC8v+T/uv71P9FBu8AnAAP+R8DvAPw/Av7TgJyBtT/W/wy+k4CEgkWAPL72P1r//QBTwWQ/wv3WgOYBlf6aPmlA+AHEPwH/RH/mALb/wQFpvzU+5UAmALB/RcD2/9g/RICMvqmBoT6UwNzAhz6+wFZ/QoCMALs/sP8awIn/JIFpP3x+CIFHQQxBWn1bf6HA/wINvwT9xH/8ArU/3/5V/53ALIE4ACy/bf3YARhB0D+lPbhAzACawKP/JX91AJt/lIHd/kZ/wUBHgev+7z8v/7AAXAH5/kh+/39NgoIA/n0tgJ6AhkCkP+Q+PoJc/TqBiwEH/wb/t/9FwN1AZMBGPz0+lwCLQfW/kz8H/yJ/8sKX/qTASv6RgIqAVIHBPdP/uEDk/7XBBn/bPt1/qcCDAUa+475TQaeA2D9lflgBMUC0QDW/ioBlfk7ABwIBwBE/IYASfq9BnwFAviQ/+MCPAfH88z/WgdV/7L9Gf8VBLX4MwTFAjkBNPmJ//wId/lK/fMF6fytA0v5vwWLAXX6TwU4+0EBfAVg/en8ogGkAJMB5f5o/eED/QAq/lT4yAh2BI39fPP/A3MN1voB9Wr8DxKv+6r6gv8sBG/9+QJQAYz6OwDNAq0Drfwp98ABwAz7/vrwFgCbCBEGsPc0AL/3XAYQChr7ovPs/kIWLvyo8Dj7GBF8/kD+w/x/+eUBmA2M+o32uAGkB3AAJ/iLAeAASQSm/IYAL//e+nkKvPxV/8v89gAOBIn/5wA0+SECsgTsAZrzowSQBlv8nvw3Akj+NQNr/5YDMPuo+1AIDgRc9B0A3Ak/+40AsfqaAeQFT/7u9kkEbQFEA2/2tv9dCQAAL//g+RQBzP8UDEf7xvcSAvICxglF+ET8uv31CGYBzveo9w0ITgkn/E/zawI0C2AECfHW/rkEFQRXAUv5ev9O+6cN6fy1+FcBsQHoBy78Wvl+AKAJ2P29+NgA+wHbBmr8WvlkAvMFLABR9isIN/8FAf/8XAKy/f/8cgY7AH36yvlHCbMAt/vj/0cFgvsHADMEd/m9BrYCcfVmAakFUAFK/Rr7XP9aA3oCJ/wi/hn/AgY5ART6vPzgB9cEnfUyAR8DKP/8+tUFvvu+AoL/5QHl/vb9UQRaB9P4sPe5CKsEXv5w+eP/NACsB6T9Jf3A+sEEoQVT/Ln6qPv6CSYDiPxa+Qr/yQvYAO36kvc/CRsFiPy8/E4C9Pr3A68Cy/we+VoDgwVA/k34ogHGBacCDv36+2v/fQinAjj79vl8BQEDPfwz/TcCb/3RAKH+ev/9AED+mgGgAn4ATPwf/IMFygM7/TD7hv0MBbwDYP2o97QDvQb7/gf5OQEbARQBIQKP/G3+yf2yBLIEtPwF+nv7zQnmBIr7E/eaARQI7v3N++79ZgGw/hQBAQMQ/H36UwPBBB0AMvo2/DYG5gQW/SX5/QBOAuMC2ABo/RD8pP2jBFMDBwBD+ZD/zgVEAyD/ufq2/y4D3QUD/8D6Qv3mBBcDq/1k+yr+BwCyBNv/8vvF+7EBPga4AXn8vvvB/ZoFQgRhAOP7ivunAsEEmgFC/Rb9zP9xA2EAgv/s/ij/QwA+/5D//f1G/7oAwAGY//D8dwB1AdEAcABt/jv9fgB1Acz/IP8F/roANwI7ADn+HQB8AdYBSAHl/rD+FAGzALb/v/4M/jn+6v+aAdEA2/+p/mb+VwGCAqkBtv9I/jf/mgFGAu8ACv+a/qf/OQEyAX4AOwBoAKQAcAB6/1z/JQDYAI0AAADW/rj+ev80ACoBfAEOAMf+a/+kAFABhAFSAL3/HQDCALMAjQBSAFIAAAAsANv/if9c/0oAQwDU/xYAWQDq/9v/QwBoAHAAcADy/7b/p/8dANgAjQC9/wcApACzALoAjQAsAJUAlQBhAFkAJQBhAEoA+f8D/yj/rv/5/w4AFgBDAFkAFgAHAB0AQwAOAH4AhgBSAPn/NABoAJwAaAA0ABYASgA0AAcA1P/b//n/JQAOADQA+f/j/+r/UgAHAOr/xf/5/0MAtv/U/0oAcAAsAA4AJQBSAFIAWQBoAFIA6v8sAGEAOwDy//n/6v80ADQA1P/q/x0AUgAlAOr/BwBDADsAAABDAB0ALABhADsA1P/b/9v/vf+9/9T/xf+2//n/UgAOAAAAOwAsAB0A2/8WAGEA+f+9/xYAaADU/9T/cAD5/3P/DgAHAJ//kP8lADsA6v/F/wAAYQAlABYAWQAsADsAWQD5/7b/1P8HAEoA6v8HAB0Arv+Q/ywAUgDF/73/+f9DAPn/gv8OAEoAFgDq/1IANADU/+r/OwD5/67/mP/j/wcA2//b/wAA6v/M/9T/DgAHANv/2//j/9T/8v8WAEMA6v+n/9T/8v/j/7b/1P8WAMz/tv80AFkAAADj/0MADgDF/+r/1P+n/9v/AAAAAEoAUgBZAHAA+f/y/wcAmP+f//n/6v/b/8z/AAA7AAAAQwBZAB0AOwAdAPn/xf+9/9T/zP/U/+P/1P8AAEoAAADU/wAAQwAWAL3/tv/b/ywAFgC2/+P/+f/M/9T/zP/U/73/p//q//n/zP8sADQADgA7ACwA8v/q/wAA1P+9/+r/6v/y/xYA2/8WAEMAtv+2/zsADgCu/+r/BwAOAB0A4//y/xYA4//M/xYA2//j/xYA8v9KACwAJQA7AB0A+f/b/8X/6v8lAPL/2/8dABYA+f87AFkAOwDy/wAA8v/y//n/DgBSAA4ABwBDAFIA4/+f/5//BwDF/9T/rv8lADsABwBr/8X/QwA7AOr/1P8HAPn/4//q/9T/JQBDAEMAFgDF/9T/4//j//n/+f/j/x0ALAAWAA4A2/96/4n/FgD5/9v/6v8AANT/8v8OAB0ADgDM/7b/vf+9/+r/6v/y/8z/zP/j/+P/BwAOANv/4//U/8z/4//j/9v/2//j/+P/2//q//L/2/+9/9T/4/8OABYAHQAHAOP/6v8AAOP/6v/b/9T/zP/j/9T/NAAsAPn/+f/5/+P/6v/y/wAAHQAdABYANABZACUAHQAWAOr/1P/b/9T/4//q/+P/DgAdABYAHQAdAAcAAAD5/9T/BwAAANv/8v8AABYADgAWACwA8v/j/9T/+f/j//n/DgD5/wcAAADq/+r/AADq/9v/8v/y//L/6v/y/x0A+f8HAB0ALAD5/+r/FgD5/9T/2//5/wAA8v8WABYAQwAHAAcABwDb/9v/vf+2/9v/4/8OABYAHQAOAPn/6v/U/73/p/+f/5//rv/U/+P/6v/q/9T/4//b/9v/xf/F/8z/tv/b/9T/2//q//L/1P/j/9T/xf+n/5//xf+f/8z/4/8HABYA+f/j/+r/4//b/+P/4//b/9v/+f/y/+r/DgAOABYA6v/5/+r/6v/y/wcAJQAWAB0ADgAWABYAFgAWACwAJQA0AFkAJQBSAFIAYQBwAFkAdwBSAHAAaABwAFIAWQBDADQAWQBKAFkAUgBwAJwAdwBZAHcAYQBSAFIAUgBSABYAOwBZAFIAUgBSAFIAJQAlAAcASgAAAAAAAAAAAAcA8v8WAPL/4//j/wAA8v/U/9T/8v/b/+r/DgDy/+r/2//b/5j/a/+Y/67/gv+Q/6f/tv/j/8X/zP+9/73/kP+Y/4L/ev96/2T/a/9k/2T/ZP9r/3r/XP9r/z7/XP9r/2v/Gf8R/zf/Rv83/yD/Ef/0/t3+v/64/tb+3f7d/tb+k/6p/qH+of5t/l7+SP4q/nz+fP70/q7/qwCxATcCKAJzAlUCiQJzAsUCeAPoAywEngMIA1wCVQKYAlUCNwLHAZMBQQHYALoAGwFIARQBcADM/8z/4//y/+r/1P+n/1X/Vf/l/uX+IP8v/0b/Ef8R/+z+KP9z/2T/Tf9G/z7/Vf9c/9v/+f9ZALoAyQCkAH4AfgB+AJwAlQDJAFIAWQBKAPn/tv96/8z/Rv8g/3P/XP+n/73/8v/q//L/1P80ADsAHQBKAHAApAC6AOAAfgBwAFIAQwAWAA4A4//F/8z/2//b/9v/zP/j/5j/Tf8K//v+zv64/s7+5f64/tb+mv6a/oT+T/4x/gX+7v3Y/cn99v3B/Yb9d/1o/TP9Qv1Z/WD9aP07/UL9M/1A/oL/UAESAlwCVQJcAlwCZALNAuED7gRHBbIE6ANMAwgD8gI9AxcDAQNkAjACzwF1AYsBGQLWATIBHQB6/5//HQBZAFIAUgAdAKf/Pv/l/vT+Cv8g//v+of6p/sf+Vf+f/6f/c/9k/zf/A//s/uX++/4+/1X/L/8K/2T/n//U/8X/if9V/2v/Pv9N/xH/Ef9c/3r/Tf8K/z7/ev/b/+P/6v/q/ywAUgBwANEA2AAqAVABsQEwAhkCIQIhAj8CwAHWAeUB3gESAgoCGQJQAQwB7wAFAeAAdwDYALMAjQBSAPn/OwAWAOP/n/83/87+Ef9G/z7/N/9N/wP/of6p/pP+3f6h/pr+uP6a/qn+Gf9V/xn/KP/H/qn+mv6L/qn+of6L/rj+5f7d/gP/+/70/t3+mv5I/kj+Kv4i/v39Kv4F/u79nP2k/TP9Dv3D/ID8TPye/CX9DgAoAj0DmALUAjcCiQKiAYkCbwQKBqYGMQUOBNsC4QNYBCYDngNVArYCCgL2ACMBPwKvAtQCiwFV/+z+Tf8dAAcAaACcANT/zP+T/s7+5f43/3r/+/4F/qT9Zv4g/4n/2/9r/wr/1v58/oT+qf4R/9v/p/9r/yD/c//F/wAA1P8v//T+IP8o/zf/Cv9N/9v/2/9r/y//Ef+J/7b/4/+9/wcAOwCVALoADAFtAewBPwIhAqIB9AEDAk4CPwIwAnoCCgJVAvQBfAEyAUgBuAHCAPYAqwDJANEAfgCGAFkADgAAALb/A//l/kb/KP8D/wP/1v58/oT+df6E/nz+fP64/qH+bf51/rD+5f7s/tb+v/6w/s7+5f7l/t3+x/7l/rD+i/5m/pP+mv6p/r/+i/5P/kj+Of79/bL9nP2r/X79Hf3p/LT8PfwJ/B/8iPzn/ecAtgJpA4kCmAJGAoICmgHyAt8ErgZaB8YFWAQ1AywEJAQIAy4DRgLUAhkCSAFtAWsCFwM1A9YBc/+L/t3+c/+u/ywAYQDq/6f/hP6a/lf+v/4g//v+Iv53/fb9qf6J/+P/n/9N/+z+df4x/iL+of7F/9v/vf9G/1X/tv/y/9v/ev9z/1z/L/83/wP/Tf/j/0MAmP8v/93+Cv9V/6f/1P8sAHAApADRAAUBQQHsATcCNwLsAbgB5QH0ASgCNwJzAuYEXAZABdID1ALFAjACqQEMAbMAWQCNAOP/k/6V/Yb9Jf02/M37nvwF/uX+ZP8Z/7D+fP7H/nX+2P0i/hn/xf/F/03/ev+J/2v/x/45/tD9G/7H/uX+Kv7f/fb97v2c/Tv9Uf2G/UL9y/wf/HP7Xfuo+7n6nfk++GP4VPjE+Af5NvgE91r19PN29loDIxNZHdkZTREwDbEMmgyzC0EMrw04ELkP1QlRBHEDRANZ/dbzPu2r8tH57P6C/2r8BfoY+JT2ifQk9lv8QQHAAZD/GwGSBUkILwYwAsn9Xv6+AicGfwcUCBIJmAYMAbT8vPxoACoBXP8u/Av7vPy//tL8UvnO9zb4GPgY+Cn7n/8ZAqQA2P2t/Lr9QQEQA9sCPwKPA8gEowR+BKMEQgSRAqsALABtAUwD1wT9BHgDCAO8A5YD4wJOAuUBfAEFAcIAiwEDAskAV/4u/Hv7+vvQ/Zr+sP7W/hn/XP8K/2v/hgDnAJUAwgC4AZECAQOCAtgA9P5t/qH+5f64/rD+T/4d/QH8Cfy0/Mv80vzL/Fv86fzQ/Sr+Uf20/Hn8j/xx/OH8uv0F/gX+5/0z/bT8GPzc+9b6bvqz+Qf5ofd094r3L/i/9372RvTp8VbwSvLM/0odBDGuLp8YlQuYDWMRlxFtEDYRXBGEDCQEnvyq+vP3Kuxi393havFGAhcDDv2q9gzzdfMc9jP97AXJC0MLLwYlBxsM3QxyBjf/q/3sARkGngo2CqkFzv5r+J31g/e6/UEB3f6R+9H5ZPvy+yH7UvmS91T4EPyVAKUDFQSnAr/+oPv9/bYCFgfoB/MFOwQQAy4DHwOLAR0ACv8g/2T/BQFkAqQAl/zZ+Xf56fzgAOsJEg2VB5MBJQDoAy4DFwPuBCwECAMmA5YDcAAF/o/8rvjh9bf77AGRAgP/8Pwz/V37Jf3JAD8CawJkAqAC0QDlAYkCXP+R+7z8tv8jAR0Ap/9Z/e/5jvnt+vD8uP4HAD7/2vyk/V7+pP3F+3P78vti/Gj9Cv8Z/6T96/tQ+tH5sfol/Qn82/g2+Fr5OvqQ+Kr2S/XW8+zzPPVr9MvxKPQzBFMkJjaOL8kWqAkiEBgVWxUcE0kTvxBUBk77S/WH9SHwcOOO3CPolfkGBMn91PSG8qvydPdP/uYIihBRDwkKNgYYCpMMogjAAbb/9wP8CAMJawYjAcr5IfSc8jb41v7eAfv+wvkA+WH5IftH+8D63PvQ/eAALgPSA6cCgv/h/Er9OQFUBkkIkAa8A+8AlQBoAO8A9gBDAHcA8v8lAPL/9P6t/Lv5dfpo/RkCrAf2C6gJ2wLq/20B0ASmBuAHeAd2BOUB7wAD/3n8xfvl+g363PssANEA8PxJ+sr5bPur/TkB9wO8A7YCzwHYAFkAKgHvAJj/AACiAYsBgv9v/Sn7rPnZ+VP8of7l/kj+gPzA+jL6e/tT/Fv8w/ws/en8LP3J/RT+Wf0l/Qf9efy3+7f7z/ps+xz6/fZn9qH3S/nf9obyHfL28jnzefF+8kkE8ScNO0svaRKVBwIRxxdcGBQXfBd/EioF+PhA8xL00+394Mfd1ex+/YsBjfYI7tPtiPGd+dID9w7CEoINUgdPBYgK2AvCBzsE8wWXCn4LNAexAcj6EPUM8wv3SP5cAncA5/kQ9VH2XPj0+nv76fyf/4sBegLHAQwBrv8F/uX+ggINCDYK4gYoAon/if9+AO8AIQJOAhICcAAx/tj9Sv1x/Mj6oPsqAZsI3wudB9EA2P2Y//ICTQa5CEEIhQQMAfv+Xv7s/gz+4fzh/MX/+wGGALz82fn2+ZH75f7UAkkEvgJc/yX9Sv1k/0EBfAEUATIBQQFoAIT+y/zU+5n7O/1c/9gAHQBv/Un64vhX+nH87v0i/g79Yvxd+2b6ffqZ+x395/0q/kD+RPx9+h754viM+vz6Ovol+ZD48/cf9cLylfKe8Vruv+zm9pAYvTlrOQkcuAFpB+MYPx8hH5UdgBl8DAH8F/VJ9gr0nOfU3mvpbvqY/8X0puag5fDqJvUfA1MOaRLLCuoCwAEeB8wNVQ3LCp4Keg12DycKkwH2+eH1v/c9/HUBTANz/+b29+4h8GX3B/1A/nH85/1c/7j+Wf2G/S//FgAhAiAG6wnyCX4EKP/2/aQAfgQ2BosFWgMsAI39rfwd/e79QP6L/vT+oAJhB88ICAMs/Tv9ggIeB1gINAcEBQ4A8Pzh/In/kwEyAez+DP4+/0MA3/36+/r7bf6kAGQCTAPAASr+LvyA/Df/wAEQA88BTf/u/dj9d/3//A79FP6T/hH/Tf+a/vj8P/ub+j38Cv+GAAr/l/yE+n/5cPmT+rT89P7H/iX9XfsU+mH5+Piz+fT6Sv2v+5n3QvZp9QP0kfBn7+fyFPO77n/u8gldNbE/OSL2/YYA+BzxJ0QkSiEUHuUT2P359Mr5Of4H8tXhvOZt95f8pvHw34Xg2OdP82gAMAnwCpYD+vvS/K0DXhBuE14Q3wuLDNUQXA12BIn/T/6LAXMCYAS0A1f+ZPQK7ZHw0fmE/kD+6vi39yn31feO+bf7zv4yAb4C9QRWBcYFoAJwAHwB7AXECq0KYwaJAnr/7P4Z/3wBiQK4ATf/gPyG/ZMBjgcNCJD/vvvq/0UGvwWiAakB4AD9/fb9dwCgAskA/f0u/Of9GQJzAnP/fv03/94BzwEwAgMCAADn/V7+NACrANgA+f/w/Lf7yf3q/23+NvzL/I39hv2c/Zr+df4d/Y/8Dv0i/gP/Of55/Av7Evu3+xD8pvyX/Ij8xftX+vH4rvjg+TD7ffpm+m33mvMw9Mb3/fba8Z3upPKL877wVPjiHNU8xDIZDRz2OAkvJ0YqbiUVIaoaHQum+Mz4OQGrAIbyKOlR8mj5PPXL5kXbXOIe7pn7kQJXAUr9Ufa29F37FAhHFGkS+ww4CUoL8g3VCQ8HeAd9CI8KIQniBskAUPot9Rf1t/tBAUoAyvme8dXwyfKN9o75Yvwi/nf9efw7/U/+WQBDAPICvQYYCmoK8QbyAuwBAQOQBkEIXwjkBWQCk/70/pIFVgmzB1AB5/3y/zIBUgBr/wX+Ef///On8YP3u/Yj8wPqZ+/T+ogHUAgAAof64/pMBgAMsBDsEgAMSAioB0QAhAl8BLAC//m3+9P5I/nH87fp1+pH7W/wd/f/8W/xV+6L6Tvu8/Jz9LP2g+zD7Kfvr+9L8Hf28/MX7k/r2+QD5jPr0+gP7gfjh9ff10vU58+fy4fHJ8sruS+4S+0IhoThMJ7b/XfBqCtor2CweKIofjRbOBUn6sQGCDYAKEvtO8Jn3aPkf9Ybnw98U6AP0Wf0F/lH28vCj6yvvI/qxCIMQMAmEAZj/9wOmCuEKGwy4DAMNIQ2oCb0GRAM3AkgBkwFcBvkGOQGK9wnxkfRD+RD8xfsc+gL4oPT786P2ufqw/hv+of4OAHUB1gEHAHcArQMeB68J9QikB6sEEANkAkkErAfICHgHzQmVC4kGHf30+t4BSQiLBRICA/8j+lr1BPeA/NT/df4u/LP5WvlQ+g79QP4v/8ABdgSAA5MBSgAjAfQBhwO3BfEGSQTb//D8Wf0D//0AIwE+/0T8hPrv+Tr6ffrj+4/8OPs6+g36aPk2+Hn41voY/D384/vW+sT49fZy+Jv6R/sU+vH4fPfK9af0+/M39Jj06fFq8U/3ihAAL8koswe77jn+PiOuLikmIR+3FJcKiPx4AyARkRRSBwn4QvYS+y/4fPPd6J/th/WK+4b5fvKo7B3rbewC+BsBdgjPAZ355vag++4ELAtFCkUKHAgLCYEGiQbKB7cJPwn+B/UIXQlnBN3+QfoW/TkBiQKf/7H6bfeH9VP1Y/jW+kL9gvuB+L/3Hvm++9L8pP2f/7EBxQIDApMB9AEIAwIGZQnWDEgMCwmTCJsIaQf3B80JDgtLBxkCfgCu//b9b/1I/sH95fo0+c73fPfs9475XfsJ/C78Dv1x/PL7Wf1DAAMCkQLFApgCsQFIAXwB2wKHA54DzQJIAWT/5f7s/uz+zv5X/iX9EPwj+tv4vfjx+KT5V/o6+vj4E/dn9u72fPdr+K74D/lA90b0LPL59Mz4Efj/8dnu/u798vL7PhzzMZUdCPXg560KezE3LrAiChiQEa4G9gAkD/MbVxefBlL58PxG/2D94/Rc7TX14/uX/MX0JOuL6Cjpm++s+Tf/zP/789Ptse8U+qkFjgetA6kBcADZA28EuwfyCe4LDgvVCbUKfguHBywEVQKsB3kKXwh6Arr9kftk+3n8Vf+Q/yL+ofdV9Jb1xPje+nX60fk6+hT6jPoh+638G/4+/4QBiQIGBCQE/AiRDaQL4ga/BVQK9w7LCnEKQQiaBeUBFAHSA8MDfgB+/eD5Mvqz+YL7SfoW+QX6QfpD+fH4f/nF+2T7vPwU/kb/3f7B/W3+NADPAT0DawL7AecA9gBtAc8BpwIhAtgACv+G/Zz9B/3h/Jf8Cfzc+wX6gfhe9zj3ofcT9yL33/Y19fvzl/Ft82T0sfP28jvyEvBJ7x/11RASKskdsfqv6YQBDyheLY0hRBlNEeQJ+QLZDkYfMB+gDdr8b/0iBRcD5/2l9dH5pP3r+1P1/u7B623sYe4i95v6mftM8ZHp0OvD9VIATAPQ/cX7Bfqr/XAAlARlCdMKuQifBp0HdwtMCnYI9wfLCk0N6QqfBhcDCgLWAa8CdgRTAzQAMPuD9+r4yPos/c37Yfl096P2Gvfq+Pb5PfyZ+4D8+PwKAgwFKALRAAoGRwlHCcYFcwkHC7UG/wMNCFsKhwcdBC4D7AHPAZwA0QC2/9D9Sv0u/MD6KfsQ/Cn7aPlX+r77A/ux+l/6e/uP/PD8hv0b/gX+Xv6T/on/fgCLARQBugA0AIYAswCVAK7/Vf/l/tb+Bf7J/bT8Afyb+uD5Q/kH+Zn3hfaP9eP0pPKc8v3yifQb8yHwa+2K8DD7MxaDIksOR/A27SMMOSnxI0cbZBTyDY0E8AOPFZ8juRqzB0D+SQRLBzME8v+G/TIBmP9H+zP2YPI48Cnw+/NJ+t76ofde7FzpPO6u+NT/uP4H+RP3SfaE+hv+ZwRDB00G1AKnAr8FXQlQCHYIZQm6C5wLKQmfBqEFQAX7BeoGWgfmBHwBO/36+0j+a/+C/wf9bvrM+Mb3cvjn+TD7vvt9+vL7LP3J/Xf92//IBGcEmgGvAlYFFgcdBI0EOghaBxMFUQQbBQwFvAMmA68CggL7AboAXP9A/k3/5f53/dr82vxi/OX63vou/B/84/sD+zj7J/yA/LT88PxR/UD+bf58/uX+tv+n/xn/KP/U/xYAev+L/nz+v/7O/iL+LP09/NT7A/th+bX46vim+BP3EPW99Jj02/RD8inwse8D8Fz4yA+vH08QgPEq6EkEVSNEJGkZuRPfC3gDAAB8EHojjyCeCkL9iwEwCUsHHwPsAbkEiQJk+1T4XPis9X7ykfRQ+u79rPnt7/nppu3K9UD+SP7K+Un2ZPQX9VL52ACQBhMFBwCE/qkBAgZrBiUHmwjyCZkJHAiQBtsGkAZcBksHuQhQCOYEfgAM/g4A3gFVAuAAv/7j+5350/jt+lH90P04+9n5lfmT+or7kP+LBZIFXP+Z+9b+mgVcBjgFxAaDBQoCYQAXA/kG+QbZA+UBEgJcAnwBSAGVAHUBOQG9/0/+T/7B/Y/8GPz2/aH+7v0w+w36ufpE/A79lf1+/Sz9r/uR+638Ef+f/wP//f3Q/ef9nP2c/Wb++/7l/kD+YP20/MX7MPvA+lX7e/tf+l73tPXS9ZT2HPZE9Qr0q/I48LHzowRaGf0Wmv7o6qj3GhSnHy0Z8hSSEIQIbPu5BDUZ5SL2ElwCDgArCIEG2QOAAzoI4QP2/c/6yf2P/Cv2yfIJ+Fn9zv6u+LzxFO/N8I32A/v2/Z78tfgD9DLzTfjCAB0EAQPW/r/+AACaAdsCmgXCB7MHdAWaBWsGvQYxBXYELwboB9kHmgVEA18BWQDJADcCLgPNAsz/6fwa+xD8d/24/m3+nP1E/JH7Vfuh/vcDfgTF//z6T/4VBFEEzwGYApYDwAE5/hQBfAVjBuAAXv5DAHgDiQLnANgAGQIlACr+zv4SAvsBV/7N+439gv9G/379YP2V/Yj8Tvsn/HX+mv6e/O36vvtZ/d/9O/07/Ur9+Pwf/Mv89v24/rr94fy8/Hf9fv07/Y/8gPwJ/E77qvo4+4r7ovoA+dv4Q/mQ+Kr2Fvk7BCQPKw9kAoj4LvzTBo0LbQygDb8QLAv9AEj+rgYtDo0L0ARvBNEHNgZBAYL/XAJzAk3/8PzCAAEDwgCi+mP4cPmK+yH73Pvw/Gj95fq1+AD5U/yT/tb+9v3l/mEAmgEDAmQC6gJaA0wDVQIDAqcCNQNOAtgA+f93AGEA+f/q/2gAdwCf/xn/n/9oAEMAvf+J/9T/2//M/+r/OwBZAAcA1P8HAEoAWQA7ACwAYQBSAGEAWQBhAEoAWQBKAHcA2AAbAf0AnABoAFkAWQBhAGEAUgBoAEoAOwA7AB0AFgAdANv/8v/q/w4ABwAdACUAHQDy/9v/zP/b//L/4//M/7b/vf+u/5D/if+f/5D/ZP9r/4n/kP+Y/2T/ZP9r/2T/c/9z/67/tv+J/3r/n/+u/6f/p/+Y/5//vf/F/9v/2//b/9T/xf/F/9v/vf/M/9v/2//j/+P/2//b/7b/rv+u/5//p/+n/5//mP+9/+r/HQBSAFIAUgBSAFkAUgBhAIYAyQDRANEA2ADJALoAnACVAJwAswCcAMkA0QDCAHcAnACkAKsAjQBZAHAAdwBoAEoAWQBhAFkAFgDM/+P/4//j/9T/2//y/9v/rv+J/7b/rv+n/4n/n/+n/5//n/+f/6f/n/+J/5j/p/+n/73/rv+n/73/zP/j/+P/6v/q/wAAAAAOAAcAFgAdABYABwAWABYADgAWAB0ASgBSADQAWQBKAGEAOwA0AEoASgBSAFIAUgBSAFIAWQAsAEoAUgAWAAAAFgAWAPn/+f/y/wAA6v/U/+P/1P/j/8z/2/+9/67/1P/M/9T/xf/F/8z/1P+u/8X/xf+2/6f/rv+u/7b/vf+n/5//p/+n/4n/mP+Q/4L/c/96/4L/ev+C/4L/if+C/5j/mP+Q/3r/c/9r/1z/c//F/wcALAAOAOP/8v8lAFkASgBwAJUAnACGAHcAswDCAI0AhgB+AI0AugDJALoAwgC6AJwAcABhAHcAjQCVAIYAlQB3AGEAUgBSAFIAHQAHAB0ADgAWABYA6v/b/9T/1P/M/73/1P/M/9T/p/+u/8X/rv+Y/5//gv+Q/4L/if+Y/67/mP+u/5D/mP+n/6f/tv/b/8X/zP/M/73/2//b/9v/2//y/wcAHQAlABYALAAsAEMAUgBSAFIAUgBSAFIAUgBSAFIAUgBKAGEAWQBZAFIAUgBKAFkANAAdACUAHQAWAEoAJQAWAAAADgDy/+P/4//b/9v/2//b/9v/2//b/9T/zP+2/73/tv+2/5//tv+u/5j/p/+J/73/mP+Q/4L/1P+Q/6f/p/+n/5j/if+9/67/rv/M/67/xf+u/8X/vf/F/8X/rv/U/8z/2//M/9T/xf/F/73/1P/M/9v/1P/b/73/2/+9/8X/xf/U/9v/AAAdAAcAHQAWADQAWQBKAFkAcABwAFkAUgBhAHAAcABoAHAAhgCNAJUAhgB3AHcAaABKAFkAUgBhAHAAaABZAFIAUgBSAFkAQwAHAAcAAAD5//n/AADj/9T/2//F/8z/zP/M/9T/tv+9/73/vf/F/73/tv+2/6f/tv+9/73/tv/F/8X/zP/b/9v/4//U/9v/2//y//n/+f8AAPn/4//5/wAABwAWAB0AFgAlACwAOwBDADQAQwAsAEMAQwA7ADQAQwAsACUAFgAlACUAFgAlAA4AAADy/wAA6v/j//n/8v/y/9v/8v/q/+P/6v/b/+P/4//j/9v/4//j/9v/2//b/9v/2//U/9v/xf/M/73/xf+2/9T/tv+2/9T/1P+9/9v/2//M/7b/zP/F/9T/2//F/9v/1P/b/9v/2//b/8z/1P/M/9T/2//b/9T/1P/M/9v/1P/F/8z/2//b/9v/2//5/xYAFgBKACUANABZAFIAYQBhAHAAaABwAHAAhgB+AIYAcABoAI0AfgCVAIYAdwCGAHAAYQBKAFkAUgBZAFIAUgBSAFIAUgAlAAcAHQAOAAcAHQDy/wAA8v/j/+P/1P/q/+P/2//b/9v/1P/M/8X/zP+n/8z/tv/F/9T/zP/M/9T/2//U/9T/1P/b/9v/4//j//n/8v/5/+P/AAD5//L/+f8AAAcAHQAWAB0AFgAWAAAAAAAdAB0AFgAWABYAHQAdAB0AFgAWABYABwAOAAcABwAHAA4AAADy//n/AADy//n/6v/q/+r/2//q/+r/6v/j/9v/2//b/9T/1P+9/8X/xf/M/9T/xf/b/8X/vf+f/8X/1P+9/6f/vf+9/6f/p/+9/6f/tv+2/6f/p/+2/8X/rv+f/67/p/+J/4n/ev9z/3r/ZP9z/5//n//F/9v/+f8WACwAWQBhAHAAlQCzANEAwgDRAMkA4ADvAO8ABQEjARsBFAEbAQUB/QD2AO8AwgDRAMIAyQCVAKQAaABoADQAUgAOAAAA6v/U/+P/zP+9/6f/tv+Q/4L/ev+J/2v/c/9r/4L/a/9r/2v/mP+Q/5j/p/+2/8z/2//b/9v/4//y/9v/6v8AAAAA6v8HAAcA+f8HAB0AJQAdAB0AJQAsABYALAAOAB0AAAAAABYAFgAdABYAFgAOAB0AFgAdAA4AOwAsADQAJQAsACUADgAAAA4AHQAHAA4ADgD5/+P/2//b/8X/vf/F/73/xf+Y/4n/if9z/2v/if9r/2T/Tf9V/zf/Rv9r/1X/Rv9N/yD/KP8Z/wr/Pv8o/+z+1v7s/rD+of64/r/+of6p/nz+hP6E/pr+3f4g/4L/2/9SAH4AwgAjAV8BdQHHAfsBKAIoAigCKAI/AjACMAI3AjACMAIhAhkC7AHPAYsBZgFIASMBIwEbAQwB9gCNAGgAQwAdAOr/1P+n/5D/c/9r/1X/Gf8R/wP/A//l/sf+zv7s/tb+7P7d/t3+7P77/hn/L/9N/1z/c/+Y/5j/tv/F/9v/8v/5/w4ASgBSAFIAUgBSAGEAUgBwAGEAdwCGAI0AhgCrAI0AnACcALMAqwDJAMIAqwCzAMIAlQCzAMIApAB+AI0AcAB3AFkAWQA7AEoAJQAdADQAAAD5/+P/4//b/9v/1P+u/5//gv96/1z/XP9V/1X/IP8o/y//KP8K/wr/9P70/uX+9P7s/tb+x/6h/qn+v/6w/rD+v/64/rj+qf6w/rD+uP6p/ov+bf5t/kj+Of4U/hv+DP72/br9pP1+/dj9Xv69/7oA4AAjAWYBqQHHAUYCWgMsBFoDEAOvAloDNQNMA4cDlgMQA8UCkQL5ApgC+wGxAW0BMgFtATIBogFIAcIAlQBoAGgA+f+C/2T/Pv8R/1z/Gf8o/7/+of51/nz+sP7W/s7+sP5t/qH+zv6w/s7+v/6//t3+IP+Y/9v/vf+u/2v/kP9r/6f/1P/U/6f/n//U/wcAJQAsADQAAABKAGgAswDRAOAA5wDvAOcAOQFBAUgBOQFQATkBXwFIAUEBGwHnAOcABQEUAUEBFAEbAdgAyQDRALMAlQBwAGEANABSAFIAOwDq/8X/c/9z/03/Tf8v/yj/7P7s/uz+5f7O/tb+sP64/uz+7P7s/uz+1v7H/r/+qf7W/tb+zv6//s7+7P7l/tb+uP6h/ov+i/6T/rD+bf5t/lf+Mf4i/gX+5/2k/Y39d/1o/TP9Dv0W/TP9SP5+AOwBGQLWASgC7AEwAqcCTwVWBf8DvgImA1gEjwPDA0kErQMQAyECrwLSA0YCMgFXAckAZgEMAVAB3gHCAJUAQwB3AFkATf98/t3+fP4g/1X/XP9N/3z+Zv5P/rj+L/+E/oT+i/5m/hH/IP8D/wr/fP7O/gr/mP8sAK7/p/8+/1X/n/9k/2v/a/8g/1X/ZP8OAEMAtv/M//n/BwBZAFkAyQDYAOAAUAGiAXwBdQEUARsBDAFQAbEBfAGEAUEBKgFXATkBOQFIAQwBBQEMASMBIwHYAJUAQwBDAFIANAA0AOP/+f+n/4n/a/9c/wr/uP6a/uX+7P7l/vT+7P6h/qH+uP7O/r/+sP6a/rj+7P7l/sf+qf5t/nX+Zv51/pr+i/6E/m3+df51/mb+SP4b/hT+DP7u/f390P2N/X79Sv0l/Q79//y0/On80P1oAJECrwJOAjACEgLPAVwCfgR6Bn4ELgPjAo0E/wNMA/8DtAPjAjcCRgIOBC4DIwHnABQBKgE5AckA1gHRAFIAqwB+ALMAif85/l7+fP64/on/gv9c/9b+hP64/pr+Cv+w/v39df64/k3/mP83/wP/5f6T/ij/ZP+u/2v/IP9N/03/p/+Q/wP/3f7H/vv+ZP+u/9T/mP9k/9T/HQBwAGEAUgCVAOAAKgEDAvsBiwFQATkBVwFmAbgBsQFXAVABhAHAAfsBVwE5ASMB4AD9ABsBOQHgAHcAdwBoAHAANAC9/5D/ev9k/2v/c/9G/wP/x/7H/tb+7P7d/oT+df6a/sf+zv64/pP+hP6E/nX+v/7d/oT+bf5t/oT+i/6T/nX+bf5m/ov+k/7H/m3+T/4q/iL+QP5X/vb9jf0z/WD9Uf1g/W/9Sv3p/K38Dv3d/uUBWgPqAigCEgIDAgoC+QIxBT4GHQQIA2kD9QTwAxcDUwNxA8UCEgKgAtkDiQKzALMAogHHASMBcABIAWgASgCkANEASgDW/u79k/7W/gP/a/9c/wr/qf6//kb/7P64/iL+G/6T/vv+Pv9c/93+9P4g/y//if9N/zf/5f7W/nP/mP+Y/3P/9P70/gr/XP+f/2T/Ef8g/6f/HQA0AGEAYQBoAJUA/QBIAaIBKgEMAZMB3gEhAqIBzwGTAUEBqQHPAfsBxwE5AUgBmgGEAUEB7wDJAI0AWQDYAI0AswBwAMX/zP/j/7b/Tf/7/uz++/77/ij/+/7s/pr+V/6//rD+1v6a/pr+of7O/uz+1v6//pr+mv6T/tb+zv6h/nX+fP51/qn+sP58/nX+bf5t/oT+i/58/jH+/f3u/Qz+wf2k/Wj9fv1C/Tv9hv1C/dr8YvxK/cX/lgN+BFoDEgLWAeUBAwKHA6YG+wW0A4ICDgSDBaUD+QL5AokCXAKiATUDJAS4AboA9gDlAU4CaAA7AGEAmP/JAMkA2ABwAOf97v3H/s7+L//0/uz+hP7f/VX/AAA3/8f+FP6L/tb+df5G/7/+fP77/kb/QwDy/z7/A/91/t3+Vf9V/1z/7P7s/oL/gv/y/8X/N/+4/r/+n/8WABYASgBhALoAGwFBATIBQQH9ABsBdQEKAjACEgL0Ad4B+wEZAuUBiwF8AV8BwAGxAcABkwHvAJwAUgCVALMALAAdAOP/6v/y/8X/kP9c/7/+3f6//tb+7P6L/oT+fP58/s7+sP51/m3+bf6h/rD+zv70/tb+zv64/uz+1v6w/lf+T/5e/pP+qf6p/r/+of6T/m3+Xv5I/vb93/3Y/d/97v3Y/av9fv1Z/Q798PyP/J78rfwx/lABfgTmBB8D+wEDAuUBIQLSA2sG1QWPA/kC1wRlBR0E4wK+AnMC5QGEAfkChwMhAiMBbQEwAvsBcAAOAJD/Pv/b/40AugDy/3z+uP43/+X+v/7H/pr+5/2r/Rn/AAC9/wr/1v4D/93+Xv6E/oT+i/6//j7/NABZAAAAkP/l/rj+zv7W/uX+uP4K/5//BwAAAPL/1P96//T+9P6f/9v/HQBoAAUBhAGaAYsBuAEDAhICKAJOAigCogHAAcABogGLAdYBawIDAoQBQQFXAe8AcADJAO8ApABSAFkAhgCGAPL/kP8K//T+5f7H/vT+KP/7/uz+5f4K/+z+k/4x/ir+QP6a/hH/Gf/l/r/+L/8o/1cBvAMuA0oAr/tz++f9rv96/2j9t/u3++v7Cfxf+if4Zfem+EH6wPrZ+fj4nfnI+qL6JflH96P2XvdB+m0B0AvjFJcVMw+eCsAMCRFGDWAEXwFOCfsQCRHfC2EHYATu/aT5SfqP/I/8pPlJ+tv/WgMKAqT9tfh29h/1/fby+1X/fAFQAakBPQOWAyoBlf2E+gn8GwFABVoH0wYKBqME5QEdAOz+Zv4f/Av7Wf18AaAC0QBK/eX6PPnO9y/4Bfrc+7T8Wf29/+wBqQEo/638U/xI/qQA8gIVBN8EEwXfBLIEMwSvAl8ByQC4ARUE3QVjBoEGxgnpCvwIpwIx/ov+swAFARv+df69/woCmP9b/HX6d/kA+VL5Sv2kAKkBCgKiAZoBcAB6/4v+Ef/s/qsAiwE9A5YDxwG//o/8Pfy0/Ez8y/zn/U3/A//l/gz+//zA+sr57/mK+7T8Sv0H/fj8RPxz+5v6z/pX+sD6qvqK+x/8Lvw/+5P6jvlS+UP5Hvmd+Yz6vvtb/G762/gz9l73oAIeGS8nOCbIE1wNBRMtGfcOwAGY/5MI4Q7aCg8HKAJX+hbuJeef7Wv05/n0+in7d/0v/+P/3f7Z+Yn08PUB/DwH1gwDDfoJxgWtAxICn/8R/3AA9AGeA6EFUAiqCE4CZPvh9W/2Uvld+1H9G/7f/d/9O/15/ML5QPcE92j5aP1kAmUFWge5BM8BcAAUAWYBuAEwAjsEIAYtB0MHGwXeASr+H/xK/fv+IwFOAmQCogGzAGgA0QADAjQHqghjBoICNwKFBOMC9P4h+z38Wf2u/2T/ZP9m/tr8EPwD+4b98v+rAAUByQCYAtIDRAPgALj+Qv1+/dD9a/+VAMz/hP4s/Qf9vPwf/Hv7kfs9/GD9Pv8WAAcASP5g/ab8Afw9/ET8vPzj+wH8RPwl/fj8qPu7+VT4J/hL+Tz5wvnR+Uf7UPoN+pP6Evv8+hb5gfiI+C35jvm4/voUKimSLTcfPhHeE5EU8A5xAy4DfgSbCNUFhwMyAeX6+PG74+LiR+zo9cv8AfxK/SMBvgJoAC78hvmv+y//pQPCC64RXRRNEaAJxQL9/bH6MPsr+oL7T/4ZAggHEwUMAZf8Pvio9432+Pgn/Of9bf53/eH8jf1q/CH75fpx/OcA3wTPCNoKCwnMBmIDOQGGAEMAjQDJAMIA+wEoAokCwAG4/oj8EvsJ/F7+xwHmCI0PZA2uBoYAbQFwAHn8I/rU+9b+5QEOBK0DhAH0/sv8v/ej9nn8/QA/AjIBtgKFBB8D9gBm/nn8t/um/Mf+UAG2AmkDZgEF/s37bPtd++X6GvuA/HX+DgA5AYYAi/5M/AP7qvrA+rf7Jf1+/dL84/ti/ID8EPyx+o75FvlL+YT6qPuI/NT7ufrq+L/3VPhw+dH54vh3+TL65/mB+GT7TQ19Jdkv8SesGeMYmxoDFCUHWQA+/9gAev93/Qz+6fys+b/s6uIL5WPtt/do+Rb5k/50BdUJWAjfBKUD5QFk/2YBlARSC9IOsQxYCC4DIwG6AIT+bPsv+Oz3W/wg/4YAQwBm/ob9aPmy9m33UPpo/Q79avzl/jcCQgThA6QAQwCn/9EASAHNAiIFiQZgBGkDIQK+AlUC4ADl/jv9YP0dADsAOQE7AFz/Xv45/sABewlXDC4KQgQuA8oDegKkAED+CfyC+5X9n/8AAOP/qQG4/qT5jvkd/QcAev83/6sAxwHDA8gELgPCAAP/sv1M/PL7Gf8jAUMA3f5X/ov+DP5Z/Tb8V/oN+tz7b/2//nr/JQA+///83Ptk+976Qfrg+V/6/Pr//Hz+Zv7h/Hv7LfmD9wT3Efhw+S35APla+QP71PuZ+5v6Avhg9gH1CfiBBs8eeC8eL6wkQiFZIbQZ4Qqp/iX5sPe/9wD5xfu//tb+Ivcb7EzmBei97e3ve/DB9nwBdQyhEEAQrA4OC/0En/8z/Y0AMQUrCAMJwAhOCSEJzgUdAAD5+/PJ8s7z0PYy+kD+xwFGAu8Ak/5x/E77D/n99rD3oPsqASIF8QbKB+AH+QYkBMkAkP9k/yD/A/9wAEwDmgURBn4EEgKu/2/9Vfuq+iH7tPx1/lkAfAWtCnoNOQzgBzgFsQFz///80vxM/MH9KP8qAc8BEgLPASr+MPtL+e/5ivu8/HP/fAFxA98EbQUVBBICa/9g/Yr75fpx/AX+FgBoANEAnACn/0D+j/zP+p35nfnW+hj8uv1k/wcAmP85/mr8MPuz+Tz5B/ms+YL7w/xo/Rb92vzy+yv64vhN+L/3t/cg+H/5hPoL+z/7z/qX+I32tPVv/aoP1CPJLPQpYyeOKCQlmhcwCSj/l/hD8qrvGPEQ9eL47/kV9orwcu2s7t7vu+6d7qf0k/7KB00NTRHlExwT4Q5YCI8DCgI/AscB2AAbAcMDawZNBmkDCv/W+v32x/NK8tDyFfYj+jv9XP9QAR8DtAPlAb/+rfxT/Dv9Iv5wACYD+wXZB/4HPAfsBSQEmgG//nn8r/s7/Sj/0QBmAXMCkQJ6AuUBLgM1A94BiwHUAsMDrwI3AvkCEANDAGT/c//H/ln9G/5k/yr+sP7CAIsBswBZACMBpABc/wr/kP/s/nz+qf5k/9b+zv7M/4n/1v5A/pP+bf66/cH9FP6E/kD+bf58/mb+0P3B/Ur9YvzF+3v7A/sj+kn6ffoh+6D7H/z//DP9y/yC+z/7wPqV+Vr5Y/iX+K74BfqE+l37IftT/AH81Pu5+qT57v3aCswcVCfrJrkliiayJfUa1A3qAl37s/IK7Unr2+2t8TX1Zfdx9Zrz7PNi9b30NPJP8674kP8xBXkKKw8rE9YTIBGpDO8HmgXUApj/PfyR++f9UgBIAboAkP/u/Rj82/jh9a70tPVl9z747/mN/d4BYAT9BH4E/wPjApoBJQDF/x0A/QAhAggD6AMbBYMFKgUmA+AAhP4O/Qn8qPu++/j8bf7F//0APwIIA/kC+wGzAL3/oAI8BzoICAf7BegHjgc7BHwBNADS/Iz6APl/+R75C/tm/vT+V/4+/xsBCgLq/4L/zP+n/2v/LADRAJMBhAFGAioBN/+E/nz+G/7N+8D6R/sn/Ij8Jf3f/YT+Zv5m/tj9l/z6+6D7EvvK+VL5hPpE/MP86fxK/aT9//wQ/N76lfm9+Kj3Gvff9qj3K/q3+xj8Cfwn/L77wPrp/FIH9BdrIyQl1CMpJgAoQiFEFY8KiwG39xTvPepV6Y/qju538vvz9PP59Cf4s/mZ9zz11/Yh+1z/4wIPB8ILExDKEtMRYA9VDYYLwgdfAUT8ffpk++P7oPtz+4D89v0x/oD8m/r++Xf5IPhR9m/2Hvm0/GT/MgE9A14F6gYIBwIGqwQIA1wC7wDq/wcAOQEoAq8C6gLNAmQCGQLnABH/YP0J/IL76/uy/Z4D2wamBicGPAeiCNUF3gEjAf39ovrg+d76rfyP/DQAPQNGAj8CkQI1A7EB3f4x/ln9YvxK/W3+NABhACoBCAOaAUMAn/9N/xv+R/uq+k77LvxK/UD+ZP9wAMkA7AHJAC//V/6k/WL8UPqk+Rz6wPpm+m76e/vp/A79Uf1v/Z78Cfxs+6r6Wvn4+Ib52fla+SX5wvkD+4r7P/s4+4T6u/nC+Vz/xQ2IHOwivSNLJH8oeya1HNESJwqVAPf1XuxG6TLoEOp/7p7xsfNG9P32bPsw+/H4g/dj+KL6Pfzd/mIDfwfADOYPAhHsEAwQYA/fC3wFdwBZ/T38/PqI+K74MvqI/ND9//wO/en8W/zW+rf3Z/Zt9w/5qvqv+6H+ZAIxBawHQQhBCAYInwbfBJgClQA7AOP/2//F/1kA3gG+AmIDhwPUAgMC3gGaATkB2//H/j7/ev9k/0b/gv93AGEA1P+C//v+a/9z/7b/6v/b/yMBKAJGAmQCawLyAnMCKgFKAFz/v/4q/h39Hf2m/P/8q/3u/UD+T/64/t3+fP58/m3+hP6h/nz+i/6w/rj+Cv/d/ov+3/07/cP8vvvP+l/6Ovqx+sD6MPuo+z38vPxx/AH8xftk+xr7bvol+a745Pew95n31feB+Dz5YfnA+ugDuRNsH4MioSIiJmYp2yObGrMSSguLAZv2du//6gPp8OrR7lvx2vHf8lb3UPrC+Sf45PcW+Yb5jPqm/IL/HQRsCWQNHQ/fDxgReRHDDvIJQAUwArb/gPyO+eT3+Phs+578cfzL/BT+k/7a/DL6l/g2+OT3T/fV92H5J/z5/2IDdAUIB88I3AnXCNMGDAWWA0YCdwA+/y//n/+kAN4BXAJOAigCIQJ1Acz/df7Q/Rn/KP+2/yoBsQG2AtQCaQPhA3wB5wAlAIv+4fyv+yz9sv1g/Wv/fgDlAXoCEAPDA7YC7AGpAeP/sP47/R39Wf2I/Cz9pP11/hn/Ef9c/0b/uP6a/rL9Sv3D/ID8Dv0W/aT9T/64/i//IP+w/iL+M/2P/L77ivsS+5v63vps+5H7gvtV+5n7r/uR+yn7UPqV+fH4D/kH+Qf5JfnT+Af5dfrqAsYQJBqbHmwfCiOZJuchMRsBFRAOxgXe+m3z2+2A6k/ss+7y8OHxd/Kh9+X6yPoy+uD5Evs6+q74Wvkr+tj9XAKpBeYI/wryDZkQ/Q9LDsIL9QhcBrEB/f3e+n/5hPoD+137H/z4/Oz+L//B/dr8r/vl+tv45vbQ9lb3jvlb/Gb+/QBMAyAGSQibCGcIlQfMBlYFzQKLAcIAqwCEAcUC8ANtBYEGHge1BtcEWgN8AWb+gvuQ+Cn3Ufaj9iD4pPnU+4v+nAC+AngDYAS5BCwEFwP0AeAAfgDj/0MAdwDnAOUBTgJ6Ak4CxwH9AKf/Iv5x/M/6Ovqk+f75dfpz+/D8QP6u/2gAfgBKAFkAev8b/o/8+vtd+976yPpH+zb8O/0b/vT+ZP/U/7b/uP5o/Rj89Por+gD5Nvjz9wL4a/ge+Un6OPuC+3P7ZPtM/HMCMgw/FKEXARmIHPIf9h0rGtIVaxEWC+oCmfsI9XvwC/AQ8cTxH/Ha8f/1LfnZ+cL5m/pi/BD87/lr+BH4V/rw/HP/fAHKA1oHrQoUDG0MQQyEDKQLOgiFBEgBmP+h/sH92vxx/Lz8FP5I/jn+FP79/cn9NvxJ+tP43fcn+NP4f/nA+nn8KP+TAR8DjQTGBRYHQwdjBgwFDgRiAxAD2wJEA60DfgSpBVwGRQZ0BY0EpQOEAWb+NvyT+o75Y/gv+J/4f/kp+9r8Zv69/+cATgLFAlwC9AGiAZoB7wBwAFkAjQAjAaIBAwJcAkYCawI3AioBn/9X/kr9Lvw/+8j6sfo4+wH8iPxo/f39uP70/uz+bf7J/W/9//xT/Bj88vtx/Pj8jf1I/rj+n//M/1z/gv+L/pX96fy++9b6Dfr++UH6ZvoL+yH7qPvr+9z7gvs4+777tv+zB3gO5xK+FGYX0BrhGf0WyBP9D3wMegZ+AAP7BvZa9bT1DvaA9YL0ivc6+lD6Ovpf+nH8//zl+gD5VvcR+Of5R/vw/Hz+SAH9BMQGygeqCPoJBwuoCTQHZwR6ArgBqwDb/67/if+NAMIAYQAAANv/+f9N/4b9t/sU+jz58fi1+Bb5s/k4+x39bf6Q/9EATgLDAxUEFQToA1oDgAMfA8UCmALqAsEEgQY8B38HFgd/B9MGDAWvAnAAuP6e/KL64viK9wn4Lfkr+jD7xfuN/Sj/FgAdAAAAWQBZAB0Agv+//nP/FgCkAG0BqQFGAtQCFwN6AtYBQQGcAHP/G/7D/Db8GPw9/Fv8tPz//Jz9/f0M/tD9Wf1R/fj8TPyK+xr7OPuo+0z8+Py6/ez+2/+VAKsAfgBhAOr/kP98/pz9tPwf/OP7gvts+5n78vtT/GL8rfyy/YsBAAdZC3gOExDxEYQTsxL7EAgO3wu3CcYF1gF+/XX6HPoN+rH6V/qM+kz8Jf28/PL7gvt5/GL8A/tw+RH4l/hS+Wb64/tR/bb/NwJaA/8DUQR0BT4G+wVABbwDzQJcAs8BkwFfAccBmAKvAokC5QFtATkBugDq/4v+Hf0f/E77sfpQ+l/6bPuI/Hf9Bf6h/kb/HQDJADkBKgF8ATACegK2AuoCjwP1BN0FzgXGBakFfAWNBEwDGQL2AMX/v/6k/cv86/vy+0z8j/y0/P/8b/3J/cH9pP1+/bL9wf3Q/e793/05/vv+vf9ZANgAfAEKAjACCgK4AXwBBQGzAFIAp/8v/xH/7P7H/oT+bf5e/iL+2P1K/dr8rfxq/Ez8H/wQ/Ez8pvwl/Yb97v2E/jf/kP+u/6f/gv9z/zf/7P6h/kj+Kv4F/hT+/f0F/hv+QP4M/t/9Qv0d/e79SAE4BbkIbwvsDCsP5g/ZDq8NNAv6CSMIfAVOAuX+6fwf/B/8l/xb/Gj9+/4Z/0j+Jf1b/J78zfsL+8r50/jq+NP4jvl1+tz7hP66ABkCrwK+AkQDeANTAx8DpwJkAjcC+wHAAZMB+wHUAp4DMwTSAz0DcwK4AZUAa/9I/pX9Dv2t/NT7Tvuv+2L8M/3Y/Tn+1v4o/y//A//O/vT+n/9oAP0AZgEwAtsC2QONBN8EMQVPBQwFQgQmAwoCFAFSAKf/Cv91/gX+/f3J/ZX9d/1v/W/9b/07/en8avxi/I/8vPwl/Zz9Zv5N/wAApAAMAbEBIQIhAjAC1gF8ASoBswAsAMz/p/+f/67/c/9N/wP/5f6p/l7+DP6k/Xf9YP0d/Q79Dv1K/d/9SP64/gr/Vf+n/73/tv+n/7b/1P+Y/3P/KP/l/uX+1v7s/r/+3f7l/s7+qf5I/jH+2P26/X79pP2T/roAhwMKBl8IGAp3C0gMlQuICtcISwcCBiQEPwJhAOX+Xv4b/ir+V/70/gAAQwC2/9b+wf3w/BD89PpJ+sL5u/n++Vf69Pof/I39ZP+kAMcBMAJGAnMCMAIKAsABfAHAAQoCMAIwAlUCvgIXAzUDHwPNAk4CuAGzAKf/V/6V/Rb9vPyt/Jf84fxK/aT9Bf45/qH+9P5G/2v/a/+C/wAAWQDJAHUB+wHUAoAD2QMVBAYEygNaA7YCAwI5AX4Avf8K/4T+Bf7Y/dj9/f39/QX+G/4i/hT+Bf79/Qz+QP5m/rD+7P43/5D/4/9SAJwA4AAbASMBFAHYAHAAHQDF/4L/Vf8+/0b/XP9r/3P/ZP+Y/5j/n/+J/0b/Cv/H/oT+Zv5e/m3+k/7l/ij/XP+J/7b/2//y/9v/1P+u/5D/c/9r/2v/XP9r/4n/tv/M/9v/tv+Q/2v/Rv8g/93+x/6w/nX+hP58/rD+3f5r/xYA/QDsAcUCrQOUBE8F5AUnBlwGJwbsBXQFjQS8A74CKAKaAdgAYQDy/67/c/8o/6n+Mf7u/Zz9Hf3D/Hn8RPxi/FP8cfzD/Er99v2h/i//xf9KAKsADAE5AVcBVwFtAakBogGpAbgBogGpAZoBdQFXASoBDAHCAGEABwCY/y//5f6h/nX+Zv6E/m3+hP6//vT+Tf+9/yUAswAFAV8BogGTAYQBVwEjAf0A0QC6AH4AWQBhAEMADgAAANv/6v+9/5//c/9G/wr/7P7l/uX+5f7l/vv+N/9c/2T/ev+Q/6f/p/+f/7b/rv+Y/4n/gv+Q/5//xf/j/wcAJQAsAEMAFgD5/8z/vf+f/2T/XP83/z7/N/8o/zf/Tf9N/2v/ZP9k/0b/KP8Z//v+7P70/hn/Vf9k/4n/kP+n/5//tv+f/5D/ev9k/y//A//H/ov+Xv5P/jH+Xv5P/nX+k/6T/ov+fP7O/k3/HQCTAWkDXgVhB6oIggncCTAJZwjMBl4FDgSgAs8BwgAHAGT/7P7l/oT+Xv6p/sf+bf4U/iz9YvyZ+9b6bvpB+qr6R/tb/FH9Mf43/yUA0QB8AccBGQI/AigCMAIKAscBuAHHAQMCGQI/AoICiQJrAhkCfAG6AOP/L/+h/v39nP13/Ur9d/2N/dD9G/5m/s7+Ef9G/5D/1P9ZAI0A/QBXAd4BKAJGAjACNwIZAgMCuAFXARQByQCVADsA6v+2/03/KP/s/r/+sP6T/pP+hP5m/mb+Xv5t/nz+of7d/hn/ZP+Y/8z/6v8lAFIAWQBZAFIAUgBSAFIANAAWAAcA4//j/+P/2/+2/5//gv9N/yD/5f6a/nX+Zv5X/nX+bf6h/rj+3f70/hn/KP9N/2v/Tf9k/2v/ev+Q/3r/kP+Y/6f/n/9k/03/+/64/l7+DP7B/Yb9hv1+/WD9fv1v/X79jf39/cf+8v/AATsE0wZsCXcLuAxVDYsMQwtdCfkG/QT5AsABswDq/1X/9P64/l7+9v3J/ZX9M/20/Ov7Evtf+o75FvnT+A/5Bfop+5f8/f1N/3AASAH7AQMCEgIwAigCPwJkAokC6gI1A48D8AMOBDMEJAT3A0QDXAKaAY0AZP9P/mD92vyI/GL8j/ye/Mv8Dv0H/R39Jf1K/Yb9q/0U/ov+KP/j/5wAZgEwAgEDUQT1BM4FTQY+BuQF/QTSA6ACfAGNAJ//Ef+//pP+bf5e/jH+wf1Z/fD8iPw9/PL73PvU+yf8iPwW/cn9i/56/0oAGwGpARkCKAI3AjACKAIKAvQBzwG4AWYBOQEMAZwAHQB6//v+i/66/Ur9tPw2/OP7gvuK+3v7xfs9/Lz8Qv26/Tn+mv77/k3/c/+2/9v/6v/y/8X/mP8+/7/+Kv7J/Wj9Dv3a/I/8avw2/Ov7r/vc+4/8hP77Ad0FjwrZDjQS4xS3FDITow8HC8wGrwLU/2D9l/y8/B39Bf4x/gz+2P2y/fD8GPzt+gX6LflF+LD3BPf19i/4nfm++9D9SgBcAtkD0ASjBOgDTANVAhICxwHeAZECPQNnBDgFiwWwBW0F1wTDA1wCDAGu/zH+Fv3j+yn79PoD+3v7GPyt/G/99v1m/nX+Iv79/br9nP3u/Wb+N/9KAJMBrwKtA3YE9QQxBTgFuQRRBIADAQNkAhkC5QGxAc8BEgI3AlwCNwIKAlABOwDd/lH9Cfzl+lf6QfqT+j/7Yvxv/W3+N//F/x0AWQBKACUA+f8WAEMAfgDJADIBogHsATACIQLlAWYB0QAdAAP/Kv5v/fD8YvxE/FP8l/zD/Bb9Jf0l/fj80vyP/Hn8RPxi/J78Fv3B/V7+7P5N/2v/c/83/8f+DP5C/Y/88vtk+0f7Kfvl+s/6ufqM+uX6TPyJ/ywEAQopEPAVjBriHFscxRjnEtgL7gQg/7n6Tfjd9x75A/ut/Kv9jf2t/D/7cPlW98P1AfXM9Fr1HPZH99v45fpK/a7/AwIOBPMFUgfoB3gHegYqBQYECAOnAtQCpQO5BOQFrga1BtUFfgRrAlIA7v3c+0n6aPkA+S35cPkr+vT6vvtb/P/8jf0F/mb+sP7s/kb/n/8OAMkAqQGgArQDuQShBREGVAYCBnwFqwTKA9QCKAKLAe8AdwAlAHcA2ABQAc8B9AH0ARQB8v91/mL8z/qO+TT5f/l1+kT89v3y/1ABIQIwAgoCmgEUAcIAyQDgAEEBwAEwAigCMAL0AYQB0QAdAEb/SP6r/dL8GPyg+077Xfuo+y78vPxo/ef9G/4F/sH9Uf3L/ID8j/zS/EL9/f3O/nP/1P/U/4n/3f4q/kL9U/yR+976dfoU+v754Pm7+cL5yvkN+t76pvwdAAwFWQtLEk0YLR2RHwMfRxsJFU0NdAXW/tn59fZg9nT3WvkS+xj8oPtX+jb48PXO81nyLPLn8qf0C/ed+T38of79AOMCfgQZBiUHBghJCCMIeAeJBoMF1wRJBFgEnAQTBYMFgwX1BJYDuAGC//j8ufrx+N33mfcJ+NP42fnt+uv7nvwO/Wj9pP0U/rD+a/8WABQBAwLNAsMDZwT9BHwFxgXkBZoFMQVnBI8DrwLAAckAAABz/z7/Pv/j/7MAQQHHAeUB3gHYALb/qf4z/R/8qPu3+wH80vxI/jf/FgDvAEgBUAFIAXwBOQEyAVABdQFmAZMBogFQATkB9gCGAPn/gv/7/hv+d/3h/Db8xfuo+9T7EPym/EL9sv0x/pP+mv6T/ov+df51/mb+df5t/oT+k/6L/oT+i/5P/jH+FP7J/Wj96fxq/KD7wPoc+nD5PPlD+ZX5K/qT+hL7R/vr+0r9ev/qAjQHMA1JE9QYBx1IHmEdUxlBE0EMsgS//kn67Pde97f32/id+Y75l/j19r30BfPw8f/x2PJr9Nf2S/n6+zn+2//lAVMDBAWQBugH/Ag4CU4J1wi7B5gGqQUMBZwEdgRgBBUEUwNGApwAi/5q/JP6JflN+Pr3GPif+Hf5MvrP+nv7EPzS/Lr9x/69/8kA3gGgAloDBgRCBLIEBAVWBXwFdAVWBfUEUQR4A2sCZgGGAJj/3f5I/lf+qf4D/8z/dwAyAWYBiwFmAXcAn/+p/sH9M/34/EL9pP2w/qf/WQD2AGYBogF8AUEBOQH9AOcADAH2AMkApAB+AB0Atv9V/93+Zv4M/qT9Jf3D/I/8cfxi/Lz82vxC/av9Iv5m/pP+i/6w/qn+i/6E/nX+mv6a/ov+of6w/rD+uP6p/oT+Mf7Q/UL9rfzr+yH7jPoy+tn5yvnn+RT6Bfr++e/57/l9+hD89P5CBA4LlRIeGSMewyDrH90bRBVGDb8F8v/N+4b56vh/+RT6Mvpa+V73LfWa87PyUfLn8jD0yvWD90P5ffqg+5X9rv/7ATsEmAYrCCkJcwnICHgHiQa/BV4FdAWhBcYFoQUTBbQD5QEdAED+2vzN+wv7bvoc+v75rPla+SX5cPkc+iH7U/yV/bD+4/+NAPYAVwG4ATcC1ALDA2cEBAV8BXwFDAVYBJ4DJgOnAjAC3gFIAdEA+f+Q/8X/1P9KAIYA2ACzAA4Aif91/o39M/0O/TP9hv1A/pP+v/77/uz+9P4o/8X/SgD9AJoB5QHsAbgBMgF+AEoAAAAHAPL/6v/U/2v/+/45/qT9M/3h/Nr8+Pwd/TP9Wf1v/WD9fv3J/SL+uP4v/5//2//b/7b/Tf8K/8f+k/64/vv+N/9k/4L/mP9G/wP/v/5m/hv+3/2y/WD9Fv3w/K38nvx5/ID8nvyt/P/8//zw/OH8aP1N/4kCpgbpCugOPBLeE6oTVBG9Da8JJwZiA20BOwCC/xH/df6c/VP87fpB+sr5u/mk+aT5hvlD+fH4iPi1+HD51vqe/KH+jQDsAbYCCAMIA7YCrwLyAloD9wM7BG8EYAQOBGkD1AJcAhkC9AGiAQUBcACQ/3z+hv20/Cf86/ti/K38Dv1+/aT95/39/TH+k/4K/6f/JQCrAAUBOQFQAV8BhAGiAccB9AEZAhIC5QGTARsB0QDJANgAKgFQAWYBdQEqAasABwBr/7j+Xv45/k/+df6w/tb+9P70/gr/KP9N/5j/1P/y/w4AQwBZABYA2//b/+P/LABhAKQAswB+ADQA6v/M/67/vf+2/8z/2//q/yUAUgBSAB0A6v/F/7b/rv+2/8z/2//j/w4AHQBZADsAAADq/9T/zP/j/9v/BwAWABYADgAOAOr/AADb/67/mP+Y/73/2//q/x0AHQBZADQAJQAAAOP/vf+2/8X/xf/j/+r/DgAOAAcAAAAWAB0ADgD5/wAA8v/5/wcABwAOAA4AHQBKAFIAUgBZAGgAWQBoAH4AnACcAHcAjQB+AI0AfgCNAHcAcABZAHAAaABwAGgAdwBwAGgAUgBSAFIAWQBKAFkAJQA0ADsAFgAdABYAAADq/+r/4//b/9v/2//F/73/zP/M/9T/p/+n/5//kP+u/5D/p/+Y/7b/tv+2/67/1P/U/9v/2/+9/9T/2//j//L/AAAAAA4AHQAWAB0ADgD5/w4AFgAOAB0AJQAsAEMAFgAlAB0AJQAOAAAAAAAOAA4ABwAOABYAFgD5//L/4//5/+r/6v/y/+r/+f/y/+r/8v/b/+r/4//j/+P/1P/b/9v/zP/U/9v/2//M/9T/zP/U/73/2//b/9v/2//b/9v/4//b//L/+f/5/+r/2//y/+r/2//j/9v/4//q/wAA8v/y//n/4/8AAPL/8v8AAAcADgAOAAcA+f8AAAAA+f/q/+r/+f/y/xYA8v8OABYADgAAAAcADgAWABYABwAAAA4AFgAOABYA+f8WAAAAAAAOAAcABwDy/wcA8v/y//L/AADj/wcAAADq//L/DgAAAPL/AAD5//n/AAAOAAAA6v/y//n/+f/5//L/BwD5//L/6v8AAPn/BwD5/wAA6v/y//n/2//j//n/DgDy//n/AAD5//n/8v/y/+r/4//y/wAA+f/q/wcA6v/q/wAAAAD5//n/AADj/w4A+f/y//L/DgAAAPL/8v/j/wAABwDy//n/BwAOAPL/FgD5//n/AAD5/wAA+f/5//n/8v/5//n/AAD5/+r/8v8AAOr/4//5/wAA6v8AAOr/8v/5//L/+f/y/wAAAADj//n/DgDy//n/8v/5/wAA+f/5/wAA+f8AAPn/+f8AAPL/+f/y/wAA8v8OAAcA+f/5/wAABwAHAPL/+f8AAOP/8v8AAAcABwD5/wcAAAAAAPL/4//j/wAA8v8AAAcA+f8AAAcA+f/5//n/8v/q//L/AAD5//n/AAAAAAcAAADy/wcA+f8AAPL/BwAAAAcAAAAAAPn/AAD5//n/8v8HAPn/8v8AAAAA+f/y/w4AAADy//n/AAAAAPn/+f/y/9v/BwAAAAAA+f/y//n/+f/5//n/AADy/wAABwAHAOr/6v8AAAAABwAAAAAA+f8AAPn/8v/y//L/+f/5//L/+f8HAPn/+f8AAOr/6v/y//n/+f/5/wAABwD5//n/AAD5//n/8v8AAPn/8v/5//L/+f/q/+r/+f/j//n/AAAHAOP/8v/5/+P/4//j/9v/6v8HAPn/AAAOAAcADgAHAPL/8v/y/+r/+f/y/wAABwD5//L/8v8AAPL/6v/5//L/8v/5//L/8v/5//L/BwD5/xYA6v/5//L/+f/5//L/AAAWAPn/AAD5/wAA+f8AAPn/4//5//L/8v8HAA4A8v8AAAAA+f8OAPn/AADj/+r/BwAOAAAADgAAAPn/AAAdAAAABwD5/xYA8v8AAPL/DgAHAAcADgD5/+r/AAAOAAcADgAAAAcA4/8AAAAABwAAAAAA8v8AAAAABwAHAAAAAAAOAOr/AAD5//L/AAD5/wAAAAAAABYA8v8HAAAA+f/5/wAAHQD5/wAAAAAHAAAABwAWAOr/8v/y/+P/+f/5//n/DgAHAPn/FgDj/wcAFgAHAPL/FgAOAPn/8v8WAPn/4//q/wAA+f/j//L/HQAAAAcAHQAHAPn/BwDy/+r/4/8AAPn/+f8HAAcAFgAAAA4A8v8OAAcA+f8AAAAA+f8AAAcA+f8OABYAAAD5/w4AHQAHAAAA+f/b/+r/AAAWAPn/+f/y/wAABwBhABYA1P8dAAcAFgAHAFIASgAlAPn/SgAOANv/8v8AAOP/8v/y/w4A+f8AAPL/6v/5/9T/+f/q//n/8v8AAPn/DgAAAB0AAAAAANv/+f/5/wcAAAAHAA4ADgD5/w4AFgD5/+r/4//j/9v/4//b/9v/4/8HAA4ABwAOAB0AAAAOAPL/AADq/+r/4/8AAPn/8v8OAPn/AAD5/xYA+f/5/+P/+f/q/+P/2//q/wAA+f/b//n/6v/q//L/AAD5//n/AAAAAAcAAAD5/wAA8v/y/+r/DgD5/+P/+f8HAPn/AAD5//L/6v/b/+r/+f/y/xYAAAD5/w4AAAAAAAAA6v8OAA4AAAAOAAcA8v8AAAAABwAAABYA8v/5/w4AFgDy//n/+f8WAPL/+f8AABYABwDq/wAADgAAAAAADgAWAPL/AAAAABYAFgAHAAAAAAD5/wAAFgAdAOr/4/8AAAAAAADy/wAA6v/q/wcADgAAAAcAFgDy/+P/6v8HAPn/6v/y/+r/AAD5/w4AFgDy//n/8v8HAAcA+f8lAAAAJQAHAA4A+f9KAPL/4//q/wAA+f8lACwA+f8AAAcAHQAWAA4A8v/5//L/BwDy//n/+f8AANv/BwAHABYABwAOAAcAAADb/w4AAADq/9v/AAAAAOr/AAAHAA4A4//5/wcA+f8OAB0AAADq//L/+f/j//n/HQDq/+P/+f8HAPL/AADj/+r/8v/b/xYADgAAAPn/+f/5//L/AAAOAAcAFgAAAPL/BwAdABYAAADU//n/+f8WAA4A+f8OAAAA+f8HAPL/FgAAANv/BwAlANT/8v8WAEMA2/8WAAcA+f/j/w4ASgAlAOP/2/8OAPn/BwAWAAcA4//y/9v/+f/j//L/DgDq/wAADgD5/w4ABwAHANT/6v/5//L/+f8HAOr/BwAdABYALAA0AAcAAADy/9v/4/8AAA4A+f/5/wcA+f8WAAcAJQDq//n/DgDq/xYAJQAWAPL/4/8sAEoADgD5/zsAHQDq/9T/BwAAANv/+f8HANT/4//j/x0ABwD5/w4AHQAlAAcAFgA0AAcAAAAOAAcABwD5/wAA8v/q/+r/LAA7ABYA+f8lAPL/NAC9/8EEDgvdBcoDev/W/iX9Mf5X/qn+Of6T/m3+A/9k/wAAFgCf/wP/gv9c/9T/N/9G/8X/rv8D/wP/IP+u/yUANAA0AOP/n//U/wAAYQCzAOcAyQA7ANT/mP9k/4L/8v/U/1X/5f7s/uz+KP9c/9v/YQBZAL3/ZP/s/mT/1P/j/x0AAADq/5D/Vf/F//n/LAB+ACMBDAFfAQMCNwJOAvQBbQHj/+X+nP0s/cv8y/xZ/f39fP4K/+P/GwG4AT8CVQJVAiECogEFAckAWQBZAAcAv/4b/pX9Fv3a/Af9j/xT/Fv8nvye/H79G/4D/z7/BwCVAIsBNwIRBicG4QOjBNIDvANGAhICSAFDAPv+FP4d/SX94fwQ/AH8W/xb/Kb8Dv2k/UD+5f6f/+P/UgDYADkBsQGiASoB2ACzAEoAn/8D/yD/9P5X/l7+df6w/i//tv/j/67/6v+VAGgAYQCNAHcAWQCGAI0AJQBKAB0ANAAOAHr/4/9hACUAAABSAHAA5wD2AEgBhAGxAbEB1gEoAvsBwAGEASoByQA0APn/2/+Y/3P/ZP+Q/7b/NACVAAUBSAFIAVcBuAEKAuwBfAFmAWYBVwEMAbMAjQBhAEoADgDM/73/xf+2/4L/mP/b/+r/OwBSAKsA9gAjAWYBmgFtAfYAWQAsAAcAzP9c/03/ev9r/67/2/9DAHcAUgBSAA4ABwBKAFkASgAdAMX/tv/M/yUAWQA0AFIADgBKACUAaACkALMAlQBhAEoAdwB3ACUAQwBZAHAAjQCGAI0AdwBDAAcAp/+J/5D/c/8v/xH/L/+Y/zsAYQBZAHAAdwBhADQAFgCNAHAAOwDM/xYAQwDy/73/rv+2/2T/gv9z/9T/rv9N/1X/kP+f/4n/zP/M/4L/tv8OAB0A6v8WAHAAUgB3AB0A6v/q/zQAfgDM/73/zP9k/2T/mP+f/9T/8v/U//n/AAAlAPn/tv+n/3P/c/+2/8z/tv9k/3r/kP+Q/8z/DgAHAAcAWQCNAP0AZgGaAfsBdQFBAQwBwgCGAOr/Gf/O/pr+fP58/t3+9P56/5D/XP96/+P/UgC6AMIA4AA5ARQBQQGpAcABOQFwANv/+f/M/6f/p/9r//v+3f4+/8z/NABhABYA8v9oAKsA/QAFAY0AUgAdAIn/zP/y/5//Gf9m/qn+KP8+/93+qf70/mT/mP+Y/+r/qwDJAP0A9gDYAMIAlQA0ANv/tv8Z//v+3f6E/sf+7P7W/vT+L/+9/x0AaACzAEgBsQFQASMBkwEZAqIBhgAlAEoAOwBr/zf/vf/M/xH/v/5k/+r/QwAsAL3/tv/M/1kAYQAAANT/kP+J/8z/6v8OAOr/JQBhACUAQwA7ALMAnAAAAJD/Pv9r//n/aAAsAIn/Ef+u/5UAhgDy/0b/gv8AAAcAFgBZAFIAHQDb/9v/2//b/9T/p/9c/2T/xf87AFkALABwAAUBDAGkAIYA2ADCAAAA2/8HAGEAxf8FAfL/WQAMAboAOQFIATsAtv9G//v+k/5P/qn+bf5A/u79if+NAIYAUgD5/7MAGwFIASMB2ACGAFkAYQA7ANT/+f8sAEoA1P9G/03/c/+Q/93+Bf6V/Y39G/6E/vT+ZP/U/6QAdQEoAmQCRgIDAoQBSAEjAdgAdwCf/xH/zv70/lX/Tf/l/qn+mv7W/iD/Tf9N/5j/2/+9/73/LAC6AAUBGwFfAZMBbQGLAaIBSAFSAIn/p/+Y/+X+Bf7Y/TH+Of5P/k/+v/7l/hn/n/87AHAAnADnAFABUAEjAUEBKgGrABYA+f/M/4n/KP/s/vT+A/8Z/2T/ZP+C/5//BwB+AKsA0QDCAMkAqwCGAIYAWQAlAL3/vf+2/5//zP+Q/03/Cv83/3r/kP9k/1X/a/+2//L/2//j/9T/4//M/9T/LAAHAPn/n/+Y//n/lQCkAHAAQwA7AKsA0QBhADsArv/j//L/zP/U/+P/WQBSAGgAcADJAFABfAF8AUEBBQEbAXwBZgH2AIYAhgCNAHAAFgDU/67/Tf9V/3P/kP+C/3r/mP/b//L/2/8HAGgAcABSAHAAfgCNAFkAUgAsAAcAxf/M/8X/Tf/0/ij/c/9z/yD/Gf9z/+r/OwBSAHcAugDnADkBSAFXATkB4ACNACUA4//M/5D/Tf/d/s7+A/9V/yj/zv4v/xH/tv+Q/03/Rv8+/yj/Gf9k/2T/c/96/4n/n/+9/wcAn/9c/xH/A/9N/1X/9P64/r/+9P4D/yD/3f77/j7/ZP+9/+r/OwBZAFIAUgBoAMIAyQCGAA4AAABhAFkAUgAAALb/rv/U//L/AADq/9v/2/8lAGgAfgC6AMkA7wAjAUgBzwESAgoC9AHWAd4BzwHAAZMBOQHgALMA2ADgAKQAUgBhAFkAWQAHADQAdwBhACUADgBZAHcAlQBKAGEAYQB+AHAAWQBhAHAALADU/+P/4//U/4n/a/9r/4L/gv/U/9v/4//5/wcAUgBSAFkAHQDb/+P/xf/M/8z/a/9V/z7/L/83/xn/A/8K//T+7P4D/z7/N/9V//T+qf7d/uz+9P64/pP+Xv5P/nX+qf7l/uz+9P4Z/2T/zP/j/73/zP/y//n/n/8+/1X/Ef+a/gX+uv3n/bL9YP1K/Yb9yf39/Tn+hP4K/wr/+/5N/67/xf9k/0b/vf87ADsA+f/q/zQA+f/b/x0AFgAOAA4A7wAhAvIClgOFBCcGSwfKBzIIogh2CBYH5AVHBWAENwL5/9b+G/6m/Cn73vqK+077yPpd+/D87v26/Uj+p/+GAGgAaAB1ATACsQFtARkC6gKYAhICPwK2AokCwAGpAfsBmgGNAEMAswCVAJ//Rv+9/9v/IP/l/lz/n/8g/93+Tf/b/5j/Rv9z/wcAAADU/xYAhgCkADsASgCrAMIAaABKAHcAqwAHAAcAUgBZAPL/c/+Y/6f/a/8g/+z+Cv/W/nX+bf6L/oT+Iv4b/l7+bf5m/k/+hP6h/oT+i/6h/s7+v/6a/tb+9P77/vv+Cv83/zf/L/8v/xn/9P7O/mb+DP7f/bL9b/0O/ab8RPwQ/OP7t/ug+9z7CfzN+837TPwH/W/9uv1P/j7/DgCcAHUBaQMnBocH/gdzCSMMxQ0DDZoMXA3WDBAKNAdNBv0EiwHY/ev7ivvK+UD33/bk9y/4IvfG91D6vvuv++v7/f3y/wAAJQBXAZECcwIwAh8DSQRJBGkDjwMzBNkDNQOgArYCVQJBAX4AdwBKAGv/k/51/mb+Iv7B/cH9Iv79/cH9yf11/uz+7P4D/5j/aADRAOcAfAEoAkYCMAJOAtQCCAPFAj8CIQI3AvsBOQGrAH4ADgBc//T+KP8+/8f+df6E/s7+x/6a/ov+zv7O/s7+1v43/3P/gv9z/7b/QwB3AH4AugDRAOAAugCzANEAqwBDAOr/6v/F/2v/IP8R//v+v/58/l7+SP4U/sH9YP1R/Tv9Jf0H/Q79Fv0O/Tv9pP39/UD+hP6w/hH/Tf9G/yD/7P6p/jH+9v2k/Rb9pvwn/Ov7e/v0+n36HPrC+X/5Ovoh+zb8A/9cAtAE6gbcCTwOxhA2EfERBROzEk8QoA13CzgJGwVZAHf98vtD+ST2p/RL9R/1MPTq9Br38fhS+cr5vvv2/bD+7P4HAJoBKAIZArYC8AOFBEkELAS5BDgF/QRRBB0E8ANiA4ICCgKxAQwBHQA3/7D+Zv7u/Xf9M/0O/f/8vPzL/A79YP13/Yb97v2T/iD/ZP/b/5UAGwFtAfQBawLNAhADaQP3Aw4EDgQOBBUE8ANaA74CPwLeAQUBDgBG/7j+DP53/dr8vPzS/K38+Pwz/cn9FP5t/vT+ev/q/2EAjQDvAFcBhAG4AewBEgIKAuUBzwG4AW0B9gCNABYAp/8o/6n+Of7f/Y39Wf07/Tv9Sv1o/Yb9nP3Y/RT+T/58/pr+x/7W/uX+A/8g/y//Cv8R/xH/+/7l/uX+i/4i/u79uv13/Z78PfwB/Ir7sfpJ+m76UPrK+VL5d/mk+ZP64/t3/Yn/oAJyBjAJyQsdD2ESohPeE94TSROfEQgOcQpLB+EDPv/t+gL4Ova48/DxvPGr8mbzTfTo9UX4hPoY/Gj9L//RALgBMAKJAjUDngOeA7wD9wOFBHYESQRgBG8EQgThA2IDzQIhAscB0QDF/z7/i/66/cv8W/yP/Hn8iPxx/LT8M/2c/RT+uP5c/wAAUgCVACoBxwEwAjACNwJkAnMCegKvAiYDCAO+AvICcQO0AzUDzQJrAhkCUAFDAKf/v/7J/cv8gPyX/K382vx+/Rv+A//q/9EAfAEDAj8CPwIwAjACIQKEAbMAJQC9/03/9P6w/oT+V/5X/nX+mv7W/sf+uP6p/uX+Gf8g/wr/KP8v/zf/Gf8v/z7/5f5t/hv+/f2y/Tv90vzL/MP82vwO/Sz9sv3u/QX+7v2k/f/8nvwJ/Iz6cPlL+Z/43fej9rL2FfbU9KLzo/aJ/6wHnAvREvgcGCfnKKsowigXJAQbhQ8bBSH7cO5F4srYLNUT1rjWVNuW4y3uJfnqAqUOoRfRHR8gGh9hHegZ1hNoC80CTPxR9sTxhO+O7s/vRfG/8y/4y/wbAZgCvAMiBdUFGQZCBK8CdQHq/+z+T/4D/3r/Tf/j/6sA9AF6AjACwAHvAKsAzP+a/mb+2P1Z/Rb9q/3H/mv/SgCkAFcBAwJcAkYC1gGLASMBJQC2/3P/tv+f/zf/n/9wAG0BIQK8A3YIewkfCjgJfwfEBmkDYQD4/F/62fW48wj1v/Pj9PH4Vfu4/kQD8QbvB6AJGwx5Cl8I4gYVBKQASv3l+nL43/bu9o32ivdD+Zn7uv1k/1cBegIIAyYD+QLFAqkBaAAv/6T9+Pzy+/T6I/rZ+dH5u/lQ+jj7qPsY/LT82P0b/rL9M/3D/Fv8e/t1+iX5XPgT98r14/Q69vz6/QAwCcQRaRmAIBMmbCr8Ke8k8RzTEWUFL/iU67rgvdfW0tjRBNZd3hvoEvS6ABINqRc3H64jPCT9IV4b/hJ5CiMBxPhb8QzsgOqP6jbtgPGb9hj8/QAMBeAHZQlHCVIH5gRVAuP/q/0B/DD7ZPue/Ej+SgA/ArwDYASUBFgETAOTAa7/2P1T/Br73vpz+z38Wf0R/xQBggKWAzsEOwRaA04CdQFKAKH+jf3L/On8aP1t/q7/0QB6AmIDWATfBLIEfAVFBpIFsgTIBGcEkQJQAWgAXv7r++36yvmQ+D74S/kN+iH7/f3gANsCIgVwB5sIoghQCPEGhQTeAQP/EPxD+Vb3Z/Yk9sH2XPjt+n79JQC+ArIEtwUgBuQFlAS2AskAV/76+0n60/io90/3+ve9+AX6qPsz/bj++f8qAUEBIwHRAK7/Mf49/Gb6Hvn690/33/Z+9nb2YPbI9pD4nvx6AtcIeA6ZFOQbfiEIJCgj3B8kGk0RvQa++x/xd+dq39XaMdqa3WHjQutL9R0AcQoyE3EZ8RxDHd8avBXKDkMHrv+u+PbyjO+V7oTv//Gl9Tr67P6gAqEFPAezB9sG/QTNAnAAhP7//Ov7t/tx/N/9a//gAAMC2wJEA+oCPwJBAQAAdf5g/bz8rfwd/QX+IP93AKIBoAJEAzUDpwIDAjIBrv9X/m/9+Pzh/Pj8Bf5k/9gANwJEA28E3wQEBZQEvwWMCIEGeAPyAocDzwFe/sH9Cfw6+l/6wPrW+vT6sv1P/nz+ZgHKAzsEtAPmBG0FUQSeA1wCpAD0/rr9efze+oz6z/rI+gv7avxt/on/SgCEASgCRgI/AvsB4AC9/yD/q/0n/Kj7VfuE+g36wPpV+wH8//zu/c7+a/8AAJwAXP+p/rr96/vl+v75XPgT98j2fvYk9lH2Ufbu9s73c/v2AMAIXBFgGh0hUCVZKJUofyRlGzMPAwLb9CHpr96B12LUutVq27nkGPHJ/XsJmxNsG2ogjSHAHqcYRxB/B+z+mfeX8ert5OyH7jTyIvee/G0ByAQWBzoI4AcCBjUDLABR/XP7qvqb+q/7YP1G/4sBjwPXBOYEYATqAhQBGf9o/eP7wPq5+qD7LP1N/yoB4wJnBE8FKgWNBAgDOQH0/tr8ZPt1+jL6m/oJ/P39JQAwAiQE7AXbBjwH2wZ8BdIDAwLy//b9vPwU/r/+Of40AIADfgQ1A+EDZwRGAmgATf93/Wz7mftq/HP7gPxz/+AAMgGgAn4EMwRpAyYD5QEsAOz+2P0Q/Br7gvv6+x/8Fv3H/g4AfgBtAQMCwAEyAckAp/9X/u79Qv02/PL7U/w2/Pr7avz//P/8LP2r/QX+9v0i/lf+df51/kj+0P0O/Sf8gvve+jr6d/nT+Pr3E/e59o32yPZo+Wb+iwX0DOUTzhsxIt4l/iT/IJsagxCNBL/3kuyl4/bcTtpM29/gxekZ9PT+5ggAEjcYTxv8GoQXFhLwCkwDW/yb9u7yH/HL8fvzv/dM/FkAgAPkBcQGTQaFBGsC6v+V/Qn8Gvsw+1P8Of7j/4QBCAPoA60D1AK4AQAAOf6m/MX7c/sB/A79x/6zAFwC/wMxBWUFowRpA/sBBwDn/dT7sfpX+l/6Evut/OX+4ACgAm8EqQUvBhEGbQVvBPICsQGNAE4C0ATFAioBuAEmAzIB1v72/SH70flQ+lX7r/sH/ZwAqQHyAqEFaQfTBrkEvAMoAhYAmv5i/LH60fl9+nP7EPyN/VX/dwDnAPsBzQJGAlcBlQBV/17+/f1Z/WL8Yvw7/VH9uv2T/vv+1v6T/pP+/f2V/Tv96fy0/Pj8jf3J/W3+9P7d/m3+2P3//Jn7Qfo0+XL4zveh9yf4gfjb+HD52fn8+tj96gI4CcEP9BeRH/siiSNRIX8d6xQpCTb8ue9F5ibfJ9su22rfhucf8Wr8SwewEEgXBhoGGmYXpBIjDCQEB/04993zfvKr8on0Efgn/PL/6gJeBT4GdAXSA7gBDgAq/sP81PvU+/D8mv6NAAoCkQIBA9QC+wF+ABH/0P1M/Hv7oPu8/G3+BwCaATUDhQQMBe4ESQTFAuAA3f4W/b77/Pq5+jD7GPyy/ZD/fAHyAvcD1wQ4BQQFdgTSA80ChAFSAOP/zwG5BDMErwJzAloDqQFk/8n9Evth+cL5z/rF+6v9/QAoAj0DTwUeB9MGyAQIA0gBRv8M/j383voF+m76VftE/Pb9tv/2AHUBAwIBA80CMAIqAaf/T/6c/Qf9J/zy+0T8W/zL/Mn9fP6E/l7+Xv4x/jn+df5m/hv+Of5t/m3+i/7l/m3+b/3p/Fv83vrg+Xf5B/kR+Oz3vfg8+Yb5wvmO+UH6Dv18AeIGoA3aFaIeCiMmJAwioh45F0ML7v3r8Pjmj99F2zbbPd/g557xTPxLB90QkxfDGR4ZJRbzEMQKEAM9/Nf21vMM893zdva7+ZX9QQGPA3wFCgYbBfICpACw/jP9Pfzc+wn8hv0Z/+AAGQL5AhcDMAJIAcz/df5R/Wr8GPyP/ND9gv85Ac0C8AOFBKME6APjAosBn/+V/Sf8Xfve+jj7W/xo/bj+UgASAkwDOwTXBNcEhQT3A1MDpwLNAsEEQAXhA9sCzQIoAtT/nP0/+zz5vfgl+Wb6GPwK/4QBPQNtBX8HSQjxBu4E6gLJALj+4fxO+zL64Pmx+r77Uf3l/lIABQGEAT8CggIhAm0BWQBG/3X+FP5v/fD82vzw/DP9jf05/qH+zv7d/t3+IP8Z/93+k/5A/tj9q/3J/fb9/f0F/v39/f0q/hv+d/2I/FX71vqx+s/65frP+vz6c/tV+wP7ffqd+Tz5sfpA/gYE5wvJFu0egyLHIoMioB/JFoIJOPuz7nvlc96X29HcgeK06pj06v8HC/wTRhhGGDMWaRKJDZ8Ga/9L+Sb1qfMw9EL2rPlK/VkAtgIxBYEGAgYOBFcB1v5C/Xn8Cfy++4/89v2n/zkBawLNAj8CGwHb/8f+Bf47/a38pvyV/VX/KgGYArQDbwRnBNIDCAPlAVIAXv6e/Gz7C/ts++v7y/wi/pj/BQFkAngDSQR+BHYELATwAz0DegLAAasA1P/gAK0DIgX5AvsBRgKiAUb/aP3c+7P5s/kw+7T8hP5tAVoDwwOrBAIGJwYdBKIBrv/2/bT8LvzU+5H71PsH/Qz+Cv93AF8BQQHRABsBXwHRACwATf9A/rL92P2r/Xf9nP2y/aT9SP7l/hn/N//0/nX+SP6E/k/+7v3Q/TH+df7H/vv+Cv/l/pr+Of6G/Zf8vvsw+336FPpm+u369Prl+k77t/uC+zj7IfvN+6v9IwFUBqkMzRQvHHMfPx/THC0ZTRE2Bv75De9h50XifuBr4iPoTvDT+M8BjwquETYVghTxEQEOTgkOBIT+BfoT92f2R/cl+dz7mv4bAWQCNQPKA4ADNwI0AIv+lf1o/aT93/18/pj/hgAbAYQBbQHYANT/v/7Y/X79q/3J/Rv+L/9hAMcBtgJ4A3EDJgOYApoBlQBr/17+YP3D/Lz88Px+/TH+Rv/q/8kA7AGYAiYDLgOAA4cDcQNxA78FMgjEBmAEtANEAzsAUf0h+xj4svZe91L5R/uE/hkCHQR8BTwHwAh4B1gE3gG2/9j9j/zr+137EvtT/Lr91v7b/9gADAEWACwAdwB3APL/gv8K/+X+Pv+J/zf/5f64/jn+Bf4M/gz+DP7J/ZX97v2p/hH/Tf8+/+z++/4+/zf/zv7O/lf+9v3u/cn9uv1+/UL9tPx5/D38GPyI/Jf8Nvzj+xD8W/xT/D381PsD+8j6qPu6/QUBiwVKCy8R7BdNHB4dQhrhFVEPzgWK++HxtOpM5mfkJ+ZY6wzzz/qCAmUJ6A7TEbUR8A4HC4kG9AHJ/bn62/hy+Ib5KftZ/cz/uAGRApgCawIKAjIBxf91/u79Bf5X/sf+XP80AHcAhgBoAAAAZP/H/gX+jf2V/Sr+IP8dANgAwAGnAiYDAQPFAlUCXwEWADf/Xv7J/UL9+Pwz/cn9SP7s/sX/aADnALgBRgKRAr4CLgNxAzUDCAPFApQENAfkBSYDCgIwAq7/B/1k+xb5VPha+Uf7+PwAAMUCHQTmBL8F0wbGBc0CaACh/ob9nvx5/Hn8W/xg/U/+Cv/F/5UAlQC2/5j/QwCNAGEAFgCu/0b/c/9V/+X+Mf7f/Ur9LP2V/SL+i/64/sf+IP+n/w4A8v9N/6n+SP79/av95/0F/uf9FP64/jf/a/9V/8f+7v0l/YD8TPyC+7n6Ovp1+hr73Ptb/NT7ivuo+xD88Pyp/lUC/gfoDh0W/Br4HPMb+Rj+Eq8JTf/y9HTsiOYG5Djltumg8FT4lQBJCIcO+BHqEXYPpAseB5gCQP4S+/H4XPgl+RL70P0AAKkBegLUArYCNwJtAQcAx/4M/u79QP64/jf/tv/j/x0ADgD5/1z/zv5A/tD97v18/mT/LADvALgBTgLUAvICtgIoAlABWQCC/7D+Bf6c/UL9Sv2c/Tn+zv5V//n/lQAjAdYBTgLjAh8DLgM9AxcDzQJGArEBLgMvBoMFiQKTASECev+8/D/7Wvly+LP51Puk/ckAlgP1BG0FoQVUBioFEgJV/9D9rfzj+zb8j/zD/Nj97P6n/2EA/QDRAPL/if/b/0MA+f+Q/yD/7P4o/xn/v/51/jn+/f32/Tn+mv4K/wP/1v70/kb/IP/s/nX+9v3u/UD+QP6E/gP/ZP+Y/9v/AAC9/1X/i/6r/bz8+vtd+yH7GvsL+2T7U/xR/W/9aP07/en8efzN+/L7/f2JAugHJg6KFEQZwRo8Gf8VOBB4B2/95fPs7M/oaOcD6YntKPQ4+2sC1whcDToPeA7JC0kIlAT9ANj9kftm+m76ivtK/Qr/fgCLAfQB9AG4ASoBpADM/wr/sP70/mT/if+u/5D/kP9V/yj/v/5I/v392P1I/s7+if9DACMBsQEZAk4CmAJOAuwBVwGrABYAZP/s/nX+G/79/QX+Of5t/r/+Gf+Q/zsAyQCTARkCiQIIA3EDjwNMA80CCgJBARYAKP/7/scBMwQuA94BtgL5AroAIP9R/Rr7hPpV+2L89v39AJgClgP/A4UE1wQ9A6sAV/4z/Vv8RPzS/DP9FP4v//n/dwAMAVcBpAC9/z7/Vf+Y/1z/KP/d/vv+A//7/r/+hP5e/gz+Kv51/uz+Pv9c/y//7P43/yj/v/5P/jn+QP5X/vT+p/8HAB0AJQDy/3P/Cv9I/ln9avwB/JH7gvvr+7z8Qv2G/U/+Rv9G/1f+wf0H/dz7c/ue/In/gANYCPsMVBGgFP8VRxQEEDYKhwNE/GL1bPAl7vntou9t89P4of6PA2kHmQljCtUJ/gdHBaACWQBe/jP9tPwH/cH9mv5c/wAAWQBoAIYAJQDb/67/mP+n/8X/+f87AAcA6v+n/3P/Ef+w/l7+T/5t/rj+KP+u/1IA7wBXAYQBogFfATkB5wCNAA4Axf+C/1z/XP83/1X/ZP9r/03/Rv8v/yj/mP/b/x0AfgBtAQoCPwKvAvkCFwN6AgoCfAGcAIL/Cv/HAaMEBgQZArYCtgJ3ABn/O/25+iv6oPu8/DH+bQFTA+gDngPhA+gDawI7ANj9l/zy+3n8O/32/S//OwDCAPYAVwEyAYYAkP+a/qH++/4Z/yD/A/8Z/xH/KP8K/8f+i/4U/uf99v1m/t3+Cv8o/0b/a/+n/73/ZP/7/rD+uP7l/j7/ZP+C/6f/a/83//T+bf6y/SX9+Py8/Af98Py8/Nr8//wO/TP9d/1K/Rb92vyI/P/8N/++AlIH9guqD4YSMBQ6EwQQvAp2BLr9OPeV8inwEvC88a708fjf/ZEC7AXgB1AIcAe3BbQDCgKrAIn/9P6w/jf/n/8sAEMA6v9r/wP/5f7O/vT+N/+f/x0AhgAFATIB7wAWAE3/qf5A/gX+9v0b/nz+IP/b/40AKgFQATkBFAHYALoAqwBSAA4AUgBZAGEAcABoADQAtv8o/7/+Xv5A/jH+T/6T/k3/SgA5AfQBVQL5AhAD+QKvAkYCsQHvADQATf/s/nz+T/56/+gDCgb3A68CwwNkAqf/k/4u/F/6TvsH/Sr+lQAuA5YDJgMwAjcChAGu/6T9iPxE/Cz9zv6C/1kAOQHvAGEAWQAOAFX/7P4q/gz+L/87AI0AWQDy/3r/Cv9e/u79sv1Z/Ur90P2a/pj/UgA7AMX/gv9G//v+1v51/kD+i/7W/mT/8v9ZADQAAABV/2b+3/1C/Yj8Cfwn/Hn8//xo/dj9Mf4U/rL9b/0l/Zf8CfyZ+zb8uP7NAo4HTwwxEI4SkxN/EjMPxglpA578wfbY8tzwNvE582D2X/rW/pgCfAUtBx4HPgbfBIADXALAAQwBcAAsAL3/ev8o/7D+9v1o/Sz9pP2L/qf/nAB8ASgCXAJOAuwBBQGu/2b+Uf3h/PD8Sv32/db+xf+kADkBuAG4AUgBqwBZAGEANAAAAPL/LABZAH4AqwCVAAcAev8o/17+Kv45/nX+qf4o/8X/5wC4ARICKAJrAqACRgLPAbEBSAGcAOP/tv9r/xH/9P6T/lf+x/6xAdAENga3BVYFFQQZAroAXv7D/NT7gPy8/E/+SgCpAccBqwAlAGT/IP+h/l7+Kv70/kMABQHPARICiwFDACj/QP6y/br9wf0F/ov+rv+kAAwB2AB3AK7/3f4q/sH9sv3Y/Qz+FP6p/jf/Rv8D/9b+df5e/pP+5f6Y/x0AfgDCANgApABDAHr/i/53/Xn86/tH+zD7mfsJ/B/8nvwz/WD9hv26/Wj92vye/On8Of6TAU0GlQsMEBwTVRRfE+YPVArhAzv9MffQ8uvwvPEZ9HT3OPsD/woCHQQEBeYEQgQ1A3MCKAJrAs0C2wKCAqkBfgAg/6v9gPzN+777pvwb/tv/mgHFAloDAQNcAlcBHQCp/m/94fz4/Gj9Of4Z/wcAaACVAGgAHQDj/8z/2/8AAIYA/QB8Ad4BCgLeAQwBaACQ//v+Mf79/cH9yf0b/nz+Pv/y/5wA2AAyAakBEgIwAigCRgJkAiECxwFtAe8A4/8K/4T+9v3n/RT+Xv6w/k3/DgBwAIYAugBrAmkHNgpYCAIGTwVOArj+aP25+lT4+Pg/+yf87P5rAmkD1gEHAHcA8v8o/5j/+f9z/8IArwJkAvsB1gEAANr8r/u++yf8M/3O/sX/jQDPAVUCsQFKAGT/yf1b/Jf8nP0F/rj+Tf/H/m3+qf6a/rr9yf0q/qn+n/8bATACAwKEAcIAp/9t/pX9iPz8+uD5rPkN+k77W/xC/Yb9hv2k/br9uv1C/R39jf1SAEAFBwuDEO0T+hTvElEP5AmeA0L9fPd189PxBfPZ9bP56fxk/6QAbQH0ASgCMAJOAuMCjwOrBF4FgwVYBAMCL/+I/PT6SfrP+gH83/3F/6IBvgJaAxADAwKkAPv+G/7f/U/+sP4R/3P/rv+n/3P/Pv8D/+X+A/+u/5wAdQHeATcC7AEyAZUAJQC2/z7/3f7l/k3/n/+9/9v/rv9G/87+sP4K/6f/BwCVAHUBKAJrApgCrwI3ApMB0QBwANT/zP+Y/zf/Cv8Z/y//v/6h/rj+mP81A3IGnwYMBcgE6gJZAAP/2P2e/Fv8Bf5G//0ATgLFAlABEf9A/uf9jf0x/vn/nAB1ASgCIQJBAUoAuP7D/Nz7RPzn/Z//VwEoAigCiwGzAGv/FP5g/Qf9+Pyr/fv+2/9SABYAXP9e/pz9Sv13/fb9sP5G/7b/OwBZAPL/rv96//T+9P56/67/gv9r/93+q/2e/OP7c/vl+jD7+vuA/EL9G/6T/jH+hv1E/IL76/uw/iYDzwhTDswR/hIeEm8P6QrXBBH/dfq399f2Vvf4+MD6W/wd/Y39wf0x/ij/pAAZAtIDfAWJBtsGvwXDA4QB+/68/HP7gvuI/N/9Vf+NAGYBhAEUAY0ADgC9/1X/Pv+Y/0MAhgBKAPL/XP+h/hv+yf3Y/Vf+A//y/7MAdQHHAYsB7wDCAJUALAA7AJwAnABDAFIAHQCJ/+X+Zv5P/hT+DP6E/mT/+f+VABQBiwG4ASECegKnAj8CKAIKAoQBwgA0ANv/5f5m/hT+SP45/qH+sP4R/40AXAY2CsoHLARTAzkBDP6h/qT9B/2k/cIAIwEUAdEAyQCh/m76MPu8/Of9AABEAzUD2wLNAvsB+/66/X79O/2k/bD+cACaAbgBMgHj/wz+hv0s/WD9Bf6h/on/tv/j//T+V/7B/Sz94fxg/TH+Tf9SAJwAYQDF/3P/Gf/s/gP/mP/j/5j/IP+p/u79+Pw2/MX7r/ti/P/8fv3B/WD9y/wY/D38cfwH/VH9sv1G/74CIwhVDYMQxhCbD6kMCwnfBEEBIv42/Br7Tvs2/K38H/zl+qz5YfmE+p78vf+CAo0E7AWYBhkG9QQBA/YAN/9A/m3+L/8sAFkAUgCQ/7/+SP4F/hT+df4+/1IAGwF1AXUB5wDb/7D+Of4q/lf+IP/y/0oAYQAsAOr/ZP8v/2T/6v+NAEgB+wH7AdYBkwEMAQAAA//d/vT+x/6h/vv+Gf9V/2v/N/8o/1X/AADgAKkBVQKgApECMAISAgMCiwEMAR0AzP+u/8X/Cv+a/mT/fAXvB7kEnADgAD7/FP6f/z7/n/9oALEBkP9KAHcA+f+e/AP7Fv0WAIQBegJ6ApUA2/9G/3X+Xv7b/z7/9P5r/2gAwgCNAGT/0P13/ef9Tf/F/0oAFgBG//397v0U/v39SP45/gX+qf6J/z7/fP72/aT9hv2w/iUAFAHvAKQAaAC9/03/gv8+/8H9avym/Ib92P0i/t/9Uf3S/Af9//wW/aT9G/4M/iL+i/7W/gr/KP93ALwDKQk3DUQOhAw2CmkHyAQ3AiMBAABN/0/+lf0W/Vv8Xfu7+X/5K/rS/NT/pwLZAxUEaQMBA6cC+wH7Ac8BiwH9ADkBSAGcAE3/DP5C/Rb9d/2//gcAQwAOAAcA4/+n/3r/c/+C/5j/tv/y/0MAUgD5/y//3f4K/6f/OwCcANgAswBKAGgABQFmAckASgBKAAAA1P/5/3AA2/8K/17+hP70/pj/FgAHADQAhgAMAXUBCgIwAiECqQEqATIB+wEKArIEAwklB3wB/f2T/sv8Qv28/CX9Wf2L/uX+AAC6AGgAkP9A/ij/dQFxA54DYgNIAXAAUgCn/17+5f64/pz9wf2a/q7/a/+p/v39Bf4q/oL/dwB3AB0A8v8o//v+Rv9N/wr/fP79/Qz+k/5t/jH+2P3Y/f39Xv4D/x0AqwCkAKQAyQDYANgAlQAAAPT+hv0H/f/8Dv2G/TH+G/6G/Yb99v2L/ov+i/64/s7+mv70/mv/+/7H/vv+Gf8K/8z/mgG1Bo0LBQxQCNUFqQVvBK8CuAE1A04CNABP/uz+q/3j++36IfvU+0r9HQD7AdYBQwDRALMABQF1AeMC+QI/AioBDAFmAboAxf8Z/87+1v6J/67/8v9c//v+Iv4q/nz+AACGAGEADgBDAAAAa/9G/yj/a/9z//n/FgA7ACwAOwDb/8z/fgDvAPYAugD2AOcAqwBKAGgAlQAjAe8AjQCcAGYBQQFhAFkASAGxASMByQDCABQBMgEbAbMAjQBwAEMAn/8AAJwAQwCQ/xH/L//M/+r/AAA7ADQASgDy/8z/zP8lAAAA6v/q/9T/HQDU/1X/Gf8v/yD/7P7H/rD+1v64/pP+v/7H/iD/Tf83/3r/1P/j/9T/mP9N/03/ZP9r/yj/+/7l/t3+x/4D/yj/A/+T/oT+5f70/mEASgAAAFX/Zv6T/iL+Iv69//n/UgBc/8f+Zv4F/rD++/4R/z7/mP8AAGT/1v6T/uf9DP70/kMA5wAMAZUAvf/7/hn//QDSA2MG6gYMBVoD2wIDAnUBEgIIA7YCogFIAeAARv9v/SX9pP1P/pj/SAESAkEBtv8Z/1z/kP/CAAMCcwLHAe8AfgDM/03/c//5/1kAyQAUAYYAvf/O/nz+bf4Z/ywADAHYACUAif9c/yj/a/9wACoBQQH9AH4AmP+f/73/4//q/5wAIwEUAfYAcADF/6f/FgCGANEAOQFBAZwAn/9k/03/gv8HADsA+f/q//L/DgAlAA4ASgAWADsAhgDRAOAAhgAsAOP/+f87AFIAUgA7ALb/ZP9G/2T/if+C/y//IP9c/8X/6v/M/7b/mP9N/03/if/M/5j/Rv/7/t3+7P4R/yj/KP9k/4n/tv/U/9v/n/9V/0b/ZP+Y/5//gv8R//T+1v77/t3+zv6E/oT+df4Z/wcAaAAOABYAa/9X/nz+Pv+Y/xn/Ef/l/gP/Vf9+AKsADgBc/zf/KP+C/ywAnADCAH4AHQA0AAcA2/8OAFIA2ADeATACNwISAm0BswCcAKsAKgGaASgC+wEUAUMA2//y/7MAUAEjAfYAwgBhACUAUgA7APn/BwCkADkBGwH2AKsADgBc/5j/QwBmAd4BqQFwAFz/N//U/1IAfgCVAGgALABr/3P/Rv9r/2T/1P8OAHAAhgBhAPL/XP9k/+P/hgD2AOAAcACn/y//a//q/2EApACrAI0AQwAsANT/2//j/ywAQwBZAEoABwCn/y//Ef83/6f/DgAOAMX/a/8g/0b/n/8AAB0AAADM/5//kP9r/1X/Tf83/y//N/9z/4L/Tf/d/pr+zv5c/8z/gv/l/pP+zv56/+r/LAAWAA4AmP/s/vv+vf/5/yj/qf7l/oT+3/18/jf/9P7H/pD/+f8WAGEAqwAlAA4AWQBoAEoAfgBSANT/rv9r/9v/AAAHAL3/a/+u/xYAWQBSAIYAWQAHALb/lQBQAVAByQDnAEgB7wDvAF8B5QHeATkBOwBZAIQBNwLsAdEAYQB+APYA5wAUAdEAswBhAPn/c/8AAFkALADy/0oAugBoAPL/vf8OAKQA2ADCAKsAcADb/9T/6v87AFkAOwDM/1z/XP+n/2v/kP/j/+P/1P80AHAAWQBhAEoAQwBSAKQAhgBKAB0AHQAOAPn/n/+Q/8X/rv+C/6f/xf+u/2v/kP/M/x0AcABSAOP/4/8HAEMAcACGAGEAHQCf/4L/p/+9/5//rv+C/2T/Cv8K/0b/Gf8o/3P/gv9c/2v/gv+9/7b/vf+C/6f/p//F/67/ev9N/y//N/+C/67/1P/5/+P/vf+C/2v/if+9/x0ASgDy/4n/ZP+Q/wcAcABhACUA8v/U//L/SgBZAHcAUgBSAAcA2//b/+P/1P/F/8z/+f80APL/2/+Y/6f/tv/b/wAAWQBSAEMABwAWACwAWQBoALoAswBwACUA8v/q/x0AYQCrANgApABoAFIAUgBSAJUA9gBBATIB2AAdALb/1P9KAJwAswB3AEoA+f/b/9v/+f8sAKQA2ACzADsAFgDU/67/AAB3AI0AcAD5/8X/n//F/wAANABZAIYAUgBhAGEAJQBSAFIAWQBoAFkAOwD5/67/ev+Q/67/2//y//n/2/+n/5//vf/j/+P/HQAOAOr/zP+9/73/rv/M/67/zP+Y/2T/N/8K/yD/N/8o/zf/XP9r/3P/n//U/wAAFgAsAHAAfgBZACUA4//U/5j/Vf9N/2T/IP+L/rj++/7s/gP/XP9k/zf/L/+n/73/AABhAEoAHQA7ADQAWQAHAB0AFgD5/8X/mP9V/0b/Cv8v/2T/xf/q/73/p//b//n/WQB3AIYAUgBhAI0AwgCrALoAyQDCAPYASAEjAXAA6v8sAKQAMgFtAXwB9gAdANv/YQDJAEEBkwFtAeAAugDvAFABFAHRALMAcABKAFIASgAHALb/a/9k/9v/OwBZAGEAUgBKAH4A5wAUASoBGwHJAI0ALAAdAEMAAADM/2v/Tf9k/0b/Pv9N/z7/XP+C/5j/zP/b/8z/xf/U/wcAQwAsABYA+f96/0b/KP8+/03/ZP8o/+z+3f7W/vT+N/9k/4n/n/+f/9T/+f9SAHAApABoAGEAhgCNAGEAQwAHAOP/2/+n/3r/a/9r/y//A/8o/0b/a/9r/1X/XP9r/2T/a/+J/4n/c/9r/5//kP9r/0b/A/8Z/1X/gv+J/3r/a/9z/6f/1P/y/0oADgDb/8z/zP/5/0MANAA7AGEAOwA0AHAA4ABIASMB9gDJAKsAhgB+ACUA8v8dAFIAswDYADkBVwEMAeAAyQDRAOcAdQHHAaIBKgH9AOcAlQBSAFIAUgBhAEMASgAlAOr/6v/b//n/DgBSAFkANADM/9v/6v/5/+P/FgAWAPL/OwBwAHAAjQBwAFkAnACGAIYAYQAWAAAAzP+n/67/1P+9/5D/Pv8K/wr/KP8v/1z/ev+f/67/rv+f/6f/zP/j//n/FgAAAB0ABwDb/8z/2/8HAGEAOwBDAB0A8v/b/8X/rv/F/9v/4//b/9v/xf/b/+P/4/8AAOP/8v/q/9v/4//M/7b/4/8OAA4ADgD5/7b/p/8AAAcA4//q/5//n/+Y/4L/kP/F/4n/p//b/9v/6v/q/6f/p//F//n/QwD5/73/kP9G/xH/Vf9r/5j/xf+n/67/mP+n/8z/+f8AAAcA6v/U/wAAFgAAAPn/2/8AAAcADgAAACwAUgBhAFkAYQB3AGgAWQAWAAAAHQAlAFkAdwCGAHcANAAAAEMAdwDgAAUB7wDvAOAA0QDCAJUAWQBSAGgAaACVALoAnABwAEMAHQAOADsASgBoAGgAWQBhADsAOwA0ADQANAA0AA4ANABZABYA8v8AANT/DgAHAPn/4/+2/5//n/96/4L/if96/2T/a/9r/6f/gv+C/3r/kP+n/5//kP9z/3P/if96/2v/ZP9r/3r/a/96/5D/n/+9/+P/2//q/xYAFgAdAB0AHQAdAA4A8v/q/9v/2//j/+P/8v/5//L/+f8HAA4A4//b/9T/4//b/9v/xf/b/8z/zP+Q/3r/kP+9/8X/tv/j/wcAOwBZABYA6v/y//n/AAAdAAAA8v/j/7b/if+2/7b/p/+f/6f/rv/j/+P/QwBwAH4AcACVAHAAAADj/w4AUgBSAJUABQHvANgAdwBSAB0ANABSAGgAnADCAOcA5wAUATIBQQFIAUEBIwEFARsB4ADJAIYAWQAlAAAA+f/U/7b/tv+u/8X/n/+f/5//if+n/67/xf/F/9v/zP/M/+P/xf/b/+r/6v/5//L/FgAlABYAOwAdAB0A6v/b/5//if9z/2T/a/9k/03/N/9N/zf/Tf9G/03/a/96/5j/zP/b/wAAHQAsACwAQwA7AEoALAAHAPn/+f8AACUADgAAAB0ANAA0AEoAUgA7AEoAHQAHAA4AHQAdAEoASgAWABYA+f8HAOr/4//F/9v/zP/M/8X/2/+2/8z/tv+n/73/zP/U/+P/DgBKAKf/dwAOAJD/2//U/9v/+f/U/73/6v+u/8z/n/+u/+P/6v8dAEMAOwBZAEoAUgBSAFIAUgBSAFkAcACcALMApACrAJwApADJAKsAqwCVAH4AfgCGAIYAhgBhAFkASgAlAAcADgAAAA4A8v8sAFkASgBZAFIAYQBoAFkAWQBhAGEAUgAlAA4AHQAHAOP/1P+2/4L/gv+Q/4n/mP+f/8X/2//5//n/+f/5/+r/2//F/73/vf+n/7b/tv+u/8X/vf/F/67/zP/U/+r/AAAWACwADgAAAAAA4//b/+P/4//U/+r/6v/5//n/AAAAAAcAQwA0AEMAOwA0AEMAHQAdAAcABwDb/+P/1P/b/9v/2/+9/8X/vf+2/9v/2//y//n/DgAlAAcA+f8WABYAFgAsAB0A+f/y/+r/1P/b/8z/2//b/+r/xf/M/8X/1P/M/9T/zP/j//n/6v/y/+P/4//b/9v/2//U/9v/zP/b/9v/8v/q/xYABwAlACUALAAWABYAFgAOAB0ASgAdADsASgBKACUAHQAWACUAOwA0AEMAQwAlAEMANAAHAA4AFgAsACwAAAAHAB0A8v/q//n/8v/5/x0AQwAOACwAOwAOAAcADgAAAOr/6v/j/9v/2//U//L/+f/U/9v/2//j/9v/4//b//L/+f/y//L/8v/y/wAA6v/j/9v/zP+9/8z/1P+9/8z/vf+2/73/tv+9/8X/2//b/+P/6v/y/+r/2//y//L/4//y//n/+f8HAPL/+f/5/wcA6v8OAAcAAAAOAAAA+f/j/+r/2//y/wAAFgAWAB0AAADy/9v/8v/j/+P/6v/y//L/8v8AAPn/AADy/+r/+f/y/wcAFgAWAPL/6v/q//L/8v/j/+r/4//j/9v/4//F/9v/2//q/+r/8v8HAOr/8v/q/+P/BwAWABYAHQAHABYAAADj/+P/+f8HAOr/+f8AAAcA+f/j/+P/8v/b/+P/4//j/+P/8v8AAPn/HQAdACUAFgAAAAAAAAAWAB0AFgAWAAAA+f8OACUADgAHAPn/FgAWAPn/BwAdAA4AFgAOABYADgAOAPL/2//j/9T/1P/q//n/AAD5/wcA6v/j//L/4//5/wAA8v8AAPn/8v8AAOr/8v/j/9v/4/8AAAAA+f/5//n/6v/j//L/6v/5//L/4/8AAAAA6v/j/+P/2//j/9v/8v/b/+P/2//j//n/+f/y/wAAAADy//n/AAAdAOP/+f8AAPL/2//y//n/+f/y//n/+f/5/+P/4//j/+r/AADy/wAAAADj//L/+f/5/wAAAAAHAAcAAAAHAAAA+f8HAA4AAADy/wcA8v/b/wAABwAOAPn/HQAdACUAFgD5/+r/6v/5/+r/4//5//n/8v/b/+P/+f8HAAAAFgAlAB0ALAAlAAcADgD5/w4ABwAOABYAAADy//n/8v/q/+r/+f/y/wAA+f8AAAAAAADy/wAABwD5/wAABwAHAPn/BwAOAAAAAAAHABYADgAWAAAAHQAHAA4ADgAAAB0AHQAlABYAJQAlAB0AFgAdAA4ABwAAAA4ABwDy/wAAAAD5/wAA+f/q/+P/4//q/+r/BwDy//n/8v/5/9v/6v8AAOP/8v/5//L/4//j/+r/AAAAAPL/BwAOAA4ABwDy//L/AADy/+r/+f/5/wAA8v8AAAAA+f/5//L/AAD5/wAAHQAdAAAABwAHAAcAFgAAAB0AFgAWAAAABwD5//L/BwAWAAAABwAWABYADgAAAAAA+f8HAAAADgAdAA4AHQAOAAAA8v/j//n/6v/q/+r/8v8HAPL/+f/5/+P/p/9KAPn/AAAdAEoAQwBDABYABwAlAA4AJQAAAPL/DgAWAA4A8v/q/wcA+f/y//L/DgAAANv/6v/y/wAAAAAHAAAAFgAOACwAHQAHAA4AFgAOABYAUgAsACUADgD5/+r/8v8HAOr/8v8HAAAAAADy//L/AAD5//L/+f8OAA4AFgAHAAAAFgDy//n/4//q/+r/4//q/wcAAAD5//n/+f/y//n/+f8AAPn/BwAdAA4AAAAdABYAFgD5//n/2//q/+P/BwDb/x0Atv9DACUABwD5//L/DgDy/wAA4/8dAAAAHQDy/x0ADgAHAEoADgAWABYAHQAdACwASgAWABYADgAWAB0AAADy//L/8v8AAA4ABwDq/+P/4//q/+P/6v/q/9v/2//b/+r/6v/q//n/FgD5//L/DgAHAAAAAADy//L/4/8AAAAA+f/y/wAA+f8OAAAA8v8OAAAA4/8HABYAFgD5/w4AFgAWAA4AQwAdABYAJQAHAAAAHQAOABYAHQAdAA4A+f8AAOr/DgDy/+P/AADy/wcAAAAWAOr/+f/5/wAAAAAHAB0ABwAAAA4AAAD5/w4A8v/q/+P/4//q/9v/2//U//L/+f/q/w4ABwDj//L/+f/j//L/FgD5/wcA+f8WAA4ABwAHABYABwD5/w4ANAAAAOr/OwBDAOr/FgD5//n/BwD5/wAA4/8AAA4AHQAHAA4A+f8WABYAHQAAAPn/BwAOAPL/+f/q/wAADgAWAAAAAAAOAAAAAAD5/wAABwAWABYA8v8HAA4A+f/5/+P/2//q/+r/2//j/+P/4//b/+P/2//j/+P/BwAdACUAFgD5/w4AHQBKAA4A6v/5/wAA+f/q/+P/+f8HAB0ABwDq/+P/+f/q/+r/6v/5/wAA4//q//n/1P8AAA4ADgAOAA4ABwAAAAcAUgAAALb/1P/j//n/8v/y//n/AAAAAAcA8v8HABYAAAAAAAcA8v/y/wAA6v/j//L/6v/q/wAA8v/j//n/2//j//L/4//b/+P/6v8HAA4AAAD5/wAA+f/5/wcAAAAAAPn/BwAWAPL/+f/y/wAABwDq//n/8v/b//L/8v/q/wcAFgAWAAcAAAAAAAAA8v/j/wAA6v8HAA4AAAAWAAcAFgD5/wcAAAD5/wAAAAAWABYAHQAWAA4AAAAWAAAA8v/5/wAA+f8HAA4AAAAWAAAAAAD5/wcA6v/q/wAA+f/5//n/+f/j/+r/AAD5//L/AAD5//L/4/8AAAcA+f8AAAcAFgAOAA4A+f/5/wcA6v8HAPn/FgAAAAcADgDy/w4ABwAOAA4ADgD5/wAA8v/5//L/FgAHABYA+f8HAAAA+f/y/wAAAAAAAPn/AADy//n/AAAAAAAAFgAOAAAA+f8AAPn/8v8AAPL/BwAdABYAAAD5/+r/FgAHAPL/6v/q/wAAAADj//n/DgAHABYADgAAAOr/DgD5//n/+f8OAAcADgAAAPn/+f/j/w4ABwAAAAAA+f/y//L/4/8AAA4ADgAOAPL/+f/q/w4ADgAAAAcABwAWAA4ABwD5//n/8v/5//n/+f/y//n/+f8AAOr/4//5/wcADgD5/wAA+f8HAOr/AAD5/+r/DgAOAAcA+f/5/wAAAAAAAA4AHQAAAB0AAAAWABYABwD5/wcAAAAOAAcAFgAdACwAHQAOAPn/+f/q/+r/+f/5//n/8v/5/+r/1P/j/+P/2//y//n/AAD5//L/8v/5//n/AAAAAPn/8v/5/wcA6v/q/wAADgAAAOP/8v/q/+P/4//b//n/6v/q/xYAFgAOAAcAFgD5/wAADgAOAAAABwAlACUAFgAdAAAABwAAAPn/8v8WABYAHQAsABYAFgAWACUADgAdAAAABwDy/wcADgAOACUAFgAAAA4AFgAHAA4A+f/5//n/6v/5/w4AAAAlAAAADgAAABYAAAAAAOr/6v/j//n/DgAWAAcAAADy/wAA8v8OAAAAAADy//n/AAAOAPn/BwAWAAAAAAD5//L/AAAHAPL/AAAOAPn/AAAAAOP/8v8AAAAAFgD5/wAA2//b//L/SgA7ABYADgD5/+P/2//5//L/+f8dABYAFgAAAOP/4//b/+P/+f8HABYAAAAAAOP/8v/y/wAAAAAAAA4AAAD5/wAA6v/q/+r/8v8AAPL/AAAWAA4A8v/y/wcAAADb/+r/+f/y/w4AAAD5//L/+f/5//L/6v/5/x0ABwDj/+r/AAAAAAcABwAOAAcADgD5/xYAAAAAAAAA6v/y/+r/8v/5/xYAAADy/w4ABwDU//n/HQAHAPn/6v/q/wAA4//q/wAA+f8AABYABwAAAAAA8v/q/9v/6v/y//n/DgD5/w4ADgAWAA4A8v/b//n/8v8AAPn/DgAHAPL/AAAAAPn/+f/y/wcAFgAAABYAFgAHAA4A+f/5/x0AFgD5/wcA8v8HAAcADgAHAAAAHQAOABYADgAOAPn/FgAAAAAADgDy/+P/AAD5/+r/4/8OABYAHQDy//n/AAD5/+r/DgAAAPL/8v8AAPn/AAAWAAAADgAAAPn/AAD5//L/6v/5/+P/DgD5/+P/8v8AAPL/+f8HACUABwAOAAcADgAAABYADgAAAB0AFgAdAA4ADgD5/xYAAAD5/wAAFgAWAAcADgDy/wAA4//y//L/FgAdACUABwAOABYAJQAHAAcA+f8AAAcABwAHAPn/6v/y/yUADgAAAPL/+f/q//L/+f/5/+r/8v8HABYADgAHAA4ABwDy/+P/6v/q//n/+f8AAPn/+f8OAOr/8v8AAPn/AAAAAPn/FgAOAAAABwAOABYA8v8HAAcA8v/y/+P/FgD5//n/+f/5/wcABwAOAAcA6v/5//L/BwAAABYAAAAAAAAABwAWAA4AAAAOAPn/AAD5/wAABwD5//n/AAAWAA4AAAD5/wcABwD5/wcA+f8AAPL/AAD5//L/+f8HAA4A8v/j/+r/AADb/w4AAAD5/x0A+f/5//n/BwDy/+r/BwD5/w4A4/8HAOr/+f8AAPn/+f/5//n/AADq//n/AADq//n/8v8HAPL/8v/5//L/+f/y/wAA+f/y/w4AHQAdAA4AAAAWAPL/8v/y//n/AADq/wAAAADq/wcA+f/5//n/DgAAAPn/6v/q//n/4/8AAOP/4//5/wAABwDy/+r/AAAHAAAA8v8AAAAAAAAOABYAFgDq/+P/8v/5//n/BwAOAAAA8v8OAAcA6v/5/wcADgD5/+r/+f/y//n/FgAHAA4AFgAOABYAAAAHAAcAAAAAAAcA8v8HABYABwAOAA4ABwD5/w4ABwAHAAcABwAHAA4ABwD5/wcA8v/5/wAA8v8AAAcA+f/5//L/8v/y//n/8v8HAPL/+f8AAPn/8v8AAAAABwAAAPn/AAAAAPn/DgAdAAcABwDq//L/BwAWAPn/AAD5//n/AAD5/w4ABwAOAOP/DgAAAPL/AADq//L/FgDy/wcA6v/j//L/8v/5//L/AAD5/xYAAADj/wAA8v8AAAAABwDq/wcABwDq//n/8v8HAPL/+f/y//n/8v8AAOr/AADy/wAA+f8AAA4ADgAAAPn/8v/q/xYADgAHAB0AAAD5/wAA+f/5//n/6v/q/wAABwAAAPn/8v/b//L/8v/5/+r/6v/y/+P/+f8HAA4A8v8HAPn/AAD5/w4A+f/y/w4AAADy//n/8v8HAPn/DgAAAA4ADgAWAAcAFgAAAAAAFgAHAAAAAAAAAAAA+f8AAAcADgD5//n/DgAOAPn/BwAHAA4A+f/y//L/8v/j/+P/6v/y/wcABwAHAAcAAAAHAAAAAAD5//n/AADq/w4ABwD5/wcADgDq//L/BwDy//L/AAAAAAcAAAAHAAcAAAD5/wcA8v8AAPL/AAAAAPn/+f/5/wAA+f8AAAAABwAHAA4ABwAHAA4A+f8HAAAADgAOAAAAFgAdABYADgAAAAAA8v8AAPL/+f/y/+r/AADj/xYAAADy//L/+f8HAA4A+f8AABYAAAAAAA4ABwD5/w4A+f8AABYA8v8AAA4AAAD5//n/8v8AAB0A6v/5//n/DgAHAAcADgAOAPL/4//5/w4ADgD5//n/8v/5//L/6v/y//n/8v/q//n/8v8AAOr/BwD5/xYA+f8HAPL/AAAOAAAAAAAAAPL/+f/5//n/DgAWAPn/+f8AAAcADgAHAPn/AAAAAAAAAADy/wAAAAD5//n/8v8OABYADgAAAAAAAAD5/w4ABwAWAAcAAAAHAPL/AAAAAOP/AAAOAPn/AADq/+r/+f/5/wcA8v/y//n/AADy//L/+f/q/9v/AADy//n/8v8OAAAA8v8AAAAA+f8AAAAADgD5/+P/DgAHAPL/+f/j/+P/+f8WAA4AFgAWAPn/6v8WAAcA+f/5/wcAFgAAAPL/8v/y/wcABwD5//n/8v/5/wAAAAAAAAAA8v/q/wAAAAAHAPL/+f/q//L/AAAAAAAA6v/y//n/8v/5//L/4//j/+P/2//b//L/AAAAAPn/8v/j/wAA+f/5/+r/8v/b/9v/2//b//L/OwBZAFkAQwAOAOr/4//b/73/rv/j/w4AOwA7AA4AFgAlABYA4//b/8X/tv+2/7b/4/8AABYAFgA0AEoALAAHAMz/xf/b/+r/8v/j/wAAFgAlAB0AFgAWABYABwD5/wAA8v/q/9T/6v8AAA4AAADq//n/BwAHAA4AAAAAAPn/AAD5/9v/8v/5//n/BwAsAAAADgAdAB0AFgAWAAcA+f/y//L/AADq/+r/2/8HAA4ABwAWAAAA6v+f/2T/n//b/x0AQwBZAFIAUgBoAI0AdwA0ACUAYQBoAFIA8v/b/xYAUgD5/7b/mP/M/9v/zP+n/8z/zP/U/9v/8v8dABYA+f/b/wAASgAsANv/4//y/0oAJQDq/+P/DgA0AEMAAAD5/w4ABwDq//n/8v8HAPL/4/8AAA4ADgDq/+P/+f8dACUA6v/j/w4AHQAOAAAA8v8HAOr/DgAHAA4ABwAWABYADgAOAA4A6v/j/wAAFgAAAOr/8v8OACUAAADj//L/8v8AAPn/2//q/+P/+f/y/x0ADgAHAA4A4//5/xYADgD5//n/FgD5/xYAFgAdAAcADgAOAAAAAADy//n/8v/y//n/8v8HABYABwAHAPL/8v8HAAcA+f/5//n/BwAOAAcA+f/5/+r/8v8AAPL/AADj//L/AAAHAPn/2/8AAA4A+f/j/wAAAADy/xYADgDy//L/FgAOABYABwD5/wAABwAdAA4ABwAAAA4ABwAHAPn/4//5/wAADgAOAPn/+f/q//L/+f/y/+r/8v/5//n/+f/y//n/8v/5//n/8v/q//n/8v/5//L/6v8AAPn/AAAAAPn/AAAOAAcADgAHAAcADgAAABYADgAHAA4ADgAHAA4A8v/y/xYA+f/5//n/BwAAAPn/AAD5/wcABwAWABYA+f8HAPn/+f/5/xYAAAAAAPn/DgAHAAAADgAOAAcA+f/5//L/AAD5/wcABwDy/wAAAAAAAOr/AAAHAAAABwDq/+r/+f/5//n/8v8OABYA8v/q//n/8v/q//L/6v8AAPn/AAAOAPn/FgD5//n/AAAHAOr/8v/5//L/4//j//L/AADq//n/+f/5//L/6v8AAAAA8v/5/+P/+f/5//n/+f/5/wAA8v/q/+P/+f/5/+P/4//y//n/AADy//L/AAAOAAAA8v8AAPn/+f8OAAAABwD5//n/+f8AAPL/AAD5//L/8v/5/+r/2//q//L/+f/y//n/6v/j/+P/6v/y/wAABwD5/wAA8v8OAA4A8v8AAAcA+f8AAAAA8v/5//n/8v/y//n/AAD5/w4AAAD5/w4ABwD5/wAA+f/y//n/8v/b/wcAFgAAAAAA+f/5/wcAFgDy/+P/4/8AAAAA6v/y/wcAHQAWABYAAAAAABYA8v/y//L/8v/y/+P/4/8OABYA+f8HAPL/BwAWAOr/8v/5/wAADgAHAPL/BwAWAPn/8v8AAPn/8v/b//L/8v8AAPn/6v/j/wAAFgD5/wAAAAAdAA4AAAAAAAAAAAAOABYAAAAHAAcAFgAAAB0AAAD5//n/BwAHAAcABwD5/w4ABwAOAPn/+f8AAPn/AAD5/wcA+f8OAAcA8v/y/wAA6v8HAA4A+f/5/wAAFgAOAAcAAAAHABYABwD5/wcAFgD5/xYA+f/5//n/FgDy//L/DgAOAAcAAAD5/wcAAAAAAPn/AAD5/wcABwD5//L/+f8OABYAAAAHABYADgDy/+r/+f8AAAcA6v8HAPL/+f8AAPL/6v8AAA4ABwD5/w4ADgAWAAAA8v8HAAcAAAAAAAAAAAAOAA4ABwAWAPL/AAAAAAAAAAAOAPL/BwD5/wcA+f8OAAcAFgAHAAAAAAAOAPn/AAD5/wAAAAAAAPn/AAAOAA4AAAAAAA4AFgAAAAAADgAWAA4ADgD5/wcAFgAAAPn/DgAWAPL/+f/5//n/6v/q/wAA8v8AAAcA8v8AAAcADgAAABYA+f8OAAcA+f8OABYABwD5/wAA+f8HAOr/6v/5//n/+f8AAPn/AADy/wcADgAAABYAAADy/w4ADgAHAA4A+f/y/wAAAAAAAAAAAAAOAAAA+f/j/wAAAADq/+P/4/8OAA4ABwAOAA4ADgAAAB0ADgAAAAcAFgD5/xYA+f8OAAcAFgD5/w4ADgDy/wcADgDy//n/+f8AAAAABwAWAA4AAAAHAPL/AAAHACUABwD5/+P/OwAAAPL/+f8OAA4AAADq/xYA8v/5/w4AAAAHAA4ABwAWAPn/AAAAAAAADgD5//n/AADq/+r/8v8AAAAA8v/5/+P/BwAOAPn/BwAAAAAA+f/5/wcADgDy/xYADgAWAAAA+f8HAAcA+f8OAAAA8v8HAAcADgD5/wAA8v/5/wcAHQD5/wcADgD5/wAA+f8OABYADgAAAAAA+f/5//n/AAD5/+P/+f8HAAcA8v8AAPn/+f/j/+r/+f/j//n/8v8AAAAA+f/5//L/AAD5/wAAAAD5//n/+f8AAPn/4/8AAPn/+f/b/wcABwD5/wAAAAAAAPn/+f/y//n/DgAAAPn/BwAAAAcA8v/y/wcA+f8dAPL/BwDy//L/+f8AAPL/AAD5/wAAAAAAAPn/8v/5//L/+f8AAAAAAAAAAAAA+f/q/wcA+f/5/w4ADgAAAAAA+f8OAAAABwDb/wAABwAAAAAA+f8HAAcABwAAABYADgAOAA4ABwDy//n/8v8AAAAAAAAAAAcA+f/5/wcA+f/5/+r/AAD5/wAA+f/5/wcAAAAAAPn/+f/5//L/BwD5//n/AAD5/wAABwD5/+P/8v/5//L/+f/q/wcABwAHAB0AAAAHAA4A6v8AAOr/BwAHAPn/+f/y/wAA6v8HAA4A+f/5/wAAFgAAAPn/6v/q/wAA4/8AAPn/+f/5/+P/DgAHAPn/AADy//n/DgD5/wAAFgAAAAAADgD5/wAA8v8OAAAA8v8AAPn/DgAAAAAA+f8OAAcA+f8AAAAAAAAOAPn/DgAHAPn/DgAHAAAADgAHAB0A+f8OAAcAAAAAAAcAHQAOABYAFgAAAA4ABwAWAAcABwAWAAcADgD5/xYABwAAABYABwAHAA4ABwD5//n/+f8AAA4AFgDy/w4ADgDq/wcA+f8HABYA+f8AAAAAFgD5/xYAAAAHAA4AFgD5/+r/2//5//L/BwAOAPn/BwAWAAcA+f8AAOr/DgAOAA4ADgD5/wAA+f/5/wcAzP9z/wAAjQB3ALb/A//F/2YBrv9G/0b/jQBXAdv/3f62/0MA9gA7AEb/tv9hAJwANAAZ/5//aACNANT/kP8dAGEAFgC2/5//WQBZAOP/rv/U/3AAdwC2/5j/AABhACwArv+9/ywAQwAdAOr/2/8WAAcA6v/j/+r/DgD5//L/+f8OAA4A8v8AAA4AJQAWAAAABwDy/wcAHQAHAOP/6v8HACwAFgD5/+r/DgAWAA4A6v/y//n/HQAWAAcA6v/5/wAA8v/5/w4AHQDq/wAA+f8WAAAA+f/5/wcABwAOAAAA8v/5/wAA4/8OAAcAFgDy//L/HQAWAPL/4//5/xYA+f/5/+r/DgAHAAcADgDj/+r/DgAHAOr/BwAOAPn/4//y/wcAAAD5/+r/AAAOAAcA4//j/+P/BwDy/+r/+f/5/w4ADgDj//n/6v/q//n/8v8AAAAABwAOABYADgD5//n/+f/y/wAA6v/q//n/8v8HABYAFgAdAAcAAAAHAPn/BwAOAAcABwD5//L/AAAOAA4AHQAOAAAAFgAHAAAAFgAAAAcADgAOAAcA6v8AAPL/AAAAAPn/2/8HAA4AAADq//n/FgAdAPn/8v/q/w4AAADy//n/8v8AAA4A6v8HAAcA+f8AAOr/AADy/+P/4//b/+r/+f/j//n/8v/q//n/4//y/+r/+f/y//n/8v/5//L/AADy//n/8v8AAAAAAAD5/wAADgD5/wAADgDq//L/+f/5/wAAAAAHAAAA+f8AAPn/4//q//n/+f/y/+P/AADy/wAA6v/5/+P/AADy//n/8v/5/+P/+f8AAPL/+f/y//n/+f/q/+P/DgAAAPL/+f/5//L/+f/5//n/8v/5//n/6v/y/+r/+f/y/wAA+f8HAAAA8v/y//n/+f/y//n/+f/5/wAA8v/5//L/8v/b//L/+f/y/wAA+f/5/wcA8v/5//L/6v/q/+P/8v/5/wAABwDq//n/+f/5/wAA8v/5/+r/4//y/+P/6v/j/9v/2//y//n/8v/5//n/+f8AAPL/6v/q//n/AADq//L/AAAHAPn/8v8AAPL/+f8AAPn/+f/q//L/BwDy/w4A6v/5//L/+f/y//n/4//y//n/8v8WAPL/AAAAAAAA+f/5//n/+f/5/wcAFgDy/wcA+f8HAA4A8v/5//L/+f/y/wAAAAD5//L/BwAAAPn/8v/5//L/AAAOAPL/8v8OAAAAAAAOAPn/AAD5/x0A8v8HAAcAAADy/wAAHQAAABYA+f8HAPn/DgAHAPn/BwD5/wcADgD5/wcAAADq/wcA8v/5//n/AAAHAAAADgAHAPn/AAD5/wAAAAD5/wcAAAAAAAAA+f8WAPn/BwDq//n/+f/y//n/8v/y/wAAAAAWAAcAAAAOAAAA+f8AAPn/4//5/wAA+f8AAA4A8v8OAAAAAAD5//L/DgAAAAAA8v/5//L/+f8AAPL/+f8AAPL/+f/5//L/+f8HAPn/BwD5/wcADgDy//n/AAD5//L/AADy//n/6v8HAPL/AAD5//n/6v/q/wAA4//5//L/AAD5//L/+f/y/wAA8v/5/wAA8v/y//n/+f/5//n/AAAHAPn/BwAHAB0ABwAOAAAABwAOAAAA8v/5/wAA8v/5/wAAAAAHAPn/AAD5/wAABwAAAAAAFgAAAAcABwAOAPn/8v8AAAAADgD5/wcA+f/5//n/8v/q//L/8v8HAAcADgDb//n/AAAHAPL/+f/5/wAA+f8AAPn/AAD5/wAAAAAAAPL/DgAAAPn/+f/q/+r/BwD5/wAA8v8OAAcADgAAAOr/DgAHAOr/+f8AAAAA+f8AAAAAAAAAAAAABwD5/wcAAAD5/wcA+f8HAAcA8v8AAPL/AAD5/wAABwAOAPn/BwDq/wcAAAAAABYA+f8HAA4ABwAHAPL/AAAAAAcA8v/5/wcADgD5/xYAAAAWAA4AAAAdABYAFgAWAA4A+f8OAAcADgD5/w4ABwAOAPn/AAD5//n/FgAAAAcADgD5/w4A+f8AAAAAAAD5//L/DgAHAAAADgAHAPn/AADy/+P/AAD5/wcABwAHAAAA8v/y//n/AADq//n/+f/q/9v/6v/y//n/DgAHAAcAAAAAAAAADgAOAPL/+f8AAPL/+f8AAAAA+f8AAAcA8v8HAOr/AADy/xYA+f/5/wAABwAAAPn/AAAOAPn/BwDy/wAADgAWAPn/BwAAAAAA+f8AAAAA+f8AAPn/+f/5/wAA+f8HAPL/+f8AAPL/+f/y/wAA6v8HAPn/AADq/+r/AADq//n/AAD5//n/BwAWAAAA+f8HAPn/BwAAABYAAAD5//n/8v8HAOr/+f8AAAAA8v8AAA4AAAAAAPn/AAAHAAAAAAAHAAAA+f/y/wAAAAAAAAcADgD5/wcA+f8HAPn/AAAAAPn/6v/j//n/+f8AAPL/8v8AAA4AAAD5//L/AAD5/wcA+f/5/wcADgAOAAAABwAHAPn/+f/5/xYA+f8OABYAAAAAAA4ABwD5/w4ABwD5//n/BwDy/+r/BwAOAPn/4/8AAAcAAAAAAAAABwAHAPn/AADq//n/AAAOAPn/AAAAAAcADgAAAPn/AAAOAPn/BwDy/wAA+f8OAAAA+f8AAA4AAAAHAA4A+f8HAAAADgAHAA4AFgAAAAcADgAOAAcAAAD5/wcAAAAAAA4ABwAOAPn/BwDy/wcABwAAAAcAAAAAAAcADgD5//n/AAD5/wAA+f8AAAAAAAD5/xYA+f/5//n/+f/5/wAA+f8AAAAAAAAWAA4A8v/5//L/AADy/+P/6v/y//n/AAAAAA4AFgDy/wAA+f/5/wAA8v8AAA4ADgD5//L/AAAAAPL/8v/5/wcA6v/y//n/AAAAAA4AAADy//n/FgAAAOr/8v8dAAAAAAAHAA4A8v8HAA4A+f8AAPn/AAAAAAAABwAAAAAA8v/5/wAAAAAAAPn/BwD5//L/+f/5/wAABwAAAAAA+f/5/+r/AADy/wAA8v/5//n/8v8AAPn/AAAdAB0ADgAWABYAFgAdAPn/DgAAAAAA4/8AAPn/+f8AAPn/BwAHAAAADgDy//n/+f8HAAcABwAAAA4ABwDy//L/4//5/wAA8v/y/wAAAAAAAAcAAAD5//L/AADy//L/4//q/9v/AAAHAA4ABwAWAPL/BwD5/wAABwDb/+P/+f/q//n/6v/y/xYA+f/5//n/DgAOAOr/DgD5//L/+f8HAAAA+f/5//L/BwDq//n/+f/5//L/8v8OAAAAAAAAAPn/BwAAAAAABwD5//n/DgAHAAAAAAD5/xYAAAD5//n/8v8AAOP/8v/5/wAAAAAAABYADgAAAPn/4//5/w4AFgD5//n/AAD5/xYADgAAAAcA+f8AAPn/AAAAAAcAHQAHAA4ABwD5//n/8v/5/wAA+f8HAPn/+f/y/wAAAAD5/wAADgAHAAcA+f/y//n/BwAOAAAA+f8AAAAA+f8AAAcA+f/y/wcADgDy//n/BwD5//n/AAAHAAAA6v/y/wAA+f8OAAcAAAAHABYA6v8AAAAA+f/y/wAAAAAHAAAABwAAAAcAFgAAAPn/AADy//n/AAAHAAAA+f/y/w4AAAAAAAAABwAAAAAAAAAHABYABwAOAAcABwD5/wAAAADy//n/AAAOAAcA+f8WAPn/FgD5/wAAAAAOAAAADgAOAPn/8v/y/w4ABwD5/+r/AAD5//L/+f8AAPn/AAAAAAcAAAAWAPn/DgAHAAAAAAAAAPL/AAAHAAAAAAD5/wAA8v8AAAAA8v8HAAAA+f/5//n/8v8AAPn/4//y/wAA+f/5/wcAAADy/w4ABwD5/w4A8v8AAPn/8v/5//n/AADy//L/BwAHAPL/+f8HABYA8v8AAPn/8v8HAAcA+f/5/wAABwDy//n/6v8HAPn/BwAOAPL/AAD5/+r/AAD5/wcA8v8AAPL/+f8AAPL/+f/5//n/+f/5/wAABwD5//n/AAD5/wcA+f8HAOr/AAAAAAcA6v8OAPL/+f/5//L/+f8AAPn/+f/5//n/BwAAAAcAAADy/wcADgDq/wcABwAAAPn/BwAOAAAADgAAABYAAAD5/+r/8v8HAPn/+f8AAA4ABwAAAAAA8v/j//n/+f8OAPn/+f8AAPn/BwAAAPn/+f/j//n/+f8AAAAA8v8AAPL/BwAOAAAA6v8AAPn/+f/5//n/8v8HAAcA8v8AAOP/6v/5//L/+f/q/wAA+f/5/wAA+f/5/wAA+f/y//n/8v/y/wAADgDy/w4AAADy//n/8v/b//L/AAD5/wAA8v8AAPL/AADq//L/AAD5/w4A+f8HAPn/AAD5/wAABwD5//L/AAAAAPn/6v8AAPL/8v8AAPn/+f8AAPL/8v8AAAAA4//5/wAABwAOAPn/+f8AAA4A8v8WAPn/+f/5//L/8v/5//n/BwD5/w4AAAAWABYAAAAOAA4A6v8OAA4AAAAOAPn/AAAWAAAAAAD5//L/AAAAAAAA8v/5/wcABwD5/wAADgAAAAAA+f8AAPL/+f/q//n/6v8AAAcAAADy//L/+f/y/+r/4//5/+r/4//q/wAA+f8OAAcAHQDy/wAAAAAOAAcA+f/5/wcABwAHAAAA6v/y//n/AADy/wAA8v8AAOr/BwDy/+r/8v/y//L/AAD5//n/8v8AAAcABwAHAPn/AADy/wAA+f8OAPn/+f/5/wAADgDy/wAA8v8AAAAAAAD5//n/8v8AAPn/+f/5//L/8v8AAAcAAAD5//L/FgD5//L/AADj//n/BwAOAPn/AAD5/w4ABwAAAAAAAAAHAAAABwAAAAAA+f/y/wcAAAD5/wAA8v8AAPL/AAD5/wAA+f/y/wAAAAAAAPn/BwAAAPn/AAAHAAAABwAOAAAAAAAWAPn/BwAHAOr/AAD5/wcAFgDy/9v/8v/j/+P/+f/5//n/8v8OAAcA+f8AAAAA+f/5//L/AAD5//n/8v8AAOP/AADy//n/6v/y//n/8v8HAPL/8v/q/wcAAAAAAPn/BwD5//n/AAAAAPL/AAAAAPn/+f8AAAcA8v/5/+r/6v8AAPn/8v8AAAAA+f/5//n/+f/5/wAA8v/5//L/+f/q/wcA+f/y//n/8v8AAPL/AADy//n/6v/5/wAA+f/y//n/DgAHAPL/+f8OAAcADgAWAAcAAAAAAPn/8v8AAPn/+f/5//n/8v8AAPn/FgD5/wAA6v/5/wAA+f/5//L/+f/5/wcA8v8AAPn/+f/5//L/+f/q/+P/6v/q/+r/AAD5//n/+f/y//L/+f8AAAAA+f/y/wAADgAOAPn/AAD5//n/8v8AAPL/+f/y/xYAAAAAAAcA8v8AAA4AAAD5//n/BwD5/xYAAAAHAPn/+f/5/wAABwD5/wAADgD5/wAAFgD5/w4ABwD5//L/+f/y/w4A+f/y//n/AAAAAAAAFgD5/wAA8v8WAPL/BwAHAPL/AAAAAPn/BwAAAPn/+f8AAPn/+f/5/w4ABwAAAAAAAAAWABYABwD5/xYAAAAdAA4AFgAAAAAA8v/5/wAA8v8OAA4A+f8HAAAAAAAAAPn/8v/5/wAA4//y//n/+f/y//L/FgD5/wAA+f8=\" type=\"audio/wav\" />\n",
              "                    Your browser does not support the audio element.\n",
              "                </audio>\n",
              "              "
            ],
            "text/plain": [
              "<IPython.lib.display.Audio object>"
            ]
          },
          "metadata": {
            "tags": []
          },
          "execution_count": 31
        }
      ]
    },
    {
      "cell_type": "code",
      "metadata": {
        "colab": {
          "base_uri": "https://localhost:8080/"
        },
        "id": "1Po2g7YPuRTx",
        "outputId": "a621982e-047e-4304-ce69-e288705d1d3c"
      },
      "source": [
        "rand_int = random.randint(0, len(timit[\"train\"]))\n",
        "\n",
        "print(\"Target text:\", timit[\"train\"][rand_int][\"target_text\"])\n",
        "print(\"Input array shape:\", np.asarray(timit[\"train\"][rand_int][\"speech\"]).shape)\n",
        "print(\"Sampling rate:\", timit[\"train\"][rand_int][\"sampling_rate\"])"
      ],
      "execution_count": null,
      "outputs": [
        {
          "output_type": "stream",
          "text": [
            "Target text: when peeling an orange it is hard not to spray juice \n",
            "Input array shape: (53760,)\n",
            "Sampling rate: 16000\n"
          ],
          "name": "stdout"
        }
      ]
    },
    {
      "cell_type": "markdown",
      "metadata": {
        "id": "k3Pbn5WvOYZF"
      },
      "source": [
        "Finally, we can process the dataset to the format expected by the model for training. We will again make use of the `map(...)` function.\n",
        "\n",
        "First, we check that all data samples have the same sampling rate (of 16kHz).\n",
        "Second, we extract the `input_values` from the loaded audio file. In our case, this includes only normalization, but for other speech models, this step could correspond to extracting, *e.g.* Log-Mel features\n",
        "Third, we encode the transcriptions to label ids.\n"
      ]
    },
    {
      "cell_type": "code",
      "metadata": {
        "id": "eJY7I0XAwe9p"
      },
      "source": [
        "def prepare_dataset(batch):\n",
        "    # check that all files have the correct sampling rate\n",
        "    assert (\n",
        "        len(set(batch[\"sampling_rate\"])) == 1\n",
        "    ), f\"Make sure all inputs have the same sampling rate of {processor.feature_extractor.sampling_rate}.\"\n",
        "\n",
        "    batch[\"input_values\"] = processor(batch[\"speech\"], sampling_rate=batch[\"sampling_rate\"][0]).input_values\n",
        "    \n",
        "    with processor.as_target_processor():\n",
        "        batch[\"labels\"] = processor(batch[\"target_text\"]).input_ids\n",
        "    return batch"
      ],
      "execution_count": null,
      "outputs": []
    },
    {
      "cell_type": "code",
      "metadata": {
        "colab": {
          "base_uri": "https://localhost:8080/",
          "height": 755,
          "referenced_widgets": [
            "fba3d1340f2449f8a6c562a2b12f9a62",
            "ba16e3b96ca74b43b8454fc9926ddf75",
            "b1529c92eec94966b59f55ff7683e5ed",
            "de35392a4e074330857078d37535c546",
            "1da91d441a55472fa6b23aa47a9afcc4",
            "2d1992a6bc554b8ba48fd034d3528e9c",
            "73f1d0459adf45259cb6509e5920072c",
            "fe3046c624fd405aaec8b06dace4a2e7",
            "7ee1379b06f44aaf91c8a975f0fd488e",
            "c6b1cdc52ae541d5b396ebb1edcbc97c",
            "564ebfd4ea58480bb9047b46fe8f0510",
            "7de0dff3eea947fab1a1d7e22137e35a",
            "f5cf50893ad44308b1fd34700a24f51f",
            "c460479e35274e729b84212320a42154",
            "de4f53d328fa4590b0e778c28daacf0a",
            "97aa45f4b837430180646677565c5bf2",
            "c91604d797744e35b0f8cba56de55a58",
            "4e665587b1c144f1bd7f1917b2c6cf5a",
            "41099067dacb45bbaa20d611d344e459",
            "c2a6ea420b1b4db99725086c7cbde753",
            "d3f4420f44ae4575965db21ed1017072",
            "b3cb8c5a9601468a9354373e6e9cb711",
            "96f371d9de604152a58933f56391b8c8",
            "ee88adf45cde44dfa794c3b7b1672eb9",
            "1bd10e4857064114bd9c135a7c2d57fe",
            "3749d4e37b7c478aa81995452dc48fb9",
            "cb964f98c94f4b38bb3567f27a27a685",
            "4bf514a5e1db445399dbed005b2e10ec",
            "d1c9e45fefcf4911b075549839766136",
            "6b8b84caa9824bd3ac52056203e4f8a7",
            "c2cd7c4e52354a3389115cd6bc6b8201",
            "bf36556516a646a4add66522cd4353f6",
            "8c2a7258485b42bfbe651ee00ac856d2",
            "ac650d571c3f4b27b45b05a89ca5c0cb",
            "c4a9c3729b2345e5997a83294ed916e6",
            "18e004583ec14d80b14b4f39e499950c",
            "10dfcd633ff34ad19593160aeae4f081",
            "0883f4b2c2724352acfd74a87417f6e8",
            "d708420bacc942068d67d6a7538e8824",
            "51cdf1bbd2ac4892bebb9e24f737f622",
            "1e860659835047d5b11fcf68b1a3f646",
            "f509b05465c747bf949d425841c5da6d",
            "6d71391de20b4adabca8c1847cd6a4a2",
            "81a757f785a94e92a0b332f5de12e35a",
            "39c1f31482c34558a048f9620c176de1",
            "d6eb83a63a85457ea409126eef65bb36",
            "65675b2780eb41d5824df8a8b8678953",
            "9fdb416cc4c84e328be747925a6e43f2",
            "d8c57f6305a1482888a81796a957906f",
            "5bc7c0cbe100407eaea17bc32dd27436",
            "d7dedda016664c388b9b3f1f8f96c0c9",
            "d49e0913c1a64c41bfd8b195f6c479a9",
            "5af8b357b40947fab2c6a8979fb1d27a",
            "b0155975792a47aca9aee8e4501b419f",
            "0822d4a95cb141088ae4eeeadd41f3bf",
            "d490c0bf288c4a11b8437b2f0ee8c27b",
            "8f01dd302d6e4b409efe71368185635d",
            "eed17080c1cb416b84d040a074b63f3f",
            "1ee3bf55c2b540cea1a151c438104500",
            "789494d9bbbd498793b876ca509f36d8",
            "e82af9c27fb7491b9b7696e24205069e",
            "eba8d883314f4205b480f3583f3162a3",
            "5800339e346d47f5ae79231cc6c08cdb",
            "7de8fdd75e304ddda9a93dea3c1e01a9"
          ]
        },
        "id": "-np9xYK-wl8q",
        "outputId": "2d4ced27-e32e-4f35-ee82-d644932fff12"
      },
      "source": [
        "timit_prepared = timit.map(prepare_dataset, remove_columns=timit.column_names[\"train\"], batch_size=8, num_proc=4, batched=True)"
      ],
      "execution_count": null,
      "outputs": [
        {
          "output_type": "stream",
          "text": [
            "    "
          ],
          "name": "stdout"
        },
        {
          "output_type": "display_data",
          "data": {
            "application/vnd.jupyter.widget-view+json": {
              "model_id": "fba3d1340f2449f8a6c562a2b12f9a62",
              "version_major": 2,
              "version_minor": 0
            },
            "text/plain": [
              "HBox(children=(FloatProgress(value=0.0, description='#3', max=145.0, style=ProgressStyle(description_width='in…"
            ]
          },
          "metadata": {
            "tags": []
          }
        },
        {
          "output_type": "display_data",
          "data": {
            "application/vnd.jupyter.widget-view+json": {
              "model_id": "7ee1379b06f44aaf91c8a975f0fd488e",
              "version_major": 2,
              "version_minor": 0
            },
            "text/plain": [
              "HBox(children=(FloatProgress(value=0.0, description='#0', max=145.0, style=ProgressStyle(description_width='in…"
            ]
          },
          "metadata": {
            "tags": []
          }
        },
        {
          "output_type": "display_data",
          "data": {
            "application/vnd.jupyter.widget-view+json": {
              "model_id": "c91604d797744e35b0f8cba56de55a58",
              "version_major": 2,
              "version_minor": 0
            },
            "text/plain": [
              "HBox(children=(FloatProgress(value=0.0, description='#1', max=145.0, style=ProgressStyle(description_width='in…"
            ]
          },
          "metadata": {
            "tags": []
          }
        },
        {
          "output_type": "display_data",
          "data": {
            "application/vnd.jupyter.widget-view+json": {
              "model_id": "1bd10e4857064114bd9c135a7c2d57fe",
              "version_major": 2,
              "version_minor": 0
            },
            "text/plain": [
              "HBox(children=(FloatProgress(value=0.0, description='#2', max=145.0, style=ProgressStyle(description_width='in…"
            ]
          },
          "metadata": {
            "tags": []
          }
        },
        {
          "output_type": "stream",
          "text": [
            "/usr/local/lib/python3.7/dist-packages/numpy/core/_asarray.py:83: VisibleDeprecationWarning: Creating an ndarray from ragged nested sequences (which is a list-or-tuple of lists-or-tuples-or ndarrays with different lengths or shapes) is deprecated. If you meant to do this, you must specify 'dtype=object' when creating the ndarray\n",
            "  return array(a, dtype, copy=False, order=order)\n",
            "/usr/local/lib/python3.7/dist-packages/numpy/core/_asarray.py:83: VisibleDeprecationWarning: Creating an ndarray from ragged nested sequences (which is a list-or-tuple of lists-or-tuples-or ndarrays with different lengths or shapes) is deprecated. If you meant to do this, you must specify 'dtype=object' when creating the ndarray\n",
            "  return array(a, dtype, copy=False, order=order)\n",
            "/usr/local/lib/python3.7/dist-packages/numpy/core/_asarray.py:83: VisibleDeprecationWarning: Creating an ndarray from ragged nested sequences (which is a list-or-tuple of lists-or-tuples-or ndarrays with different lengths or shapes) is deprecated. If you meant to do this, you must specify 'dtype=object' when creating the ndarray\n",
            "  return array(a, dtype, copy=False, order=order)\n",
            "/usr/local/lib/python3.7/dist-packages/numpy/core/_asarray.py:83: VisibleDeprecationWarning: Creating an ndarray from ragged nested sequences (which is a list-or-tuple of lists-or-tuples-or ndarrays with different lengths or shapes) is deprecated. If you meant to do this, you must specify 'dtype=object' when creating the ndarray\n",
            "  return array(a, dtype, copy=False, order=order)\n"
          ],
          "name": "stderr"
        },
        {
          "output_type": "stream",
          "text": [
            "\n",
            "\n",
            "\n",
            "\n",
            "    "
          ],
          "name": "stdout"
        },
        {
          "output_type": "display_data",
          "data": {
            "application/vnd.jupyter.widget-view+json": {
              "model_id": "8c2a7258485b42bfbe651ee00ac856d2",
              "version_major": 2,
              "version_minor": 0
            },
            "text/plain": [
              "HBox(children=(FloatProgress(value=0.0, description='#0', max=53.0, style=ProgressStyle(description_width='ini…"
            ]
          },
          "metadata": {
            "tags": []
          }
        },
        {
          "output_type": "display_data",
          "data": {
            "application/vnd.jupyter.widget-view+json": {
              "model_id": "1e860659835047d5b11fcf68b1a3f646",
              "version_major": 2,
              "version_minor": 0
            },
            "text/plain": [
              "HBox(children=(FloatProgress(value=0.0, description='#2', max=53.0, style=ProgressStyle(description_width='ini…"
            ]
          },
          "metadata": {
            "tags": []
          }
        },
        {
          "output_type": "display_data",
          "data": {
            "application/vnd.jupyter.widget-view+json": {
              "model_id": "d8c57f6305a1482888a81796a957906f",
              "version_major": 2,
              "version_minor": 0
            },
            "text/plain": [
              "HBox(children=(FloatProgress(value=0.0, description='#1', max=53.0, style=ProgressStyle(description_width='ini…"
            ]
          },
          "metadata": {
            "tags": []
          }
        },
        {
          "output_type": "display_data",
          "data": {
            "application/vnd.jupyter.widget-view+json": {
              "model_id": "8f01dd302d6e4b409efe71368185635d",
              "version_major": 2,
              "version_minor": 0
            },
            "text/plain": [
              "HBox(children=(FloatProgress(value=0.0, description='#3', max=53.0, style=ProgressStyle(description_width='ini…"
            ]
          },
          "metadata": {
            "tags": []
          }
        },
        {
          "output_type": "stream",
          "text": [
            "/usr/local/lib/python3.7/dist-packages/numpy/core/_asarray.py:83: VisibleDeprecationWarning: Creating an ndarray from ragged nested sequences (which is a list-or-tuple of lists-or-tuples-or ndarrays with different lengths or shapes) is deprecated. If you meant to do this, you must specify 'dtype=object' when creating the ndarray\n",
            "  return array(a, dtype, copy=False, order=order)\n",
            "/usr/local/lib/python3.7/dist-packages/numpy/core/_asarray.py:83: VisibleDeprecationWarning: Creating an ndarray from ragged nested sequences (which is a list-or-tuple of lists-or-tuples-or ndarrays with different lengths or shapes) is deprecated. If you meant to do this, you must specify 'dtype=object' when creating the ndarray\n",
            "  return array(a, dtype, copy=False, order=order)\n",
            "/usr/local/lib/python3.7/dist-packages/numpy/core/_asarray.py:83: VisibleDeprecationWarning: Creating an ndarray from ragged nested sequences (which is a list-or-tuple of lists-or-tuples-or ndarrays with different lengths or shapes) is deprecated. If you meant to do this, you must specify 'dtype=object' when creating the ndarray\n",
            "  return array(a, dtype, copy=False, order=order)\n",
            "/usr/local/lib/python3.7/dist-packages/numpy/core/_asarray.py:83: VisibleDeprecationWarning: Creating an ndarray from ragged nested sequences (which is a list-or-tuple of lists-or-tuples-or ndarrays with different lengths or shapes) is deprecated. If you meant to do this, you must specify 'dtype=object' when creating the ndarray\n",
            "  return array(a, dtype, copy=False, order=order)\n"
          ],
          "name": "stderr"
        },
        {
          "output_type": "stream",
          "text": [
            "\n",
            "\n",
            "\n",
            "\n"
          ],
          "name": "stdout"
        }
      ]
    },
    {
      "cell_type": "code",
      "metadata": {
        "colab": {
          "base_uri": "https://localhost:8080/"
        },
        "id": "BlCkDRIlGIaz",
        "outputId": "5e00a657-9ab4-4f24-8c52-32d462e7a776"
      },
      "source": [
        "timit_prepared"
      ],
      "execution_count": null,
      "outputs": [
        {
          "output_type": "execute_result",
          "data": {
            "text/plain": [
              "DatasetDict({\n",
              "    train: Dataset({\n",
              "        features: ['input_values', 'labels'],\n",
              "        num_rows: 4620\n",
              "    })\n",
              "    test: Dataset({\n",
              "        features: ['input_values', 'labels'],\n",
              "        num_rows: 1680\n",
              "    })\n",
              "})"
            ]
          },
          "metadata": {
            "tags": []
          },
          "execution_count": 35
        }
      ]
    },
    {
      "cell_type": "code",
      "metadata": {
        "id": "523HnREoGuNM"
      },
      "source": [
        "timit_prepared[\"train\"][\"input_values\"][0]"
      ],
      "execution_count": null,
      "outputs": []
    },
    {
      "cell_type": "code",
      "metadata": {
        "colab": {
          "base_uri": "https://localhost:8080/"
        },
        "id": "CRBZ0uwwKYv-",
        "outputId": "553b8cf5-497e-48a4-a1bd-b0f1bb4e968a"
      },
      "source": [
        "timit_prepared[\"train\"][\"labels\"][0]"
      ],
      "execution_count": null,
      "outputs": [
        {
          "output_type": "execute_result",
          "data": {
            "text/plain": [
              "[10,\n",
              " 2,\n",
              " 8,\n",
              " 23,\n",
              " 17,\n",
              " 25,\n",
              " 16,\n",
              " 8,\n",
              " 20,\n",
              " 15,\n",
              " 25,\n",
              " 6,\n",
              " 18,\n",
              " 25,\n",
              " 6,\n",
              " 20,\n",
              " 11,\n",
              " 25,\n",
              " 2,\n",
              " 3,\n",
              " 25,\n",
              " 14,\n",
              " 27,\n",
              " 3,\n",
              " 8,\n",
              " 16,\n",
              " 6,\n",
              " 23,\n",
              " 25,\n",
              " 1,\n",
              " 27,\n",
              " 25,\n",
              " 8,\n",
              " 16,\n",
              " 27,\n",
              " 3,\n",
              " 8,\n",
              " 23,\n",
              " 25]"
            ]
          },
          "metadata": {
            "tags": []
          },
          "execution_count": 42
        }
      ]
    },
    {
      "cell_type": "code",
      "metadata": {
        "id": "7catKFUaLkGR"
      },
      "source": [
        "timit_prepared[\"train\"][0]"
      ],
      "execution_count": null,
      "outputs": []
    },
    {
      "cell_type": "markdown",
      "metadata": {
        "id": "gYlQkKVoRUos"
      },
      "source": [
        "## Training & Evaluation\n",
        "\n",
        "we will use une classe predefinie called trainer for training from transformers library \n",
        "\n",
        "- data collator. In contrast to most NLP models, Wav2Vec2 has a much larger input length than output length. *E.g.*, a sample of input length 50000 has an output length of no more than 100. Given the large input sizes, it is much more efficient to pad the training batches dynamically meaning that all training samples should only be padded to the longest sample in their batch and not the overall longest sample. Therefore, fine-tuning Wav2Vec2 requires a special padding data collator"
      ]
    },
    {
      "cell_type": "markdown",
      "metadata": {
        "id": "Slk403unUS91"
      },
      "source": [
        "### Set-up Trainer\n",
        "\n",
        " in contrast to the common data collators, this data collator treats the `input_values` and `labels` differently and thus applies to separate padding functions on them . This is necessary because in speech input and output are of different modalities meaning that they should not be treated by the same padding function.\n",
        "Analogous to the common data collators, the padding tokens in the labels with `-100` so that those tokens are **not** taken into account when computing the loss."
      ]
    },
    {
      "cell_type": "code",
      "metadata": {
        "id": "tborvC9hx88e"
      },
      "source": [
        "#A DataCollator is a function that takes a list of samples from a Dataset and collate them into a batch, as a dictionary. of Tensors.\n",
        "#defines the padding , it will dynamically pad the inputs received \n",
        "import torch\n",
        "\n",
        "from dataclasses import dataclass, field\n",
        "from typing import Any, Dict, List, Optional, Union\n",
        "\n",
        "@dataclass\n",
        "class DataCollatorCTCWithPadding:\n",
        "   \n",
        "\n",
        "    processor: Wav2Vec2Processor\n",
        "    #pad to the longest sequence in the batch \n",
        "    padding: Union[bool, str] = True\n",
        "    max_length: Optional[int] = None\n",
        "    max_length_labels: Optional[int] = None\n",
        "    pad_to_multiple_of: Optional[int] = None\n",
        "    pad_to_multiple_of_labels: Optional[int] = None\n",
        "\n",
        "    def __call__(self, features: List[Dict[str, Union[List[int], torch.Tensor]]]) -> Dict[str, torch.Tensor]:\n",
        "        # split inputs and labels since they have to be of different lenghts and need\n",
        "        # different padding methods\n",
        "        input_features = [{\"input_values\": feature[\"input_values\"]} for feature in features]\n",
        "        label_features = [{\"input_ids\": feature[\"labels\"]} for feature in features]\n",
        "\n",
        "        batch = self.processor.pad(\n",
        "            input_features,\n",
        "            padding=self.padding,\n",
        "            max_length=self.max_length,\n",
        "            pad_to_multiple_of=self.pad_to_multiple_of,\n",
        "            return_tensors=\"pt\",\n",
        "        )\n",
        "        with self.processor.as_target_processor():\n",
        "            labels_batch = self.processor.pad(\n",
        "                label_features,\n",
        "                padding=self.padding,\n",
        "                max_length=self.max_length_labels,\n",
        "                pad_to_multiple_of=self.pad_to_multiple_of_labels,\n",
        "                return_tensors=\"pt\",\n",
        "            )\n",
        "\n",
        "        # replace padding with -100 to ignore loss correctly\n",
        "        labels = labels_batch[\"input_ids\"].masked_fill(labels_batch.attention_mask.ne(1), -100)\n",
        "\n",
        "        batch[\"labels\"] = labels\n",
        "\n",
        "        return batch"
      ],
      "execution_count": null,
      "outputs": []
    },
    {
      "cell_type": "code",
      "metadata": {
        "id": "lbQf5GuZyQ4_"
      },
      "source": [
        "data_collator = DataCollatorCTCWithPadding(processor=processor, padding=True)"
      ],
      "execution_count": null,
      "outputs": []
    },
    {
      "cell_type": "markdown",
      "metadata": {
        "id": "xO-Zdj-5cxXp"
      },
      "source": [
        " the predominant metric in ASR is the word error rate (WER)"
      ]
    },
    {
      "cell_type": "code",
      "metadata": {
        "colab": {
          "base_uri": "https://localhost:8080/",
          "height": 67,
          "referenced_widgets": [
            "492daa79e3ea4d25a117bf38da36a2a7",
            "3a685014b64e419fa98b79ae449c8a11",
            "cf0b9bd40dd245cf8a3f1bbb41d18c87",
            "549ef44806a448af9c4a6f205a0e11bc",
            "3cba5cad9a7145828f784356da368c2d",
            "7219cdb31ca64eb78f97eec6a261691f",
            "f395f309850f460785830b46390883f7",
            "175552c5179e4ac3811826160e4adb1b"
          ]
        },
        "id": "9Xsux2gmyXso",
        "outputId": "a54fdf1c-cf01-47d8-f938-760f19b99821"
      },
      "source": [
        "wer_metric = load_metric(\"wer\")"
      ],
      "execution_count": null,
      "outputs": [
        {
          "output_type": "display_data",
          "data": {
            "application/vnd.jupyter.widget-view+json": {
              "model_id": "492daa79e3ea4d25a117bf38da36a2a7",
              "version_major": 2,
              "version_minor": 0
            },
            "text/plain": [
              "HBox(children=(FloatProgress(value=0.0, description='Downloading', max=1764.0, style=ProgressStyle(description…"
            ]
          },
          "metadata": {
            "tags": []
          }
        },
        {
          "output_type": "stream",
          "text": [
            "\n"
          ],
          "name": "stdout"
        }
      ]
    },
    {
      "cell_type": "markdown",
      "metadata": {
        "id": "E1qZU5p-deqB"
      },
      "source": [
        "The model will return a sequence of logit vectors:\n",
        "$\\mathbf{y}_1, \\ldots, \\mathbf{y}_m$ with $\\mathbf{y}_1 = f_{\\theta}(x_1, \\ldots, x_n)[0]$ and $n >> m$.\n",
        "\n",
        "A logit vector $\\mathbf{y}_1$ contains the log-odds for each word in the vocabulary we defined earlier(probabilité de chaque lettre de notre vocab en timestep i), thus $\\text{len}(\\mathbf{y}_i) =$ `config.vocab_size`. We are interested in the most likely prediction of the model and thus take the `argmax(...)` of the logits. Also, we transform the encoded labels back to the original string by replacing `-100` with the `pad_token_id` and decoding the ids "
      ]
    },
    {
      "cell_type": "code",
      "metadata": {
        "id": "1XZ-kjweyTy_"
      },
      "source": [
        "def compute_metrics(pred):\n",
        "    pred_logits = pred.predictions\n",
        "    pred_ids = np.argmax(pred_logits, axis=-1)\n",
        "\n",
        "    pred.label_ids[pred.label_ids == -100] = processor.tokenizer.pad_token_id\n",
        "\n",
        "    pred_str = processor.batch_decode(pred_ids)\n",
        "    # we do not want to group tokens when computing the metrics\n",
        "    label_str = processor.batch_decode(pred.label_ids, group_tokens=False)\n",
        "\n",
        "    wer = wer_metric.compute(predictions=pred_str, references=label_str)\n",
        "\n",
        "    return {\"wer\": wer}"
      ],
      "execution_count": null,
      "outputs": []
    },
    {
      "cell_type": "markdown",
      "metadata": {
        "id": "Xmgrx4bRwLIH"
      },
      "source": [
        "Now, we can load the pretrained `Wav2Vec2` checkpoint. The tokenizer's `pad_token_id` must be to define the model's `pad_token_id` or in the case of `Wav2Vec2ForCTC` also CTC's blank token. To save GPU memory, we enable PyTorch's gradient checkpointing and also set the loss reduction to \"*mean*\"."
      ]
    },
    {
      "cell_type": "code",
      "metadata": {
        "colab": {
          "base_uri": "https://localhost:8080/",
          "height": 152,
          "referenced_widgets": [
            "035716c833c342f68a829011ff3bd0a4",
            "ef0a3991bb164286967095110a0db5ca",
            "79c0bc9508c44810bbf5f1435a4c0e50",
            "a03a897c820948418caa76560ac5288e",
            "8d12f0b493ce43e9aa5148dcedd37cd0",
            "f345c8878d75449f86779569849260c5",
            "21652a22fb7448fbb58b25cd12a50de5",
            "c6300f43f823422d80884d05da90f7c4",
            "9867fa3d10044684aade35288fd2e449",
            "9d06f6b013c74a12b941f4fcf7ab4498",
            "4cce9b824b1f4f0e98e4be85d1409e71",
            "f2620f8c4ec645739dae5b07678900b7",
            "d062e581966d4b1884038d8f5cc76b81",
            "b2a2867ece03454e8965da34bec308d3",
            "a6503d67c4884842a4ec33d9344a5cc5",
            "21682121517a4eb987be4dbbf1103c6c"
          ]
        },
        "id": "e7cqAWIayn6w",
        "outputId": "be9dab25-aeb8-402c-bf04-843429f99fdf"
      },
      "source": [
        "from transformers import Wav2Vec2ForCTC\n",
        "\n",
        "model = Wav2Vec2ForCTC.from_pretrained(\n",
        "    \"facebook/wav2vec2-base\", \n",
        "    gradient_checkpointing=True, \n",
        "    ctc_loss_reduction=\"mean\", \n",
        "    pad_token_id=processor.tokenizer.pad_token_id,\n",
        ")"
      ],
      "execution_count": null,
      "outputs": [
        {
          "output_type": "display_data",
          "data": {
            "application/vnd.jupyter.widget-view+json": {
              "model_id": "035716c833c342f68a829011ff3bd0a4",
              "version_major": 2,
              "version_minor": 0
            },
            "text/plain": [
              "HBox(children=(FloatProgress(value=0.0, description='Downloading', max=1465.0, style=ProgressStyle(description…"
            ]
          },
          "metadata": {
            "tags": []
          }
        },
        {
          "output_type": "stream",
          "text": [
            "\n"
          ],
          "name": "stdout"
        },
        {
          "output_type": "display_data",
          "data": {
            "application/vnd.jupyter.widget-view+json": {
              "model_id": "9867fa3d10044684aade35288fd2e449",
              "version_major": 2,
              "version_minor": 0
            },
            "text/plain": [
              "HBox(children=(FloatProgress(value=0.0, description='Downloading', max=377569754.0, style=ProgressStyle(descri…"
            ]
          },
          "metadata": {
            "tags": []
          }
        },
        {
          "output_type": "stream",
          "text": [
            "\n"
          ],
          "name": "stdout"
        },
        {
          "output_type": "stream",
          "text": [
            "Some weights of Wav2Vec2ForCTC were not initialized from the model checkpoint at facebook/wav2vec2-base and are newly initialized: ['lm_head.weight', 'lm_head.bias']\n",
            "You should probably TRAIN this model on a down-stream task to be able to use it for predictions and inference.\n"
          ],
          "name": "stderr"
        }
      ]
    },
    {
      "cell_type": "markdown",
      "metadata": {
        "id": "1DwR3XLSzGDD"
      },
      "source": [
        "The first component of Wav2Vec2 consists of a stack of CNN layers(7 layers ) that are used to extract acoustically meaningful - but contextually independent - features from the raw speech signal. This part of the model has already been sufficiently trained during pretrainind and as stated in the  does not need to be fine-tuned anymore. \n",
        "so we freeze those layers"
      ]
    },
    {
      "cell_type": "code",
      "metadata": {
        "id": "oGI8zObtZ3V0"
      },
      "source": [
        "model.freeze_feature_extractor()"
      ],
      "execution_count": null,
      "outputs": []
    },
    {
      "cell_type": "markdown",
      "metadata": {
        "id": "lD4aGhQM0K-D"
      },
      "source": [
        "In a final step, we define all parameters related to training. \n",
        "\n",
        "- `group_by_length` makes training more efficient by grouping training samples of similar input length into one batch. This can significantly speed up training time by heavily reducing the overall number of useless padding tokens that are passed through the model\n",
        "\n",
        "\n"
      ]
    },
    {
      "cell_type": "code",
      "metadata": {
        "id": "KbeKSV7uzGPP"
      },
      "source": [
        "from transformers import TrainingArguments\n",
        "\n",
        "training_args = TrainingArguments(\n",
        "   output_dir=\"/content/gdrive/MyDrive/wav2vec2-base-timit-demo\",\n",
        "  \n",
        "  group_by_length=True,\n",
        "  per_device_train_batch_size=32,\n",
        "  evaluation_strategy=\"steps\",\n",
        "  num_train_epochs=30,\n",
        "  fp16=True,\n",
        "  save_steps=500,\n",
        "  eval_steps=500,\n",
        "  logging_steps=500,\n",
        "  learning_rate=1e-4,\n",
        "  weight_decay=0.005,\n",
        "  warmup_steps=1000,\n",
        "  save_total_limit=2,\n",
        ")"
      ],
      "execution_count": null,
      "outputs": []
    },
    {
      "cell_type": "markdown",
      "metadata": {
        "id": "OsW-WZcL1ZtN"
      },
      "source": [
        "Now, all instances can be passed to Trainer"
      ]
    },
    {
      "cell_type": "code",
      "metadata": {
        "id": "rY7vBmFCPFgC"
      },
      "source": [
        "from transformers import Trainer\n",
        "\n",
        "trainer = Trainer(\n",
        "    model=model,\n",
        "    data_collator=data_collator,\n",
        "    args=training_args,\n",
        "    compute_metrics=compute_metrics,\n",
        "    train_dataset=timit_prepared[\"train\"],\n",
        "    eval_dataset=timit_prepared[\"test\"],\n",
        "    tokenizer=processor.feature_extractor,\n",
        ")"
      ],
      "execution_count": null,
      "outputs": []
    },
    {
      "cell_type": "markdown",
      "metadata": {
        "id": "rpvZHM1xReIW"
      },
      "source": [
        "### Training"
      ]
    },
    {
      "cell_type": "code",
      "metadata": {
        "colab": {
          "base_uri": "https://localhost:8080/",
          "height": 672
        },
        "id": "_UEjJqGsQw24",
        "outputId": "64d5d9d0-c038-460e-ff1d-865b8c32a40e"
      },
      "source": [
        "trainer.train()"
      ],
      "execution_count": null,
      "outputs": [
        {
          "output_type": "stream",
          "text": [
            "/usr/local/lib/python3.7/dist-packages/torch/optim/lr_scheduler.py:134: UserWarning: Detected call of `lr_scheduler.step()` before `optimizer.step()`. In PyTorch 1.1.0 and later, you should call them in the opposite order: `optimizer.step()` before `lr_scheduler.step()`.  Failure to do this will result in PyTorch skipping the first value of the learning rate schedule. See more details at https://pytorch.org/docs/stable/optim.html#how-to-adjust-learning-rate\n",
            "  \"https://pytorch.org/docs/stable/optim.html#how-to-adjust-learning-rate\", UserWarning)\n"
          ],
          "name": "stderr"
        },
        {
          "output_type": "display_data",
          "data": {
            "text/html": [
              "\n",
              "    <div>\n",
              "        <style>\n",
              "            /* Turns off some styling */\n",
              "            progress {\n",
              "                /* gets rid of default border in Firefox and Opera. */\n",
              "                border: none;\n",
              "                /* Needs to be in here for Safari polyfill so background images work as expected. */\n",
              "                background-size: auto;\n",
              "            }\n",
              "        </style>\n",
              "      \n",
              "      <progress value='4145' max='4350' style='width:300px; height:20px; vertical-align: middle;'></progress>\n",
              "      [4145/4350 2:47:34 < 08:17, 0.41 it/s, Epoch 28.58/30]\n",
              "    </div>\n",
              "    <table border=\"1\" class=\"dataframe\">\n",
              "  <thead>\n",
              "    <tr style=\"text-align: left;\">\n",
              "      <th>Step</th>\n",
              "      <th>Training Loss</th>\n",
              "      <th>Validation Loss</th>\n",
              "      <th>Wer</th>\n",
              "      <th>Runtime</th>\n",
              "      <th>Samples Per Second</th>\n",
              "    </tr>\n",
              "  </thead>\n",
              "  <tbody>\n",
              "    <tr>\n",
              "      <td>500</td>\n",
              "      <td>3.770400</td>\n",
              "      <td>2.934055</td>\n",
              "      <td>1.000000</td>\n",
              "      <td>108.421900</td>\n",
              "      <td>15.495000</td>\n",
              "    </tr>\n",
              "    <tr>\n",
              "      <td>1000</td>\n",
              "      <td>0.907100</td>\n",
              "      <td>0.407282</td>\n",
              "      <td>0.406175</td>\n",
              "      <td>111.068200</td>\n",
              "      <td>15.126000</td>\n",
              "    </tr>\n",
              "    <tr>\n",
              "      <td>1500</td>\n",
              "      <td>0.191600</td>\n",
              "      <td>0.375646</td>\n",
              "      <td>0.363655</td>\n",
              "      <td>109.682100</td>\n",
              "      <td>15.317000</td>\n",
              "    </tr>\n",
              "    <tr>\n",
              "      <td>2000</td>\n",
              "      <td>0.110700</td>\n",
              "      <td>0.374007</td>\n",
              "      <td>0.328027</td>\n",
              "      <td>108.647700</td>\n",
              "      <td>15.463000</td>\n",
              "    </tr>\n",
              "    <tr>\n",
              "      <td>2500</td>\n",
              "      <td>0.074900</td>\n",
              "      <td>0.416617</td>\n",
              "      <td>0.331886</td>\n",
              "      <td>108.472300</td>\n",
              "      <td>15.488000</td>\n",
              "    </tr>\n",
              "    <tr>\n",
              "      <td>3000</td>\n",
              "      <td>0.057400</td>\n",
              "      <td>0.428464</td>\n",
              "      <td>0.322238</td>\n",
              "      <td>109.946900</td>\n",
              "      <td>15.280000</td>\n",
              "    </tr>\n",
              "    <tr>\n",
              "      <td>3500</td>\n",
              "      <td>0.046400</td>\n",
              "      <td>0.400957</td>\n",
              "      <td>0.308731</td>\n",
              "      <td>109.096700</td>\n",
              "      <td>15.399000</td>\n",
              "    </tr>\n",
              "    <tr>\n",
              "      <td>4000</td>\n",
              "      <td>0.034300</td>\n",
              "      <td>0.425326</td>\n",
              "      <td>0.306595</td>\n",
              "      <td>109.004000</td>\n",
              "      <td>15.412000</td>\n",
              "    </tr>\n",
              "  </tbody>\n",
              "</table><p>"
            ],
            "text/plain": [
              "<IPython.core.display.HTML object>"
            ]
          },
          "metadata": {
            "tags": []
          }
        },
        {
          "output_type": "display_data",
          "data": {
            "text/html": [
              "\n",
              "    <div>\n",
              "        <style>\n",
              "            /* Turns off some styling */\n",
              "            progress {\n",
              "                /* gets rid of default border in Firefox and Opera. */\n",
              "                border: none;\n",
              "                /* Needs to be in here for Safari polyfill so background images work as expected. */\n",
              "                background-size: auto;\n",
              "            }\n",
              "        </style>\n",
              "      \n",
              "      <progress value='4350' max='4350' style='width:300px; height:20px; vertical-align: middle;'></progress>\n",
              "      [4350/4350 2:55:09, Epoch 30/30]\n",
              "    </div>\n",
              "    <table border=\"1\" class=\"dataframe\">\n",
              "  <thead>\n",
              "    <tr style=\"text-align: left;\">\n",
              "      <th>Step</th>\n",
              "      <th>Training Loss</th>\n",
              "      <th>Validation Loss</th>\n",
              "      <th>Wer</th>\n",
              "      <th>Runtime</th>\n",
              "      <th>Samples Per Second</th>\n",
              "    </tr>\n",
              "  </thead>\n",
              "  <tbody>\n",
              "    <tr>\n",
              "      <td>500</td>\n",
              "      <td>3.770400</td>\n",
              "      <td>2.934055</td>\n",
              "      <td>1.000000</td>\n",
              "      <td>108.421900</td>\n",
              "      <td>15.495000</td>\n",
              "    </tr>\n",
              "    <tr>\n",
              "      <td>1000</td>\n",
              "      <td>0.907100</td>\n",
              "      <td>0.407282</td>\n",
              "      <td>0.406175</td>\n",
              "      <td>111.068200</td>\n",
              "      <td>15.126000</td>\n",
              "    </tr>\n",
              "    <tr>\n",
              "      <td>1500</td>\n",
              "      <td>0.191600</td>\n",
              "      <td>0.375646</td>\n",
              "      <td>0.363655</td>\n",
              "      <td>109.682100</td>\n",
              "      <td>15.317000</td>\n",
              "    </tr>\n",
              "    <tr>\n",
              "      <td>2000</td>\n",
              "      <td>0.110700</td>\n",
              "      <td>0.374007</td>\n",
              "      <td>0.328027</td>\n",
              "      <td>108.647700</td>\n",
              "      <td>15.463000</td>\n",
              "    </tr>\n",
              "    <tr>\n",
              "      <td>2500</td>\n",
              "      <td>0.074900</td>\n",
              "      <td>0.416617</td>\n",
              "      <td>0.331886</td>\n",
              "      <td>108.472300</td>\n",
              "      <td>15.488000</td>\n",
              "    </tr>\n",
              "    <tr>\n",
              "      <td>3000</td>\n",
              "      <td>0.057400</td>\n",
              "      <td>0.428464</td>\n",
              "      <td>0.322238</td>\n",
              "      <td>109.946900</td>\n",
              "      <td>15.280000</td>\n",
              "    </tr>\n",
              "    <tr>\n",
              "      <td>3500</td>\n",
              "      <td>0.046400</td>\n",
              "      <td>0.400957</td>\n",
              "      <td>0.308731</td>\n",
              "      <td>109.096700</td>\n",
              "      <td>15.399000</td>\n",
              "    </tr>\n",
              "    <tr>\n",
              "      <td>4000</td>\n",
              "      <td>0.034300</td>\n",
              "      <td>0.425326</td>\n",
              "      <td>0.306595</td>\n",
              "      <td>109.004000</td>\n",
              "      <td>15.412000</td>\n",
              "    </tr>\n",
              "  </tbody>\n",
              "</table><p>"
            ],
            "text/plain": [
              "<IPython.core.display.HTML object>"
            ]
          },
          "metadata": {
            "tags": []
          }
        },
        {
          "output_type": "execute_result",
          "data": {
            "text/plain": [
              "TrainOutput(global_step=4350, training_loss=0.5991971930142107, metrics={'train_runtime': 10514.5688, 'train_samples_per_second': 0.414, 'total_flos': 3.9858324576556134e+18, 'epoch': 30.0, 'init_mem_cpu_alloc_delta': 340118, 'init_mem_gpu_alloc_delta': 377847808, 'init_mem_cpu_peaked_delta': 18306, 'init_mem_gpu_peaked_delta': 0, 'train_mem_cpu_alloc_delta': 1220413, 'train_mem_gpu_alloc_delta': 1112347136, 'train_mem_cpu_peaked_delta': 127309620, 'train_mem_gpu_peaked_delta': 4097821696})"
            ]
          },
          "metadata": {
            "tags": []
          },
          "execution_count": 44
        }
      ]
    },
    {
      "cell_type": "markdown",
      "metadata": {
        "id": "UCyp-v3n4Zlt"
      },
      "source": [
        "The final WER  0.3"
      ]
    },
    {
      "cell_type": "markdown",
      "metadata": {
        "id": "nD4XP5IHncsY"
      },
      "source": [
        "### Evaluate\n",
        "\n",
        "In the final part, we evaluate our fine-tuned model on the test set \n",
        "we load the `processor` and `model`."
      ]
    },
    {
      "cell_type": "code",
      "metadata": {
        "colab": {
          "base_uri": "https://localhost:8080/"
        },
        "id": "-rg0USDCnbo6",
        "outputId": "079ba610-9272-4f7f-faaa-40594b184403"
      },
      "source": [
        "processor = Wav2Vec2Processor.from_pretrained(\"/content/gdrive/MyDrive/wav2vec2-base-timit-demo\")"
      ],
      "execution_count": null,
      "outputs": [
        {
          "output_type": "stream",
          "text": [
            "Special tokens have been added in the vocabulary, make sure the associated word embedding are fine-tuned or trained.\n"
          ],
          "name": "stderr"
        }
      ]
    },
    {
      "cell_type": "code",
      "metadata": {
        "id": "sSpFW3pDn23P"
      },
      "source": [
        "model = Wav2Vec2ForCTC.from_pretrained(\"/content/gdrive/MyDrive/wav2vec2-base-timit-demo\")"
      ],
      "execution_count": null,
      "outputs": []
    },
    {
      "cell_type": "markdown",
      "metadata": {
        "id": "TUuZpB0v5jn_"
      },
      "source": [
        "Now, we will make use of the `map(...)` function to predict the transcription of every test sample and to save the prediction in the dataset itself. We will call the resulting dictionary `\"results\"`. \n"
      ]
    },
    {
      "cell_type": "code",
      "metadata": {
        "id": "40naJl53n7jT"
      },
      "source": [
        "def map_to_result(batch):\n",
        "  model.to(\"cuda\")\n",
        "  input_values = processor(\n",
        "      batch[\"speech\"], \n",
        "      sampling_rate=batch[\"sampling_rate\"], \n",
        "      return_tensors=\"pt\"\n",
        "  ).input_values.to(\"cuda\")\n",
        "\n",
        "  with torch.no_grad():\n",
        "    logits = model(input_values).logits\n",
        "\n",
        "  pred_ids = torch.argmax(logits, dim=-1)\n",
        "  batch[\"pred_str\"] = processor.batch_decode(pred_ids)[0]\n",
        "  \n",
        "  return batch"
      ],
      "execution_count": null,
      "outputs": []
    },
    {
      "cell_type": "code",
      "metadata": {
        "colab": {
          "base_uri": "https://localhost:8080/",
          "height": 67,
          "referenced_widgets": [
            "908a6a1c87b5438e8dee9b90ed68dc8f",
            "37d000a299014fbd971ef494761a8d57",
            "08a8dd0c1b2a4eecab3743e1c3c8c3ba",
            "aca9235816d3478f9fcb63d7f4791551",
            "969999ec97b7436eb28c26ac6676a295",
            "be33ad032f454238ad6626c5de73a265",
            "c10d2bbebee54dddbb96b9cbc4c48fc7",
            "647ef95775ac4a129b3ae06a64552f2a"
          ]
        },
        "id": "uPqH7gZqrGPi",
        "outputId": "e8cde273-54d2-4fcb-a4e8-cd26934f6953"
      },
      "source": [
        "results = timit[\"test\"].map(map_to_result)"
      ],
      "execution_count": null,
      "outputs": [
        {
          "output_type": "display_data",
          "data": {
            "application/vnd.jupyter.widget-view+json": {
              "model_id": "908a6a1c87b5438e8dee9b90ed68dc8f",
              "version_major": 2,
              "version_minor": 0
            },
            "text/plain": [
              "HBox(children=(FloatProgress(value=0.0, max=1680.0), HTML(value='')))"
            ]
          },
          "metadata": {
            "tags": []
          }
        },
        {
          "output_type": "stream",
          "text": [
            "\n"
          ],
          "name": "stdout"
        }
      ]
    },
    {
      "cell_type": "markdown",
      "metadata": {
        "id": "-mqpdB8R6rty"
      },
      "source": [
        "Let's compute the overall WER now."
      ]
    },
    {
      "cell_type": "code",
      "metadata": {
        "colab": {
          "base_uri": "https://localhost:8080/"
        },
        "id": "PmqAb4Isx8OK",
        "outputId": "344b568a-8222-45d0-af22-4c51dae260cf"
      },
      "source": [
        "print(\"Test WER: {:.3f}\".format(wer_metric.compute(predictions=results[\"pred_str\"], references=results[\"target_text\"])))"
      ],
      "execution_count": null,
      "outputs": [
        {
          "output_type": "stream",
          "text": [
            "Test WER: 0.195\n"
          ],
          "name": "stdout"
        }
      ]
    },
    {
      "cell_type": "markdown",
      "metadata": {
        "id": "6Va94d8Y7Q98"
      },
      "source": [
        "\n",
        "\n",
        "Let's take a look at some predictions to see what errors are made by the model."
      ]
    },
    {
      "cell_type": "code",
      "metadata": {
        "colab": {
          "base_uri": "https://localhost:8080/",
          "height": 340
        },
        "id": "odNDiFVRy53w",
        "outputId": "a1607118-306d-4b58-8dbe-b59badf00ab1"
      },
      "source": [
        "show_random_elements(results.remove_columns([\"speech\", \"sampling_rate\"]))"
      ],
      "execution_count": null,
      "outputs": [
        {
          "output_type": "display_data",
          "data": {
            "text/html": [
              "<table border=\"1\" class=\"dataframe\">\n",
              "  <thead>\n",
              "    <tr style=\"text-align: right;\">\n",
              "      <th></th>\n",
              "      <th>pred_str</th>\n",
              "      <th>target_text</th>\n",
              "    </tr>\n",
              "  </thead>\n",
              "  <tbody>\n",
              "    <tr>\n",
              "      <th>0</th>\n",
              "      <td>aim to balence your employ you benefit package</td>\n",
              "      <td>aim to balance your employee benefit package</td>\n",
              "    </tr>\n",
              "    <tr>\n",
              "      <th>1</th>\n",
              "      <td>the fog prevented them from ariving on toime</td>\n",
              "      <td>the fog prevented them from arriving on time</td>\n",
              "    </tr>\n",
              "    <tr>\n",
              "      <th>2</th>\n",
              "      <td>young children should avoid exposure to contageous diseases</td>\n",
              "      <td>young children should avoid exposure to contagious diseases</td>\n",
              "    </tr>\n",
              "    <tr>\n",
              "      <th>3</th>\n",
              "      <td>artificial intelligence is for real</td>\n",
              "      <td>artificial intelligence is for real</td>\n",
              "    </tr>\n",
              "    <tr>\n",
              "      <th>4</th>\n",
              "      <td>their props were two step ladters a chair and a poulm fan</td>\n",
              "      <td>their props were two stepladders a chair and a palm fan</td>\n",
              "    </tr>\n",
              "    <tr>\n",
              "      <th>5</th>\n",
              "      <td>if people were more generous there would be no need for wealfair</td>\n",
              "      <td>if people were more generous there would be no need for welfare</td>\n",
              "    </tr>\n",
              "    <tr>\n",
              "      <th>6</th>\n",
              "      <td>the fish began to lep frantically on the surface of the small eak</td>\n",
              "      <td>the fish began to leap frantically on the surface of the small lake</td>\n",
              "    </tr>\n",
              "    <tr>\n",
              "      <th>7</th>\n",
              "      <td>her righte hand agus whonever the barametric pressure changes</td>\n",
              "      <td>her right hand aches whenever the barometric pressure changes</td>\n",
              "    </tr>\n",
              "    <tr>\n",
              "      <th>8</th>\n",
              "      <td>only loawyers loved miliuneers</td>\n",
              "      <td>only lawyers love millionaires</td>\n",
              "    </tr>\n",
              "    <tr>\n",
              "      <th>9</th>\n",
              "      <td>the nearest cynagob may not be within walk in distance</td>\n",
              "      <td>the nearest synagogue may not be within walking distance</td>\n",
              "    </tr>\n",
              "  </tbody>\n",
              "</table>"
            ],
            "text/plain": [
              "<IPython.core.display.HTML object>"
            ]
          },
          "metadata": {
            "tags": []
          }
        }
      ]
    },
    {
      "cell_type": "code",
      "metadata": {
        "id": "jRckA3cZNTnM"
      },
      "source": [
        ""
      ],
      "execution_count": null,
      "outputs": []
    }
  ]
}